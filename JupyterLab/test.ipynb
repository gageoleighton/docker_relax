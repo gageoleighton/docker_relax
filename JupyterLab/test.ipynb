{
 "cells": [
  {
   "cell_type": "markdown",
   "metadata": {},
   "source": [
    "# Test 2"
   ]
  },
  {
   "cell_type": "code",
   "execution_count": 1,
   "metadata": {},
   "outputs": [],
   "source": [
    "import ipywidgets as widgets"
   ]
  },
  {
   "cell_type": "code",
   "execution_count": 2,
   "metadata": {},
   "outputs": [
    {
     "data": {
      "application/vnd.jupyter.widget-view+json": {
       "model_id": "f2fea243a027466f8651ce8ac85a7224",
       "version_major": 2,
       "version_minor": 0
      },
      "text/plain": [
       "A Jupyter Widget"
      ]
     },
     "metadata": {},
     "output_type": "display_data"
    }
   ],
   "source": [
    "widgets.IntSlider()"
   ]
  },
  {
   "cell_type": "code",
   "execution_count": 3,
   "metadata": {},
   "outputs": [
    {
     "name": "stdout",
     "output_type": "stream",
     "text": [
      "100\n"
     ]
    }
   ],
   "source": [
    "print(10*10)"
   ]
  },
  {
   "cell_type": "code",
   "execution_count": 4,
   "metadata": {},
   "outputs": [
    {
     "data": {
      "application/vnd.jupyter.widget-view+json": {
       "model_id": "7537669d2aff4a6a9c9889a2ed34ad36",
       "version_major": 2,
       "version_minor": 0
      },
      "text/plain": [
       "A Jupyter Widget"
      ]
     },
     "metadata": {},
     "output_type": "display_data"
    }
   ],
   "source": [
    "from __future__ import print_function\n",
    "from bqplot import pyplot as plt\n",
    "from bqplot import topo_load\n",
    "from bqplot.interacts import panzoom\n",
    "import numpy as np\n",
    "import pandas as pd\n",
    "import datetime as dt\n",
    "\n",
    "\n",
    "# initializing data to be plotted\n",
    "np.random.seed(0)\n",
    "size = 100\n",
    "y_data = np.cumsum(np.random.randn(size) * 100.0)\n",
    "y_data_2 = np.cumsum(np.random.randn(size))\n",
    "y_data_3 = np.cumsum(np.random.randn(size) * 100.)\n",
    "\n",
    "x = np.linspace(0.0, 10.0, size)\n",
    "\n",
    "plt.figure()\n",
    "plt.plot(x, y_data)\n",
    "plt.xlabel('Time')\n",
    "plt.show()\n"
   ]
  },
  {
   "cell_type": "code",
   "execution_count": null,
   "metadata": {},
   "outputs": [],
   "source": []
  },
  {
   "cell_type": "code",
   "execution_count": null,
   "metadata": {},
   "outputs": [],
   "source": []
  }
 ],
 "metadata": {
  "kernelspec": {
   "display_name": "Python 3",
   "language": "python",
   "name": "python3"
  },
  "language_info": {
   "codemirror_mode": {
    "name": "ipython",
    "version": 3
   },
   "file_extension": ".py",
   "mimetype": "text/x-python",
   "name": "python",
   "nbconvert_exporter": "python",
   "pygments_lexer": "ipython3",
   "version": "3.5.2"
  },
  "widgets": {
   "application/vnd.jupyter.widget-state+json": {
    "state": {
     "05685bde54bd4ee58ed42315ccd148a7": {
      "model_module": "@jupyter-widgets/base",
      "model_module_version": "1.0.0",
      "model_name": "LayoutModel",
      "state": {
       "min_width": "125px"
      }
     },
     "06606924462f4a6c954801ad705640d6": {
      "model_module": "bqplot",
      "model_module_version": "^0.3.0",
      "model_name": "LinearScaleModel",
      "state": {
       "stabilized": false
      }
     },
     "0a2f5a5e270141c78a3d14f954b057ec": {
      "model_module": "@jupyter-widgets/base",
      "model_module_version": "1.0.0",
      "model_name": "LayoutModel",
      "state": {}
     },
     "1650b1f478bc4378a09c7ea326989534": {
      "model_module": "@jupyter-widgets/base",
      "model_module_version": "1.0.0",
      "model_name": "LayoutModel",
      "state": {}
     },
     "349dc1a01a49442783ccde605994909d": {
      "model_module": "@jupyter-widgets/base",
      "model_module_version": "1.0.0",
      "model_name": "LayoutModel",
      "state": {}
     },
     "52b37146435b467490fa14ff9807ebd3": {
      "model_module": "@jupyter-widgets/controls",
      "model_module_version": "1.0.0",
      "model_name": "VBoxModel",
      "state": {
       "children": [
        "IPY_MODEL_5870516a4c0e46548111202ead93aeb0",
        "IPY_MODEL_77c9cde5fddf4b839ea8c36ae176659b"
       ],
       "layout": "IPY_MODEL_349dc1a01a49442783ccde605994909d"
      }
     },
     "569d0dfff2dc47db93b73ade2311a2bf": {
      "model_module": "bqplot",
      "model_module_version": "^0.3.0",
      "model_name": "LinearScaleModel",
      "state": {
       "allow_padding": false,
       "max": 1,
       "min": 0,
       "stabilized": false
      }
     },
     "5870516a4c0e46548111202ead93aeb0": {
      "model_module": "bqplot",
      "model_module_version": "^0.3.0",
      "model_name": "FigureModel",
      "state": {
       "_dom_classes": [],
       "axes": [
        "IPY_MODEL_73008c7b8de84227a91d9859fde0eaf4",
        "IPY_MODEL_66f7f8dfa737470c90ecab696ff66252"
       ],
       "layout": "IPY_MODEL_05685bde54bd4ee58ed42315ccd148a7",
       "marks": [
        "IPY_MODEL_70f7ac065ed14bc2ac058675c632d9d7"
       ],
       "max_aspect_ratio": 6,
       "scale_x": "IPY_MODEL_b6aaf388615642349b07c572c250530f",
       "scale_y": "IPY_MODEL_efa65a1d12b84decb1af49b65d0b3397"
      }
     },
     "66f7f8dfa737470c90ecab696ff66252": {
      "model_module": "bqplot",
      "model_module_version": "^0.3.0",
      "model_name": "AxisModel",
      "state": {
       "orientation": "vertical",
       "scale": "IPY_MODEL_7ee1306645b04daeade05a4cdccb7b1a",
       "side": "left",
       "tick_values": {
        "type": null,
        "values": null
       }
      }
     },
     "69d3b1afebab4ef088c3dd584807327f": {
      "model_module": "@jupyter-widgets/controls",
      "model_module_version": "1.0.0",
      "model_name": "IntSliderModel",
      "state": {
       "layout": "IPY_MODEL_6ce41599d3fa43449e6e28876593863c",
       "style": "IPY_MODEL_9331489921964cd6b6c4618ce437caab"
      }
     },
     "6ce41599d3fa43449e6e28876593863c": {
      "model_module": "@jupyter-widgets/base",
      "model_module_version": "1.0.0",
      "model_name": "LayoutModel",
      "state": {}
     },
     "70f7ac065ed14bc2ac058675c632d9d7": {
      "model_module": "bqplot",
      "model_module_version": "^0.3.0",
      "model_name": "LinesModel",
      "state": {
       "color": {
        "type": null,
        "values": null
       },
       "display_legend": false,
       "fill_colors": [],
       "labels": [
        "C1"
       ],
       "scales": {
        "x": "IPY_MODEL_06606924462f4a6c954801ad705640d6",
        "y": "IPY_MODEL_7ee1306645b04daeade05a4cdccb7b1a"
       },
       "selected": [],
       "x": {
        "type": "float",
        "values": [
         0,
         0.10101010101010101,
         0.20202020202020202,
         0.30303030303030304,
         0.40404040404040403,
         0.5050505050505051,
         0.6060606060606061,
         0.7070707070707071,
         0.8080808080808081,
         0.9090909090909091,
         1.0101010101010102,
         1.1111111111111112,
         1.2121212121212122,
         1.3131313131313131,
         1.4141414141414141,
         1.5151515151515151,
         1.6161616161616161,
         1.7171717171717171,
         1.8181818181818181,
         1.9191919191919191,
         2.0202020202020203,
         2.121212121212121,
         2.2222222222222223,
         2.323232323232323,
         2.4242424242424243,
         2.525252525252525,
         2.6262626262626263,
         2.727272727272727,
         2.8282828282828283,
         2.929292929292929,
         3.0303030303030303,
         3.131313131313131,
         3.2323232323232323,
         3.3333333333333335,
         3.4343434343434343,
         3.5353535353535355,
         3.6363636363636362,
         3.7373737373737375,
         3.8383838383838382,
         3.9393939393939394,
         4.040404040404041,
         4.141414141414141,
         4.242424242424242,
         4.343434343434343,
         4.444444444444445,
         4.545454545454545,
         4.646464646464646,
         4.747474747474747,
         4.848484848484849,
         4.94949494949495,
         5.05050505050505,
         5.151515151515151,
         5.252525252525253,
         5.353535353535354,
         5.454545454545454,
         5.555555555555555,
         5.656565656565657,
         5.757575757575758,
         5.858585858585858,
         5.959595959595959,
         6.0606060606060606,
         6.161616161616162,
         6.262626262626262,
         6.363636363636363,
         6.4646464646464645,
         6.565656565656566,
         6.666666666666667,
         6.767676767676767,
         6.8686868686868685,
         6.96969696969697,
         7.070707070707071,
         7.171717171717171,
         7.2727272727272725,
         7.373737373737374,
         7.474747474747475,
         7.575757575757575,
         7.6767676767676765,
         7.777777777777778,
         7.878787878787879,
         7.979797979797979,
         8.080808080808081,
         8.181818181818182,
         8.282828282828282,
         8.383838383838384,
         8.484848484848484,
         8.585858585858587,
         8.686868686868687,
         8.787878787878787,
         8.88888888888889,
         8.98989898989899,
         9.09090909090909,
         9.191919191919192,
         9.292929292929292,
         9.393939393939394,
         9.494949494949495,
         9.595959595959595,
         9.696969696969697,
         9.797979797979798,
         9.8989898989899,
         10
        ]
       },
       "y": {
        "type": "float",
        "values": [
         176.4052345967664,
         216.42095543348873,
         314.29475384406265,
         538.3840737642084,
         725.1398727792052,
         627.4120847915641,
         722.4209265441231,
         707.2852057143533,
         696.9633205349975,
         738.0231707288347,
         752.4275278449225,
         897.8548785412199,
         973.9586510559193,
         986.1261527052021,
         1030.5124759797447,
         1063.8799087171715,
         1213.2878160329321,
         1192.7719896563522,
         1224.0787598214422,
         1138.6691858912698,
         883.3702043078619,
         948.7320638518979,
         1035.1756837378484,
         960.9591816972043,
         1187.934644095965,
         1042.4980766360886,
         1047.0739283662333,
         1028.35554336365,
         1181.6334647994956,
         1328.569341789524,
         1344.0640843592157,
         1381.8803363194331,
         1293.101761556422,
         1095.0221147340292,
         1060.230899801414,
         1075.865796711812,
         1198.8948647845841,
         1319.1328496630254,
         1280.4001679222301,
         1250.1698928646965,
         1145.3145963579873,
         1003.3128026400898,
         832.6857835775885,
         1027.7633231007674,
         976.798104925602,
         932.9906747644834,
         807.7111387594907,
         885.4601743426817,
         724.0703895868866,
         702.7963615654897,
         613.2497054461222,
         651.9399552320484,
         600.8594414751611,
         482.7962230629199,
         479.97800022905443,
         522.8111872820962,
         529.462909520413,
         559.7100992943911,
         496.2778899262947,
         460.00377332758086,
         392.75772854998576,
         356.80241239593164,
         275.48778419148624,
         102.85952395831856,
         120.60213818369385,
         80.42404456286766,
         -82.59579013373678,
         -36.31756458115937,
         -127.04740101948357,
         -121.85286143986968,
         -48.943805222116,
         -36.04551414637493,
         77.89455430795515,
         -45.58802772741012,
         -5.353863609655221,
         -73.83487270368654,
         -160.91458762187472,
         -218.79955409831626,
         -249.95480731105351,
         -244.33827308807898,
         -360.8532571664146,
         -270.7706084709959,
         -224.20436449794994,
         -377.82873312567233,
         -229.00351374611236,
         -39.41459614305404,
         78.46336097291103,
         60.47087739167594,
         -46.604384759378306,
         58.840787933735356,
         18.523093236417395,
         140.76760027466014,
         161.59509808234617,
         259.25900173071744,
         294.8956414481576,
         365.55295826735244,
         366.6029603394345,
         545.190009730018,
         557.88121900038,
         598.0801553448503
        ]
       }
      }
     },
     "73008c7b8de84227a91d9859fde0eaf4": {
      "model_module": "bqplot",
      "model_module_version": "^0.3.0",
      "model_name": "AxisModel",
      "state": {
       "label": "Time",
       "scale": "IPY_MODEL_06606924462f4a6c954801ad705640d6",
       "side": "bottom",
       "tick_values": {
        "type": null,
        "values": null
       }
      }
     },
     "7537669d2aff4a6a9c9889a2ed34ad36": {
      "model_module": "@jupyter-widgets/controls",
      "model_module_version": "1.0.0",
      "model_name": "VBoxModel",
      "state": {
       "children": [
        "IPY_MODEL_a795151ccf0c49ddaf104743b185247d",
        "IPY_MODEL_913b5957db594ab0b7c3b9ebafe7d655"
       ],
       "layout": "IPY_MODEL_f68a60ebcbcd49438d957e021229fffd"
      }
     },
     "7613458f98d841d7a00afc2914add9fe": {
      "model_module": "@jupyter-widgets/base",
      "model_module_version": "1.0.0",
      "model_name": "LayoutModel",
      "state": {}
     },
     "77c9cde5fddf4b839ea8c36ae176659b": {
      "model_module": "bqplot",
      "model_module_version": "^0.3.0",
      "model_name": "ToolbarModel",
      "state": {
       "figure": "IPY_MODEL_5870516a4c0e46548111202ead93aeb0",
       "layout": "IPY_MODEL_0a2f5a5e270141c78a3d14f954b057ec"
      }
     },
     "7ee1306645b04daeade05a4cdccb7b1a": {
      "model_module": "bqplot",
      "model_module_version": "^0.3.0",
      "model_name": "LinearScaleModel",
      "state": {
       "stabilized": false
      }
     },
     "83e62712f2f546feaabe42ef98f5b9d7": {
      "model_module": "@jupyter-widgets/controls",
      "model_module_version": "1.0.0",
      "model_name": "SliderStyleModel",
      "state": {
       "description_width": ""
      }
     },
     "854b43fbdc4742ab977b23c9e7c2421a": {
      "model_module": "bqplot",
      "model_module_version": "^0.3.0",
      "model_name": "AxisModel",
      "state": {
       "orientation": "vertical",
       "scale": "IPY_MODEL_e484bb5799e94aeba1ecea20d18c4137",
       "side": "left",
       "tick_values": {
        "type": null,
        "values": null
       }
      }
     },
     "85fd6283a9d9467b92bd610b12bf6bba": {
      "model_module": "bqplot",
      "model_module_version": "^0.3.0",
      "model_name": "AxisModel",
      "state": {
       "label": "Time",
       "scale": "IPY_MODEL_fe8819ed24ef412ebfed846278c13872",
       "side": "bottom",
       "tick_values": {
        "type": null,
        "values": null
       }
      }
     },
     "913b5957db594ab0b7c3b9ebafe7d655": {
      "model_module": "bqplot",
      "model_module_version": "^0.3.0",
      "model_name": "ToolbarModel",
      "state": {
       "figure": "IPY_MODEL_a795151ccf0c49ddaf104743b185247d",
       "layout": "IPY_MODEL_7613458f98d841d7a00afc2914add9fe"
      }
     },
     "9331489921964cd6b6c4618ce437caab": {
      "model_module": "@jupyter-widgets/controls",
      "model_module_version": "1.0.0",
      "model_name": "SliderStyleModel",
      "state": {
       "description_width": ""
      }
     },
     "9551a28d546d4672af98c54e463f67ae": {
      "model_module": "bqplot",
      "model_module_version": "^0.3.0",
      "model_name": "LinearScaleModel",
      "state": {
       "allow_padding": false,
       "max": 1,
       "min": 0,
       "stabilized": false
      }
     },
     "a795151ccf0c49ddaf104743b185247d": {
      "model_module": "bqplot",
      "model_module_version": "^0.3.0",
      "model_name": "FigureModel",
      "state": {
       "_dom_classes": [],
       "axes": [
        "IPY_MODEL_854b43fbdc4742ab977b23c9e7c2421a",
        "IPY_MODEL_85fd6283a9d9467b92bd610b12bf6bba"
       ],
       "layout": "IPY_MODEL_d34df7a459c44195ac3ed2826bda8408",
       "marks": [
        "IPY_MODEL_e85909d26a4e4a52b9ca829594e986d1"
       ],
       "max_aspect_ratio": 6,
       "scale_x": "IPY_MODEL_9551a28d546d4672af98c54e463f67ae",
       "scale_y": "IPY_MODEL_569d0dfff2dc47db93b73ade2311a2bf"
      }
     },
     "a823b60da27448d0af2c458980521a66": {
      "model_module": "@jupyter-widgets/controls",
      "model_module_version": "1.0.0",
      "model_name": "IntSliderModel",
      "state": {
       "layout": "IPY_MODEL_1650b1f478bc4378a09c7ea326989534",
       "style": "IPY_MODEL_83e62712f2f546feaabe42ef98f5b9d7"
      }
     },
     "b6aaf388615642349b07c572c250530f": {
      "model_module": "bqplot",
      "model_module_version": "^0.3.0",
      "model_name": "LinearScaleModel",
      "state": {
       "allow_padding": false,
       "max": 1,
       "min": 0,
       "stabilized": false
      }
     },
     "bc396eeb05724c5e8649f96ab15a680c": {
      "model_module": "@jupyter-widgets/controls",
      "model_module_version": "1.0.0",
      "model_name": "SliderStyleModel",
      "state": {
       "description_width": ""
      }
     },
     "bdb096f11edd46eb804f01d03f7354e3": {
      "model_module": "@jupyter-widgets/base",
      "model_module_version": "1.0.0",
      "model_name": "LayoutModel",
      "state": {}
     },
     "d34df7a459c44195ac3ed2826bda8408": {
      "model_module": "@jupyter-widgets/base",
      "model_module_version": "1.0.0",
      "model_name": "LayoutModel",
      "state": {
       "min_width": "125px"
      }
     },
     "e484bb5799e94aeba1ecea20d18c4137": {
      "model_module": "bqplot",
      "model_module_version": "^0.3.0",
      "model_name": "LinearScaleModel",
      "state": {
       "stabilized": false
      }
     },
     "e85909d26a4e4a52b9ca829594e986d1": {
      "model_module": "bqplot",
      "model_module_version": "^0.3.0",
      "model_name": "LinesModel",
      "state": {
       "color": {
        "type": null,
        "values": null
       },
       "display_legend": false,
       "fill_colors": [],
       "labels": [
        "C1"
       ],
       "scales": {
        "x": "IPY_MODEL_fe8819ed24ef412ebfed846278c13872",
        "y": "IPY_MODEL_e484bb5799e94aeba1ecea20d18c4137"
       },
       "selected": [],
       "x": {
        "type": "float",
        "values": [
         0,
         0.10101010101010101,
         0.20202020202020202,
         0.30303030303030304,
         0.40404040404040403,
         0.5050505050505051,
         0.6060606060606061,
         0.7070707070707071,
         0.8080808080808081,
         0.9090909090909091,
         1.0101010101010102,
         1.1111111111111112,
         1.2121212121212122,
         1.3131313131313131,
         1.4141414141414141,
         1.5151515151515151,
         1.6161616161616161,
         1.7171717171717171,
         1.8181818181818181,
         1.9191919191919191,
         2.0202020202020203,
         2.121212121212121,
         2.2222222222222223,
         2.323232323232323,
         2.4242424242424243,
         2.525252525252525,
         2.6262626262626263,
         2.727272727272727,
         2.8282828282828283,
         2.929292929292929,
         3.0303030303030303,
         3.131313131313131,
         3.2323232323232323,
         3.3333333333333335,
         3.4343434343434343,
         3.5353535353535355,
         3.6363636363636362,
         3.7373737373737375,
         3.8383838383838382,
         3.9393939393939394,
         4.040404040404041,
         4.141414141414141,
         4.242424242424242,
         4.343434343434343,
         4.444444444444445,
         4.545454545454545,
         4.646464646464646,
         4.747474747474747,
         4.848484848484849,
         4.94949494949495,
         5.05050505050505,
         5.151515151515151,
         5.252525252525253,
         5.353535353535354,
         5.454545454545454,
         5.555555555555555,
         5.656565656565657,
         5.757575757575758,
         5.858585858585858,
         5.959595959595959,
         6.0606060606060606,
         6.161616161616162,
         6.262626262626262,
         6.363636363636363,
         6.4646464646464645,
         6.565656565656566,
         6.666666666666667,
         6.767676767676767,
         6.8686868686868685,
         6.96969696969697,
         7.070707070707071,
         7.171717171717171,
         7.2727272727272725,
         7.373737373737374,
         7.474747474747475,
         7.575757575757575,
         7.6767676767676765,
         7.777777777777778,
         7.878787878787879,
         7.979797979797979,
         8.080808080808081,
         8.181818181818182,
         8.282828282828282,
         8.383838383838384,
         8.484848484848484,
         8.585858585858587,
         8.686868686868687,
         8.787878787878787,
         8.88888888888889,
         8.98989898989899,
         9.09090909090909,
         9.191919191919192,
         9.292929292929292,
         9.393939393939394,
         9.494949494949495,
         9.595959595959595,
         9.696969696969697,
         9.797979797979798,
         9.8989898989899,
         10
        ]
       },
       "y": {
        "type": "float",
        "values": [
         176.4052345967664,
         216.42095543348873,
         314.29475384406265,
         538.3840737642084,
         725.1398727792052,
         627.4120847915641,
         722.4209265441231,
         707.2852057143533,
         696.9633205349975,
         738.0231707288347,
         752.4275278449225,
         897.8548785412199,
         973.9586510559193,
         986.1261527052021,
         1030.5124759797447,
         1063.8799087171715,
         1213.2878160329321,
         1192.7719896563522,
         1224.0787598214422,
         1138.6691858912698,
         883.3702043078619,
         948.7320638518979,
         1035.1756837378484,
         960.9591816972043,
         1187.934644095965,
         1042.4980766360886,
         1047.0739283662333,
         1028.35554336365,
         1181.6334647994956,
         1328.569341789524,
         1344.0640843592157,
         1381.8803363194331,
         1293.101761556422,
         1095.0221147340292,
         1060.230899801414,
         1075.865796711812,
         1198.8948647845841,
         1319.1328496630254,
         1280.4001679222301,
         1250.1698928646965,
         1145.3145963579873,
         1003.3128026400898,
         832.6857835775885,
         1027.7633231007674,
         976.798104925602,
         932.9906747644834,
         807.7111387594907,
         885.4601743426817,
         724.0703895868866,
         702.7963615654897,
         613.2497054461222,
         651.9399552320484,
         600.8594414751611,
         482.7962230629199,
         479.97800022905443,
         522.8111872820962,
         529.462909520413,
         559.7100992943911,
         496.2778899262947,
         460.00377332758086,
         392.75772854998576,
         356.80241239593164,
         275.48778419148624,
         102.85952395831856,
         120.60213818369385,
         80.42404456286766,
         -82.59579013373678,
         -36.31756458115937,
         -127.04740101948357,
         -121.85286143986968,
         -48.943805222116,
         -36.04551414637493,
         77.89455430795515,
         -45.58802772741012,
         -5.353863609655221,
         -73.83487270368654,
         -160.91458762187472,
         -218.79955409831626,
         -249.95480731105351,
         -244.33827308807898,
         -360.8532571664146,
         -270.7706084709959,
         -224.20436449794994,
         -377.82873312567233,
         -229.00351374611236,
         -39.41459614305404,
         78.46336097291103,
         60.47087739167594,
         -46.604384759378306,
         58.840787933735356,
         18.523093236417395,
         140.76760027466014,
         161.59509808234617,
         259.25900173071744,
         294.8956414481576,
         365.55295826735244,
         366.6029603394345,
         545.190009730018,
         557.88121900038,
         598.0801553448503
        ]
       }
      }
     },
     "efa65a1d12b84decb1af49b65d0b3397": {
      "model_module": "bqplot",
      "model_module_version": "^0.3.0",
      "model_name": "LinearScaleModel",
      "state": {
       "allow_padding": false,
       "max": 1,
       "min": 0,
       "stabilized": false
      }
     },
     "f2fea243a027466f8651ce8ac85a7224": {
      "model_module": "@jupyter-widgets/controls",
      "model_module_version": "1.0.0",
      "model_name": "IntSliderModel",
      "state": {
       "layout": "IPY_MODEL_bdb096f11edd46eb804f01d03f7354e3",
       "style": "IPY_MODEL_bc396eeb05724c5e8649f96ab15a680c"
      }
     },
     "f68a60ebcbcd49438d957e021229fffd": {
      "model_module": "@jupyter-widgets/base",
      "model_module_version": "1.0.0",
      "model_name": "LayoutModel",
      "state": {}
     },
     "fe8819ed24ef412ebfed846278c13872": {
      "model_module": "bqplot",
      "model_module_version": "^0.3.0",
      "model_name": "LinearScaleModel",
      "state": {
       "stabilized": false
      }
     }
    },
    "version_major": 2,
    "version_minor": 0
   }
  }
 },
 "nbformat": 4,
 "nbformat_minor": 2
}
