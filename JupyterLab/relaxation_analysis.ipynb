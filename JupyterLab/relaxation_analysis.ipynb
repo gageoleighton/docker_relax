{
 "cells": [
  {
   "cell_type": "markdown",
   "metadata": {},
   "source": [
    "# Docker for NMR software"
   ]
  },
  {
   "cell_type": "markdown",
   "metadata": {},
   "source": [
    "This follows using the docker with NMR software at: https://github.com/tlinnet/docker_relax/blob/master/README.md\n",
    "\n",
    "* [nmrglue examples](https://github.com/jjhelmus/nmrglue/tree/master/examples)\n",
    "* [nmrglue archive](https://code.google.com/archive/p/nmrglue/downloads)\n",
    "\n",
    "[This example](https://github.com/jjhelmus/nmrglue/tree/master/examples/jbnmr_examples/s12-s15_relaxation_analysis) is taken from Listing S12 - S15 in the 2013 JBNMR nmrglue paper. In this example a series of 3D NMRPipe files containing relaxation trajectories for a solid state NMR experment and analyzed.\n",
    "\n",
    "**The code has here been refactored to a complete analysis in JupyterLab.**\n"
   ]
  },
  {
   "cell_type": "markdown",
   "metadata": {},
   "source": [
    "* The data is downloaded with bash command curl\n",
    "* The data is unpacked with bash command unzip\n",
    "* The data is arranged into folders\n",
    "* The data is analysed with [NMRPipe](https://spin.niddk.nih.gov/NMRPipe/ref/scripts/) script [peakHN.tcl](https://spin.niddk.nih.gov/NMRPipe/ref/scripts/peakhn_tcl.html)\n",
    "* The spectrum is plotted in matplotlib in JupyterLab\n",
    "* An analysis script for **relax** is written and executed\n",
    "* All data is analysed in **relax**"
   ]
  },
  {
   "cell_type": "markdown",
   "metadata": {},
   "source": [
    "# Get data\n",
    "Change the comment line to **True**, to download"
   ]
  },
  {
   "cell_type": "code",
   "execution_count": 1,
   "metadata": {},
   "outputs": [],
   "source": [
    "#if True:\n",
    "if False:\n",
    "    ! curl -O https://storage.googleapis.com/google-code-archive-downloads/v2/code.google.com/nmrglue/jbnmr_s12-s15_relaxation_analysis_part1.zip\n",
    "    ! curl -O https://storage.googleapis.com/google-code-archive-downloads/v2/code.google.com/nmrglue/jbnmr_s12-s15_relaxation_analysis_part2.zip\n",
    "    ! curl -O https://storage.googleapis.com/google-code-archive-downloads/v2/code.google.com/nmrglue/jbnmr_s12-s15_relaxation_analysis_part3.zip\n",
    "    ! curl -O https://storage.googleapis.com/google-code-archive-downloads/v2/code.google.com/nmrglue/jbnmr_s12-s15_relaxation_analysis_part4.zip"
   ]
  },
  {
   "cell_type": "code",
   "execution_count": 2,
   "metadata": {},
   "outputs": [
    {
     "name": "stdout",
     "output_type": "stream",
     "text": [
      "jbnmr_s12-s15_relaxation_analysis_part1.zip\r\n",
      "jbnmr_s12-s15_relaxation_analysis_part2.zip\r\n",
      "jbnmr_s12-s15_relaxation_analysis_part3.zip\r\n",
      "jbnmr_s12-s15_relaxation_analysis_part4.zip\r\n",
      "relaxation_analysis.ipynb\r\n"
     ]
    }
   ],
   "source": [
    "# See dowloaded files and unzip directory\n",
    "%ls"
   ]
  },
  {
   "cell_type": "markdown",
   "metadata": {},
   "source": [
    "# Unpack data\n",
    "Change the comment line to **True**, to unzip"
   ]
  },
  {
   "cell_type": "code",
   "execution_count": 3,
   "metadata": {},
   "outputs": [
    {
     "name": "stdout",
     "output_type": "stream",
     "text": [
      "Archive:  jbnmr_s12-s15_relaxation_analysis_part1.zip\r\n",
      "  inflating: s12-s15_relaxation_analysis/README.rst  \r\n",
      "  inflating: s12-s15_relaxation_analysis/fit_exp.py  \r\n",
      "  inflating: s12-s15_relaxation_analysis/extract_traj.py  \r\n",
      "  inflating: s12-s15_relaxation_analysis/plot_boxes.py  \r\n",
      "  inflating: s12-s15_relaxation_analysis/plot_trajectories.py  \r\n",
      "  inflating: s12-s15_relaxation_analysis/spectra.in  \r\n",
      "  inflating: s12-s15_relaxation_analysis/boxes.in  \r\n",
      "  inflating: s12-s15_relaxation_analysis/relaxation_times.in  \r\n",
      "  inflating: s12-s15_relaxation_analysis/data/Ytau_100.fid/test.ft2  \r\n",
      "  inflating: s12-s15_relaxation_analysis/data/Ytau_100000.fid/test.ft2  \r\n",
      "  inflating: s12-s15_relaxation_analysis/data/Ytau_250000.fid/test.ft2  \r\n",
      "Archive:  jbnmr_s12-s15_relaxation_analysis_part2.zip\r\n",
      "  inflating: s12-s15_relaxation_analysis/data/Ytau_500000.fid/test.ft2  \r\n",
      "  inflating: s12-s15_relaxation_analysis/data/Ytau_750000.fid/test.ft2  \r\n",
      "  inflating: s12-s15_relaxation_analysis/data/Ytau_1000000.fid/test.ft2  \r\n",
      "Archive:  jbnmr_s12-s15_relaxation_analysis_part3.zip\r\n",
      "  inflating: s12-s15_relaxation_analysis/data/Ytau_1500000.fid/test.ft2  \r\n",
      "  inflating: s12-s15_relaxation_analysis/data/Ytau_2000000.fid/test.ft2  \r\n",
      "  inflating: s12-s15_relaxation_analysis/data/Ytau_3000000.fid/test.ft2  \r\n",
      "Archive:  jbnmr_s12-s15_relaxation_analysis_part4.zip\r\n",
      "  inflating: s12-s15_relaxation_analysis/data/Ytau_4000000.fid/test.ft2  \r\n"
     ]
    }
   ],
   "source": [
    "if True:\n",
    "#if False:\n",
    "    ! unzip -o jbnmr_s12-s15_relaxation_analysis_part1.zip\n",
    "    ! unzip -o jbnmr_s12-s15_relaxation_analysis_part2.zip\n",
    "    ! unzip -o jbnmr_s12-s15_relaxation_analysis_part3.zip\n",
    "    ! unzip -o jbnmr_s12-s15_relaxation_analysis_part4.zip"
   ]
  },
  {
   "cell_type": "code",
   "execution_count": 4,
   "metadata": {},
   "outputs": [
    {
     "name": "stdout",
     "output_type": "stream",
     "text": [
      "jbnmr_s12-s15_relaxation_analysis_part1.zip\r\n",
      "jbnmr_s12-s15_relaxation_analysis_part2.zip\r\n",
      "jbnmr_s12-s15_relaxation_analysis_part3.zip\r\n",
      "jbnmr_s12-s15_relaxation_analysis_part4.zip\r\n",
      "relaxation_analysis.ipynb\r\n",
      "\u001b[0m\u001b[01;34ms12-s15_relaxation_analysis\u001b[0m/\r\n"
     ]
    }
   ],
   "source": [
    "# See dowloaded files and unzip directory\n",
    "%ls"
   ]
  },
  {
   "cell_type": "code",
   "execution_count": 5,
   "metadata": {},
   "outputs": [
    {
     "name": "stdout",
     "output_type": "stream",
     "text": [
      "total 32\r\n",
      "drwxr-xr-x 11 developer developer  374 Oct 30 08:57 \u001b[0m\u001b[01;34m.\u001b[0m/\r\n",
      "drwxr-xr-x  9 developer developer  306 Oct 30 08:57 \u001b[01;34m..\u001b[0m/\r\n",
      "-rw-r--r--  1 developer developer 1350 Mar  3  2013 README.rst\r\n",
      "-rw-r--r--  1 developer developer  847 Mar  3  2013 boxes.in\r\n",
      "drwxr-xr-x 12 developer developer  408 Oct 30 08:56 \u001b[01;34mdata\u001b[0m/\r\n",
      "-rw-r--r--  1 developer developer 1126 Mar  3  2013 extract_traj.py\r\n",
      "-rw-r--r--  1 developer developer 1164 Mar  3  2013 fit_exp.py\r\n",
      "-rw-r--r--  1 developer developer 1851 Mar  3  2013 plot_boxes.py\r\n",
      "-rw-r--r--  1 developer developer  936 Mar  3  2013 plot_trajectories.py\r\n",
      "-rw-r--r--  1 developer developer   85 Mar  3  2013 relaxation_times.in\r\n",
      "-rw-r--r--  1 developer developer  302 Mar  3  2013 spectra.in\r\n"
     ]
    }
   ],
   "source": [
    "# See dowloaded files in the unzip directory\n",
    "%ls -la s12-s15_relaxation_analysis"
   ]
  },
  {
   "cell_type": "code",
   "execution_count": 15,
   "metadata": {},
   "outputs": [
    {
     "name": "stdout",
     "output_type": "stream",
     "text": [
      "\u001b[0m\u001b[01;34ms12-s15_relaxation_analysis/data/Ytau_100.fid\u001b[0m/\r\n",
      "\u001b[01;34ms12-s15_relaxation_analysis/data/Ytau_100000.fid\u001b[0m/\r\n",
      "\u001b[01;34ms12-s15_relaxation_analysis/data/Ytau_250000.fid\u001b[0m/\r\n",
      "\u001b[01;34ms12-s15_relaxation_analysis/data/Ytau_500000.fid\u001b[0m/\r\n",
      "\u001b[01;34ms12-s15_relaxation_analysis/data/Ytau_750000.fid\u001b[0m/\r\n",
      "\u001b[01;34ms12-s15_relaxation_analysis/data/Ytau_1000000.fid\u001b[0m/\r\n",
      "\u001b[01;34ms12-s15_relaxation_analysis/data/Ytau_1500000.fid\u001b[0m/\r\n",
      "\u001b[01;34ms12-s15_relaxation_analysis/data/Ytau_2000000.fid\u001b[0m/\r\n",
      "\u001b[01;34ms12-s15_relaxation_analysis/data/Ytau_3000000.fid\u001b[0m/\r\n",
      "\u001b[01;34ms12-s15_relaxation_analysis/data/Ytau_4000000.fid\u001b[0m/\r\n"
     ]
    }
   ],
   "source": [
    "# Have a look at the data folder\n",
    "%ls -vd1 s12-s15_relaxation_analysis/data/*"
   ]
  },
  {
   "cell_type": "code",
   "execution_count": 16,
   "metadata": {},
   "outputs": [
    {
     "name": "stdout",
     "output_type": "stream",
     "text": [
      "s12-s15_relaxation_analysis/data/Ytau_100.fid/test.ft2\r\n",
      "s12-s15_relaxation_analysis/data/Ytau_100000.fid/test.ft2\r\n",
      "s12-s15_relaxation_analysis/data/Ytau_250000.fid/test.ft2\r\n",
      "s12-s15_relaxation_analysis/data/Ytau_500000.fid/test.ft2\r\n",
      "s12-s15_relaxation_analysis/data/Ytau_750000.fid/test.ft2\r\n",
      "s12-s15_relaxation_analysis/data/Ytau_1000000.fid/test.ft2\r\n",
      "s12-s15_relaxation_analysis/data/Ytau_1500000.fid/test.ft2\r\n",
      "s12-s15_relaxation_analysis/data/Ytau_2000000.fid/test.ft2\r\n",
      "s12-s15_relaxation_analysis/data/Ytau_3000000.fid/test.ft2\r\n",
      "s12-s15_relaxation_analysis/data/Ytau_4000000.fid/test.ft2\r\n"
     ]
    }
   ],
   "source": [
    "# Get order of data. \n",
    "# https://www.safaribooksonline.com/blog/2014/02/12/using-shell-commands-effectively-ipython/\n",
    "#%ls -v -d -1 s12-s15_relaxation_analysis/data/*/*.ft2\n",
    "!ls -v -d -1 s12-s15_relaxation_analysis/data/*/*.ft2 > ft2_files.ls\n",
    "!cat ft2_files.ls"
   ]
  },
  {
   "cell_type": "code",
   "execution_count": 17,
   "metadata": {},
   "outputs": [],
   "source": [
    "# Read into list\n",
    "with open('ft2_files.ls', \"r\") as f:\n",
    "    fid_files = f.read().splitlines()"
   ]
  },
  {
   "cell_type": "code",
   "execution_count": 18,
   "metadata": {},
   "outputs": [
    {
     "name": "stdout",
     "output_type": "stream",
     "text": [
      "REMARK Effect of Processing on Peak Parameters and Noise for s12-s15_relaxation_analysis/data/Ytau_100.fid/test.ft2\r\n",
      "REMARK Automated Noise Std Dev in Processed Data: 3556.26\r\n",
      "REMARK Noise Std Dev Before Processing C13 and N15: 13.5848\r\n",
      "\r\n",
      "VARS   AXIS LABEL  TSIZE FSIZE LW_ADJ LW_FINAL HI_FACTOR VOL_FACTOR SIGMA_FACTOR\r\n",
      "FORMAT %s   %-8s   %4d   %4d   %7.4f  %7.4f    %.4e      %.4e       %.4e\r\n",
      "\r\n",
      "       X    C13     1500  8192 1.1033 6.9883   2.4234e-03 2.4718e-04 3.3248e-02\r\n",
      "       Y    N15      128  2048 2.9694 20.3856   2.8449e-02 9.8873e-04 1.1490e-01\r\n",
      "FILE: s12-s15_relaxation_analysis/data/Ytau_100.fid/test.ft2 DIM: 2 QUAD: Real 2DMODE: States Not Transposed\r\n",
      "BYTES: 67110912 PRED: 67110912 MIN: 0 MAX: 0 VALID: 0\r\n",
      "ORDER: 2 1 PIPE: 0 CUBE: 0 FILES: 1 8192x2048x1\r\n",
      "\r\n",
      "               X-Axis        Y-Axis   \r\n",
      "\r\n",
      "DATA SIZE:          8192         2048\r\n",
      "APOD SIZE:          1500          128\r\n",
      "SW Hz:      50000.000000  5000.000000\r\n",
      "OBS MHz:      125.690002    50.647999\r\n",
      "ORIG Hz:    -2746.765625  3681.497070\r\n",
      "DOMAIN:             Freq         Freq\r\n",
      "MODE:               Real         Real\r\n",
      "NAME:                C13          N15\r\n",
      "\r\n"
     ]
    }
   ],
   "source": [
    "# Get some info\n",
    "fid_file1 = fid_files[0]\n",
    "!showApod $fid_file1\n",
    "!showhdr $fid_file1"
   ]
  },
  {
   "cell_type": "code",
   "execution_count": 30,
   "metadata": {},
   "outputs": [
    {
     "name": "stdout",
     "output_type": "stream",
     "text": [
      "OBS MHz:      125.690002    50.647999\r\n",
      "50.647999\n"
     ]
    }
   ],
   "source": [
    "# Get info\n",
    "!showhdr $fid_file1 | grep \"OBS MHz:\"\n",
    "w0_15N_arr = !showhdr $fid_file1 | grep \"OBS MHz:\"\n",
    "print(w0_15N_arr[0].split()[3])"
   ]
  },
  {
   "cell_type": "code",
   "execution_count": 33,
   "metadata": {},
   "outputs": [
    {
     "name": "stdout",
     "output_type": "stream",
     "text": [
      "Spectrometer frequency 499.498 in 1H MHz\n"
     ]
    }
   ],
   "source": [
    "# Calculate the Larmor frequency for proton\n",
    "# http://bio.groups.et.byu.net/LarmourFreqCal.phtml\n",
    "# http://web.mit.edu/speclab/www/Facility/nmrfreq.html\n",
    "w0_15N = float(w0_15N_arr[0].split()[3]) # Larmor frequency for 15N [MHz]\n",
    "g_15N = 4.317267 # Gyromagnetic Ratio for 15N [MHz/T]\n",
    "B0 = w0_15N / g_15N # Magnet Field Strength [T]\n",
    "g_1H = 42.57748 # Gyromagnetic Ratio for 1H [MHz/T]\n",
    "w0_1H = g_1H*B0 # Larmor frequency for 15N [MHz]\n",
    "print(\"Spectrometer frequency %.3f in 1H MHz\"%w0_1H)    "
   ]
  },
  {
   "cell_type": "markdown",
   "metadata": {},
   "source": [
    "# Collect data information"
   ]
  },
  {
   "cell_type": "code",
   "execution_count": 34,
   "metadata": {},
   "outputs": [
    {
     "name": "stdout",
     "output_type": "stream",
     "text": [
      "\n",
      "Path to .ft2, time in us, rmsd noise\n",
      "s12-s15_relaxation_analysis/data/Ytau_100.fid/test.ft2 100 3556.26 499.498\n",
      "s12-s15_relaxation_analysis/data/Ytau_100000.fid/test.ft2 100000 3517.99 499.498\n",
      "s12-s15_relaxation_analysis/data/Ytau_250000.fid/test.ft2 250000 3513.73 499.498\n",
      "s12-s15_relaxation_analysis/data/Ytau_500000.fid/test.ft2 500000 3544.81 499.498\n",
      "s12-s15_relaxation_analysis/data/Ytau_750000.fid/test.ft2 750000 3526.03 499.498\n",
      "s12-s15_relaxation_analysis/data/Ytau_1000000.fid/test.ft2 1000000 3532.23 499.498\n",
      "s12-s15_relaxation_analysis/data/Ytau_1500000.fid/test.ft2 1500000 3563.8 499.498\n",
      "s12-s15_relaxation_analysis/data/Ytau_2000000.fid/test.ft2 2000000 3536.76 499.498\n",
      "s12-s15_relaxation_analysis/data/Ytau_3000000.fid/test.ft2 3000000 3506.51 499.498\n",
      "s12-s15_relaxation_analysis/data/Ytau_4000000.fid/test.ft2 4000000 3529.68 499.498\n"
     ]
    }
   ],
   "source": [
    "fid_times = []\n",
    "fid_rmsd = []\n",
    "lines = []\n",
    "print(\"\\nPath to .ft2, time in us, rmsd noise\")\n",
    "for fid in fid_files:\n",
    "    time = int(fid.split(\"Ytau_\")[-1].split(\".fid\")[0])\n",
    "    # Get output from showApod\n",
    "    showApod_out = !showApod $fid | grep \"REMARK Automated Noise Std Dev in Processed Data:\"\n",
    "    # Get noise\n",
    "    rmsd = showApod_out[0].split(\" \")[-1]\n",
    "    # Collect\n",
    "    lines.append(\"%s %s %s %.3f\"%(fid, time, rmsd, w0_1H))\n",
    "    print(lines[-1])\n",
    "    fid_times.append(time)\n",
    "    fid_rmsd.append(rmsd)\n",
    "\n",
    "# Store info\n",
    "with open('ft2_files_info.txt', \"w\") as f:\n",
    "    for line in lines:\n",
    "        f.write(line + \"\\n\")"
   ]
  },
  {
   "cell_type": "markdown",
   "metadata": {},
   "source": [
    "# Inspect collected data"
   ]
  },
  {
   "cell_type": "code",
   "execution_count": 7,
   "metadata": {},
   "outputs": [
    {
     "name": "stdout",
     "output_type": "stream",
     "text": [
      "s12-s15_relaxation_analysis/data/Ytau_100.fid/test.ft2 100 3556.26 499.488\r\n",
      "s12-s15_relaxation_analysis/data/Ytau_100000.fid/test.ft2 100000 3517.99 499.488\r\n",
      "s12-s15_relaxation_analysis/data/Ytau_250000.fid/test.ft2 250000 3513.73 499.488\r\n",
      "s12-s15_relaxation_analysis/data/Ytau_500000.fid/test.ft2 500000 3544.81 499.488\r\n"
     ]
    }
   ],
   "source": [
    "# See file\n",
    "! head -n 4 ft2_files_info.txt"
   ]
  },
  {
   "cell_type": "markdown",
   "metadata": {},
   "source": [
    "# Make an automated peak list"
   ]
  },
  {
   "cell_type": "code",
   "execution_count": 37,
   "metadata": {},
   "outputs": [
    {
     "name": "stdout",
     "output_type": "stream",
     "text": [
      "Auto Mode Noise Estimate:      2.9782e+03\r",
      "\r\n",
      "Auto Mode Detection Threshold: 2.0848e+04\r",
      "\r\n",
      "\r\n",
      "ROI Name='s12-s15_relaxation_analysis/data/Ytau_100.fid/test.ft2' Length: 16824335 Orig Dim: 2 Dim: 2\r\n",
      "\r\n",
      "ROI X: X_AXIS 1 -> 8195 8195 Pts 1 -> 8195\r\n",
      " Offset: 0 Align=None(0.000,0.000) Window: None\r\n",
      "ROI Y: Y_AXIS 1 -> 2053 2053 Pts 1 -> 2053\r\n",
      " Offset: 0 Align=None(0.000,0.000) Window: None\r\n",
      "\r\n",
      "PkROI: 2D Peak Detection, (8195)(2053) points.\r\n",
      "PkROI: Detecting peaks ...\r\n",
      "PkROI: Finding mask ...\r\n",
      "PkROI: Finished detection, 96 new peaks.\r\n",
      "PkROI: Truncation artifact (sinc) detection.\r\n",
      "PkROI: Found 10 sinc artifacts.\r\n",
      "PkROI: Updating clusters ...\r\n",
      "PkROI: Writing Peak Table, 86 peaks ...\r\n",
      "PkROI: Exiting.\r\n",
      "\r\n"
     ]
    }
   ],
   "source": [
    "# Get a test peak list with NMRPipe\n",
    "ftfile = fid_files[0]\n",
    "# Auto detect peaks\n",
    "! peakHN.tcl -in s12-s15_relaxation_analysis/data/Ytau_100.fid/test.ft2 -out test.tab"
   ]
  },
  {
   "cell_type": "code",
   "execution_count": 38,
   "metadata": {},
   "outputs": [
    {
     "name": "stdout",
     "output_type": "stream",
     "text": [
      "     1\tREMARK ROI 2D Peak Detection System, File: s12-s15_relaxation_analysis/data/Ytau_100.fid/test.ft2\r\n",
      "     2\tREMARK Detection Levels: -20847.7 and 20847.7\r\n",
      "     3\tREMARK Detection: X(+/-2) Y(+/-4)\r\n",
      "     4\tREMARK Interpolation: X(+/-2) Y(+/-4)\r\n",
      "     5\tREMARK Noise: 2978.24, Chi2-Threshold: 1.000000e-04, Local Adjustment: None\r\n",
      "     6\tREMARK Position Tolerances: X(2.0) Y(2.0)\r\n",
      "     7\tREMARK Sinc Detect ON, Height Adjustments: X(1.200) Y(1.800)\r\n",
      "     8\tREMARK Sinc Detect Linewidths: X(15.0Hz) Y(0.0Hz)\r\n",
      "     9\tREMARK Total Peaks: 86, Good Peaks: 86, Questionable Peaks: 0\r\n",
      "    10\tREMARK Clusters: 55, Max Cluster Size: 14\r\n",
      "    11\tREMARK ROI Spectral Axis Limits:\r\n",
      "    12\t\r\n",
      "    13\tDATA  X_AXIS C13          1  8195  375.902ppm  -21.999ppm\r\n",
      "    14\tDATA  Y_AXIS N15          1  2053  171.360ppm   72.447ppm\r\n",
      "    15\t\r\n",
      "    16\tVARS   INDEX X_AXIS Y_AXIS DX DY X_PPM Y_PPM X_HZ Y_HZ XW YW XW_HZ YW_HZ X1 X3 Y1 Y3 HEIGHT DHEIGHT VOL PCHI2 TYPE ASS CLUSTID MEMCNT\r\n",
      "    17\tFORMAT %5d %9.3f %9.3f %6.3f %6.3f %8.3f %8.3f %9.3f %9.3f %7.3f %7.3f %8.3f %8.3f %4d %4d %4d %4d %+e %+e %+e %.5f %d %s %4d %4d\r\n",
      "    18\t\r\n",
      "    19\t   1  4826.972   784.264  0.716  4.626  141.553  133.604 17791.740  6766.790   7.113  14.102   43.416   34.429 4822 4829  779  789 -3.068895e+04  8.669779e+02 -2.024936e+06 0.00000 1 None    1    1\r\n",
      "    20\t   2  4836.181   783.691  0.212  2.880  141.105  133.632 17735.531  6768.188   5.180  15.110   31.619   36.891 4833 4839  775  793 -5.784407e+04  8.759869e+02 -4.035083e+06 0.00000 1 None    2    1\r\n"
     ]
    }
   ],
   "source": [
    "# See the file\n",
    "! head -n 20 test.tab | nl -ba"
   ]
  },
  {
   "cell_type": "markdown",
   "metadata": {},
   "source": [
    "# Plot the first spectrum. \n",
    "\n",
    "* Made from https://github.com/jjhelmus/nmrglue/wiki/Plot-and-integrate-peaks-from-nmrpipe-format-and-sparky-list\n",
    "* https://github.com/jjhelmus/nmrglue/blob/master/examples/jbnmr_examples/s12-s15_relaxation_analysis/plot_boxes.py\n",
    "* https://github.com/jjhelmus/nmrglue/blob/master/nmrglue/fileio/pipe.py"
   ]
  },
  {
   "cell_type": "code",
   "execution_count": 39,
   "metadata": {},
   "outputs": [
    {
     "data": {
      "text/html": [
       "<div>\n",
       "<style scoped>\n",
       "    .dataframe tbody tr th:only-of-type {\n",
       "        vertical-align: middle;\n",
       "    }\n",
       "\n",
       "    .dataframe tbody tr th {\n",
       "        vertical-align: top;\n",
       "    }\n",
       "\n",
       "    .dataframe thead th {\n",
       "        text-align: right;\n",
       "    }\n",
       "</style>\n",
       "<table border=\"1\" class=\"dataframe\">\n",
       "  <thead>\n",
       "    <tr style=\"text-align: right;\">\n",
       "      <th></th>\n",
       "      <th>INDEX</th>\n",
       "      <th>X_AXIS</th>\n",
       "      <th>Y_AXIS</th>\n",
       "      <th>X_PPM</th>\n",
       "      <th>Y_PPM</th>\n",
       "    </tr>\n",
       "  </thead>\n",
       "  <tbody>\n",
       "    <tr>\n",
       "      <th>0</th>\n",
       "      <td>1</td>\n",
       "      <td>4826.972</td>\n",
       "      <td>784.264</td>\n",
       "      <td>141.553</td>\n",
       "      <td>133.604</td>\n",
       "    </tr>\n",
       "    <tr>\n",
       "      <th>1</th>\n",
       "      <td>2</td>\n",
       "      <td>4836.181</td>\n",
       "      <td>783.691</td>\n",
       "      <td>141.105</td>\n",
       "      <td>133.632</td>\n",
       "    </tr>\n",
       "    <tr>\n",
       "      <th>2</th>\n",
       "      <td>3</td>\n",
       "      <td>4846.570</td>\n",
       "      <td>784.339</td>\n",
       "      <td>140.601</td>\n",
       "      <td>133.601</td>\n",
       "    </tr>\n",
       "    <tr>\n",
       "      <th>3</th>\n",
       "      <td>4</td>\n",
       "      <td>4852.329</td>\n",
       "      <td>783.781</td>\n",
       "      <td>140.321</td>\n",
       "      <td>133.628</td>\n",
       "    </tr>\n",
       "    <tr>\n",
       "      <th>4</th>\n",
       "      <td>5</td>\n",
       "      <td>4862.333</td>\n",
       "      <td>783.502</td>\n",
       "      <td>139.835</td>\n",
       "      <td>133.641</td>\n",
       "    </tr>\n",
       "  </tbody>\n",
       "</table>\n",
       "</div>"
      ],
      "text/plain": [
       "   INDEX    X_AXIS   Y_AXIS    X_PPM    Y_PPM\n",
       "0      1  4826.972  784.264  141.553  133.604\n",
       "1      2  4836.181  783.691  141.105  133.632\n",
       "2      3  4846.570  784.339  140.601  133.601\n",
       "3      4  4852.329  783.781  140.321  133.628\n",
       "4      5  4862.333  783.502  139.835  133.641"
      ]
     },
     "execution_count": 39,
     "metadata": {},
     "output_type": "execute_result"
    }
   ],
   "source": [
    "import nmrglue as ng\n",
    "\n",
    "# Read the data\n",
    "dic, data = ng.pipe.read(ftfile)\n",
    "# Does not work?\n",
    "# peakfile = ng.fileio.pipe.read_table(\"test.tab\")\n",
    "\n",
    "# Read peak file with pandas instead.\n",
    "import pandas as pd\n",
    "col_n = ['INDEX', 'X_AXIS', 'Y_AXIS', 'DX', 'DY', 'X_PPM', 'Y_PPM', 'X_HZ', 'Y_HZ', 'XW', 'YW', 'XW_HZ', 'YW_HZ', 'X1', 'X3', 'Y1', 'Y3', 'HEIGHT', 'DHEIGHT', 'VOL', 'PCHI2', 'TYPE', 'ASS', 'CLUSTID', 'MEMCNT']\n",
    "peakfile = df = pd.read_csv('test.tab', delim_whitespace=True, skiprows=18, names=col_n)\n",
    "\n",
    "# See the header of some columns of data.\n",
    "peakfile[['INDEX', 'X_AXIS', 'Y_AXIS', 'X_PPM', 'Y_PPM']].head()\n"
   ]
  },
  {
   "cell_type": "markdown",
   "metadata": {},
   "source": [
    "# Plot data"
   ]
  },
  {
   "cell_type": "code",
   "execution_count": 41,
   "metadata": {},
   "outputs": [
    {
     "data": {
      "image/png": "[encoded data removed]",
      "text/plain": [
       "<matplotlib.figure.Figure at 0x7f9c1e6bdf60>"
      ]
     },
     "metadata": {},
     "output_type": "display_data"
    },
    {
     "data": {
      "image/png": "[encoded data removed]",
      "text/plain": [
       "<matplotlib.figure.Figure at 0x7f9c20c86400>"
      ]
     },
     "metadata": {},
     "output_type": "display_data"
    }
   ],
   "source": [
    "import matplotlib\n",
    "import matplotlib.pyplot as plt\n",
    "%matplotlib inline\n",
    "\n",
    "# plot parameters\n",
    "cmap = matplotlib.cm.Blues_r    # contour map (colors to use for contours)\n",
    "contour_start = 30000           # contour level start value\n",
    "contour_num = 20                # number of contour levels\n",
    "contour_factor = 1.20           # scaling factor between contour levels\n",
    "## calculate contour levels\n",
    "cl = [contour_start * contour_factor ** x for x in range(contour_num)]\n",
    "# Make figures\n",
    "f1, ax1 = plt.subplots(1, figsize=(6, 6))\n",
    "f2, ax2 = plt.subplots(1, figsize=(6, 6))\n",
    "\n",
    "if True:\n",
    "    ax1.contour(data, cl, cmap=cmap, extent=(0, data.shape[1]-1, 0, data.shape[0]-1))\n",
    "\n",
    "    # Limit show\n",
    "    x0 = 3750\n",
    "    x1 = 4250\n",
    "    y0 = 700\n",
    "    y1 = 1400\n",
    "    xpad = 0\n",
    "    ypad = 0\n",
    "    if x0 > x1:\n",
    "        x0, x1 = x1, x0\n",
    "    if y0 > y1:\n",
    "        y0, y1 = y1, y0\n",
    "\n",
    "    # slice the data around the peak\n",
    "    dataslice = data[y0 - ypad:y1 + 1 + ypad, x0 - xpad:x1 + 1 + xpad]\n",
    "    extent = (x0 - xpad + 1, x1 + xpad - 1, y0 - ypad + 1, y1 + ypad - 1)\n",
    "    ax2.contour(dataslice, cl, cmap=cmap, extent=extent)\n",
    "\n",
    "    # Plot points\n",
    "    ptsX=peakfile['X_AXIS']\n",
    "    ptsY=peakfile['Y_AXIS']\n",
    "    ax2.plot(ptsX, ptsY, \"x\", color='y')"
   ]
  },
  {
   "cell_type": "markdown",
   "metadata": {},
   "source": [
    "# Make a measurement of the peaks. \n",
    "\n",
    "This can be done by using seriesTab\n",
    "\n",
    "* https://spin.niddk.nih.gov/NMRPipe/ref/prog/seriestab.html"
   ]
  },
  {
   "cell_type": "code",
   "execution_count": 44,
   "metadata": {},
   "outputs": [],
   "source": [
    "! seriesTab -in test.tab -out test.ser -list ft2_files.ls -max -dx 1 -dy 1"
   ]
  },
  {
   "cell_type": "code",
   "execution_count": 45,
   "metadata": {},
   "outputs": [
    {
     "name": "stdout",
     "output_type": "stream",
     "text": [
      "     1\tREMARK SeriesTab Input: test.tab Output: test.ser\r\n",
      "     2\tREMARK Mode: Maximum Dimensions: 2\r\n",
      "     3\tREMARK Input Region:    X +/- 1 X-ZF: 3\r\n",
      "     4\tREMARK Analysis Region: X +/- 1\r\n",
      "     5\tREMARK Input Region:    Y +/- 1 Y-ZF: 3\r\n",
      "     6\tREMARK Analysis Region: Y +/- 1\r\n",
      "     7\t\r\n",
      "     8\tVARS   INDEX X_AXIS Y_AXIS DX DY X_PPM Y_PPM X_HZ Y_HZ XW YW XW_HZ YW_HZ X1 X3 Y1 Y3 HEIGHT DHEIGHT VOL PCHI2 TYPE ASS CLUSTID MEMCNT Z_A0 Z_A1 Z_A2 Z_A3 Z_A4 Z_A5 Z_A6 Z_A7 Z_A8 Z_A9\r\n",
      "     9\tFORMAT %5d %9.3f %9.3f %6.3f %6.3f %8.3f %8.3f %9.3f %9.3f %7.3f %7.3f %8.3f %8.3f %4d %4d %4d %4d %+e %+e %+e %.5f %d %s %4d %4d %7.4f %7.4f %7.4f %7.4f %7.4f %7.4f %7.4f %7.4f %7.4f %7.4f\r\n",
      "    10\t\r\n",
      "    11\tNULLVALUE -666\r\n",
      "    12\tNULLSTRING *\r\n",
      "    13\t\r\n",
      "    14\t    1  4826.972   784.264  0.716  4.626  141.553  133.604 17791.740  6766.790   7.113  14.102   43.416   34.429 4822 4829  779  789 -3.068895e+04 +8.669779e+02 -3.066648e+04 0.00000 1 None    1    1  1.0000  0.9673  0.7892  0.6927  0.5555  0.4019  0.4280  0.2652  0.2444  0.1218\r\n",
      "    15\t    2  4836.181   783.691  0.212  2.880  141.105  133.632 17735.531  6768.188   5.180  15.110   31.619   36.891 4833 4839  775  793 -5.784407e+04 +8.759869e+02 -5.765566e+04 0.00000 1 None    2    1  1.0000  0.9770  0.7691  0.7874  0.6377  0.5222  0.5706  0.3499  0.3842  0.1962\r\n"
     ]
    }
   ],
   "source": [
    "# See output\n",
    "! head -n 15 test.ser | nl -ba"
   ]
  },
  {
   "cell_type": "markdown",
   "metadata": {},
   "source": [
    "# Make a script file for relax"
   ]
  },
  {
   "cell_type": "code",
   "execution_count": 48,
   "metadata": {},
   "outputs": [],
   "source": [
    "# Make a script file for relax\n",
    "txtout = r\"\"\"\n",
    "from auto_analyses.relax_fit import Relax_fit\n",
    "from pipe_control.mol_res_spin import spin_loop\n",
    "\n",
    "# Taken from the relax disp manual, section 10.6.1 Dispersion script mode - the sample script\n",
    "# Create the data pipe.\n",
    "pipe_name = 'base pipe'\n",
    "pipe_bundle = 'test'\n",
    "pipe.create(pipe_name=pipe_name, bundle=pipe_bundle, pipe_type='relax_fit')\n",
    "\n",
    "# Create the spins\n",
    "spectrum.read_spins(file=\"test.ser\", dir=None)\n",
    "\n",
    "# Read the spectrum from NMRSeriesTab file. The \"auto\" will generate spectrum name of form: Z_A{i}\n",
    "spectrum.read_intensities(file=\"test.ser\", dir=None, spectrum_id='auto', int_method='height')\n",
    "\n",
    "# Open the settings file.\n",
    "set_file = open('ft2_files_info.txt', 'r')\n",
    "\n",
    "for i, line in enumerate(set_file):\n",
    "    # Set the current spectrum id\n",
    "    current_id = \"Z_A%s\"%(i)\n",
    " \n",
    "    # Get the relax time in seconds instead of us.\n",
    "    relaxT_i = float(line.split()[1])/1e6\n",
    "    rmsd_i = float(line.split()[2])\n",
    "    sfrq_i = float(line.split()[3])\n",
    " \n",
    "    print(relaxT_i, rmsd_i, sfrq_i)\n",
    " \n",
    "    # Set time\n",
    "    relax_fit.relax_time(time=relaxT_i, spectrum_id=current_id)\n",
    " \n",
    "    # Set noise\n",
    "    spectrum.baseplane_rmsd(error=rmsd_i, spectrum_id=current_id)\n",
    " \n",
    "    # Set sfrq\n",
    "    spectrometer.frequency(id=current_id, frq=sfrq_i, units='MHz')\n",
    "\n",
    "    # Select the relaxation curve type. Also support inversion 'inv' and  saturation recovery experiment 'sat'.\n",
    "    relax_fit.select_model(model='exp')\n",
    "\n",
    "state.save(\"ini_state\", force=True)\n",
    "\n",
    "# Check for any negative intensities, and deselect spins\n",
    "for c_s, c_s_mol, c_s_resi, c_s_resn, c_s_id in spin_loop(full_info=True, return_id=True, skip_desel=True):\n",
    "    for key in c_s.peak_intensity:\n",
    "        intensity = c_s.peak_intensity[key]\n",
    "        if intensity <= 0.0:\n",
    "            deselect.spin(c_s_id)\n",
    "            print(c_s_id, key, intensity)\n",
    "            break\n",
    "\n",
    "Relax_fit(pipe_name=pipe_name, pipe_bundle=pipe_bundle, file_root='Rx', results_dir=\"relax_res\", grid_inc=11, mc_sim_num=3, view_plots=False)\n",
    "\n",
    "state.save(\"done_state\", force=True)\n",
    "\"\"\"\n",
    "\n",
    "# write file\n",
    "with open('relax_01.py', \"w\") as f:\n",
    "    f.write(txtout)\n"
   ]
  },
  {
   "cell_type": "markdown",
   "metadata": {},
   "source": [
    "# Check the file"
   ]
  },
  {
   "cell_type": "code",
   "execution_count": 49,
   "metadata": {},
   "outputs": [
    {
     "name": "stdout",
     "output_type": "stream",
     "text": [
      "\r\n",
      "from auto_analyses.relax_fit import Relax_fit\r\n",
      "from pipe_control.mol_res_spin import spin_loop\r\n",
      "\r\n",
      "# Taken from the relax disp manual, section 10.6.1 Dispersion script mode - the sample script\r\n",
      "# Create the data pipe.\r\n",
      "pipe_name = 'base pipe'\r\n",
      "pipe_bundle = 'test'\r\n",
      "pipe.create(pipe_name=pipe_name, bundle=pipe_bundle, pipe_type='relax_fit')\r\n",
      "\r\n",
      "# Create the spins\r\n",
      "spectrum.read_spins(file=\"test.ser\", dir=None)\r\n",
      "\r\n",
      "# Read the spectrum from NMRSeriesTab file. The \"auto\" will generate spectrum name of form: Z_A{i}\r\n",
      "spectrum.read_intensities(file=\"test.ser\", dir=None, spectrum_id='auto', int_method='height')\r\n",
      "\r\n",
      "# Open the settings file.\r\n",
      "set_file = open('ft2_files_info.txt', 'r')\r\n",
      "\r\n",
      "for i, line in enumerate(set_file):\r\n",
      "    # Set the current spectrum id\r\n",
      "    current_id = \"Z_A%s\"%(i)\r\n",
      " \r\n",
      "    # Get the relax time in seconds instead of us.\r\n",
      "    relaxT_i = float(line.split()[1])/1e6\r\n",
      "    rmsd_i = float(line.split()[2])\r\n",
      "    sfrq_i = float(line.split()[3])\r\n",
      " \r\n",
      "    print(relaxT_i, rmsd_i, sfrq_i)\r\n",
      " \r\n",
      "    # Set time\r\n",
      "    relax_fit.relax_time(time=relaxT_i, spectrum_id=current_id)\r\n",
      " \r\n",
      "    # Set noise\r\n",
      "    spectrum.baseplane_rmsd(error=rmsd_i, spectrum_id=current_id)\r\n",
      " \r\n",
      "    # Set sfrq\r\n",
      "    spectrometer.frequency(id=current_id, frq=sfrq_i, units='MHz')\r\n",
      "\r\n",
      "    # Select the relaxation curve type. Also support inversion 'inv' and  saturation recovery experiment 'sat'.\r\n",
      "    relax_fit.select_model(model='exp')\r\n",
      "\r\n",
      "state.save(\"ini_state\", force=True)\r\n",
      "\r\n",
      "# Check for any negative intensities, and deselect spins\r\n",
      "for c_s, c_s_mol, c_s_resi, c_s_resn, c_s_id in spin_loop(full_info=True, return_id=True, skip_desel=True):\r\n",
      "    for key in c_s.peak_intensity:\r\n",
      "        intensity = c_s.peak_intensity[key]\r\n",
      "        if intensity <= 0.0:\r\n",
      "            deselect.spin(c_s_id)\r\n",
      "            print(c_s_id, key, intensity)\r\n",
      "            break\r\n",
      "\r\n",
      "Relax_fit(pipe_name=pipe_name, pipe_bundle=pipe_bundle, file_root='Rx', results_dir=\"relax_res\", grid_inc=11, mc_sim_num=3, view_plots=False)\r\n",
      "\r\n",
      "state.save(\"done_state\", force=True)\r\n"
     ]
    }
   ],
   "source": [
    "! cat relax_01.py"
   ]
  },
  {
   "cell_type": "markdown",
   "metadata": {},
   "source": [
    "# run relax\n",
    "\n",
    "This can be done here in the Notebook, or start a new terminal, and execute: **dre relax relax_01.py**"
   ]
  },
  {
   "cell_type": "code",
   "execution_count": 18,
   "metadata": {},
   "outputs": [
    {
     "name": "stdout",
     "output_type": "stream",
     "text": [
      "Opening the file 'relax_01.log' for writing.\r\n",
      "Redirecting the sys.stdin IO stream to the Python stdin IO stream.\r\n",
      "Redirecting the sys.stdout IO stream to the log file 'relax_01.log'.\r\n",
      "Redirecting the sys.stderr IO stream to both the Python stderr IO stream and the log file 'relax_01.log'.\r\n",
      "RelaxWarning: The int_col is set to 'None'. Looking for the 'HEIGHT' index.\r\n",
      "RelaxWarning: The int_col is set to '18' from the 'HEIGHT' index.\r\n",
      "RelaxWarning: Improperly formatted NMRPipe SeriesTab file. The spin assignment column 'ASS' is set to 'None'. Setting to A1N-HN.\r\n",
      "RelaxWarning: Improperly formatted NMRPipe SeriesTab file. The spin assignment column 'ASS' is set to 'None'. Setting to A2N-HN.\r\n",
      "RelaxWarning: Improperly formatted NMRPipe SeriesTab file. The spin assignment column 'ASS' is set to 'None'. Setting to A3N-HN.\r\n",
      "RelaxWarning: Improperly formatted NMRPipe SeriesTab file. The spin assignment column 'ASS' is set to 'None'. Setting to A4N-HN.\r\n",
      "RelaxWarning: Improperly formatted NMRPipe SeriesTab file. The spin assignment column 'ASS' is set to 'None'. Setting to A5N-HN.\r\n",
      "RelaxWarning: Improperly formatted NMRPipe SeriesTab file. The spin assignment column 'ASS' is set to 'None'. Setting to A6N-HN.\r\n",
      "RelaxWarning: Improperly formatted NMRPipe SeriesTab file. The spin assignment column 'ASS' is set to 'None'. Setting to A8N-HN.\r\n",
      "RelaxWarning: Improperly formatted NMRPipe SeriesTab file. The spin assignment column 'ASS' is set to 'None'. Setting to A9N-HN.\r\n",
      "RelaxWarning: Improperly formatted NMRPipe SeriesTab file. The spin assignment column 'ASS' is set to 'None'. Setting to A10N-HN.\r\n",
      "RelaxWarning: Improperly formatted NMRPipe SeriesTab file. The spin assignment column 'ASS' is set to 'None'. Setting to A11N-HN.\r\n",
      "RelaxWarning: Improperly formatted NMRPipe SeriesTab file. The spin assignment column 'ASS' is set to 'None'. Setting to A12N-HN.\r\n",
      "RelaxWarning: Improperly formatted NMRPipe SeriesTab file. The spin assignment column 'ASS' is set to 'None'. Setting to A13N-HN.\r\n",
      "RelaxWarning: Improperly formatted NMRPipe SeriesTab file. The spin assignment column 'ASS' is set to 'None'. Setting to A14N-HN.\r\n",
      "RelaxWarning: Improperly formatted NMRPipe SeriesTab file. The spin assignment column 'ASS' is set to 'None'. Setting to A15N-HN.\r\n",
      "RelaxWarning: Improperly formatted NMRPipe SeriesTab file. The spin assignment column 'ASS' is set to 'None'. Setting to A16N-HN.\r\n",
      "RelaxWarning: Improperly formatted NMRPipe SeriesTab file. The spin assignment column 'ASS' is set to 'None'. Setting to A17N-HN.\r\n",
      "RelaxWarning: Improperly formatted NMRPipe SeriesTab file. The spin assignment column 'ASS' is set to 'None'. Setting to A18N-HN.\r\n",
      "RelaxWarning: Improperly formatted NMRPipe SeriesTab file. The spin assignment column 'ASS' is set to 'None'. Setting to A19N-HN.\r\n",
      "RelaxWarning: Improperly formatted NMRPipe SeriesTab file. The spin assignment column 'ASS' is set to 'None'. Setting to A21N-HN.\r\n",
      "RelaxWarning: Improperly formatted NMRPipe SeriesTab file. The spin assignment column 'ASS' is set to 'None'. Setting to A22N-HN.\r\n",
      "RelaxWarning: Improperly formatted NMRPipe SeriesTab file. The spin assignment column 'ASS' is set to 'None'. Setting to A23N-HN.\r\n",
      "RelaxWarning: Improperly formatted NMRPipe SeriesTab file. The spin assignment column 'ASS' is set to 'None'. Setting to A24N-HN.\r\n",
      "RelaxWarning: Improperly formatted NMRPipe SeriesTab file. The spin assignment column 'ASS' is set to 'None'. Setting to A26N-HN.\r\n",
      "RelaxWarning: Improperly formatted NMRPipe SeriesTab file. The spin assignment column 'ASS' is set to 'None'. Setting to A27N-HN.\r\n",
      "RelaxWarning: Improperly formatted NMRPipe SeriesTab file. The spin assignment column 'ASS' is set to 'None'. Setting to A28N-HN.\r\n",
      "RelaxWarning: Improperly formatted NMRPipe SeriesTab file. The spin assignment column 'ASS' is set to 'None'. Setting to A29N-HN.\r\n",
      "RelaxWarning: Improperly formatted NMRPipe SeriesTab file. The spin assignment column 'ASS' is set to 'None'. Setting to A30N-HN.\r\n",
      "RelaxWarning: Improperly formatted NMRPipe SeriesTab file. The spin assignment column 'ASS' is set to 'None'. Setting to A31N-HN.\r\n",
      "RelaxWarning: Improperly formatted NMRPipe SeriesTab file. The spin assignment column 'ASS' is set to 'None'. Setting to A32N-HN.\r\n",
      "RelaxWarning: Improperly formatted NMRPipe SeriesTab file. The spin assignment column 'ASS' is set to 'None'. Setting to A33N-HN.\r\n",
      "RelaxWarning: Improperly formatted NMRPipe SeriesTab file. The spin assignment column 'ASS' is set to 'None'. Setting to A34N-HN.\r\n",
      "RelaxWarning: Improperly formatted NMRPipe SeriesTab file. The spin assignment column 'ASS' is set to 'None'. Setting to A35N-HN.\r\n",
      "RelaxWarning: Improperly formatted NMRPipe SeriesTab file. The spin assignment column 'ASS' is set to 'None'. Setting to A38N-HN.\r\n",
      "RelaxWarning: Improperly formatted NMRPipe SeriesTab file. The spin assignment column 'ASS' is set to 'None'. Setting to A40N-HN.\r\n",
      "RelaxWarning: Improperly formatted NMRPipe SeriesTab file. The spin assignment column 'ASS' is set to 'None'. Setting to A41N-HN.\r\n",
      "RelaxWarning: Improperly formatted NMRPipe SeriesTab file. The spin assignment column 'ASS' is set to 'None'. Setting to A42N-HN.\r\n",
      "RelaxWarning: Improperly formatted NMRPipe SeriesTab file. The spin assignment column 'ASS' is set to 'None'. Setting to A43N-HN.\r\n",
      "RelaxWarning: Improperly formatted NMRPipe SeriesTab file. The spin assignment column 'ASS' is set to 'None'. Setting to A44N-HN.\r\n",
      "RelaxWarning: Improperly formatted NMRPipe SeriesTab file. The spin assignment column 'ASS' is set to 'None'. Setting to A45N-HN.\r\n",
      "RelaxWarning: Improperly formatted NMRPipe SeriesTab file. The spin assignment column 'ASS' is set to 'None'. Setting to A47N-HN.\r\n",
      "RelaxWarning: Improperly formatted NMRPipe SeriesTab file. The spin assignment column 'ASS' is set to 'None'. Setting to A48N-HN.\r\n",
      "RelaxWarning: Improperly formatted NMRPipe SeriesTab file. The spin assignment column 'ASS' is set to 'None'. Setting to A49N-HN.\r\n",
      "RelaxWarning: Improperly formatted NMRPipe SeriesTab file. The spin assignment column 'ASS' is set to 'None'. Setting to A50N-HN.\r\n",
      "RelaxWarning: Improperly formatted NMRPipe SeriesTab file. The spin assignment column 'ASS' is set to 'None'. Setting to A51N-HN.\r\n",
      "RelaxWarning: Improperly formatted NMRPipe SeriesTab file. The spin assignment column 'ASS' is set to 'None'. Setting to A52N-HN.\r\n",
      "RelaxWarning: Improperly formatted NMRPipe SeriesTab file. The spin assignment column 'ASS' is set to 'None'. Setting to A53N-HN.\r\n",
      "RelaxWarning: Improperly formatted NMRPipe SeriesTab file. The spin assignment column 'ASS' is set to 'None'. Setting to A54N-HN.\r\n",
      "RelaxWarning: Improperly formatted NMRPipe SeriesTab file. The spin assignment column 'ASS' is set to 'None'. Setting to A55N-HN.\r\n",
      "RelaxWarning: Improperly formatted NMRPipe SeriesTab file. The spin assignment column 'ASS' is set to 'None'. Setting to A57N-HN.\r\n",
      "RelaxWarning: Improperly formatted NMRPipe SeriesTab file. The spin assignment column 'ASS' is set to 'None'. Setting to A58N-HN.\r\n",
      "RelaxWarning: Improperly formatted NMRPipe SeriesTab file. The spin assignment column 'ASS' is set to 'None'. Setting to A59N-HN.\r\n",
      "RelaxWarning: Improperly formatted NMRPipe SeriesTab file. The spin assignment column 'ASS' is set to 'None'. Setting to A60N-HN.\r\n",
      "RelaxWarning: Improperly formatted NMRPipe SeriesTab file. The spin assignment column 'ASS' is set to 'None'. Setting to A61N-HN.\r\n",
      "RelaxWarning: Improperly formatted NMRPipe SeriesTab file. The spin assignment column 'ASS' is set to 'None'. Setting to A62N-HN.\r\n",
      "RelaxWarning: Improperly formatted NMRPipe SeriesTab file. The spin assignment column 'ASS' is set to 'None'. Setting to A63N-HN.\r\n",
      "RelaxWarning: Improperly formatted NMRPipe SeriesTab file. The spin assignment column 'ASS' is set to 'None'. Setting to A64N-HN.\r\n",
      "RelaxWarning: Improperly formatted NMRPipe SeriesTab file. The spin assignment column 'ASS' is set to 'None'. Setting to A65N-HN.\r\n",
      "RelaxWarning: Improperly formatted NMRPipe SeriesTab file. The spin assignment column 'ASS' is set to 'None'. Setting to A66N-HN.\r\n",
      "RelaxWarning: Improperly formatted NMRPipe SeriesTab file. The spin assignment column 'ASS' is set to 'None'. Setting to A67N-HN.\r\n",
      "RelaxWarning: Improperly formatted NMRPipe SeriesTab file. The spin assignment column 'ASS' is set to 'None'. Setting to A68N-HN.\r\n",
      "RelaxWarning: Improperly formatted NMRPipe SeriesTab file. The spin assignment column 'ASS' is set to 'None'. Setting to A70N-HN.\r\n",
      "RelaxWarning: Improperly formatted NMRPipe SeriesTab file. The spin assignment column 'ASS' is set to 'None'. Setting to A71N-HN.\r\n",
      "RelaxWarning: Improperly formatted NMRPipe SeriesTab file. The spin assignment column 'ASS' is set to 'None'. Setting to A72N-HN.\r\n",
      "RelaxWarning: Improperly formatted NMRPipe SeriesTab file. The spin assignment column 'ASS' is set to 'None'. Setting to A73N-HN.\r\n",
      "RelaxWarning: Improperly formatted NMRPipe SeriesTab file. The spin assignment column 'ASS' is set to 'None'. Setting to A74N-HN.\r\n",
      "RelaxWarning: Improperly formatted NMRPipe SeriesTab file. The spin assignment column 'ASS' is set to 'None'. Setting to A75N-HN.\r\n",
      "RelaxWarning: Improperly formatted NMRPipe SeriesTab file. The spin assignment column 'ASS' is set to 'None'. Setting to A76N-HN.\r\n",
      "RelaxWarning: Improperly formatted NMRPipe SeriesTab file. The spin assignment column 'ASS' is set to 'None'. Setting to A77N-HN.\r\n",
      "RelaxWarning: Improperly formatted NMRPipe SeriesTab file. The spin assignment column 'ASS' is set to 'None'. Setting to A78N-HN.\r\n",
      "RelaxWarning: Improperly formatted NMRPipe SeriesTab file. The spin assignment column 'ASS' is set to 'None'. Setting to A79N-HN.\r\n",
      "RelaxWarning: Improperly formatted NMRPipe SeriesTab file. The spin assignment column 'ASS' is set to 'None'. Setting to A80N-HN.\r\n",
      "RelaxWarning: Improperly formatted NMRPipe SeriesTab file. The spin assignment column 'ASS' is set to 'None'. Setting to A81N-HN.\r\n",
      "RelaxWarning: Improperly formatted NMRPipe SeriesTab file. The spin assignment column 'ASS' is set to 'None'. Setting to A82N-HN.\r\n",
      "RelaxWarning: Improperly formatted NMRPipe SeriesTab file. The spin assignment column 'ASS' is set to 'None'. Setting to A83N-HN.\r\n",
      "RelaxWarning: Improperly formatted NMRPipe SeriesTab file. The spin assignment column 'ASS' is set to 'None'. Setting to A84N-HN.\r\n",
      "RelaxWarning: Improperly formatted NMRPipe SeriesTab file. The spin assignment column 'ASS' is set to 'None'. Setting to A85N-HN.\r\n",
      "RelaxWarning: Improperly formatted NMRPipe SeriesTab file. The spin assignment column 'ASS' is set to 'None'. Setting to A86N-HN.\r\n",
      "RelaxWarning: Improperly formatted NMRPipe SeriesTab file. The spin assignment column 'ASS' is set to 'None'. Setting to A87N-HN.\r\n",
      "RelaxWarning: Improperly formatted NMRPipe SeriesTab file. The spin assignment column 'ASS' is set to 'None'. Setting to A88N-HN.\r\n",
      "RelaxWarning: Improperly formatted NMRPipe SeriesTab file. The spin assignment column 'ASS' is set to 'None'. Setting to A89N-HN.\r\n",
      "RelaxWarning: Improperly formatted NMRPipe SeriesTab file. The spin assignment column 'ASS' is set to 'None'. Setting to A90N-HN.\r\n",
      "RelaxWarning: Improperly formatted NMRPipe SeriesTab file. The spin assignment column 'ASS' is set to 'None'. Setting to A91N-HN.\r\n",
      "RelaxWarning: Improperly formatted NMRPipe SeriesTab file. The spin assignment column 'ASS' is set to 'None'. Setting to A92N-HN.\r\n",
      "RelaxWarning: Improperly formatted NMRPipe SeriesTab file. The spin assignment column 'ASS' is set to 'None'. Setting to A93N-HN.\r\n",
      "RelaxWarning: Improperly formatted NMRPipe SeriesTab file. The spin assignment column 'ASS' is set to 'None'. Setting to A95N-HN.\r\n",
      "RelaxWarning: Improperly formatted NMRPipe SeriesTab file. The spin assignment column 'ASS' is set to 'None'. Setting to A96N-HN.\r\n",
      "RelaxWarning: The int_col is set to 'None'. Looking for the 'HEIGHT' index.\r\n",
      "RelaxWarning: The int_col is set to '18' from the 'HEIGHT' index.\r\n",
      "RelaxWarning: Improperly formatted NMRPipe SeriesTab file. The spin assignment column 'ASS' is set to 'None'. Setting to A1N-HN.\r\n",
      "RelaxWarning: Improperly formatted NMRPipe SeriesTab file. The spin assignment column 'ASS' is set to 'None'. Setting to A2N-HN.\r\n",
      "RelaxWarning: Improperly formatted NMRPipe SeriesTab file. The spin assignment column 'ASS' is set to 'None'. Setting to A3N-HN.\r\n",
      "RelaxWarning: Improperly formatted NMRPipe SeriesTab file. The spin assignment column 'ASS' is set to 'None'. Setting to A4N-HN.\r\n",
      "RelaxWarning: Improperly formatted NMRPipe SeriesTab file. The spin assignment column 'ASS' is set to 'None'. Setting to A5N-HN.\r\n",
      "RelaxWarning: Improperly formatted NMRPipe SeriesTab file. The spin assignment column 'ASS' is set to 'None'. Setting to A6N-HN.\r\n",
      "RelaxWarning: Improperly formatted NMRPipe SeriesTab file. The spin assignment column 'ASS' is set to 'None'. Setting to A8N-HN.\r\n",
      "RelaxWarning: Improperly formatted NMRPipe SeriesTab file. The spin assignment column 'ASS' is set to 'None'. Setting to A9N-HN.\r\n",
      "RelaxWarning: Improperly formatted NMRPipe SeriesTab file. The spin assignment column 'ASS' is set to 'None'. Setting to A10N-HN.\r\n",
      "RelaxWarning: Improperly formatted NMRPipe SeriesTab file. The spin assignment column 'ASS' is set to 'None'. Setting to A11N-HN.\r\n",
      "RelaxWarning: Improperly formatted NMRPipe SeriesTab file. The spin assignment column 'ASS' is set to 'None'. Setting to A12N-HN.\r\n",
      "RelaxWarning: Improperly formatted NMRPipe SeriesTab file. The spin assignment column 'ASS' is set to 'None'. Setting to A13N-HN.\r\n",
      "RelaxWarning: Improperly formatted NMRPipe SeriesTab file. The spin assignment column 'ASS' is set to 'None'. Setting to A14N-HN.\r\n",
      "RelaxWarning: Improperly formatted NMRPipe SeriesTab file. The spin assignment column 'ASS' is set to 'None'. Setting to A15N-HN.\r\n",
      "RelaxWarning: Improperly formatted NMRPipe SeriesTab file. The spin assignment column 'ASS' is set to 'None'. Setting to A16N-HN.\r\n",
      "RelaxWarning: Improperly formatted NMRPipe SeriesTab file. The spin assignment column 'ASS' is set to 'None'. Setting to A17N-HN.\r\n",
      "RelaxWarning: Improperly formatted NMRPipe SeriesTab file. The spin assignment column 'ASS' is set to 'None'. Setting to A18N-HN.\r\n",
      "RelaxWarning: Improperly formatted NMRPipe SeriesTab file. The spin assignment column 'ASS' is set to 'None'. Setting to A19N-HN.\r\n",
      "RelaxWarning: Improperly formatted NMRPipe SeriesTab file. The spin assignment column 'ASS' is set to 'None'. Setting to A21N-HN.\r\n",
      "RelaxWarning: Improperly formatted NMRPipe SeriesTab file. The spin assignment column 'ASS' is set to 'None'. Setting to A22N-HN.\r\n",
      "RelaxWarning: Improperly formatted NMRPipe SeriesTab file. The spin assignment column 'ASS' is set to 'None'. Setting to A23N-HN.\r\n",
      "RelaxWarning: Improperly formatted NMRPipe SeriesTab file. The spin assignment column 'ASS' is set to 'None'. Setting to A24N-HN.\r\n",
      "RelaxWarning: Improperly formatted NMRPipe SeriesTab file. The spin assignment column 'ASS' is set to 'None'. Setting to A26N-HN.\r\n",
      "RelaxWarning: Improperly formatted NMRPipe SeriesTab file. The spin assignment column 'ASS' is set to 'None'. Setting to A27N-HN.\r\n",
      "RelaxWarning: Improperly formatted NMRPipe SeriesTab file. The spin assignment column 'ASS' is set to 'None'. Setting to A28N-HN.\r\n",
      "RelaxWarning: Improperly formatted NMRPipe SeriesTab file. The spin assignment column 'ASS' is set to 'None'. Setting to A29N-HN.\r\n",
      "RelaxWarning: Improperly formatted NMRPipe SeriesTab file. The spin assignment column 'ASS' is set to 'None'. Setting to A30N-HN.\r\n",
      "RelaxWarning: Improperly formatted NMRPipe SeriesTab file. The spin assignment column 'ASS' is set to 'None'. Setting to A31N-HN.\r\n",
      "RelaxWarning: Improperly formatted NMRPipe SeriesTab file. The spin assignment column 'ASS' is set to 'None'. Setting to A32N-HN.\r\n",
      "RelaxWarning: Improperly formatted NMRPipe SeriesTab file. The spin assignment column 'ASS' is set to 'None'. Setting to A33N-HN.\r\n",
      "RelaxWarning: Improperly formatted NMRPipe SeriesTab file. The spin assignment column 'ASS' is set to 'None'. Setting to A34N-HN.\r\n",
      "RelaxWarning: Improperly formatted NMRPipe SeriesTab file. The spin assignment column 'ASS' is set to 'None'. Setting to A35N-HN.\r\n",
      "RelaxWarning: Improperly formatted NMRPipe SeriesTab file. The spin assignment column 'ASS' is set to 'None'. Setting to A38N-HN.\r\n",
      "RelaxWarning: Improperly formatted NMRPipe SeriesTab file. The spin assignment column 'ASS' is set to 'None'. Setting to A40N-HN.\r\n",
      "RelaxWarning: Improperly formatted NMRPipe SeriesTab file. The spin assignment column 'ASS' is set to 'None'. Setting to A41N-HN.\r\n",
      "RelaxWarning: Improperly formatted NMRPipe SeriesTab file. The spin assignment column 'ASS' is set to 'None'. Setting to A42N-HN.\r\n",
      "RelaxWarning: Improperly formatted NMRPipe SeriesTab file. The spin assignment column 'ASS' is set to 'None'. Setting to A43N-HN.\r\n",
      "RelaxWarning: Improperly formatted NMRPipe SeriesTab file. The spin assignment column 'ASS' is set to 'None'. Setting to A44N-HN.\r\n",
      "RelaxWarning: Improperly formatted NMRPipe SeriesTab file. The spin assignment column 'ASS' is set to 'None'. Setting to A45N-HN.\r\n",
      "RelaxWarning: Improperly formatted NMRPipe SeriesTab file. The spin assignment column 'ASS' is set to 'None'. Setting to A47N-HN.\r\n",
      "RelaxWarning: Improperly formatted NMRPipe SeriesTab file. The spin assignment column 'ASS' is set to 'None'. Setting to A48N-HN.\r\n",
      "RelaxWarning: Improperly formatted NMRPipe SeriesTab file. The spin assignment column 'ASS' is set to 'None'. Setting to A49N-HN.\r\n",
      "RelaxWarning: Improperly formatted NMRPipe SeriesTab file. The spin assignment column 'ASS' is set to 'None'. Setting to A50N-HN.\r\n",
      "RelaxWarning: Improperly formatted NMRPipe SeriesTab file. The spin assignment column 'ASS' is set to 'None'. Setting to A51N-HN.\r\n",
      "RelaxWarning: Improperly formatted NMRPipe SeriesTab file. The spin assignment column 'ASS' is set to 'None'. Setting to A52N-HN.\r\n",
      "RelaxWarning: Improperly formatted NMRPipe SeriesTab file. The spin assignment column 'ASS' is set to 'None'. Setting to A53N-HN.\r\n",
      "RelaxWarning: Improperly formatted NMRPipe SeriesTab file. The spin assignment column 'ASS' is set to 'None'. Setting to A54N-HN.\r\n",
      "RelaxWarning: Improperly formatted NMRPipe SeriesTab file. The spin assignment column 'ASS' is set to 'None'. Setting to A55N-HN.\r\n",
      "RelaxWarning: Improperly formatted NMRPipe SeriesTab file. The spin assignment column 'ASS' is set to 'None'. Setting to A57N-HN.\r\n",
      "RelaxWarning: Improperly formatted NMRPipe SeriesTab file. The spin assignment column 'ASS' is set to 'None'. Setting to A58N-HN.\r\n",
      "RelaxWarning: Improperly formatted NMRPipe SeriesTab file. The spin assignment column 'ASS' is set to 'None'. Setting to A59N-HN.\r\n",
      "RelaxWarning: Improperly formatted NMRPipe SeriesTab file. The spin assignment column 'ASS' is set to 'None'. Setting to A60N-HN.\r\n",
      "RelaxWarning: Improperly formatted NMRPipe SeriesTab file. The spin assignment column 'ASS' is set to 'None'. Setting to A61N-HN.\r\n",
      "RelaxWarning: Improperly formatted NMRPipe SeriesTab file. The spin assignment column 'ASS' is set to 'None'. Setting to A62N-HN.\r\n",
      "RelaxWarning: Improperly formatted NMRPipe SeriesTab file. The spin assignment column 'ASS' is set to 'None'. Setting to A63N-HN.\r\n",
      "RelaxWarning: Improperly formatted NMRPipe SeriesTab file. The spin assignment column 'ASS' is set to 'None'. Setting to A64N-HN.\r\n",
      "RelaxWarning: Improperly formatted NMRPipe SeriesTab file. The spin assignment column 'ASS' is set to 'None'. Setting to A65N-HN.\r\n",
      "RelaxWarning: Improperly formatted NMRPipe SeriesTab file. The spin assignment column 'ASS' is set to 'None'. Setting to A66N-HN.\r\n",
      "RelaxWarning: Improperly formatted NMRPipe SeriesTab file. The spin assignment column 'ASS' is set to 'None'. Setting to A67N-HN.\r\n",
      "RelaxWarning: Improperly formatted NMRPipe SeriesTab file. The spin assignment column 'ASS' is set to 'None'. Setting to A68N-HN.\r\n",
      "RelaxWarning: Improperly formatted NMRPipe SeriesTab file. The spin assignment column 'ASS' is set to 'None'. Setting to A70N-HN.\r\n",
      "RelaxWarning: Improperly formatted NMRPipe SeriesTab file. The spin assignment column 'ASS' is set to 'None'. Setting to A71N-HN.\r\n",
      "RelaxWarning: Improperly formatted NMRPipe SeriesTab file. The spin assignment column 'ASS' is set to 'None'. Setting to A72N-HN.\r\n",
      "RelaxWarning: Improperly formatted NMRPipe SeriesTab file. The spin assignment column 'ASS' is set to 'None'. Setting to A73N-HN.\r\n",
      "RelaxWarning: Improperly formatted NMRPipe SeriesTab file. The spin assignment column 'ASS' is set to 'None'. Setting to A74N-HN.\r\n",
      "RelaxWarning: Improperly formatted NMRPipe SeriesTab file. The spin assignment column 'ASS' is set to 'None'. Setting to A75N-HN.\r\n",
      "RelaxWarning: Improperly formatted NMRPipe SeriesTab file. The spin assignment column 'ASS' is set to 'None'. Setting to A76N-HN.\r\n",
      "RelaxWarning: Improperly formatted NMRPipe SeriesTab file. The spin assignment column 'ASS' is set to 'None'. Setting to A77N-HN.\r\n",
      "RelaxWarning: Improperly formatted NMRPipe SeriesTab file. The spin assignment column 'ASS' is set to 'None'. Setting to A78N-HN.\r\n",
      "RelaxWarning: Improperly formatted NMRPipe SeriesTab file. The spin assignment column 'ASS' is set to 'None'. Setting to A79N-HN.\r\n",
      "RelaxWarning: Improperly formatted NMRPipe SeriesTab file. The spin assignment column 'ASS' is set to 'None'. Setting to A80N-HN.\r\n",
      "RelaxWarning: Improperly formatted NMRPipe SeriesTab file. The spin assignment column 'ASS' is set to 'None'. Setting to A81N-HN.\r\n",
      "RelaxWarning: Improperly formatted NMRPipe SeriesTab file. The spin assignment column 'ASS' is set to 'None'. Setting to A82N-HN.\r\n",
      "RelaxWarning: Improperly formatted NMRPipe SeriesTab file. The spin assignment column 'ASS' is set to 'None'. Setting to A83N-HN.\r\n",
      "RelaxWarning: Improperly formatted NMRPipe SeriesTab file. The spin assignment column 'ASS' is set to 'None'. Setting to A84N-HN.\r\n",
      "RelaxWarning: Improperly formatted NMRPipe SeriesTab file. The spin assignment column 'ASS' is set to 'None'. Setting to A85N-HN.\r\n",
      "RelaxWarning: Improperly formatted NMRPipe SeriesTab file. The spin assignment column 'ASS' is set to 'None'. Setting to A86N-HN.\r\n",
      "RelaxWarning: Improperly formatted NMRPipe SeriesTab file. The spin assignment column 'ASS' is set to 'None'. Setting to A87N-HN.\r\n",
      "RelaxWarning: Improperly formatted NMRPipe SeriesTab file. The spin assignment column 'ASS' is set to 'None'. Setting to A88N-HN.\r\n",
      "RelaxWarning: Improperly formatted NMRPipe SeriesTab file. The spin assignment column 'ASS' is set to 'None'. Setting to A89N-HN.\r\n",
      "RelaxWarning: Improperly formatted NMRPipe SeriesTab file. The spin assignment column 'ASS' is set to 'None'. Setting to A90N-HN.\r\n",
      "RelaxWarning: Improperly formatted NMRPipe SeriesTab file. The spin assignment column 'ASS' is set to 'None'. Setting to A91N-HN.\r\n",
      "RelaxWarning: Improperly formatted NMRPipe SeriesTab file. The spin assignment column 'ASS' is set to 'None'. Setting to A92N-HN.\r\n",
      "RelaxWarning: Improperly formatted NMRPipe SeriesTab file. The spin assignment column 'ASS' is set to 'None'. Setting to A93N-HN.\r\n",
      "RelaxWarning: Improperly formatted NMRPipe SeriesTab file. The spin assignment column 'ASS' is set to 'None'. Setting to A95N-HN.\r\n",
      "RelaxWarning: Improperly formatted NMRPipe SeriesTab file. The spin assignment column 'ASS' is set to 'None'. Setting to A96N-HN.\r\n",
      "============================================================\r\n",
      "= Completion of the relaxation curve-fitting auto-analysis =\r\n",
      "============================================================\r\n",
      "\r\n",
      "Elapsed time:  4.348 seconds\r\n",
      "\r\n",
      "\r\n",
      "relax> state.save(state='done_state', dir=None, compress_type=1, force=True)\r\n",
      "Opening the file 'done_state.bz2' for writing.\r\n",
      "\r\n"
     ]
    }
   ],
   "source": [
    "! rm -rf relax_01.log\n",
    "\n",
    "# To noisy\n",
    "#! relax relax_01.py -t relax_01.log\n",
    "\n",
    "# Out to log\n",
    "! relax relax_01.py -l relax_01.log"
   ]
  },
  {
   "cell_type": "code",
   "execution_count": 19,
   "metadata": {},
   "outputs": [
    {
     "name": "stdout",
     "output_type": "stream",
     "text": [
      "============================================================\r\n",
      "= Completion of the relaxation curve-fitting auto-analysis =\r\n",
      "============================================================\r\n",
      "\r\n",
      "Elapsed time:  4.348 seconds\r\n",
      "\r\n",
      "\r\n",
      "relax> state.save(state='done_state', dir=None, compress_type=1, force=True)\r\n",
      "Opening the file 'done_state.bz2' for writing.\r\n",
      "\r\n"
     ]
    }
   ],
   "source": [
    "# See the log\n",
    "! tail -n 10 relax_01.log"
   ]
  },
  {
   "cell_type": "markdown",
   "metadata": {},
   "source": [
    "# Make xmgrace images\n",
    "relax make a grace2images script to make PNG images."
   ]
  },
  {
   "cell_type": "code",
   "execution_count": 20,
   "metadata": {},
   "outputs": [
    {
     "name": "stdout",
     "output_type": "stream",
     "text": [
      "Converting 'chi2.agr' into a portable network graphics (PNG) graphic.\n",
      "Converting 'i0.agr' into a portable network graphics (PNG) graphic.\n",
      "Converting 'intensities.agr' into a portable network graphics (PNG) graphic.\n",
      "Converting 'intensities_norm.agr' into a portable network graphics (PNG) graphic.\n",
      "Converting 'None_10_A.agr' into a portable network graphics (PNG) graphic.\n",
      "Converting 'None_11_A.agr' into a portable network graphics (PNG) graphic.\n",
      "Converting 'None_12_A.agr' into a portable network graphics (PNG) graphic.\n",
      "Converting 'None_13_A.agr' into a portable network graphics (PNG) graphic.\n",
      "Converting 'None_14_A.agr' into a portable network graphics (PNG) graphic.\n",
      "Converting 'None_15_A.agr' into a portable network graphics (PNG) graphic.\n",
      "Converting 'None_16_A.agr' into a portable network graphics (PNG) graphic.\n",
      "Converting 'None_17_A.agr' into a portable network graphics (PNG) graphic.\n",
      "Converting 'None_18_A.agr' into a portable network graphics (PNG) graphic.\n",
      "Converting 'None_19_A.agr' into a portable network graphics (PNG) graphic.\n",
      "Converting 'None_21_A.agr' into a portable network graphics (PNG) graphic.\n",
      "Converting 'None_22_A.agr' into a portable network graphics (PNG) graphic.\n",
      "Converting 'None_23_A.agr' into a portable network graphics (PNG) graphic.\n",
      "Converting 'None_24_A.agr' into a portable network graphics (PNG) graphic.\n",
      "Converting 'None_26_A.agr' into a portable network graphics (PNG) graphic.\n",
      "Converting 'None_27_A.agr' into a portable network graphics (PNG) graphic.\n",
      "Converting 'None_28_A.agr' into a portable network graphics (PNG) graphic.\n",
      "Converting 'None_29_A.agr' into a portable network graphics (PNG) graphic.\n",
      "Converting 'None_30_A.agr' into a portable network graphics (PNG) graphic.\n",
      "Converting 'None_31_A.agr' into a portable network graphics (PNG) graphic.\n",
      "Converting 'None_32_A.agr' into a portable network graphics (PNG) graphic.\n",
      "Converting 'None_33_A.agr' into a portable network graphics (PNG) graphic.\n",
      "Converting 'None_34_A.agr' into a portable network graphics (PNG) graphic.\n",
      "Converting 'None_35_A.agr' into a portable network graphics (PNG) graphic.\n",
      "Converting 'None_38_A.agr' into a portable network graphics (PNG) graphic.\n",
      "Converting 'None_40_A.agr' into a portable network graphics (PNG) graphic.\n",
      "Converting 'None_41_A.agr' into a portable network graphics (PNG) graphic.\n",
      "Converting 'None_43_A.agr' into a portable network graphics (PNG) graphic.\n",
      "Converting 'None_44_A.agr' into a portable network graphics (PNG) graphic.\n",
      "Converting 'None_45_A.agr' into a portable network graphics (PNG) graphic.\n",
      "Converting 'None_47_A.agr' into a portable network graphics (PNG) graphic.\n",
      "Converting 'None_48_A.agr' into a portable network graphics (PNG) graphic.\n",
      "Converting 'None_49_A.agr' into a portable network graphics (PNG) graphic.\n",
      "Converting 'None_4_A.agr' into a portable network graphics (PNG) graphic.\n",
      "Converting 'None_50_A.agr' into a portable network graphics (PNG) graphic.\n",
      "Converting 'None_51_A.agr' into a portable network graphics (PNG) graphic.\n",
      "Converting 'None_52_A.agr' into a portable network graphics (PNG) graphic.\n",
      "Converting 'None_53_A.agr' into a portable network graphics (PNG) graphic.\n",
      "Converting 'None_54_A.agr' into a portable network graphics (PNG) graphic.\n",
      "Converting 'None_55_A.agr' into a portable network graphics (PNG) graphic.\n",
      "Converting 'None_57_A.agr' into a portable network graphics (PNG) graphic.\n",
      "Converting 'None_58_A.agr' into a portable network graphics (PNG) graphic.\n",
      "Converting 'None_59_A.agr' into a portable network graphics (PNG) graphic.\n",
      "Converting 'None_5_A.agr' into a portable network graphics (PNG) graphic.\n",
      "Converting 'None_60_A.agr' into a portable network graphics (PNG) graphic.\n",
      "Converting 'None_61_A.agr' into a portable network graphics (PNG) graphic.\n",
      "Converting 'None_62_A.agr' into a portable network graphics (PNG) graphic.\n",
      "Converting 'None_63_A.agr' into a portable network graphics (PNG) graphic.\n",
      "Converting 'None_64_A.agr' into a portable network graphics (PNG) graphic.\n",
      "Converting 'None_65_A.agr' into a portable network graphics (PNG) graphic.\n",
      "Converting 'None_66_A.agr' into a portable network graphics (PNG) graphic.\n",
      "Converting 'None_67_A.agr' into a portable network graphics (PNG) graphic.\n",
      "Converting 'None_68_A.agr' into a portable network graphics (PNG) graphic.\n",
      "Converting 'None_6_A.agr' into a portable network graphics (PNG) graphic.\n",
      "Converting 'None_70_A.agr' into a portable network graphics (PNG) graphic.\n",
      "Converting 'None_71_A.agr' into a portable network graphics (PNG) graphic.\n",
      "Converting 'None_72_A.agr' into a portable network graphics (PNG) graphic.\n",
      "Converting 'None_73_A.agr' into a portable network graphics (PNG) graphic.\n",
      "Converting 'None_74_A.agr' into a portable network graphics (PNG) graphic.\n",
      "Converting 'None_75_A.agr' into a portable network graphics (PNG) graphic.\n",
      "Converting 'None_76_A.agr' into a portable network graphics (PNG) graphic.\n",
      "Converting 'None_79_A.agr' into a portable network graphics (PNG) graphic.\n",
      "Converting 'None_80_A.agr' into a portable network graphics (PNG) graphic.\n",
      "Converting 'None_81_A.agr' into a portable network graphics (PNG) graphic.\n",
      "Converting 'None_82_A.agr' into a portable network graphics (PNG) graphic.\n",
      "Converting 'None_83_A.agr' into a portable network graphics (PNG) graphic.\n",
      "Converting 'None_84_A.agr' into a portable network graphics (PNG) graphic.\n",
      "Converting 'None_85_A.agr' into a portable network graphics (PNG) graphic.\n",
      "Converting 'None_86_A.agr' into a portable network graphics (PNG) graphic.\n",
      "Converting 'None_87_A.agr' into a portable network graphics (PNG) graphic.\n",
      "Converting 'None_88_A.agr' into a portable network graphics (PNG) graphic.\n",
      "Converting 'None_89_A.agr' into a portable network graphics (PNG) graphic.\n",
      "Converting 'None_8_A.agr' into a portable network graphics (PNG) graphic.\n",
      "Converting 'None_90_A.agr' into a portable network graphics (PNG) graphic.\n",
      "Converting 'None_91_A.agr' into a portable network graphics (PNG) graphic.\n",
      "Converting 'None_92_A.agr' into a portable network graphics (PNG) graphic.\n",
      "Converting 'None_93_A.agr' into a portable network graphics (PNG) graphic.\n",
      "Converting 'None_95_A.agr' into a portable network graphics (PNG) graphic.\n",
      "Converting 'None_96_A.agr' into a portable network graphics (PNG) graphic.\n",
      "Converting 'None_9_A.agr' into a portable network graphics (PNG) graphic.\n",
      "Converting 'Rx.agr' into a portable network graphics (PNG) graphic.\n"
     ]
    },
    {
     "name": "stderr",
     "output_type": "stream",
     "text": [
      "Output is truncated - tune device dimensions\n",
      "Output is truncated - tune device dimensions\n"
     ]
    }
   ],
   "source": [
    "%%bash\n",
    "# Make images\n",
    "cd relax_res/grace\n",
    "python grace2images.py PNG"
   ]
  },
  {
   "cell_type": "markdown",
   "metadata": {},
   "source": [
    "relax_res/grace/intensities.png\n",
    "![intensities](./relax_res/grace/intensities.png)"
   ]
  },
  {
   "cell_type": "markdown",
   "metadata": {},
   "source": [
    "relax_res/grace/Rx.png\n",
    "![Rx](./relax_res/grace/Rx.png)"
   ]
  },
  {
   "cell_type": "markdown",
   "metadata": {},
   "source": [
    "# Make more graphs"
   ]
  },
  {
   "cell_type": "code",
   "execution_count": 15,
   "metadata": {},
   "outputs": [],
   "source": [
    "# Make a script file for relax\n",
    "txtout = r\"\"\"\n",
    "from pipe_control.mol_res_spin import spin_loop\n",
    "state.load(\"done_state\", force=True)\n",
    "\n",
    "outdir = \"relax_res/grace\"\n",
    "\n",
    "# Loop over spins\n",
    "for c_s, c_s_mol, c_s_resi, c_s_resn, c_s_id in spin_loop(full_info=True, return_id=True, skip_desel=True):\n",
    "    fname = \"%s_%s_%s.agr\"%(c_s_mol, c_s_resi, c_s_resn)\n",
    "    grace.write(x_data_type='relax_times', y_data_type='peak_intensity', spin_id=c_s_id, plot_data='value', file=fname, dir=outdir, force=True, norm=False)\n",
    "\"\"\"\n",
    "\n",
    "# write file\n",
    "with open('relax_02.py', \"w\") as f:\n",
    "    f.write(txtout)"
   ]
  },
  {
   "cell_type": "code",
   "execution_count": 16,
   "metadata": {},
   "outputs": [
    {
     "name": "stdout",
     "output_type": "stream",
     "text": [
      "\r\n",
      "from pipe_control.mol_res_spin import spin_loop\r\n",
      "state.load(\"done_state\", force=True)\r\n",
      "\r\n",
      "outdir = \"relax_res/grace\"\r\n",
      "\r\n",
      "# Loop over spins\r\n",
      "for c_s, c_s_mol, c_s_resi, c_s_resn, c_s_id in spin_loop(full_info=True, return_id=True, skip_desel=True):\r\n",
      "    fname = \"%s_%s_%s.agr\"%(c_s_mol, c_s_resi, c_s_resn)\r\n",
      "    grace.write(x_data_type='relax_times', y_data_type='peak_intensity', spin_id=c_s_id, plot_data='value', file=fname, dir=outdir, force=True, norm=False)\r\n"
     ]
    }
   ],
   "source": [
    "! cat relax_02.py"
   ]
  },
  {
   "cell_type": "code",
   "execution_count": 17,
   "metadata": {},
   "outputs": [
    {
     "name": "stdout",
     "output_type": "stream",
     "text": [
      "Opening the file 'relax_02.log' for writing.\r\n",
      "Redirecting the sys.stdin IO stream to the Python stdin IO stream.\r\n",
      "Redirecting the sys.stdout IO stream to the log file 'relax_02.log'.\r\n",
      "Redirecting the sys.stderr IO stream to both the Python stderr IO stream and the log file 'relax_02.log'.\r\n",
      "\r\n",
      "relax> grace.write(x_data_type='relax_times', y_data_type='peak_intensity', spin_id=':93@N', plot_data='value', norm_type='first', file='None_93_A.agr', dir='relax_res/grace', force=True, norm=False)\r\n",
      "Opening the file 'relax_res/grace/None_93_A.agr' for writing.\r\n",
      "\r\n",
      "relax> grace.write(x_data_type='relax_times', y_data_type='peak_intensity', spin_id=':95@N', plot_data='value', norm_type='first', file='None_95_A.agr', dir='relax_res/grace', force=True, norm=False)\r\n",
      "Opening the file 'relax_res/grace/None_95_A.agr' for writing.\r\n",
      "\r\n",
      "relax> grace.write(x_data_type='relax_times', y_data_type='peak_intensity', spin_id=':96@N', plot_data='value', norm_type='first', file='None_96_A.agr', dir='relax_res/grace', force=True, norm=False)\r\n",
      "Opening the file 'relax_res/grace/None_96_A.agr' for writing.\r\n",
      "\r\n"
     ]
    }
   ],
   "source": [
    "! rm -rf relax_02.log\n",
    "! relax relax_02.py -l relax_02.log\n",
    "! tail -n 10 relax_02.log"
   ]
  },
  {
   "cell_type": "code",
   "execution_count": 21,
   "metadata": {},
   "outputs": [
    {
     "name": "stdout",
     "output_type": "stream",
     "text": [
      "Converting 'chi2.agr' into a portable network graphics (PNG) graphic.\n",
      "Converting 'i0.agr' into a portable network graphics (PNG) graphic.\n",
      "Converting 'intensities.agr' into a portable network graphics (PNG) graphic.\n",
      "Converting 'intensities_norm.agr' into a portable network graphics (PNG) graphic.\n",
      "Converting 'None_10_A.agr' into a portable network graphics (PNG) graphic.\n",
      "Converting 'None_11_A.agr' into a portable network graphics (PNG) graphic.\n",
      "Converting 'None_12_A.agr' into a portable network graphics (PNG) graphic.\n",
      "Converting 'None_13_A.agr' into a portable network graphics (PNG) graphic.\n",
      "Converting 'None_14_A.agr' into a portable network graphics (PNG) graphic.\n",
      "Converting 'None_15_A.agr' into a portable network graphics (PNG) graphic.\n",
      "Converting 'None_16_A.agr' into a portable network graphics (PNG) graphic.\n",
      "Converting 'None_17_A.agr' into a portable network graphics (PNG) graphic.\n",
      "Converting 'None_18_A.agr' into a portable network graphics (PNG) graphic.\n",
      "Converting 'None_19_A.agr' into a portable network graphics (PNG) graphic.\n",
      "Converting 'None_21_A.agr' into a portable network graphics (PNG) graphic.\n",
      "Converting 'None_22_A.agr' into a portable network graphics (PNG) graphic.\n",
      "Converting 'None_23_A.agr' into a portable network graphics (PNG) graphic.\n",
      "Converting 'None_24_A.agr' into a portable network graphics (PNG) graphic.\n",
      "Converting 'None_26_A.agr' into a portable network graphics (PNG) graphic.\n",
      "Converting 'None_27_A.agr' into a portable network graphics (PNG) graphic.\n",
      "Converting 'None_28_A.agr' into a portable network graphics (PNG) graphic.\n",
      "Converting 'None_29_A.agr' into a portable network graphics (PNG) graphic.\n",
      "Converting 'None_30_A.agr' into a portable network graphics (PNG) graphic.\n",
      "Converting 'None_31_A.agr' into a portable network graphics (PNG) graphic.\n",
      "Converting 'None_32_A.agr' into a portable network graphics (PNG) graphic.\n",
      "Converting 'None_33_A.agr' into a portable network graphics (PNG) graphic.\n",
      "Converting 'None_34_A.agr' into a portable network graphics (PNG) graphic.\n",
      "Converting 'None_35_A.agr' into a portable network graphics (PNG) graphic.\n",
      "Converting 'None_38_A.agr' into a portable network graphics (PNG) graphic.\n",
      "Converting 'None_40_A.agr' into a portable network graphics (PNG) graphic.\n",
      "Converting 'None_41_A.agr' into a portable network graphics (PNG) graphic.\n",
      "Converting 'None_43_A.agr' into a portable network graphics (PNG) graphic.\n",
      "Converting 'None_44_A.agr' into a portable network graphics (PNG) graphic.\n",
      "Converting 'None_45_A.agr' into a portable network graphics (PNG) graphic.\n",
      "Converting 'None_47_A.agr' into a portable network graphics (PNG) graphic.\n",
      "Converting 'None_48_A.agr' into a portable network graphics (PNG) graphic.\n",
      "Converting 'None_49_A.agr' into a portable network graphics (PNG) graphic.\n",
      "Converting 'None_4_A.agr' into a portable network graphics (PNG) graphic.\n",
      "Converting 'None_50_A.agr' into a portable network graphics (PNG) graphic.\n",
      "Converting 'None_51_A.agr' into a portable network graphics (PNG) graphic.\n",
      "Converting 'None_52_A.agr' into a portable network graphics (PNG) graphic.\n",
      "Converting 'None_53_A.agr' into a portable network graphics (PNG) graphic.\n",
      "Converting 'None_54_A.agr' into a portable network graphics (PNG) graphic.\n",
      "Converting 'None_55_A.agr' into a portable network graphics (PNG) graphic.\n",
      "Converting 'None_57_A.agr' into a portable network graphics (PNG) graphic.\n",
      "Converting 'None_58_A.agr' into a portable network graphics (PNG) graphic.\n",
      "Converting 'None_59_A.agr' into a portable network graphics (PNG) graphic.\n",
      "Converting 'None_5_A.agr' into a portable network graphics (PNG) graphic.\n",
      "Converting 'None_60_A.agr' into a portable network graphics (PNG) graphic.\n",
      "Converting 'None_61_A.agr' into a portable network graphics (PNG) graphic.\n",
      "Converting 'None_62_A.agr' into a portable network graphics (PNG) graphic.\n",
      "Converting 'None_63_A.agr' into a portable network graphics (PNG) graphic.\n",
      "Converting 'None_64_A.agr' into a portable network graphics (PNG) graphic.\n",
      "Converting 'None_65_A.agr' into a portable network graphics (PNG) graphic.\n",
      "Converting 'None_66_A.agr' into a portable network graphics (PNG) graphic.\n",
      "Converting 'None_67_A.agr' into a portable network graphics (PNG) graphic.\n",
      "Converting 'None_68_A.agr' into a portable network graphics (PNG) graphic.\n",
      "Converting 'None_6_A.agr' into a portable network graphics (PNG) graphic.\n",
      "Converting 'None_70_A.agr' into a portable network graphics (PNG) graphic.\n",
      "Converting 'None_71_A.agr' into a portable network graphics (PNG) graphic.\n",
      "Converting 'None_72_A.agr' into a portable network graphics (PNG) graphic.\n",
      "Converting 'None_73_A.agr' into a portable network graphics (PNG) graphic.\n",
      "Converting 'None_74_A.agr' into a portable network graphics (PNG) graphic.\n",
      "Converting 'None_75_A.agr' into a portable network graphics (PNG) graphic.\n",
      "Converting 'None_76_A.agr' into a portable network graphics (PNG) graphic.\n",
      "Converting 'None_79_A.agr' into a portable network graphics (PNG) graphic.\n",
      "Converting 'None_80_A.agr' into a portable network graphics (PNG) graphic.\n",
      "Converting 'None_81_A.agr' into a portable network graphics (PNG) graphic.\n",
      "Converting 'None_82_A.agr' into a portable network graphics (PNG) graphic.\n",
      "Converting 'None_83_A.agr' into a portable network graphics (PNG) graphic.\n",
      "Converting 'None_84_A.agr' into a portable network graphics (PNG) graphic.\n",
      "Converting 'None_85_A.agr' into a portable network graphics (PNG) graphic.\n",
      "Converting 'None_86_A.agr' into a portable network graphics (PNG) graphic.\n",
      "Converting 'None_87_A.agr' into a portable network graphics (PNG) graphic.\n",
      "Converting 'None_88_A.agr' into a portable network graphics (PNG) graphic.\n",
      "Converting 'None_89_A.agr' into a portable network graphics (PNG) graphic.\n",
      "Converting 'None_8_A.agr' into a portable network graphics (PNG) graphic.\n",
      "Converting 'None_90_A.agr' into a portable network graphics (PNG) graphic.\n",
      "Converting 'None_91_A.agr' into a portable network graphics (PNG) graphic.\n",
      "Converting 'None_92_A.agr' into a portable network graphics (PNG) graphic.\n",
      "Converting 'None_93_A.agr' into a portable network graphics (PNG) graphic.\n",
      "Converting 'None_95_A.agr' into a portable network graphics (PNG) graphic.\n",
      "Converting 'None_96_A.agr' into a portable network graphics (PNG) graphic.\n",
      "Converting 'None_9_A.agr' into a portable network graphics (PNG) graphic.\n",
      "Converting 'Rx.agr' into a portable network graphics (PNG) graphic.\n"
     ]
    },
    {
     "name": "stderr",
     "output_type": "stream",
     "text": [
      "Output is truncated - tune device dimensions\n",
      "Output is truncated - tune device dimensions\n"
     ]
    }
   ],
   "source": [
    "%%bash\n",
    "# Make images\n",
    "cd relax_res/grace\n",
    "python grace2images.py PNG"
   ]
  },
  {
   "cell_type": "markdown",
   "metadata": {},
   "source": [
    "relax_res/grace/None_8_A.png\n",
    "![intensities](./relax_res/grace/None_8_A.png)"
   ]
  },
  {
   "cell_type": "code",
   "execution_count": null,
   "metadata": {},
   "outputs": [],
   "source": []
  }
 ],
 "metadata": {
  "kernelspec": {
   "display_name": "Python 3",
   "language": "python",
   "name": "python3"
  },
  "language_info": {
   "codemirror_mode": {
    "name": "ipython",
    "version": 3
   },
   "file_extension": ".py",
   "mimetype": "text/x-python",
   "name": "python",
   "nbconvert_exporter": "python",
   "pygments_lexer": "ipython3",
   "version": "3.5.2"
  }
 },
 "nbformat": 4,
 "nbformat_minor": 2
}
