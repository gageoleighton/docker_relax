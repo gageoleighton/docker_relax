{
 "cells": [
  {
   "cell_type": "markdown",
   "metadata": {},
   "source": [
    "# Simulation of NMR CPMG experiments with Ipywidgets\n",
    "\n",
    "[This noteboook is available at github.com/tlinnet/docker_relax](https://github.com/tlinnet/docker_relax/blob/master/JupyterLab/relax_cpmg_widget_plot.ipynb)"
   ]
  },
  {
   "cell_type": "markdown",
   "metadata": {},
   "source": [
    "# Interactive plotting\n",
    "\n",
    "* [CR72 widget](#CR72_widget)"
   ]
  },
  {
   "cell_type": "markdown",
   "metadata": {},
   "source": [
    "## Import code"
   ]
  },
  {
   "cell_type": "code",
   "execution_count": 1,
   "metadata": {},
   "outputs": [],
   "source": [
    "# Import python packages\n",
    "import numpy as np\n",
    "# Plotting\n",
    "import matplotlib.pylab as plt\n",
    "%matplotlib inline\n",
    "\n",
    "# Widgets\n",
    "from ipywidgets import interact, interactive\n",
    "import ipywidgets as widgets\n",
    "\n",
    "# Import relax modules\n",
    "import os, sys, pathlib\n",
    "sys.path.append( os.path.join(str(pathlib.Path.home()), \"software\", \"relax\" ))\n",
    "\n",
    "# Import relax target function that prepare data\n",
    "from target_functions import relax_disp\n",
    "# Import library functions for each model\n",
    "from lib.dispersion import cr72\n",
    "from lib.dispersion import ns_cpmg_2site_expanded"
   ]
  },
  {
   "cell_type": "markdown",
   "metadata": {},
   "source": [
    "## CR72 calc"
   ]
  },
  {
   "cell_type": "code",
   "execution_count": 2,
   "metadata": {},
   "outputs": [],
   "source": [
    "# Setup parameters\n",
    "def cr72_calc(\n",
    "            w0_1H_s1=750., w0_1H_s2=750., \n",
    "            R20_s1=13.9, R20_s2=13.9, \n",
    "            dw_s1=1.02, dw_s2=0.69,\n",
    "            pA_s1=0.87, pA_s2=0.5, \n",
    "            kex_s1=4027., kex_s2=4061.):\n",
    "    \"\"\"\n",
    "    @keyword cpmg_e:  The end value of the CPMG pulse train. In Hz.\n",
    "    @keyword isotope: The isotope of nuclei. Either 1H, 15N or 13C.\n",
    "    @keyword w0_1H:   The spin Larmor frequencies for proton. In MHz.\n",
    "    @keyword R20:     The transversal relaxation rate. In rad/s.\n",
    "    @keyword dw:      The chemical shift difference between states A and B (in ppm).\n",
    "    @keyword pA:      The population of state A.\n",
    "    @keyword kex:     The exchange rate. In rad/s\n",
    "    \"\"\"\n",
    "    cpmg_e=2500\n",
    "    isotope='15N'\n",
    "    # Gyromagnetic Ratio in [MHz/T]\n",
    "    # http://bio.groups.et.byu.net/LarmourFreqCal.phtml\n",
    "    g = {'1H':42.576, '15N':4.3156, '13C':10.705}\n",
    "    # Magnet Field Strength [T]\n",
    "    B0_s1 = w0_1H_s1 / g['1H']\n",
    "    B0_s2 = w0_1H_s2 / g['1H']\n",
    "    # Larmor frequency for isotope [MHz]\n",
    "    w0_isotope_s1 = g[isotope]*B0_s1\n",
    "    w0_isotope_s2 = g[isotope]*B0_s2\n",
    "\n",
    "    # For simpel model, R20A and R20B is the same\n",
    "    R20A_s1 = R20B_s1 = R20_s1\n",
    "    R20A_s2 = R20B_s2 = R20_s2\n",
    "    # Convert dw in ppm to rad/s\n",
    "    dw_rad_s1 = dw_s1 * w0_isotope_s1*2*np.pi\n",
    "    dw_rad_s2 = dw_s2 * w0_isotope_s2*2*np.pi\n",
    "    \n",
    "    # Make x values. In Hz.\n",
    "    x_cpmg_frqs = np.linspace(10, cpmg_e, num=100)\n",
    "    \n",
    "    # Make empty y_val\n",
    "    y_R2_s1 = np.zeros(x_cpmg_frqs.size)\n",
    "    y_R2_s2 = np.zeros(x_cpmg_frqs.size)\n",
    "    # Calculate y, and make in-memore replacement in y\n",
    "    cr72.r2eff_CR72(r20a=R20A_s1, r20a_orig=R20A_s1, r20b=R20B_s1, r20b_orig=R20B_s1, \n",
    "           pA=pA_s1, dw=dw_rad_s1, dw_orig=dw_rad_s1, kex=kex_s1, \n",
    "           cpmg_frqs=x_cpmg_frqs, back_calc=y_R2_s1)\n",
    "    # For spin 2\n",
    "    cr72.r2eff_CR72(r20a=R20A_s2, r20a_orig=R20A_s2, r20b=R20B_s2, r20b_orig=R20B_s2, \n",
    "           pA=pA_s2, dw=dw_rad_s2, dw_orig=dw_rad_s2, kex=kex_s2, \n",
    "           cpmg_frqs=x_cpmg_frqs, back_calc=y_R2_s2)\n",
    "    \n",
    "    # Make figure\n",
    "    f, ax = plt.subplots(1, figsize=(12, 4))\n",
    "    # Plot\n",
    "    label_s1 = \"sfrq=%.1f MHz\\nR20=%.1f rad/s\\ndw=%.1f ppm\\npA=%.3f \\nkex=%.1f rad/s\"%(w0_1H_s1, R20_s1, dw_s1, pA_s1, kex_s1)\n",
    "    plt.plot(x_cpmg_frqs, y_R2_s1, label=label_s1)\n",
    "    label_s2 = \"sfrq=%.1f MHz\\nR20=%.1f rad/s\\ndw=%.1f ppm\\npA=%.3f \\nkex=%.1f rad/s\"%(w0_1H_s2, R20_s2, dw_s2, pA_s2, kex_s2)\n",
    "    plt.plot(x_cpmg_frqs, y_R2_s2, label=label_s2)\n",
    "    # Set labels\n",
    "    plt.xlabel = \"CPMG pulse train frequency v [Hz]\"\n",
    "    plt.ylabel = \"R2,eff rad/s\"\n",
    "    ax = plt.gca()\n",
    "    p_ylim_up = ax.get_ylim()[-1]\n",
    "    # Round up to nearest 5\n",
    "    p_ylim_up = p_ylim_up + (- p_ylim_up % 5 )\n",
    "    ax.set_ylim(0, p_ylim_up)\n",
    "    ax.set_xlim(0, cpmg_e)\n",
    "    # Put legend outside\n",
    "    box = ax.get_position()\n",
    "    ax.set_position([box.x0, box.y0, box.width * 0.8, box.height])\n",
    "    ax.legend(loc='center left', bbox_to_anchor=(1, 0.5))\n",
    "    # Final call to show.\n",
    "    plt.show()"
   ]
  },
  {
   "cell_type": "markdown",
   "metadata": {},
   "source": [
    "## CR72 widget <a name=\"CR72_widget\"></a>"
   ]
  },
  {
   "cell_type": "code",
   "execution_count": 3,
   "metadata": {},
   "outputs": [
    {
     "data": {
      "application/vnd.jupyter.widget-view+json": {
       "model_id": "1eca17c0cb9a49fd9b66a2f334410726",
       "version_major": 2,
       "version_minor": 0
      },
      "text/html": [
       "<p>Failed to display Jupyter Widget of type <code>interactive</code>.</p>\n",
       "<p>\n",
       "  If you're reading this message in Jupyter Notebook or JupyterLab, it may mean\n",
       "  that the widgets JavaScript is still loading. If this message persists, it\n",
       "  likely means that the widgets JavaScript library is either not installed or\n",
       "  not enabled. See the <a href=\"https://ipywidgets.readthedocs.io/en/stable/user_install.html\">Jupyter\n",
       "  Widgets Documentation</a> for setup instructions.\n",
       "</p>\n",
       "<p>\n",
       "  If you're reading this message in another notebook frontend (for example, a static\n",
       "  rendering on GitHub or <a href=\"https://nbviewer.jupyter.org/\">NBViewer</a>),\n",
       "  it may mean that your frontend doesn't currently support widgets.\n",
       "</p>\n"
      ],
      "text/plain": [
       "interactive(children=(FloatSlider(value=750.0, description='w0_1H_s1', max=1000.0, min=500.0, step=50.0), FloatSlider(value=750.0, description='w0_1H_s2', max=1000.0, min=500.0, step=50.0), FloatSlider(value=13.9, description='R20_s1', max=25.0, min=5.0, step=1.0), FloatSlider(value=13.9, description='R20_s2', max=25.0, min=5.0, step=1.0), FloatSlider(value=1.02, description='dw_s1', max=10.0, min=0.1), FloatSlider(value=0.69, description='dw_s2', max=10.0, min=0.1), FloatSlider(value=0.87, description='pA_s1', max=1.0, min=0.5, step=0.01), FloatSlider(value=0.5, description='pA_s2', max=1.0, min=0.5, step=0.01), FloatSlider(value=4027.0, description='kex_s1', max=10000.0, min=400.0, step=200.0), FloatSlider(value=4061.0, description='kex_s2', max=10000.0, min=400.0, step=200.0), Output()), _dom_classes=('widget-interact',))"
      ]
     },
     "metadata": {},
     "output_type": "display_data"
    }
   ],
   "source": [
    "widget = interactive(cr72_calc, \n",
    "                       w0_1H_s1=(500., 1000., 50), w0_1H_s2=(500., 1000., 50),\n",
    "                       R20_s1=(5.0, 25.0, 1.), R20_s2=(5.0, 25.0, 1.),\n",
    "                       dw_s1=(0.1, 10., 0.1), dw_s2=(0.1, 10., 0.1),\n",
    "                       pA_s1=(0.500, 1.000, 0.01), pA_s2=(0.500, 1.000, 0.01),\n",
    "                       kex_s1=(400., 10000, 200.), kex_s2=(400., 10000, 200.))\n",
    "\n",
    "#output = widget.children[-1]\n",
    "#output.layout.height = '500px'\n",
    "widget"
   ]
  },
  {
   "cell_type": "markdown",
   "metadata": {},
   "source": [
    "## 'NS CPMG 2-site expanded'"
   ]
  },
  {
   "cell_type": "code",
   "execution_count": 4,
   "metadata": {},
   "outputs": [
    {
     "data": {
      "application/vnd.jupyter.widget-view+json": {
       "model_id": "a87783e54cb94600b27de29da12a0be2",
       "version_major": 2,
       "version_minor": 0
      },
      "text/html": [
       "<p>Failed to display Jupyter Widget of type <code>interactive</code>.</p>\n",
       "<p>\n",
       "  If you're reading this message in Jupyter Notebook or JupyterLab, it may mean\n",
       "  that the widgets JavaScript is still loading. If this message persists, it\n",
       "  likely means that the widgets JavaScript library is either not installed or\n",
       "  not enabled. See the <a href=\"https://ipywidgets.readthedocs.io/en/stable/user_install.html\">Jupyter\n",
       "  Widgets Documentation</a> for setup instructions.\n",
       "</p>\n",
       "<p>\n",
       "  If you're reading this message in another notebook frontend (for example, a static\n",
       "  rendering on GitHub or <a href=\"https://nbviewer.jupyter.org/\">NBViewer</a>),\n",
       "  it may mean that your frontend doesn't currently support widgets.\n",
       "</p>\n"
      ],
      "text/plain": [
       "interactive(children=(FloatSlider(value=0.06, description='relax_time', max=0.08, min=0.02, step=0.01), FloatSlider(value=750.0, description='w0_1H_s1', max=1000.0, min=500.0, step=50.0), FloatSlider(value=750.0, description='w0_1H_s2', max=1000.0, min=500.0, step=50.0), FloatSlider(value=13.9, description='R20_s1', max=25.0, min=5.0, step=1.0), FloatSlider(value=13.9, description='R20_s2', max=25.0, min=5.0, step=1.0), FloatSlider(value=1.02, description='dw_s1', max=10.0, min=0.1), FloatSlider(value=0.69, description='dw_s2', max=10.0, min=0.1), FloatSlider(value=0.87, description='pA_s1', max=1.0, min=0.5, step=0.01), FloatSlider(value=0.5, description='pA_s2', max=1.0, min=0.5, step=0.01), FloatSlider(value=4027.0, description='kex_s1', max=10000.0, min=400.0, step=200.0), FloatSlider(value=4061.0, description='kex_s2', max=10000.0, min=400.0, step=200.0), Output()), _dom_classes=('widget-interact',))"
      ]
     },
     "metadata": {},
     "output_type": "display_data"
    }
   ],
   "source": [
    "# Setup parameters\n",
    "def ns_cpmg_2site_expanded_calc(relax_time=0.06,\n",
    "            w0_1H_s1=750., w0_1H_s2=750., \n",
    "            R20_s1=13.9, R20_s2=13.9, \n",
    "            dw_s1=1.02, dw_s2=0.69,\n",
    "            pA_s1=0.87, pA_s2=0.5, \n",
    "            kex_s1=4027., kex_s2=4061.):\n",
    "    \"\"\"\n",
    "    @keyword cpmg_e:     The end value of the CPMG pulse train. In Hz.\n",
    "    @keyword isotope:    The isotope of nuclei. Either 1H, 15N or 13C.\n",
    "    @keyword relax_time: The experiment specific fixed time period for relaxation (in seconds).\n",
    "    @keyword w0_1H:      The spin Larmor frequencies for proton. In MHz.\n",
    "    @keyword R20:        The transversal relaxation rate. In rad/s.\n",
    "    @keyword dw:         The chemical shift difference between states A and B (in ppm).\n",
    "    @keyword pA:         The population of state A.\n",
    "    @keyword kex:        The exchange rate. In rad/s\n",
    "    \"\"\"\n",
    "    cpmg_e=2500\n",
    "    isotope='15N'\n",
    "    # Gyromagnetic Ratio in [MHz/T]\n",
    "    # http://bio.groups.et.byu.net/LarmourFreqCal.phtml\n",
    "    g = {'1H':42.576, '15N':4.3156, '13C':10.705}\n",
    "    # Magnet Field Strength [T]\n",
    "    B0_s1 = w0_1H_s1 / g['1H']\n",
    "    B0_s2 = w0_1H_s2 / g['1H']\n",
    "    # Larmor frequency for isotope [MHz]\n",
    "    w0_isotope_s1 = g[isotope]*B0_s1\n",
    "    w0_isotope_s2 = g[isotope]*B0_s2\n",
    "\n",
    "    # Convert dw in ppm to rad/s\n",
    "    dw_rad_s1 = dw_s1 * w0_isotope_s1*2*np.pi\n",
    "    dw_rad_s2 = dw_s2 * w0_isotope_s2*2*np.pi\n",
    "    \n",
    "    # Make x values. In Hz.\n",
    "    x_cpmg_frqs = np.linspace(40, cpmg_e, num=100)\n",
    "    \n",
    "    # Make empty y_val\n",
    "    y_R2_s1 = np.zeros(x_cpmg_frqs.size)\n",
    "    y_R2_s2 = np.zeros(x_cpmg_frqs.size)\n",
    "\n",
    "    # Calculate y, and make in-memore replacement in y\n",
    "    inv_relax_time = 1.0 / relax_time\n",
    "    # Collect power\n",
    "    power_arr = []\n",
    "    tau_cpmg_arr = []\n",
    "    for cpmg_frq in x_cpmg_frqs:\n",
    "        # num_cpmg\n",
    "        power = int(round(cpmg_frq * relax_time))\n",
    "        power_arr.append(power)\n",
    "        # tcp\n",
    "        tau_cpmg = 0.25 * relax_time / power\n",
    "        tau_cpmg_arr.append(tau_cpmg)\n",
    "    # Conver to numpy\n",
    "    num_cpmg = np.asarray(power_arr)\n",
    "    tcp = np.asarray(tau_cpmg_arr)\n",
    "\n",
    "    # For spin 1\n",
    "    ns_cpmg_2site_expanded.r2eff_ns_cpmg_2site_expanded(\n",
    "            r20=R20_s1, \n",
    "            pA=pA_s1, dw=dw_rad_s1, \n",
    "            dw_orig=dw_rad_s1, kex=kex_s1, \n",
    "            relax_time=relax_time, \n",
    "            inv_relax_time=inv_relax_time, \n",
    "            tcp=tcp, \n",
    "            back_calc=y_R2_s1, \n",
    "            num_cpmg=num_cpmg)\n",
    "    # For spin 2\n",
    "    ns_cpmg_2site_expanded.r2eff_ns_cpmg_2site_expanded(\n",
    "            r20=R20_s2, \n",
    "            pA=pA_s2, dw=dw_rad_s2, \n",
    "            dw_orig=dw_rad_s2, kex=kex_s2, \n",
    "            relax_time=relax_time, \n",
    "            inv_relax_time=inv_relax_time, \n",
    "            tcp=tcp, \n",
    "            back_calc=y_R2_s2, \n",
    "            num_cpmg=num_cpmg)\n",
    "    # Make figure\n",
    "    f, ax = plt.subplots(1, figsize=(12, 4))\n",
    "    # Plot\n",
    "    label_s1 = \"sfrq=%.1f MHz\\nR20=%.1f rad/s\\ndw=%.1f ppm\\npA=%.3f \\nkex=%.1f rad/s\"%(w0_1H_s1, R20_s1, dw_s1, pA_s1, kex_s1)\n",
    "    plt.plot(x_cpmg_frqs, y_R2_s1, label=label_s1)\n",
    "    label_s2 = \"sfrq=%.1f MHz\\nR20=%.1f rad/s\\ndw=%.1f ppm\\npA=%.3f \\nkex=%.1f rad/s\"%(w0_1H_s2, R20_s2, dw_s2, pA_s2, kex_s2)\n",
    "    plt.plot(x_cpmg_frqs, y_R2_s2, label=label_s2)\n",
    "    # Set labels\n",
    "    plt.xlabel = \"CPMG pulse train frequency v [Hz]\"\n",
    "    plt.ylabel = \"R2,eff rad/s\"\n",
    "    ax = plt.gca()\n",
    "    p_ylim_up = ax.get_ylim()[-1]\n",
    "    # Round up to nearest 5\n",
    "    p_ylim_up = p_ylim_up + (- p_ylim_up % 5 )\n",
    "    ax.set_ylim(0, p_ylim_up)\n",
    "    ax.set_xlim(0, cpmg_e)\n",
    "    # Put legend outside\n",
    "    box = ax.get_position()\n",
    "    ax.set_position([box.x0, box.y0, box.width * 0.8, box.height])\n",
    "    ax.legend(loc='center left', bbox_to_anchor=(1, 0.5))\n",
    "    # Final call to show.\n",
    "    plt.show()\n",
    "\n",
    "# Widgets\n",
    "from ipywidgets import interact, interactive\n",
    "import ipywidgets as widgets\n",
    "\n",
    "widget2 = interactive(ns_cpmg_2site_expanded_calc,\n",
    "                       relax_time=(0.02, 0.08, 0.01),\n",
    "                       w0_1H_s1=(500., 1000., 50), w0_1H_s2=(500., 1000., 50),\n",
    "                       R20_s1=(5.0, 25.0, 1.), R20_s2=(5.0, 25.0, 1.),\n",
    "                       dw_s1=(0.1, 10., 0.1), dw_s2=(0.1, 10., 0.1),\n",
    "                       pA_s1=(0.500, 1.000, 0.01), pA_s2=(0.500, 1.000, 0.01),\n",
    "                       kex_s1=(400., 10000, 200.), kex_s2=(400., 10000, 200.))\n",
    "\n",
    "#output = widget.children[-1]\n",
    "#output.layout.height = '500px'\n",
    "\n",
    "widget2"
   ]
  },
  {
   "cell_type": "markdown",
   "metadata": {},
   "source": [
    "# References\n",
    "\n",
    "## Ipywidgets documentation\n",
    "\n",
    "* [Using Interact](http://ipywidgets.readthedocs.io/en/stable/examples/Using%20Interact.html)\n",
    "* [Widget List](http://ipywidgets.readthedocs.io/en/stable/examples/Widget%20List.html)\n",
    "* [How to 'Save Notebook Widget State' before exporting to online view.](http://ipywidgets.readthedocs.io/en/stable/embedding.html)\n",
    "\n",
    "\n",
    "## Code reference in relax\n",
    "\n",
    "* [The target function to prepare data](https://github.com/nmr-relax/relax/blob/master/target_functions/relax_disp.py)\n",
    "* [The library function of CR72](https://github.com/nmr-relax/relax/blob/master/lib/dispersion/cr72.py)\n",
    "* [The library function of 'NS CPMG 2-site expanded'](https://github.com/nmr-relax/relax/blob/master/lib/dispersion/ns_cpmg_2site_expanded.py)"
   ]
  },
  {
   "cell_type": "code",
   "execution_count": 5,
   "metadata": {},
   "outputs": [
    {
     "data": {
      "text/html": [
       "<iframe width=\"213\" height=\"120\" src=\"https://www.youtube.com/embed/p7Hr54VhOp0\" allowfullscreen></iframe>"
      ],
      "text/plain": [
       "<IPython.core.display.HTML object>"
      ]
     },
     "execution_count": 5,
     "metadata": {},
     "output_type": "execute_result"
    }
   ],
   "source": [
    "# Inspiration for cool trics\n",
    "from IPython.display import HTML\n",
    "HTML('<iframe width=\"213\" height=\"120\" src=\"https://www.youtube.com/embed/p7Hr54VhOp0\" allowfullscreen></iframe>')"
   ]
  },
  {
   "cell_type": "code",
   "execution_count": null,
   "metadata": {},
   "outputs": [],
   "source": []
  }
 ],
 "metadata": {
  "kernelspec": {
   "display_name": "Python 3",
   "language": "python",
   "name": "python3"
  },
  "language_info": {
   "codemirror_mode": {
    "name": "ipython",
    "version": 3
   },
   "file_extension": ".py",
   "mimetype": "text/x-python",
   "name": "python",
   "nbconvert_exporter": "python",
   "pygments_lexer": "ipython3",
   "version": "3.5.2"
  },
  "widgets": {
   "application/vnd.jupyter.widget-state+json": {
    "state": {
     "03e732f8be5244d3972d07196b7fc342": {
      "model_module": "@jupyter-widgets/base",
      "model_module_version": "1.0.0",
      "model_name": "LayoutModel",
      "state": {}
     },
     "06666469b9ac4540a91bd5449c7f3ba3": {
      "model_module": "@jupyter-widgets/controls",
      "model_module_version": "1.0.0",
      "model_name": "FloatSliderModel",
      "state": {
       "description": "R20_s1",
       "layout": "IPY_MODEL_44a094486aa34e5e8dd6f2cbfc3eaed7",
       "max": 25,
       "min": 5,
       "style": "IPY_MODEL_f55f9d2b681a4545906ea723b3b2b437",
       "value": 13.9
      }
     },
     "069f8d581da7492eb9863aeabd1f2f4b": {
      "model_module": "@jupyter-widgets/base",
      "model_module_version": "1.0.0",
      "model_name": "LayoutModel",
      "state": {}
     },
     "08aca44444d84bdf9b0480e0b5e6bc42": {
      "model_module": "@jupyter-widgets/base",
      "model_module_version": "1.0.0",
      "model_name": "LayoutModel",
      "state": {}
     },
     "096a3bf74948440fbf0b64210f0662d8": {
      "model_module": "@jupyter-widgets/base",
      "model_module_version": "1.0.0",
      "model_name": "LayoutModel",
      "state": {}
     },
     "0a83dd146e4944fbabd320c80b0f4030": {
      "model_module": "@jupyter-widgets/output",
      "model_module_version": "1.0.0",
      "model_name": "OutputModel",
      "state": {
       "layout": "IPY_MODEL_ec7f386dab9b429999793d5a1c5bf27c",
       "outputs": [
        {
         "data": {
          "image/png": "iVBORw0KGgoAAAANSUhEUgAAArwAAAD8CAYAAACVfXcGAAAABHNCSVQICAgIfAhkiAAAAAlwSFlz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\niIiIiKwaE14iIiIismr/C3firFMcVrT/AAAAAElFTkSuQmCC\n",
          "text/plain": "<matplotlib.figure.Figure at 0x7f6b9b4b9cf8>"
         },
         "metadata": {},
         "output_type": "display_data"
        }
       ]
      }
     },
     "0da666777cc049c9bcd22d0d27867541": {
      "model_module": "@jupyter-widgets/controls",
      "model_module_version": "1.0.0",
      "model_name": "FloatSliderModel",
      "state": {
       "description": "relax_time",
       "layout": "IPY_MODEL_c5109cce813e494ea1e612432ce00b8d",
       "max": 0.08,
       "min": 0.02,
       "step": 0.01,
       "style": "IPY_MODEL_b4691a681f08464bb6da3a17a4a346da",
       "value": 0.06
      }
     },
     "0fe57888b09a442b80671b72144850bf": {
      "model_module": "@jupyter-widgets/controls",
      "model_module_version": "1.0.0",
      "model_name": "SliderStyleModel",
      "state": {
       "description_width": ""
      }
     },
     "1080329cae27431981b40a1201b2480f": {
      "model_module": "@jupyter-widgets/controls",
      "model_module_version": "1.0.0",
      "model_name": "FloatSliderModel",
      "state": {
       "description": "dw_s2",
       "layout": "IPY_MODEL_c62a7173602a428b8dea12ca5bcc5d27",
       "max": 10,
       "min": 0.1,
       "step": 0.1,
       "style": "IPY_MODEL_7bc6dfe702e942eeaf51f6e1737e7733",
       "value": 0.69
      }
     },
     "146f3abf67604ab1aff3131d13cd6a62": {
      "model_module": "@jupyter-widgets/base",
      "model_module_version": "1.0.0",
      "model_name": "LayoutModel",
      "state": {}
     },
     "14f3b643fc354037b10dc7f1079d2547": {
      "model_module": "@jupyter-widgets/controls",
      "model_module_version": "1.0.0",
      "model_name": "SliderStyleModel",
      "state": {
       "description_width": ""
      }
     },
     "1eca17c0cb9a49fd9b66a2f334410726": {
      "model_module": "@jupyter-widgets/controls",
      "model_module_version": "1.0.0",
      "model_name": "VBoxModel",
      "state": {
       "_dom_classes": [
        "widget-interact"
       ],
       "children": [
        "IPY_MODEL_e2ded39efbed4a019b995259e6589fd4",
        "IPY_MODEL_633043d80eb0483ba13e1769cbc2e59e",
        "IPY_MODEL_06666469b9ac4540a91bd5449c7f3ba3",
        "IPY_MODEL_37566a3c7e564f428b0c719312bc0035",
        "IPY_MODEL_28a1d8c0148c48ea954bd00543ef6996",
        "IPY_MODEL_61d7bef844bf4dff98d9f2bbb2e04196",
        "IPY_MODEL_a13ad31a1b954532b00dbcbe1a048a3f",
        "IPY_MODEL_e77b3cbe4f8c4700b9fcde0a8e20619d",
        "IPY_MODEL_f0c6a457ea1e482b81e82c6df486435a",
        "IPY_MODEL_d9a7179ea26d4c1faf1dabab327b9856",
        "IPY_MODEL_0a83dd146e4944fbabd320c80b0f4030"
       ],
       "layout": "IPY_MODEL_b38cde7899774c6fa2314823440aa858"
      }
     },
     "2755417990a74aaf93efcab264aeb573": {
      "model_module": "@jupyter-widgets/controls",
      "model_module_version": "1.0.0",
      "model_name": "SliderStyleModel",
      "state": {
       "description_width": ""
      }
     },
     "28a1d8c0148c48ea954bd00543ef6996": {
      "model_module": "@jupyter-widgets/controls",
      "model_module_version": "1.0.0",
      "model_name": "FloatSliderModel",
      "state": {
       "description": "dw_s1",
       "layout": "IPY_MODEL_78bac0c414cf4cd895e9ffce96eca575",
       "max": 10,
       "min": 0.1,
       "step": 0.1,
       "style": "IPY_MODEL_baff214d155044ad9985b06c644c9d64",
       "value": 1.02
      }
     },
     "2903ab03c3b346ea94e43ec8e3c7ba03": {
      "model_module": "@jupyter-widgets/controls",
      "model_module_version": "1.0.0",
      "model_name": "SliderStyleModel",
      "state": {
       "description_width": ""
      }
     },
     "37566a3c7e564f428b0c719312bc0035": {
      "model_module": "@jupyter-widgets/controls",
      "model_module_version": "1.0.0",
      "model_name": "FloatSliderModel",
      "state": {
       "description": "R20_s2",
       "layout": "IPY_MODEL_77b746883882473685f6c5e8e02524db",
       "max": 25,
       "min": 5,
       "style": "IPY_MODEL_d4aad0c712924ff29391c7f1670fa6b2",
       "value": 13.9
      }
     },
     "39c054935ddb4095925850b64e82cb9a": {
      "model_module": "@jupyter-widgets/controls",
      "model_module_version": "1.0.0",
      "model_name": "SliderStyleModel",
      "state": {
       "description_width": ""
      }
     },
     "3d1606b9472749c3870c400ba0d8210c": {
      "model_module": "@jupyter-widgets/controls",
      "model_module_version": "1.0.0",
      "model_name": "SliderStyleModel",
      "state": {
       "description_width": ""
      }
     },
     "3e691d61724e4eed9c9d709e3c19b4c5": {
      "model_module": "@jupyter-widgets/base",
      "model_module_version": "1.0.0",
      "model_name": "LayoutModel",
      "state": {}
     },
     "41e8a3b2beb94ac2958d5dc2181e9344": {
      "model_module": "@jupyter-widgets/controls",
      "model_module_version": "1.0.0",
      "model_name": "FloatSliderModel",
      "state": {
       "description": "dw_s1",
       "layout": "IPY_MODEL_accad7f0aa5f48a883a80de67bd56d44",
       "max": 10,
       "min": 0.1,
       "step": 0.1,
       "style": "IPY_MODEL_fdaf9623480b4b86831e05f44e583376",
       "value": 1.02
      }
     },
     "44a094486aa34e5e8dd6f2cbfc3eaed7": {
      "model_module": "@jupyter-widgets/base",
      "model_module_version": "1.0.0",
      "model_name": "LayoutModel",
      "state": {}
     },
     "570c79cb4bb743eb8b7ca3934f58b816": {
      "model_module": "@jupyter-widgets/controls",
      "model_module_version": "1.0.0",
      "model_name": "FloatSliderModel",
      "state": {
       "description": "w0_1H_s1",
       "layout": "IPY_MODEL_68ed920f704146a2b63731e3832ba566",
       "max": 1000,
       "min": 500,
       "step": 50,
       "style": "IPY_MODEL_d066cc999cd445a0ba3a9436abbd41c7",
       "value": 750
      }
     },
     "57d6f08add394a6b99971197aca2bc51": {
      "model_module": "@jupyter-widgets/controls",
      "model_module_version": "1.0.0",
      "model_name": "SliderStyleModel",
      "state": {
       "description_width": ""
      }
     },
     "5c77b1a2a7d24ff5acb2ff94b8bbb0e5": {
      "model_module": "@jupyter-widgets/base",
      "model_module_version": "1.0.0",
      "model_name": "LayoutModel",
      "state": {}
     },
     "61d7bef844bf4dff98d9f2bbb2e04196": {
      "model_module": "@jupyter-widgets/controls",
      "model_module_version": "1.0.0",
      "model_name": "FloatSliderModel",
      "state": {
       "description": "dw_s2",
       "layout": "IPY_MODEL_bd2cf36d0e074de38902471194f52745",
       "max": 10,
       "min": 0.1,
       "step": 0.1,
       "style": "IPY_MODEL_14f3b643fc354037b10dc7f1079d2547",
       "value": 0.69
      }
     },
     "633043d80eb0483ba13e1769cbc2e59e": {
      "model_module": "@jupyter-widgets/controls",
      "model_module_version": "1.0.0",
      "model_name": "FloatSliderModel",
      "state": {
       "description": "w0_1H_s2",
       "layout": "IPY_MODEL_3e691d61724e4eed9c9d709e3c19b4c5",
       "max": 1000,
       "min": 500,
       "step": 50,
       "style": "IPY_MODEL_f485e7d6422a4b4e9c3f2434bd7641a8",
       "value": 750
      }
     },
     "65d005750e564be89787584d78b42226": {
      "model_module": "@jupyter-widgets/controls",
      "model_module_version": "1.0.0",
      "model_name": "SliderStyleModel",
      "state": {
       "description_width": ""
      }
     },
     "68ed920f704146a2b63731e3832ba566": {
      "model_module": "@jupyter-widgets/base",
      "model_module_version": "1.0.0",
      "model_name": "LayoutModel",
      "state": {}
     },
     "6cd5ea3b739a47d4b8b0e315f9826410": {
      "model_module": "@jupyter-widgets/controls",
      "model_module_version": "1.0.0",
      "model_name": "FloatSliderModel",
      "state": {
       "description": "kex_s2",
       "layout": "IPY_MODEL_e539e175fa7e45089dd56a2431aa37e0",
       "max": 10000,
       "min": 400,
       "step": 200,
       "style": "IPY_MODEL_c0aa7deda5e24fc689f3431f63ffbe3a",
       "value": 4061
      }
     },
     "77b746883882473685f6c5e8e02524db": {
      "model_module": "@jupyter-widgets/base",
      "model_module_version": "1.0.0",
      "model_name": "LayoutModel",
      "state": {}
     },
     "78bac0c414cf4cd895e9ffce96eca575": {
      "model_module": "@jupyter-widgets/base",
      "model_module_version": "1.0.0",
      "model_name": "LayoutModel",
      "state": {}
     },
     "7bc6dfe702e942eeaf51f6e1737e7733": {
      "model_module": "@jupyter-widgets/controls",
      "model_module_version": "1.0.0",
      "model_name": "SliderStyleModel",
      "state": {
       "description_width": ""
      }
     },
     "812c8aba77bd42ffbbbbf8a179a8f046": {
      "model_module": "@jupyter-widgets/base",
      "model_module_version": "1.0.0",
      "model_name": "LayoutModel",
      "state": {}
     },
     "8dbfeaa297d0482ba4908dc10122426d": {
      "model_module": "@jupyter-widgets/controls",
      "model_module_version": "1.0.0",
      "model_name": "FloatSliderModel",
      "state": {
       "description": "kex_s1",
       "layout": "IPY_MODEL_08aca44444d84bdf9b0480e0b5e6bc42",
       "max": 10000,
       "min": 400,
       "step": 200,
       "style": "IPY_MODEL_9e69b4d6f4b341e1a6a3c5d075b4de98",
       "value": 4027
      }
     },
     "8f2d63bf46624de8b9d0478d8ae0cfa2": {
      "model_module": "@jupyter-widgets/base",
      "model_module_version": "1.0.0",
      "model_name": "LayoutModel",
      "state": {}
     },
     "959d052e7e6943ecb4eb023973653ef4": {
      "model_module": "@jupyter-widgets/controls",
      "model_module_version": "1.0.0",
      "model_name": "FloatSliderModel",
      "state": {
       "description": "R20_s2",
       "layout": "IPY_MODEL_03e732f8be5244d3972d07196b7fc342",
       "max": 25,
       "min": 5,
       "style": "IPY_MODEL_57d6f08add394a6b99971197aca2bc51",
       "value": 13.9
      }
     },
     "9e61393977bc4e33b3e486026e9069be": {
      "model_module": "@jupyter-widgets/controls",
      "model_module_version": "1.0.0",
      "model_name": "SliderStyleModel",
      "state": {
       "description_width": ""
      }
     },
     "9e69b4d6f4b341e1a6a3c5d075b4de98": {
      "model_module": "@jupyter-widgets/controls",
      "model_module_version": "1.0.0",
      "model_name": "SliderStyleModel",
      "state": {
       "description_width": ""
      }
     },
     "a13ad31a1b954532b00dbcbe1a048a3f": {
      "model_module": "@jupyter-widgets/controls",
      "model_module_version": "1.0.0",
      "model_name": "FloatSliderModel",
      "state": {
       "description": "pA_s1",
       "layout": "IPY_MODEL_146f3abf67604ab1aff3131d13cd6a62",
       "max": 1,
       "min": 0.5,
       "step": 0.01,
       "style": "IPY_MODEL_65d005750e564be89787584d78b42226",
       "value": 0.87
      }
     },
     "a31507bd5d194336a45509197870e90b": {
      "model_module": "@jupyter-widgets/controls",
      "model_module_version": "1.0.0",
      "model_name": "FloatSliderModel",
      "state": {
       "description": "pA_s2",
       "layout": "IPY_MODEL_5c77b1a2a7d24ff5acb2ff94b8bbb0e5",
       "max": 1,
       "min": 0.5,
       "step": 0.01,
       "style": "IPY_MODEL_0fe57888b09a442b80671b72144850bf",
       "value": 0.5
      }
     },
     "a49e8ddf0ffa48359d58119fb67abcc2": {
      "model_module": "@jupyter-widgets/controls",
      "model_module_version": "1.0.0",
      "model_name": "SliderStyleModel",
      "state": {
       "description_width": ""
      }
     },
     "a87783e54cb94600b27de29da12a0be2": {
      "model_module": "@jupyter-widgets/controls",
      "model_module_version": "1.0.0",
      "model_name": "VBoxModel",
      "state": {
       "_dom_classes": [
        "widget-interact"
       ],
       "children": [
        "IPY_MODEL_0da666777cc049c9bcd22d0d27867541",
        "IPY_MODEL_570c79cb4bb743eb8b7ca3934f58b816",
        "IPY_MODEL_b32d6ad4bde744a189d53c18510c7f0c",
        "IPY_MODEL_d7f233b3aa6e47a383cad120403333aa",
        "IPY_MODEL_959d052e7e6943ecb4eb023973653ef4",
        "IPY_MODEL_41e8a3b2beb94ac2958d5dc2181e9344",
        "IPY_MODEL_1080329cae27431981b40a1201b2480f",
        "IPY_MODEL_f7c7fdb3e1e442e194ed819f1db9ccb3",
        "IPY_MODEL_a31507bd5d194336a45509197870e90b",
        "IPY_MODEL_8dbfeaa297d0482ba4908dc10122426d",
        "IPY_MODEL_6cd5ea3b739a47d4b8b0e315f9826410",
        "IPY_MODEL_e1dd26e4442b4751a94404d8ef3f5cf5"
       ],
       "layout": "IPY_MODEL_8f2d63bf46624de8b9d0478d8ae0cfa2"
      }
     },
     "accad7f0aa5f48a883a80de67bd56d44": {
      "model_module": "@jupyter-widgets/base",
      "model_module_version": "1.0.0",
      "model_name": "LayoutModel",
      "state": {}
     },
     "b32d6ad4bde744a189d53c18510c7f0c": {
      "model_module": "@jupyter-widgets/controls",
      "model_module_version": "1.0.0",
      "model_name": "FloatSliderModel",
      "state": {
       "description": "w0_1H_s2",
       "layout": "IPY_MODEL_096a3bf74948440fbf0b64210f0662d8",
       "max": 1000,
       "min": 500,
       "step": 50,
       "style": "IPY_MODEL_39c054935ddb4095925850b64e82cb9a",
       "value": 750
      }
     },
     "b38cde7899774c6fa2314823440aa858": {
      "model_module": "@jupyter-widgets/base",
      "model_module_version": "1.0.0",
      "model_name": "LayoutModel",
      "state": {}
     },
     "b4691a681f08464bb6da3a17a4a346da": {
      "model_module": "@jupyter-widgets/controls",
      "model_module_version": "1.0.0",
      "model_name": "SliderStyleModel",
      "state": {
       "description_width": ""
      }
     },
     "baff214d155044ad9985b06c644c9d64": {
      "model_module": "@jupyter-widgets/controls",
      "model_module_version": "1.0.0",
      "model_name": "SliderStyleModel",
      "state": {
       "description_width": ""
      }
     },
     "bd2cf36d0e074de38902471194f52745": {
      "model_module": "@jupyter-widgets/base",
      "model_module_version": "1.0.0",
      "model_name": "LayoutModel",
      "state": {}
     },
     "c0aa7deda5e24fc689f3431f63ffbe3a": {
      "model_module": "@jupyter-widgets/controls",
      "model_module_version": "1.0.0",
      "model_name": "SliderStyleModel",
      "state": {
       "description_width": ""
      }
     },
     "c3c09150431d4a0999e89044037b9f17": {
      "model_module": "@jupyter-widgets/base",
      "model_module_version": "1.0.0",
      "model_name": "LayoutModel",
      "state": {}
     },
     "c5109cce813e494ea1e612432ce00b8d": {
      "model_module": "@jupyter-widgets/base",
      "model_module_version": "1.0.0",
      "model_name": "LayoutModel",
      "state": {}
     },
     "c62a7173602a428b8dea12ca5bcc5d27": {
      "model_module": "@jupyter-widgets/base",
      "model_module_version": "1.0.0",
      "model_name": "LayoutModel",
      "state": {}
     },
     "d066cc999cd445a0ba3a9436abbd41c7": {
      "model_module": "@jupyter-widgets/controls",
      "model_module_version": "1.0.0",
      "model_name": "SliderStyleModel",
      "state": {
       "description_width": ""
      }
     },
     "d14a2afe6d0a4c3791853ab1eab04378": {
      "model_module": "@jupyter-widgets/base",
      "model_module_version": "1.0.0",
      "model_name": "LayoutModel",
      "state": {}
     },
     "d4aad0c712924ff29391c7f1670fa6b2": {
      "model_module": "@jupyter-widgets/controls",
      "model_module_version": "1.0.0",
      "model_name": "SliderStyleModel",
      "state": {
       "description_width": ""
      }
     },
     "d679760ae26544629e47358a53e7e29f": {
      "model_module": "@jupyter-widgets/base",
      "model_module_version": "1.0.0",
      "model_name": "LayoutModel",
      "state": {}
     },
     "d7ee9478d57a438cbff12447fbc6bcbf": {
      "model_module": "@jupyter-widgets/base",
      "model_module_version": "1.0.0",
      "model_name": "LayoutModel",
      "state": {}
     },
     "d7f233b3aa6e47a383cad120403333aa": {
      "model_module": "@jupyter-widgets/controls",
      "model_module_version": "1.0.0",
      "model_name": "FloatSliderModel",
      "state": {
       "description": "R20_s1",
       "layout": "IPY_MODEL_d14a2afe6d0a4c3791853ab1eab04378",
       "max": 25,
       "min": 5,
       "style": "IPY_MODEL_ddb203f7b1db449a90005aa786b2a59f",
       "value": 13.9
      }
     },
     "d9a7179ea26d4c1faf1dabab327b9856": {
      "model_module": "@jupyter-widgets/controls",
      "model_module_version": "1.0.0",
      "model_name": "FloatSliderModel",
      "state": {
       "description": "kex_s2",
       "layout": "IPY_MODEL_df32d9a573d34b90b1f21fcd34bd2b24",
       "max": 10000,
       "min": 400,
       "step": 200,
       "style": "IPY_MODEL_a49e8ddf0ffa48359d58119fb67abcc2",
       "value": 4061
      }
     },
     "ddb203f7b1db449a90005aa786b2a59f": {
      "model_module": "@jupyter-widgets/controls",
      "model_module_version": "1.0.0",
      "model_name": "SliderStyleModel",
      "state": {
       "description_width": ""
      }
     },
     "df32d9a573d34b90b1f21fcd34bd2b24": {
      "model_module": "@jupyter-widgets/base",
      "model_module_version": "1.0.0",
      "model_name": "LayoutModel",
      "state": {}
     },
     "e1dd26e4442b4751a94404d8ef3f5cf5": {
      "model_module": "@jupyter-widgets/output",
      "model_module_version": "1.0.0",
      "model_name": "OutputModel",
      "state": {
       "layout": "IPY_MODEL_812c8aba77bd42ffbbbbf8a179a8f046",
       "outputs": [
        {
         "data": {
          "image/png": "iVBORw0KGgoAAAANSUhEUgAAArwAAAD8CAYAAACVfXcGAAAABHNCSVQICAgIfAhkiAAAAAlwSFlz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\n",
          "text/plain": "<matplotlib.figure.Figure at 0x7f6b992fdc18>"
         },
         "metadata": {},
         "output_type": "display_data"
        }
       ]
      }
     },
     "e2ded39efbed4a019b995259e6589fd4": {
      "model_module": "@jupyter-widgets/controls",
      "model_module_version": "1.0.0",
      "model_name": "FloatSliderModel",
      "state": {
       "description": "w0_1H_s1",
       "layout": "IPY_MODEL_d7ee9478d57a438cbff12447fbc6bcbf",
       "max": 1000,
       "min": 500,
       "step": 50,
       "style": "IPY_MODEL_2755417990a74aaf93efcab264aeb573",
       "value": 750
      }
     },
     "e539e175fa7e45089dd56a2431aa37e0": {
      "model_module": "@jupyter-widgets/base",
      "model_module_version": "1.0.0",
      "model_name": "LayoutModel",
      "state": {}
     },
     "e77b3cbe4f8c4700b9fcde0a8e20619d": {
      "model_module": "@jupyter-widgets/controls",
      "model_module_version": "1.0.0",
      "model_name": "FloatSliderModel",
      "state": {
       "description": "pA_s2",
       "layout": "IPY_MODEL_d679760ae26544629e47358a53e7e29f",
       "max": 1,
       "min": 0.5,
       "step": 0.01,
       "style": "IPY_MODEL_9e61393977bc4e33b3e486026e9069be",
       "value": 0.5
      }
     },
     "ec7f386dab9b429999793d5a1c5bf27c": {
      "model_module": "@jupyter-widgets/base",
      "model_module_version": "1.0.0",
      "model_name": "LayoutModel",
      "state": {}
     },
     "f0c6a457ea1e482b81e82c6df486435a": {
      "model_module": "@jupyter-widgets/controls",
      "model_module_version": "1.0.0",
      "model_name": "FloatSliderModel",
      "state": {
       "description": "kex_s1",
       "layout": "IPY_MODEL_069f8d581da7492eb9863aeabd1f2f4b",
       "max": 10000,
       "min": 400,
       "step": 200,
       "style": "IPY_MODEL_3d1606b9472749c3870c400ba0d8210c",
       "value": 4027
      }
     },
     "f485e7d6422a4b4e9c3f2434bd7641a8": {
      "model_module": "@jupyter-widgets/controls",
      "model_module_version": "1.0.0",
      "model_name": "SliderStyleModel",
      "state": {
       "description_width": ""
      }
     },
     "f55f9d2b681a4545906ea723b3b2b437": {
      "model_module": "@jupyter-widgets/controls",
      "model_module_version": "1.0.0",
      "model_name": "SliderStyleModel",
      "state": {
       "description_width": ""
      }
     },
     "f7c7fdb3e1e442e194ed819f1db9ccb3": {
      "model_module": "@jupyter-widgets/controls",
      "model_module_version": "1.0.0",
      "model_name": "FloatSliderModel",
      "state": {
       "description": "pA_s1",
       "layout": "IPY_MODEL_c3c09150431d4a0999e89044037b9f17",
       "max": 1,
       "min": 0.5,
       "step": 0.01,
       "style": "IPY_MODEL_2903ab03c3b346ea94e43ec8e3c7ba03",
       "value": 0.87
      }
     },
     "fdaf9623480b4b86831e05f44e583376": {
      "model_module": "@jupyter-widgets/controls",
      "model_module_version": "1.0.0",
      "model_name": "SliderStyleModel",
      "state": {
       "description_width": ""
      }
     }
    },
    "version_major": 2,
    "version_minor": 0
   }
  }
 },
 "nbformat": 4,
 "nbformat_minor": 2
}
