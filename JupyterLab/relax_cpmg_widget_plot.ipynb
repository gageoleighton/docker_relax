{
 "cells": [
  {
   "cell_type": "markdown",
   "metadata": {},
   "source": [
    "# Simulation of NMR CPMG experiments with Ipywidgets\n",
    "\n",
    "* [This noteboook is available at github.com/tlinnet/docker_relax](https://github.com/tlinnet/docker_relax/blob/master/JupyterLab/relax_cpmg_widget_plot.ipynb)\n",
    "\n",
    "* [The widgets can be seen at nbviewer.jupyter.org by clicking here](http://nbviewer.jupyter.org/github/tlinnet/docker_relax/blob/master/JupyterLab/relax_cpmg_widget_plot.ipynb)\n"
   ]
  },
  {
   "cell_type": "markdown",
   "metadata": {},
   "source": [
    "# Interactive plotting\n",
    "\n",
    "* [CR72 widget](#CR72_widget)\n",
    "* ['NS CPMG 2-site expanded' widget](#NS_widget)\n",
    "* [References and links](#references)"
   ]
  },
  {
   "cell_type": "markdown",
   "metadata": {},
   "source": [
    "## Import code"
   ]
  },
  {
   "cell_type": "code",
   "execution_count": 9,
   "metadata": {},
   "outputs": [],
   "source": [
    "# Import python packages\n",
    "import numpy as np\n",
    "# Plotting\n",
    "import matplotlib.pylab as plt\n",
    "%matplotlib inline\n",
    "\n",
    "# Widgets\n",
    "from ipywidgets import interact, interactive, fixed\n",
    "import ipywidgets as widgets\n",
    "\n",
    "# Import relax modules\n",
    "import os, sys, pathlib\n",
    "sys.path.append( os.path.join(str(pathlib.Path.home()), \"software\", \"relax\" ))\n",
    "\n",
    "# Import relax target function that prepare data\n",
    "from target_functions import relax_disp\n",
    "# Import library functions for each model\n",
    "from lib.dispersion import cr72\n",
    "from lib.dispersion import ns_cpmg_2site_expanded"
   ]
  },
  {
   "cell_type": "markdown",
   "metadata": {},
   "source": [
    "## CR72, 'NS CPMG 2-site expanded'"
   ]
  },
  {
   "cell_type": "code",
   "execution_count": 23,
   "metadata": {},
   "outputs": [],
   "source": [
    "def model_calc(model='CR72', cpmg_e=2500, isotope='15N', \n",
    "                relax_time = 0.06, \n",
    "                w0_1H_s1=750., w0_1H_s2=750., \n",
    "                R20_s1=13.9, R20_s2=13.9, \n",
    "                dw_s1=1.02, dw_s2=0.69,\n",
    "                pA_s1=0.87, pA_s2=0.5, \n",
    "                kex_s1=4027., kex_s2=4061.):\n",
    "    \"\"\"\n",
    "    @keyword model:      The model to analyse. 'CR72' or 'NS'.\n",
    "    @keyword cpmg_e:     The end value of the CPMG pulse train. In Hz.\n",
    "    @keyword isotope:    The isotope of nuclei. Either 1H, 15N or 13C.\n",
    "    @keyword relax_time: The experiment specific fixed time period for relaxation (in seconds).\n",
    "    @keyword w0_1H:      The spin Larmor frequencies for proton. In MHz.\n",
    "    @keyword R20:        The transversal relaxation rate. In rad/s.\n",
    "    @keyword dw:         The chemical shift difference between states A and B (in ppm).\n",
    "    @keyword pA:         The population of state A.\n",
    "    @keyword kex:        The exchange rate. In rad/s\n",
    "    \"\"\"\n",
    "    # Gyromagnetic Ratio in [MHz/T]\n",
    "    # http://bio.groups.et.byu.net/LarmourFreqCal.phtml\n",
    "    g = {'1H':42.576, '15N':4.3156, '13C':10.705}\n",
    "    # Magnet Field Strength [T]\n",
    "    B0_s1 = w0_1H_s1 / g['1H']\n",
    "    B0_s2 = w0_1H_s2 / g['1H']\n",
    "    # Larmor frequency for isotope [MHz]\n",
    "    w0_isotope_s1 = g[isotope]*B0_s1\n",
    "    w0_isotope_s2 = g[isotope]*B0_s2\n",
    "    # Convert dw in ppm to rad/s\n",
    "    dw_rad_s1 = dw_s1 * w0_isotope_s1*2*np.pi\n",
    "    dw_rad_s2 = dw_s2 * w0_isotope_s2*2*np.pi\n",
    "\n",
    "    # Make x values. In Hz.\n",
    "    x_cpmg_frqs = np.linspace(40, cpmg_e, num=100)\n",
    "\n",
    "    if model=='CR72':\n",
    "        y_R2_s1 = cr72_calc(R20=R20_s1, dw_rad=dw_rad_s1, pA=pA_s1, kex=kex_s1, cpmg_frqs=x_cpmg_frqs)\n",
    "        y_R2_s2 = cr72_calc(R20=R20_s2, dw_rad=dw_rad_s2, pA=pA_s2, kex=kex_s2, cpmg_frqs=x_cpmg_frqs)\n",
    "    elif model=='NS':\n",
    "        y_R2_s1 = ns_calc(R20=R20_s1, dw_rad=dw_rad_s1, pA=pA_s1, kex=kex_s1, cpmg_frqs=x_cpmg_frqs, relax_time=relax_time)\n",
    "        y_R2_s2 = ns_calc(R20=R20_s2, dw_rad=dw_rad_s2, pA=pA_s2, kex=kex_s2, cpmg_frqs=x_cpmg_frqs, relax_time=relax_time)\n",
    "\n",
    "    # Make figure\n",
    "    f, ax = plt.subplots(1, figsize=(12, 4))\n",
    "    # Plot\n",
    "    label_s1 = \"sfrq=%.1f MHz\\nR20=%.1f rad/s\\ndw=%.1f ppm\\npA=%.3f \\nkex=%.1f rad/s\"%(w0_1H_s1, R20_s1, dw_s1, pA_s1, kex_s1)\n",
    "    plt.plot(x_cpmg_frqs, y_R2_s1, label=label_s1)\n",
    "    label_s2 = \"sfrq=%.1f MHz\\nR20=%.1f rad/s\\ndw=%.1f ppm\\npA=%.3f \\nkex=%.1f rad/s\"%(w0_1H_s2, R20_s2, dw_s2, pA_s2, kex_s2)\n",
    "    plt.plot(x_cpmg_frqs, y_R2_s2, label=label_s2)\n",
    "    # Set labels\n",
    "    plt.xlabel = \"CPMG pulse train frequency v [Hz]\"\n",
    "    plt.ylabel = \"R2,eff rad/s\"\n",
    "    ax = plt.gca()\n",
    "    p_ylim_up = ax.get_ylim()[-1]\n",
    "    # Round up to nearest 5\n",
    "    p_ylim_up = p_ylim_up + (- p_ylim_up % 5 )\n",
    "    ax.set_ylim(0, p_ylim_up)\n",
    "    ax.set_xlim(0, cpmg_e)\n",
    "    # Put legend outside\n",
    "    box = ax.get_position()\n",
    "    ax.set_position([box.x0, box.y0, box.width * 0.8, box.height])\n",
    "    ax.legend(loc='center left', bbox_to_anchor=(1, 0.5))\n",
    "    # Final call to show.\n",
    "    plt.show()\n",
    "\n",
    "# Setup parameters\n",
    "def cr72_calc(R20=None, dw_rad=None, pA=None, kex=None, cpmg_frqs=None):\n",
    "    # For simpel model, R20A and R20B is the same\n",
    "    R20A = R20B = R20\n",
    "    \n",
    "    # Make empty y_val\n",
    "    y_R2 = np.zeros(cpmg_frqs.size)\n",
    "    # Calculate y, and make in-memore replacement in y\n",
    "    cr72.r2eff_CR72(r20a=R20A, r20a_orig=R20A, r20b=R20B, r20b_orig=R20B, \n",
    "           pA=pA, dw=dw_rad, dw_orig=dw_rad, kex=kex, \n",
    "           cpmg_frqs=cpmg_frqs, back_calc=y_R2)\n",
    "    return y_R2\n",
    "\n",
    "# Setup parameters\n",
    "def ns_calc(R20=None, dw_rad=None, pA=None, kex=None, cpmg_frqs=None, relax_time=None):\n",
    "    # Calculate properties\n",
    "    inv_relax_time = 1.0 / relax_time\n",
    "    # Collect power\n",
    "    power_arr = []\n",
    "    tau_cpmg_arr = []\n",
    "    for cpmg_frq in cpmg_frqs:\n",
    "        # num_cpmg\n",
    "        power = int(round(cpmg_frq * relax_time))\n",
    "        power_arr.append(power)\n",
    "        # tcp\n",
    "        tau_cpmg = 0.25 * relax_time / power\n",
    "        tau_cpmg_arr.append(tau_cpmg)\n",
    "    # Conver to numpy\n",
    "    num_cpmg = np.asarray(power_arr)\n",
    "    tcp = np.asarray(tau_cpmg_arr)\n",
    "\n",
    "    # Make empty y_val\n",
    "    y_R2 = np.zeros(cpmg_frqs.size)    \n",
    "    \n",
    "    # Calculate y, and make in-memore replacement in y\n",
    "    ns_cpmg_2site_expanded.r2eff_ns_cpmg_2site_expanded(\n",
    "            r20=R20, pA=pA, dw=dw_rad, dw_orig=dw_rad, kex=kex, \n",
    "            relax_time=relax_time, inv_relax_time=inv_relax_time, tcp=tcp, \n",
    "            back_calc=y_R2, num_cpmg=num_cpmg)\n",
    "    return y_R2"
   ]
  },
  {
   "cell_type": "markdown",
   "metadata": {},
   "source": [
    "## CR72 widget <a name=\"CR72_widget\"></a>"
   ]
  },
  {
   "cell_type": "code",
   "execution_count": 24,
   "metadata": {},
   "outputs": [
    {
     "data": {
      "application/vnd.jupyter.widget-view+json": {
       "model_id": "accd4541f1ba441380754e9a4287aba7",
       "version_major": 2,
       "version_minor": 0
      },
      "text/plain": [
       "A Jupyter Widget"
      ]
     },
     "metadata": {},
     "output_type": "display_data"
    }
   ],
   "source": [
    "widget_cr72 = interactive(model_calc, \n",
    "                       model=fixed('CR72'), cpmg_e=fixed(2500), isotope=fixed('15N'), relax_time =fixed(0.06), \n",
    "                       w0_1H_s1=(500., 1000., 50), w0_1H_s2=(500., 1000., 50),\n",
    "                       R20_s1=(5.0, 25.0, 1.), R20_s2=(5.0, 25.0, 1.),\n",
    "                       dw_s1=(0.1, 10., 0.1), dw_s2=(0.1, 10., 0.1),\n",
    "                       pA_s1=(0.500, 1.000, 0.01), pA_s2=(0.500, 1.000, 0.01),\n",
    "                       kex_s1=(400., 10000, 200.), kex_s2=(400., 10000, 200.))\n",
    "widget_cr72"
   ]
  },
  {
   "cell_type": "markdown",
   "metadata": {},
   "source": [
    "## 'NS CPMG 2-site expanded' widget <a name=\"NS_widget\"></a>"
   ]
  },
  {
   "cell_type": "code",
   "execution_count": 25,
   "metadata": {},
   "outputs": [
    {
     "data": {
      "application/vnd.jupyter.widget-view+json": {
       "model_id": "d78be41a215b4945a2cc2b47e5aae9ef",
       "version_major": 2,
       "version_minor": 0
      },
      "text/plain": [
       "A Jupyter Widget"
      ]
     },
     "metadata": {},
     "output_type": "display_data"
    }
   ],
   "source": [
    "widget_ns = interactive(model_calc, \n",
    "                       model=fixed('NS'), cpmg_e=fixed(2500), isotope=fixed('15N'), relax_time =fixed(0.06), \n",
    "                       w0_1H_s1=(500., 1000., 50), w0_1H_s2=(500., 1000., 50),\n",
    "                       R20_s1=(5.0, 25.0, 1.), R20_s2=(5.0, 25.0, 1.),\n",
    "                       dw_s1=(0.1, 10., 0.1), dw_s2=(0.1, 10., 0.1),\n",
    "                       pA_s1=(0.500, 1.000, 0.01), pA_s2=(0.500, 1.000, 0.01),\n",
    "                       kex_s1=(400., 10000, 200.), kex_s2=(400., 10000, 200.))\n",
    "widget_ns"
   ]
  },
  {
   "cell_type": "markdown",
   "metadata": {},
   "source": [
    "# References <a name=\"references\"></a>\n",
    "\n",
    "## Ipywidgets documentation\n",
    "\n",
    "* [Using Interact](http://ipywidgets.readthedocs.io/en/stable/examples/Using%20Interact.html)\n",
    "* [Widget List](http://ipywidgets.readthedocs.io/en/stable/examples/Widget%20List.html)\n",
    "* [How to 'Save Notebook Widget State' before exporting to online view.](http://ipywidgets.readthedocs.io/en/stable/embedding.html)\n",
    "\n",
    "\n",
    "## Code reference in relax\n",
    "\n",
    "* [The target function to prepare data](https://github.com/nmr-relax/relax/blob/master/target_functions/relax_disp.py)\n",
    "* [The library function of CR72](https://github.com/nmr-relax/relax/blob/master/lib/dispersion/cr72.py)\n",
    "* [The library function of 'NS CPMG 2-site expanded'](https://github.com/nmr-relax/relax/blob/master/lib/dispersion/ns_cpmg_2site_expanded.py)"
   ]
  },
  {
   "cell_type": "code",
   "execution_count": 22,
   "metadata": {},
   "outputs": [
    {
     "data": {
      "text/html": [
       "<iframe width=\"213\" height=\"120\" src=\"https://www.youtube.com/embed/p7Hr54VhOp0\" allowfullscreen></iframe>"
      ],
      "text/plain": [
       "<IPython.core.display.HTML object>"
      ]
     },
     "execution_count": 22,
     "metadata": {},
     "output_type": "execute_result"
    }
   ],
   "source": [
    "# Inspiration for cool trics\n",
    "from IPython.display import HTML\n",
    "HTML('<iframe width=\"213\" height=\"120\" src=\"https://www.youtube.com/embed/p7Hr54VhOp0\" allowfullscreen></iframe>')"
   ]
  },
  {
   "cell_type": "code",
   "execution_count": null,
   "metadata": {},
   "outputs": [],
   "source": []
  }
 ],
 "metadata": {
  "kernelspec": {
   "display_name": "Python 3",
   "language": "python",
   "name": "python3"
  },
  "language_info": {
   "codemirror_mode": {
    "name": "ipython",
    "version": 3
   },
   "file_extension": ".py",
   "mimetype": "text/x-python",
   "name": "python",
   "nbconvert_exporter": "python",
   "pygments_lexer": "ipython3",
   "version": "3.5.2"
  },
  "widgets": {
   "application/vnd.jupyter.widget-state+json": {
    "state": {
     "0035f47dd6b74468951ac33970d1a7a7": {
      "model_module": "@jupyter-widgets/controls",
      "model_module_version": "1.0.0",
      "model_name": "FloatSliderModel",
      "state": {
       "description": "dw_s1",
       "layout": "IPY_MODEL_e9573117f8214dd0b5c2d5d1bd5887e6",
       "max": 10,
       "min": 0.1,
       "step": 0.1,
       "style": "IPY_MODEL_206a2a444fb04e1084965b0277726721",
       "value": 1.02
      }
     },
     "00b55108f22c4ac7b86828a052c957fb": {
      "model_module": "@jupyter-widgets/base",
      "model_module_version": "1.0.0",
      "model_name": "LayoutModel",
      "state": {}
     },
     "0113330d1eca408c89dde471d2863d2e": {
      "model_module": "@jupyter-widgets/controls",
      "model_module_version": "1.0.0",
      "model_name": "SliderStyleModel",
      "state": {
       "description_width": ""
      }
     },
     "01a1d3f08a634fac8f2855581e82e10b": {
      "model_module": "@jupyter-widgets/controls",
      "model_module_version": "1.0.0",
      "model_name": "SliderStyleModel",
      "state": {
       "description_width": ""
      }
     },
     "01a1eef70cd3461c8e62097b1a07e59f": {
      "model_module": "@jupyter-widgets/controls",
      "model_module_version": "1.0.0",
      "model_name": "SliderStyleModel",
      "state": {
       "description_width": ""
      }
     },
     "01ad2b8d19314ef0bac0243e8150715e": {
      "model_module": "@jupyter-widgets/controls",
      "model_module_version": "1.0.0",
      "model_name": "SliderStyleModel",
      "state": {
       "description_width": ""
      }
     },
     "0252bee7c8c34a0cbdb8d37aaeaa707f": {
      "model_module": "@jupyter-widgets/base",
      "model_module_version": "1.0.0",
      "model_name": "LayoutModel",
      "state": {}
     },
     "025f0bec7fac452fabe6d55fce9d4d89": {
      "model_module": "@jupyter-widgets/controls",
      "model_module_version": "1.0.0",
      "model_name": "FloatSliderModel",
      "state": {
       "description": "w0_1H_s1",
       "layout": "IPY_MODEL_a7462088e3f846dfa30b0753648cae76",
       "max": 1000,
       "min": 500,
       "step": 50,
       "style": "IPY_MODEL_aa4a8e56b5d24cb3b2db824d46b33394",
       "value": 750
      }
     },
     "0368190a78774414bd65ea7980d6b405": {
      "model_module": "@jupyter-widgets/controls",
      "model_module_version": "1.0.0",
      "model_name": "SliderStyleModel",
      "state": {
       "description_width": ""
      }
     },
     "0391752e904240279f7a2ae18feb9db1": {
      "model_module": "@jupyter-widgets/base",
      "model_module_version": "1.0.0",
      "model_name": "LayoutModel",
      "state": {}
     },
     "03e732f8be5244d3972d07196b7fc342": {
      "model_module": "@jupyter-widgets/base",
      "model_module_version": "1.0.0",
      "model_name": "LayoutModel",
      "state": {}
     },
     "06666469b9ac4540a91bd5449c7f3ba3": {
      "model_module": "@jupyter-widgets/controls",
      "model_module_version": "1.0.0",
      "model_name": "FloatSliderModel",
      "state": {
       "description": "R20_s1",
       "layout": "IPY_MODEL_44a094486aa34e5e8dd6f2cbfc3eaed7",
       "max": 25,
       "min": 5,
       "style": "IPY_MODEL_f55f9d2b681a4545906ea723b3b2b437",
       "value": 13.9
      }
     },
     "069f8d581da7492eb9863aeabd1f2f4b": {
      "model_module": "@jupyter-widgets/base",
      "model_module_version": "1.0.0",
      "model_name": "LayoutModel",
      "state": {}
     },
     "06a54807fc474593ac0db5caf22fcb85": {
      "model_module": "@jupyter-widgets/controls",
      "model_module_version": "1.0.0",
      "model_name": "FloatSliderModel",
      "state": {
       "description": "pA_s1",
       "layout": "IPY_MODEL_f98c5efb029e4ece9bfde03b4590d259",
       "max": 1,
       "min": 0.5,
       "step": 0.01,
       "style": "IPY_MODEL_5d2b7cec9aee4c3591f366211462eb73",
       "value": 0.87
      }
     },
     "06cf7c1f9afa4d8bb7f027e7e055e638": {
      "model_module": "@jupyter-widgets/controls",
      "model_module_version": "1.0.0",
      "model_name": "SliderStyleModel",
      "state": {
       "description_width": ""
      }
     },
     "07248a88423f4028aa2496b95499da79": {
      "model_module": "@jupyter-widgets/base",
      "model_module_version": "1.0.0",
      "model_name": "LayoutModel",
      "state": {}
     },
     "07e8995bd0664e9a88f33a09c875bfe9": {
      "model_module": "@jupyter-widgets/base",
      "model_module_version": "1.0.0",
      "model_name": "LayoutModel",
      "state": {}
     },
     "08aca44444d84bdf9b0480e0b5e6bc42": {
      "model_module": "@jupyter-widgets/base",
      "model_module_version": "1.0.0",
      "model_name": "LayoutModel",
      "state": {}
     },
     "09631bca483544c38cde166767213913": {
      "model_module": "@jupyter-widgets/controls",
      "model_module_version": "1.0.0",
      "model_name": "SliderStyleModel",
      "state": {
       "description_width": ""
      }
     },
     "096a3bf74948440fbf0b64210f0662d8": {
      "model_module": "@jupyter-widgets/base",
      "model_module_version": "1.0.0",
      "model_name": "LayoutModel",
      "state": {}
     },
     "0a83dd146e4944fbabd320c80b0f4030": {
      "model_module": "@jupyter-widgets/output",
      "model_module_version": "1.0.0",
      "model_name": "OutputModel",
      "state": {
       "layout": "IPY_MODEL_ec7f386dab9b429999793d5a1c5bf27c",
       "outputs": [
        {
         "data": {
          "image/png": "iVBORw0KGgoAAAANSUhEUgAAArwAAAD8CAYAAACVfXcGAAAABHNCSVQICAgIfAhkiAAAAAlwSFlz\nAAALEgAACxIB0t1+/AAAADl0RVh0U29mdHdhcmUAbWF0cGxvdGxpYiB2ZXJzaW9uIDIuMS4wLCBo\ndHRwOi8vbWF0cGxvdGxpYi5vcmcvpW3flQAAIABJREFUeJzs3Xl4VNX9P/D3vXf2zGSSmayEJBOy\nkpUQQEBQNoGyiYCg5RGFUviR0lLzteJSK4pttYot2AcUJCgKlhKwaFhUNGxiRUAhISSBrBBCyDJZ\nJrPd7ffHJDTsAcIWP6/nmWfu3HvuPeeO4PPmzLnnMLIsgxBCCCGEkK6KvdMNIIQQQggh5FaiwEsI\nIYQQQro0CryEEEIIIaRLo8BLCCGEEEK6NAq8hBBCCCGkS6PASwghhBBCurRrBl6GYUIZhslhGCaf\nYZhjDMMsaN2/iGGYSoZhfmp9jbn1zSWEEEIIIeT6MNeah5dhmGAAwbIsH2YYxgDgEICJAKYCsMmy\n/NatbyYhhBBCCCE3RnGtArIsVwGoat1uZhjmOICQW90wQgghhBBCOsM1e3gvKMwwFgB7ACQCyADw\nFIAmAAcB/J8sy9bLnDMHwBwA8PLySouLi7vZNhNCCCGEnHfo0KFaWZb973Q7yN2rw4GXYRg9gN0A\n/izL8maGYQIB1AKQASyGZ9jDrKtdo0+fPvLBgwdvssmEEEIIIf/DMMwhWZb73Ol2kLtXh2ZpYBhG\nCWATgHWyLG8GAFmWq2VZFmVZlgCsAtDv1jWTEEIIIYSQG9ORWRoYAKsBHJdl+e12+4PbFXsEQF7n\nN48QQgghhJCbc82H1gDcD+AJALkMw/zUuu8FAI8zDNMLniENZQDm3pIWEkIIIYQQchM6MkvDPgDM\nZQ5t6/zmEEIIIYQQ0rlopTVCCCGEENKlUeAlhBBCCCFdGgVeQgghhBDSpVHgJYQQQgghXRoFXkII\nIYQQ0qVR4CWEEEIIIV0aBV5CCCGEENKlUeAlhBBCCCFdGgVeQgghhBDSpVHgJYQQQgghXRoFXkII\nIYQQ0qVR4CWEEEIIIV0aBV5CCCGEENKlUeAlhBBCCCFdGgVeQgghhBDSpVHgJYQQQgghXRoFXkII\nIYQQ0qVR4CWEEEIIIV0aBV5CCCGEENKlUeAlhBBCCCFdGgVeQgghhBDSpVHgJYQQQgghXRoFXkII\nIYQQ0qVR4CWEEEIIIV0aBV5CCCGEENKlUeAlhBBCCCFdGgVeQgghhBDSpVHgJYQQQgghXRoFXkII\nIYQQ0qVR4CWEEEIIIV0aBV5CCCGEENKlUeAlhBBCCCFdmuJ2Vygd3QjWdhboMQQITAQY5nY3gRBC\nCCGE/Izc9sB7JGcjUq1fAADcajPYqKFQRA0FegwFjCG3uzmEEEIIIaSLu+2Bt2DAW3j/0BPQV+5D\nfzEXg/K+gv+xLACAwxgJdcxwsJFDAcsgQON9u5tHCCGEEEK6GEaW5asXYJhQAGsBBAKQAayUZXkp\nwzAmABsAWACUAZgqy7L1atfq06ePfPDgQQCAwy3ih7J6fHuyBpWFBxFc91/cz+ThPvY4tIwbEsPB\nFZgKTexwMJHDgJA0gFPe7P0SQgghpIthGOaQLMt97nQ7yN2rI4E3GECwLMuHGYYxADgEYCKApwDU\ny7L8OsMwzwHwlWV54dWu1T7wXqy+xY3viuvwXdEZNJ34FjEtBzGIzUUyWwoWMniFF6Sw+6GOHeEZ\n/+sXQ+N/CSGEEEKBl1zTNQPvJScwzBYA/2x9DZFluao1FO+SZTn2audeLfBe7FS9HftO1uLHwhJI\npXuR6v4R97N5sLDVAACnNghc1FAoo4d5ArA+4LrugxBCCCFdAwVeci3XFXgZhrEA2AMgEUCFLMs+\nrfsZANa2zxedMwfAHAAICwtLKy8vv+5GSpKM42eb8O3JWhQU5EF/eg/6ybm4nz0GX8YGAGjxjYMm\nZji4qGFA+EBApbvuegghhBBy76HAS66lw4GXYRg9gN0A/izL8maGYRraB1yGYayyLPte7RrX08N7\nNS5BxOHyBuw/UY0zBd8jsPa/uJ/JRV+2ECpGgMgo4QzuA23sCM8DcN16ASx30/USQggh5O5DgZdc\nS4cCL8MwSgDZAL6QZfnt1n2FuIVDGq5Ho4PHf0vq8EPRaTQV7UVk8w8YzOYhnvX0JruU3pDCB0Mb\n1zr+19Sj09tACCGEkDvjcoH30KFDAQqF4n14fpWmhba6NglAniAIs9PS0s5drsA1pyVrHa6wGsDx\ntrDb6jMATwJ4vfV9y82398YYtUqMSgjCqIQgAH1Q1ejAtyfrsP54EeTS3Uhx/IhBJ76D9uRWAIBd\n1x1c9DCoY4YBEQ8COtOdajohhBBCbgGFQvF+UFBQT39/fyvLstf3wBK5p0iSxNTU1MSfPXv2fQAT\nLlemI7M0DAKwF0AuPAkaAF4A8D2AfwMIA1AOz7Rk9Ve71q3q4b0aWZZx4pwN+4pqcLLgJ+hO7UU/\n+Qj6s/nwZhyQwcBmSoQ2bjgUUcOA0PsApea2tpEQQgghN+5yPbxHjhwpSUpKorD7MyFJEpObm+ub\nkpJy2Z/xr9nDK8vyPgBXmv9r+M007nZgGAYxgQbEBBqAwT3AixPxY0UDMk+cxbnj3yGgZj8G1uYi\n9dt3gP3/AM9q4AzuB6+eD4GNHOJZ/pilX0IIIYSQewxLYffno/W/9RUD221fae1OU3Is+kWY0C/C\nBIyMh831JA6U1uGtgnI4ivYgoukA7j+Vh5jKPcBOwKnyhRD+ALx6jvAsgGHsfqdvgRBCCCGEXIef\nfdelXq3AsLhAPD+xH1599hmMfXYt8h/5Cq/GbMJixW+x3REPe9FuMJ/9Fvh7AmxvpcDxn6eB49mA\no+FON58QQggh95AdO3boo6KiEuLi4uJtNlunraC1YsUKU1xcXHzbi2XZtP3792sBoF+/frEWiyWx\n7VhlZaUCABwOBzN27NgeYWFhicnJyXGFhYWqy107KyvL22KxJIaFhSW+8MILQZcrM3nyZItWq021\nWq3ns+WsWbNCGYZJq6qqUgCATqdLbX/OsmXLzDNmzAjrrO/gan52PbzXEuCtwcTUEExMDYEsD0dJ\nbQu+OFGDkvyD0J7egz6NR3Hfj+uAnzIhgUWzOQna2BFQxQwDuvcDFJf9s0IIIYQQgrVr15oyMjKq\n0tPTL3juied5KJXKG77uvHnz6ufNm1cPAAcOHNBOnjw5cuDAgY529ZY88MAD9vbnLF261M9oNAoV\nFRV5K1eu9M3IyOi+devWkvZlBEHA008/HfbFF18U9ejRg09JSek5efLkhrS0NOfFbQgNDXV98skn\nPunp6fWiKGLfvn2GgIAA/oZvqhNR4L0KhmEQ6a9HpL8eGBgBUZqCvMpGrC2qQs3xfTCd248BNblI\nqf07sH8JeFaDluD7YOg5AlzUUCAggcb/EkIIIT9DTU1N7IQJE3pUVVWpJElinn322TPNzc3c1q1b\nTbt37zbu2LHDOGfOnNqXX365m9FoFEtKSjRlZWV5CxcuDNqwYYOf2Wzmu3Xr5k5NTbW/+uqr1ddT\n99q1a00TJ060Xqtcdna2z6JFi84AwMyZM60LFy4MkyQJbLvssmvXLq/w8HBXfHy8GwAmTZpUn5WV\n5ZOWlnb24uu1HjOlp6fXb9261dC3b1/brl27jB1pc1xcXHzbdllZmWbTpk1FY8eOtXXk3I6gwHsd\nOJZBSqgPUkJ9gOE94eRn4WCZFe8UlsFemIPuDZ7xvz6Vu4GdgEPpC3fYYBh6jvA8AOcbfqdvgRBC\nCCG3webNm72DgoL4Xbt2nQSAuro6zmw2i99++61+3LhxjTNnzrRmZ2cb8vPzdT/++OOxuLg49969\ne3WffvqpKTc3N5/nefTq1Ss+NTXVDgAvvfRS4MaNG80X19O/f//mDz744FT7fVu2bPHdvHnzyfb7\nZs+ebWFZFuPHj7e+8cYbVSzLorq6WhUREeEGAKVSCb1eL1ZXVyuCg4OFtvNOnTqlCgkJcbd97t69\nu/v777/XX+6eY2NjXdu3b/epqanh1q9fb3riiSfq2gdel8vFtg+2jY2N3EMPPdQIAAUFBfkAsH79\neuOSJUuCRowY0XI93/e1UOC9CRolh0HRfhgU7QeM64MGuxv/LanDp/nHIRbvQoz9EAad3ANj8WcA\ngGZdKBDxIPQ9R4CJeADwuuTPLSGEEEK6gN69eztefPHF0Hnz5oU8/PDDjaNHj75sb2VycnJLXFyc\nGwBycnL0Y8aMaTAYDBIAjBw58vzDQosXL65evHjxNXt6v/nmGy+tViv17dv3/JCDDRs2lERERPBW\nq5UdN25c5PLly83z58+vu/m7vNT48eOtmZmZpsOHD3utW7euvP0xtVottQVbwDOG9+DBg15tn3Nz\nc9Uvvvhi9127dhWp1epOnWGDAm8n8tGpMDoxGKMTgwEMQ1WjA3tO1KI4/yAU5XuQ3HwE9+VtAnPs\nYwBAo3csFNFD4RU7HAgfAKgNd/YGCCGEENIpkpOTXYcPH87ftGmT8aWXXgrZuXNn01tvvVV1cTmd\nTidd7vyLdbSHd926daZJkyZdMD44IiKCBwBfX19p2rRp9QcOHPACUBcYGOguLS1VRUZG8jzPw2az\ncYGBgUL7c0NDQ92VlZXnH1A6ffr0BT2+F5sxY4b1vvvu6zllypQ6juM6cmsAgMbGRnbq1KmRK1as\nKA8PD+/0cb8UeG+hYKMWU/qEAn1CIcsTUVzTgi0nzqIyfz+8Kr9FmvUo0g6uBg69CxEcmszJ0MQM\nhTZmqOcBOFoAgxBCCLknlZWVKQMCAoT09PR6X19fcfXq1X7XOmfYsGG2WbNmWV577bUqnueZr776\nyufJJ5+sATrWwyuKIj7//HPfXbt2FbTt43ketbW1iuDgYMHlcjHbtm0zDhs2rBkAxo4d25CZmWke\nMWJEy5o1a3wHDBjQzF707NGDDz7YUlZWpikoKFBZLBZ+8+bNpnXr1pXgCmJiYtwvvPBC5ZgxY5qv\ndb/tPf7445bp06fXXqkn/GZR4L1NGIZBVIAeUQFRwP1REKUncLyqCR8XnUbt8b3wrf4OfWvykFz7\nd+C7tyEwKjT694ZX7FBooocA3XrTDBCEEELIPeLQoUPa559/vjvLslAoFPLy5cvLr3XOoEGD7I88\n8kh9YmJigtls5pOTk69rHOv27dsNwcHB7rYHzADA4XCwI0aMiOZ5npEkiRk8eHBTRkZGDQAsWLCg\ndvLkyRFhYWGJRqNR3LBhQzHgCetPPvlk+O7du08qlUosWbKkYvTo0TGiKOKXv/xlbZ8+fS6ZoaG9\nP/zhD7XX0+6ioiLVjh07fEtKSjQff/yxHwCsXLmy7OJZJW7GNZcW7kx3YmnhewUvSjh6ugGHCsvR\nVLgb5prv0Q/HkMB6/n64WQ2aA/p4AnDUg0C3VICjf68QQgghV1hauCwlJeW6gtfdJiMjo5terxev\nd5aGn6sjR474paSkWC53jBLTXULJsUgLNyEt3ASMTIVLEPFjRQNWFBTDXrQbAXU/oO+ZfJjPLgZ2\nL4aL1aE5IA36mAehiW4LwDc+fx8hhBBCSFdFgfcupVZw6N/DjP49zMCYfnDyIg5XWLGi4CQcJ3Yj\noO4g+p7Jh9/ZvcCe1+BmNWjy6w1d9APQRT8AhKTRGGBCCCHkHvb222+fudNt6Coo8N4jNEoOAyP9\nMDDSD0B/OHlPD/B7RSdhL9oDc91B9D17DLHVbwDfvg6BUaLBlAx15GAYYgZ7HoLTeN/p2yCEEEII\nue1oGbB7lEbJYUCkGXN/cR+eXvAHTPvTerTM2oM1g77GP/xfxUfSaJyuaYD2+2XAx5MhvR6Ourfv\nQ33W7yHlfQo0X7JACiGEEEI6EcdxaXFxcfHR0dEJw4YNi6qtreUAYP/+/dpevXrFRUVFJcTExMSv\nWrXKt+2cgoICVXJyclxYWFji2LFjezidTqaj9Q0ePDjaYDD0Gjp0aFT7/VOnTg2PjY2Nj4mJiR89\nenSPxsbGS/Kf0+lkpkyZYomJiYmPjY2Nz87O7tS5UnU6XWr7zw888EB0cXHxbRuLSQ+tdVGiJON4\nVRMOnzgN64lvoa36AQn8MaSyJ6FjXACARk0I3MF9YIwZBFXEQCCgJ8B2fM48Qggh5G5wtz60ptPp\nUu12+48AMGnSJEt0dLTzjTfeOHv06FE1wzBISkpylZWVKfv27dvz+PHjx/z8/MQxY8b0mDhxonXO\nnDnWX/7yl2EpKSmOhQsX1nSkvi1bthhaWlrYVatW+efk5Jxfaa2+vp41mUwSAMyePbt7QECA8Je/\n/OWCnq+//vWv/ocOHfLKysoqq6ysVIwcOTL66NGjx682l64gCFAoOjZYoP13YbPZmAEDBsTl5uYe\n79DJHUQPrf0McSyDxBAjEkOMwJAEyPKvUVFvx/aSczhz/HsoKg8gvCUXfUp2Q1W6BQDgZL3QZE6G\nOqI/vKMGggntC2h9r1ETIYQQQq6lf//+LUePHtUCnkUp2vZbLBbeZDIJVVVVCpPJJH733XeGLVu2\nlADArFmz6hYtWtSto4H34Ycfbr5cz2xb2JUkCQ6Hg2WYSzuN8/PztUOHDm0CgJCQEMHb21vcs2eP\nbujQoRdMDRYSEpI0YcKE+t27d3v//ve/P9vc3MytWbPGn+d5xmKxuLKyskoNBoNUUFCgeuyxx3rY\n7XZ29OjRDe2vsW3bNsP999/fDADp6ekhX3zxhQ/HcfKQIUOaVq5ceboj93q9KPD+TDAMg3CzF8LN\nEUDfCACPocHuxo/lVmwpOgZX6X741f+E5OoixJ77B5gDfwcAWHUW8MFpMEYNgNpyHxAQT9OhEUII\nIddBEATk5OQYfvWrX13S45yTk6PjeZ6Jj493VVdXKwwGg6hUen7pt1gs7urqahUArFixwrR06dKg\ni8+3WCzOHTt2XHEhiDZTpkyx5OTkGKOiohzvvvvuJaEyJSXFnp2d7TNnzpz64uJiVV5enq68vFwF\n4JK5cM1ms5Cfn38cAM6ePcv93//9Xy0A/O53v+u2bNkyvxdffPFcenp62OzZs2vmz59f99e//tW/\n/fnbtm0zTpo0qeHs2bPctm3bfEtKSvJYlkXbkI9bgZLLz5iPToWhPQMxtGcggGEQRAkFZ5vx75LT\nsJ74Hqqqg4hozkevli+hLt4EAHAzajT6JIAN7QOfqPvAdU8DfC3AZf61SAghhPycuVwuNi4uLr66\nuloZGRnpnDhxYlP74+Xl5cqZM2f2WL16dem1luGdN29e/bx58+qvWugqsrKyygRBwFNPPRWWmZnp\nu2DBgrr2xxcsWFB7/PhxbVJSUnxISIird+/etiu1acaMGda27UOHDmn/9Kc/hTQ3N3MtLS3cgw8+\n2AgAhw8f1m/fvr0YAObOnVu3ePHi7m3n/PDDD/p33333NMdxslqtlqZNm2YZN25cw7Rp0xpv9P6u\nhQIvOU/Bsf8bBjE4AcAs1NlcOHLKitKT+XCVHYB33RHE1xUhoT4T3NGVAAA7Z0SzOQmqsD4wRvYD\nG5IKGIIpBBNCCPlZU6vVUkFBQX5zczM7ZMiQ6Ndffz3gj3/84znAM672F7/4RdTLL79cOXz48BYA\nCAwMFJqbmzme56FUKlFWVqYKDAx0AzffwwsACoUC06dPr//b3/4WdHHgVSqVWL169am2z6mpqXHx\n8fGXXVHNYDBIbdtz5syJyMrKOjlgwADHsmXLzLt37z4/pIJl2UseFMvPz1cFBwe7NRqNDAA//fTT\n8c8++8w7KyvLd8WKFQH//e9/izpyL9eLAi+5KrNejWE9g4CeQQCGQZZllNXZsaP8HKpPHIZceRjm\nxjwknC1GTPW3YA96/mzbFCbYzElQhfaGT2QfsN16Ad4hFIIJIYT87BgMBmnZsmUVjz76aNTChQvP\niaLIjB07Nuqxxx6rmzlz5vneUpZl0b9//+Y1a9b4zpkzx5qZmWkeN25cA3DjPbySJCE/P1+dmJjo\nkiQJn376qU90dPQlQba5uZmVZRne3t7Sp59+6s1xnJyWlnbVJYQBwG63s2FhYbzL5WL+9a9/mYKD\ng3kA6N27t23VqlWm9PT0+lWrVpnbym/ZssU4cuTIJgBobGxkbTYbO23atMYRI0bYIiMjk673/jqK\nAi+5LgzDIMLPCxF+EUBaBIDJEEQJJ87Z8GnZGViLDwNVP8Gv+Tjiq4oRdXbP+RDcwhnR7NsTXLcU\n+PToA2VICmCOopkhCCGEdHn333+/Iy4uzrFy5UoTwzD44Ycf9FarVbF+/Xo/AMjMzCwdOHCgY8mS\nJaenTZsW+dprr4UkJCTYFyxY0OGZJtLS0mJLSko0DoeDCwwMTF6+fHnZxIkTm2bMmBFhs9lYWZaZ\nnj172j/44INyAFi3bp3xhx9+8PrHP/5x5syZM4pRo0bFsCwrBwUF8evXry/tSJ3PPffcmX79+vU0\nmUxC7969bTabjQOA5cuXVzz22GM9/vGPfwS1f2jtq6++Mq5YsaICABoaGrhx48ZFuVwuBgAWL158\n6vK13DyalozcErwo4eQ5G/LLq2At+RHy2aPwbcxHrFyKGOY01IwAwDMmuEEfBTEgAfrwVBjCe3ke\njNP63OE7IIQQcq+4W6clIxdyOBxM37594/Ly8jp1OrI2NC0Zue2UHIuewd7oGewN9I8F8BgkSUZF\nvR1fn65FdfERiFW50FmPI7yhBD2btsFQ/O/z5zcqA9DiEwsuOBE+lhSouyUC5mhaLpkQQgi5R2m1\nWvlWhd1rocBLbhuWZWDx84LFzwvoFQ5gAgDA2uLG8apGlJcVw37qCBQ1+fC1nUR0dTkiz+2H6qgI\nAJDAwqrpDqdvDJRBCfAJS4QqON4zLIKCMCGEEEKugAIvueN8vVQYGOWPgVH+APoD8KwUV1FvR86Z\nOpwrzYf77DGo6wvhby9FlP0Ygs58De5Hz3AcCSwa1N3g8IkCFxAHQ/d4eHXrCfhF08IZhBBC7goZ\nGRnd9Hq9+Oqrr1Z3xvUGDx4c/dNPP3n16dPH1n5VtfYcDgczZcqUiNzcXJ2Pj4+wcePGktjYWHdn\n1H+vocBL7koc2/ZwnBeQHAZgNADP2OCy2hZ8eaYO9RX5cJ/Nh7L+BMyOUkQ6TsBydi9UueL56zRz\nvrDpLRBNUdAExcDYvSeUATGeuYMV6jtzc4QQQshNeuaZZ862LSN8pTJLly71MxqNQkVFRd7KlSt9\nMzIyum/durVDU5h1NRR4yT1FybGIDjQgOtAApFoAjAHg6RE+VW/Ht+cacK7iBJxnj4OtOwmDrRQh\n1lOwNHwBv9KN568jgUWDKggOfRhkUw+oA6Ph0z0OSr9IwCechkgQQgi5aQsXLgzasGGDn9ls5rt1\n6+ZOTU21V1ZWKkaOHBl97Nix499995124MCB8UVFRbnR0dHu0NDQxPz8/Pz289xeyZWWEW4vOzvb\nZ9GiRWcAYObMmdaFCxeGSZIElmXblzEsWrSom16vF8vKyjQDBw5s+uijjyo4joNOp0t9/PHHa3fv\n3u3t7+/Pb9q0qaRbt25Cv379YpOSkuzff/+93m63s2vWrCn985//HFxYWKh9+OGH65ctW3bmpr+8\nTkaBl3QJXPvxwfEhAIacP9bo4FFW24IDVVVoOF0AoeYEVA3FMNpPoZuzChF1R2E8+b+VEyUwaFL4\no8UrFKIxHEr/HjAERcErsAcYXwugD6D5hAkhhFzV3r17dZ9++qkpNzc3n+d59OrVKz41NdUeEhIi\nuFwutr6+ns3JydEnJCTYd+7cqZdl2WY2mwWDwSB1xiITAFBdXa2KiIhwA56FJfR6vVhdXa0IDg4W\n2pfLzc31+vHHH/NiYmLcDzzwQPTatWt9Z86caXU4HGyfPn1aVq9efeqZZ54Jfu6557qtXbu2AgBU\nKpWUl5d3fPHixQGPPvpo1A8//HA8ICBAsFgsSS+88EJ1UFCQeLk23SkUeEmXZ9QqkRLqg5RQH6Bf\nz/P7ZVlGfYsbJ2tbcLb6DJoqiyDUnISiqRwG+2kEWKsQ3vANAis2X3A9F6NGkzoYTq/ukHzCoDZb\noA+M8ARin3DAy48CMSGE3EX+kHUktOhss64zrxkTZLC/OSXlivPG5uTk6MeMGdPQ1ls7cuTI83PR\n9unTx7Zz5079vn37DM8++2zVjh07jLIso3///jbg5pcRvl5JSUkt8fHxbgCYOnVq/d69e/UzZ860\nsiyL2bNn1wPArFmz6iZNmhTVds4jjzzSAAApKSmOqKgoR3h4OA8AoaGhrpKSElVQUJDjdrW/Iyjw\nkp8thmFg1qth1qsBiwlA4gXHW1wCTlntOFpdh6aqYjhrSoCGcmiaT8PoqESQ/TS61/4In+KWC85z\nMyo0KQPg0HWD5B0CzicUWr9wGALDoTKFeVacU+tv450SQgi5mwwePLh5z549htOnT6umT5/esGTJ\nkiAA8rhx4xqBzllGGAACAwPdpaWlqsjISJ7nedhsNi4wMFC4uBxzUSfNxZ8vt79taWCWZaFWq88v\n6sCyLARBuOt6fSjwEnIFXmoF4oK8ERfkDaREXHBMlmU02HmcsjpwsKYaTVUlcNaWg2msgKrlDAyu\ns/CrP4du1hMIKG8Ay1y4wIud9UKzKhBOXRBkfTA4YwjUfqHw9g+DxtQdMAQDOhP1FBNCSCe4Wk/s\nrTJs2DDbrFmzLK+99loVz/PMV1995fPkk0/WAMCIESNsr732Wki/fv1sHMfBx8dHyMnJMS5durQS\n6Lwe3rFjxzZkZmaaR4wY0bJmzRrfAQMGNLcfv9smNzfXq6CgQBUdHe3OysoyzZ49uwbwLEvctszx\nBx98YO7Xr1/zzbbpTqHAS8gNYBgGvl4q+HqpkNTdCKTGXFLG4RZxptGB/XWNaDxXAXtNBcSG02Cb\nK6Gxn4XeWQ2z/SyC6/Lhh8ZLQjEPJZqVZtjV/uB1gZD1gVAYg6DxDYHeLwRa325gDEGAzkzLMxNC\nyF1m0KBB9kceeaQ+MTExwWw288nJyed/DoyNjXXLsswMHjy4GQAGDBhgq6qqUvn7+3d43OvllhGe\nPHly0+9///tuffv2bZk+fXrjggULaidPnhwRFhaWaDQaxQ0bNhRf7lqJiYkt/+///b+wtofWnnji\niQYA0Gq10oEDB7zefPPNbmbpl020AAAgAElEQVSzmd+8efM9O8MDLS1MyB1kdwuobnLhrLUJjedO\nwV57GnzDGTC2KihbqqF11cDI18APDQhgrDAy9kuuIYKFjTPCrjTDpfGDqPMHq/eHwjsQGp9g6MzB\n0PkEgdEHeMIxp7wDd0oIIbcOLS1847Kzsw1LliwJvNxcvjqdLtVut/94J9p1I2hpYULuUjqVAhF+\nCs98w9HBAPpdUkaWZTQ6eJxrdiHf2oim2tNwWs+Ab6gCbNXg7DVQO+vg5ayDj/0c/Kwn4IdGqJlL\nhmkBAGysAS0KX7hUJvAaE2StGazeDKUhACpjALx8A6Ez+oP18vMEZFWnPudBCCGE3HbXDLwMw2QC\nGAfgnCzLia37FgH4NYCa1mIvyLK87VY1kpCfM4Zh4KNTwUen8sw/jO5XLMuLEqwtbpxsdsJqrYe9\n/gycDVUQms5BbqkDa6+BylUPjbseBpcVxqYimJgmmNAMjrn8rz0uqNHCecOpNMKt8oGg9oGsMYHx\nMkHhZYbKYIbG2w9eRj+oDGYwOhOg8QEUqlv0jRBCCOks48aNax43btxlx+beS72719KRHt4PAPwT\nwNqL9v9dluW3Or1FhJAbpuRYBHhrEOCtAUJ8APS4anmHW0S93Y38Zicaredgt1bD3VwLsbkGUksd\nGEc9OKcVat4KrasRXo4mGOVK+DI2+MB2xZAMAA5GAwdrgEPhDV7pDUFlhKT2hqzxAaczgtOZoPTy\ngVpvgtbbBJ3BBFbnA6i9AZUeuMyDFYQQQsiNuGbglWV5D8MwllvfFELI7aZVcQhRaRHiowVCfQHE\nXvMcJy/Canej0OZCc1M9nI21cDbVgW+pg2irAxwNYFxWcK5GqNxNUPNN8HI1w0uqhYGxw4gW6Bnn\nVeuQwMDB6OBgveBSGOBW6CEq9ZBUBkgqbzAaA1iNEZzOCKXWCJWXN9RePtDofaD2MoJRGwC1AVBq\naaYLQshdqaqqShEaGpr8l7/85dSzzz5bc+0zPBwOBzNlypSI3NxcnY+Pj7Bx48aS2NhY98XlXnnl\nlYCPPvrIn2EYxMXF2Tds2FCm0+nktLS02JaWFg4A6uvrFcnJyS07d+4sliQJs2bNCv3mm2+MGo1G\nyszMLBs0aNClD47co25mDO98hmFmADgI4P9kWbZerhDDMHMAzAGAsLCwm6iOEHI30Cg5BBu1CDZq\nO9SL3EaUZNhcAqwOHmUtDtgb6+C01cNls4JvsUKyN0JyNoBxNIJxN0PBN0MpNEMt2KBx2aCVK6GX\n7dAzDhhgh4q59sPMIlg4GS0crA5uVgee00FQeEFUekFSekFW6cGo9GDUXmA1BnAaA5RaAxRaPdRa\nb6h0Bmi8vKHQ6AGVF6D0oqEahJBOsXbtWt+UlJSWjRs3mq4n8C5dutTPaDQKFRUVeStXrvTNyMjo\nvnXr1gtmTygtLVWuXLkysLCwME+v18tjxozp8f7775t+97vf1R06dKiwrdyoUaMix48f3wAAGzdu\nNJaUlGjKysrycnJyvNLT08OOHj1a0Hl3fGfdaOBdAWAxALn1fQmAWZcrKMvySgArAc8sDTdYHyHk\nHsexDIxaJYxaJUJNOiDUfN3XcAkibE4BZ5wCbDYbHLYGuFoawds9L9HRBMnZCNllA+NqBsvbwPE2\nKIQWKAU7VG47NM4maORq6OGAF5zQwQU1w3e4DQI4OBkNXIwWblYDntNAYHUQFRpICi0khQ6yUufp\nXVbqwKi8wKp04NReYNVeUGp0UGq8oNToodLooNJ6QaXxAqPyAhQaz3k0zRwh97zCwkLV6NGjo5OS\nkux5eXm6mJgYx8aNG8vaVl7buHGj6a233jr15JNP9iguLlZGRkZ26H9E2dnZPosWLToDADNnzrQu\nXLgwTJIkXDy/riiKTEtLC6tWq0WHw8F27979guvX19ez3333neGTTz4pBYAtW7b4TJ8+vY5lWQwf\nPrylqalJUV5ermxbQe1ed0OBV5bl6rZthmFWAcjutBYRQsgVqBUc1HrOszqenxeAwBu+lluQ0OIS\nUMuLsNsdcNqb4WpphMveBMFpg+BsgeBshuS0QXbbALcd4O3g+Bawgh2s4IBS9LxUvAMqRz1Usgte\nshNaxgUt3NDBdcn8yh1qGxRwM2q4GTV4Rg2eVUNg1RBZNURODYnTQFJoIHMayEoNwGkApQaMUgNG\nqQWr0IBVacCpdeCUGihUWijUnpey9V2l1kGh0oBRaACF2hO2KWgT0qnKyso07733XtnIkSNbHn30\nUcubb77p/+qrr1afPHlSWVNToxw6dKh9woQJ1rVr15peeeWVagAYO3Zsj+LiYs3F15o/f371/Pnz\n66qrq1URERFuAFAqldDr9WJ1dbUiODj4/NQ8ERER/G9+85uzERERyWq1Who8eHDTpEmTmtpfb/36\n9b4DBw5sMplMEgBUVVUpLRbL+aERwcHB7p994GUYJliW5arWj48AyOu8JhFCyK2nUrBQKVTwBQAf\nLQBTp1xXlGS4BBF2twirS4DLaYfL0QKXoxm80w7B1eJ5Oe2QXC2QeAfgtkPmHYDgAMM7wAhOcKIT\nrOh55yQXlIITStkFhdwAleyGVnZBDTc0cEMNHhq4r/oQYUcIYMFDBZ5RgmdUEBglBEYFgVVCZFSQ\nWBVEVgWJ82zLnArgVJA4NRhOCSjUkDk1GIUKjMLzzio0YJRqcAoVWKUarEINTqUGp1RDoVRDodJA\noVSDU6qgPL+t9swX3Xp9CuLkXhUUFOQeOXJkCwA88cQTdcuWLQsAUL127VrThAkTrK3763/1q19Z\n2gLvxcMTbkRNTQ23detWn5MnT+aazWZx7NixPZYvX25KT08/v3rbv//9b9OsWbM6PJTiXteRack+\nATAEgB/DMKcBvAxgCMMwveAZ0lAGYO4tbCMhhNwzOJaBTqWATqUA9GoAXgD8b0ldkiTDJUhwCSKa\n3SJcbhfcTjvcLjsElwO8ywnRbYfgdkJ02SHxTkiCC7LbCUlwQOadgOACBBcY0QkIbrCSC4zgAiu5\nwbV7KUQ3OJmHQrZDIfPQyDyU4KGEABV4qCBABeG6hod0lAgWAhTgoYDIcBCghMAoIDJKSAwHkVFC\nZJWQGAWkdu8yq4DMKCGzSsicAjKrBFgFZFYFcAqAVXqCOqcEOAVYzrOf4VRgOSUYhRIspwSrUIHh\nFOAUSrCcCpzSc55CoQKrVILlFFAo1GCVCig4JTiFCgqFEqzCUx+41ndWQQ9R/swwF/33bvu8adMm\nU01NjXLz5s0mADh37pwyNzdXnZSU5LpWD29gYKC7tLRUFRkZyfM8D5vNxgUGBl4w8frnn3/uHRYW\n5urWrZsAABMnTmzYv3+/vi3wVlVVKY4ePeo1derU84tNBAcH82VlZecfUqiqqlJ1ld5doGOzNDx+\nmd2rb0FbCCGEXAeWZaBVcdCqOEAHAFoAPre1DbIsQ5BkuAUJdkFCo+AJ3oLbBZ53QnS7ILid4N1O\nSIIbotsFSXBC5N2QeM+2LAqQBRdk0Q1Z4D0hXHQDkgBGdAMiD0Z0gZEFMCIPVnKDkQWwEg9O4sHK\nAlhJACfx4GQXOLkFHAQoZAEcBHCyCKUnLkMBEUoIUEKEAsJN94pfLwEsRHD/ezGedwlca3j3bIsM\nB5lRtL57jnneFZBbtz2Bvm2bAxgFZJYFGEVrsOeA1nIM6ynHsApPj3nrPnCe97b9DMuBadvHcGA4\nJRiOA8twYBSe/SyrOF+G4zzbLKsAy3Gt2yxYTgGWU4Br3cexXLt9CrAc66mT4TztOf/etf5BUFVV\npdq5c6fXiBEjWtatW2caOHCg7ejRo+qWlhbu3LlzR9vKPf30090+/PBD01tvvVV1rR7esWPHNmRm\nZppHjBjRsmbNGt8BAwY0Xzx+12KxuA8fPqxvbm5mvby8pG+++caQlpZ2fsaFjz76yHfYsGENOp3u\n/F+ACRMmNCxfvjzg17/+dX1OTo6XwWAQf1aBlxBCCLkShmGg5BgoORZe6ra92jvZpKsSJRm8KIGX\nZDhECTwvQBDcEHkeAu+CKPCtn92egC7wkAQeouh5lwUeksRDPv/ZDVkSPKFd5IHWbUhC6zbfus2D\nEQVAFsG0HmNkEYzEg5ElMJLgCfSy2BrgRc9xiGAlEawsgpPdYGUHWEjg5NbILAtgIV24738R+oJt\nZQdmNrnTJM8dt95R24tpu0NIDAu57TPDQm4tc7eyWCzOd955J2DOnDm66Oho5zPPPFOzaNGiwDFj\nxlwws9Vjjz1mffzxx3u89dZbVVe6VpsFCxbUTp48OSIsLCzRaDSKGzZsKAaAsrIy5ZNPPhm+e/fu\nk8OGDWsZP368NTk5uadCoUBCQoI9IyPj/PCFrKws07PPPntBXVOnTm3cunWrMTw8PFGr1Urvv/9+\nWSd9DXcFRpZv379u+/TpIx88ePC21UcIIYT8XEmSDFGWIUqelyDJkEQRgsB7grwkQuR5SJIASRQ9\nwV4SIYsCRFGAJAqQJRGSIECW2n0WPZ8hiZAkEbLIQ5ZEyJIISCJkWYQstm5LIiD/75hnWwJaA33b\ncUYWAUkC5P+VY2TJU0aWwMrS/8rJcuu7dL7MgIWfHZJluU/7+z9y5EhZSkpK7Z36/gsLC1Xjxo2L\nPnHixLE71YafmyNHjvilpKRYLneMengJIYSQLohlGbBgoLzgmT8lgEuGh977FnatoRCk8929vwMQ\nQgghhNyjYmNj3dS7e/egwEsIIYQQ0skKCwtV0dHRCbezzmHDhkW1r7O6upobOHBgdHh4eOLAgQOj\na2pqOABYsWKFKSYmJj4mJiY+NTU17rvvvtMCwJEjR9RxcXHxbS+9Xp/66quvBlxcjyRJeOqpp0LD\nwsISY2Ji4vft26frrHvIzs42DB06NKrts8vlYuLj43ve7HUp8BJCCCGE3OM+/PBDHy8vrwueTHz5\n5ZeDhwwZ0lxeXp43ZMiQ5j/96U9BABAVFeX69ttvC4uKivKff/75M3Pnzg0HgJSUFFdBQUF+QUFB\nfl5eXr5Go5Eee+yxhovrar8M8YoVK8rT09PDrtY2SZIgijf20OSXX36p79u3r+2GTm6HAi8hhBBC\nyC2Un5+v6tmzZ/zu3bt1giBg7ty53RMTE3vGxMTEv/nmm34AsHbtWp8BAwbESJKE8vJypcViSayo\nqOjQs1aNjY3ssmXLAhctWnTBzAs7duzwmTt3bh0AzJ07t2779u2+APDQQw+1+Pv7iwAwdOjQlrNn\nz6ouvuZnn33mHRYW5oqJiXFffOxKyxC3L1NYWKiyWCyJjzzyiCUmJiahuLhYNX369LDExMSeUVFR\nCU8//XS3trJZWVneERERCfHx8T2zsrIumFtx27Zt3mPGjGlqampihwwZEhUbGxsfHR2dsGrVKt+O\nfDdt6KE1QgghhJBb5MiRI+rHHnssMjMzs3TAgAGOt956y89oNIp5eXnHHQ4H07dv37jx48c3zZgx\no2HTpk2+r7/+uv9XX31lfP7558+EhYUJR44cUU+bNi3yctfet29foZ+fn5iRkRGyYMGCar1eL7U/\nXldXp2ibSzc0NJSvq6u7JPe98847fkOHDm28eP8nn3ximjJlSt3l6u3oMsQVFRXq1atXlw4fPrwM\nAN5+++3KwMBAURAEDBw4MPb777/XJiUlOefPn2/56quvChMSElzjxo3rcdE9ev/tb3+r2rRpk3dQ\nUBC/a9euk633dl1LMFLgJYQQQgi5Berr6xUTJ06MysrKKk5LS3MCwM6dO70LCgp0n332mS8ANDc3\nc/n5+Zq4uDj3+++/X5GQkJCQmpraMnfu3Hrgf8MMrlTH/v37taWlperVq1efKiwsvKSntg3Lspes\n/Pb5558bPv74Y7/9+/cXtN/vdDqZnTt3Gt9+++3TN3H7CA4Odg8fPryl7fOHH35o+uCDD/wEQWBq\namqUR44c0YiiiO7du7uSkpJcADB9+vS6999/3x8ASktLlT4+PoLBYJB69+7tePHFF0PnzZsX8vDD\nDzeOHj36uoY5UOAlhBBCCLkFDAaD2K1bN3dOTo6+LfDKsswsWbKkYvLkyU0Xly8tLVWxLIva2lqF\nKIrgOA7X6uHdu3evPi8vTxcSEpIkCAJTX1+v6NevX+yBAwcKzWaz0NbzWl5erjSZTOeXIP7++++1\n6enp4Vu3bj0RFBR0wQDbrKwsY3x8vD00NFS4tNaOL0Os0+nO9zgXFBSo/vnPfwYeOnTouL+/vzh5\n8mSL0+m86tDa//znP8YRI0Y0AkBycrLr8OHD+Zs2bTK+9NJLITt37mzqyEIdbWgMLyGEEELILaBU\nKuXt27cXf/LJJ+Z3333XBAAPPfRQ44oVK/xdLhcDAEePHlU3NTWxPM9j1qxZlg8//LAkOjra+cor\nrwQCFz5IdvHLz89PXLhwYc25c+eOVlZW5u7Zs6fAYrG4Dhw4UAgAo0aNanjvvffMAPDee++ZR48e\n3QAAJ06cUD366KORmZmZpcnJya6L2/2vf/3LNHXq1Por3deECRMa1q1bZ5YkCV9//XWHliG2Wq2c\nVquVTCaTeOrUKcWuXbuMANCrVy9nZWWl6tixY+q2utvO+fLLL70nTJjQBHhWkjMYDFJ6enp9RkbG\n2Z9++um6ZoagHl5CCCGEkFvE29tb+uKLL04OGTIkxmAwiE8//XRtWVmZOikpqacsy4zJZOK3bdtW\n/Oqrrwb379+/edSoUbZ+/frZe/fu3XPixImNvXv3dt5o3a+88krVI488EhkeHu4XEhLi/vTTT4sB\n4I9//GNwQ0OD4re//W04ACgUCjkvL+84ADQ1NbH79u3z/vDDD8vbX+tvf/ubPwA8++yzNTeyDPGA\nAQMciYmJ9sjIyMTg4GB3WlqaDQB0Op38zjvvlI8bNy5Kq9VK9913n81ms3GCIKCsrEyTmprqBIBD\nhw5pn3/++e4sy0KhUMjLly8vv3qNF6KlhQkhhBByT2MY5q5bWpjcnC+++EL/4YcfmtavX1/R0XNo\naWFCCCGEEHLPGDVqlG3UqFE3Pf9uGxrDSwghhBBCujQKvIQQQgghpEujwEsIIYQQQro0CryEEEII\nIaRLo8BLCCGEEEK6NAq8hBBCCCG3yY4dO/RRUVEJcXFx8Tabjbn2GR2zYsUKU1xcXHzbi2XZtP37\n92sBoF+/frEWiyWx7VhlZaUCABwOBzN27NgeYWFhicnJyXFXWpo4KyvL22KxJIaFhSW+8MILQZcr\nM3nyZItWq021Wq3ns+WsWbNCGYZJq6qqUgCATqdLbX/OsmXLzDNmzAjrrO/gaijwEkIIIYTcJmvX\nrjVlZGRUFRQU5Ov1+vOLIfD8VRcqu6Z58+bVt63Atnbt2tKQkBDXwIEDHe3qLWk7HhISIgDA0qVL\n/YxGo1BRUZE3f/786oyMjO4XX1cQBDz99NNh27ZtKyoqKjq2adMm06FDhzSXa0NoaKjrk08+8QEA\nURSxb98+Q0BAwM3dWCehwEsIIYQQ0smamprYIUOGRMXGxsZHR0cnrFq1yvftt9/227p1q+nPf/5z\nyIQJEyKys7MNaWlpscOGDYuKjo5OBICFCxcGWSyWxLS0tNjx48dH/OlPfwq83rrXrl1rmjhxovVa\n5bKzs31mzZpVBwAzZ8607t+/3yBJ0gVldu3a5RUeHu6Kj493azQaedKkSfVZWVk+l7te6zETAGzd\nutXQt29fm0Kh6NAKZ+17pzUaTe+tW7fqO3JeR9HCE4QQQgghnWzz5s3eQUFB/K5du04CQF1dHWc2\nm8Vvv/1WP27cuMaZM2das7OzDfn5+boff/zxWFxcnHvv3r26Tz/91JSbm5vP8zx69eoVn5qaageA\nl156KXDjxo3mi+vp379/8wcffHCq/b4tW7b4bt68+WT7fbNnz7awLIvx48db33jjjSqWZVFdXa2K\niIhwA4BSqYRerxerq6sVwcHBQtt5p06dUoWEhLjbPnfv3t39/fffXzaMxsbGurZv3+5TU1PDrV+/\n3vTEE0/U7dq1y9h23OVysXFxcfFtnxsbG7mHHnqoEQAKCgryAWD9+vXGJUuWBI0YMaLler7va6HA\nSwghhBDSyXr37u148cUXQ+fNmxfy8MMPN44ePfqyq4YlJye3xMXFuQEgJydHP2bMmAaDwSABwMiR\nIxvayi1evLh68eLF1deq95tvvvHSarVS3759nW37NmzYUBIREcFbrVZ23LhxkcuXLzfPnz+/7ubv\n8lLjx4+3ZmZmmg4fPuy1bt268vbH1Gq11BZsAc8Y3oMHD3q1fc7NzVW/+OKL3Xft2lWkVqs71DPc\nUTSkgRBCCCGkkyUnJ7sOHz6cn5SU5HjppZdCnnnmmeDLldPpdNLl9l/spZdeCmz/s3/b66mnngpt\nX27dunWmSZMm1bffFxERwQOAr6+vNG3atPoDBw54AUBgYKC7tLRUBXjGENtsNi4wMFBof25oaKi7\nsrLy/MNsp0+fvqDH92IzZsywvv76690efPDBJo7jOnJrAIDGxkZ26tSpkStWrCgPDw/v9HG/FHgJ\nIYQQQjpZWVmZ0mAwSOnp6fUZGRlnf/rpJ921zhk2bJht27ZtPjabjbFarexXX311fqzs4sWLq9se\nOmv/aj+cQRRFfP75574zZsw4H3h5nkfbLAkul4vZtm2bMTEx0QEAY8eObcjMzDQDwJo1a3wHDBjQ\nzLIXRsMHH3ywpaysTFNQUKByOp3M5s2bTZMnT27AFcTExLhfeOGFyt///vc11/F14fHHH7dMnz69\n9ko94TeLhjQQQgghhHSyQ4cOaZ9//vnuLMtCoVDIy5cvL7/WOYMGDbI/8sgj9YmJiQlms5lPTk6+\nrnGs27dvNwQHB7vj4+PP98A6HA52xIgR0TzPM5IkMYMHD27KyMioAYAFCxbUTp48OSIsLCzRaDSK\nGzZsKAY8Yf3JJ58M371790mlUoklS5ZUjB49OkYURfzyl7+s7dOnj/NKbQCAP/zhD7XX0+6ioiLV\njh07fEtKSjQff/yxHwCsXLmy7IEHHrBfz3WuhpHlTh0icVV9+vSRDx48eNvqI4QQQkjXxzDMIVmW\n+7Tfd+TIkbKUlJTrCl53m4yMjG56vV589dVXrzl2lwBHjhzxS0lJsVzuGA1pIIQQQgghXRoNaSCE\nEEIIuQu9/fbbZ+50G7oK6uElhBBCCCFdGgVeQgghhJBbgOO4tLi4uPjo6OiEYcOGRdXW1nIAsH//\nfm2vXr3ioqKiEmJiYuJXrVrl23ZOQUGBKjk5OS4sLCxx7NixPZxOJ9PR+gYPHhxtMBh6DR06NKr9\n/qlTp4bHxsbGx8TExI8ePbpHY2PjJfnP6XQyU6ZMscTExMTHxsbGZ2dnG27m3i+m0+lS239+4IEH\noouLi5WdWcfVUOAlhBBCCLkF2hZaOHHixDEfHx/hzTff9AcAvV4vffTRR6UnT5489uWXX5544YUX\nQtvCcEZGRvf58+dXV1RU5BmNRmHp0qV+Ha3vmWeeOfvee++VXrz/3XffPVVYWJhfVFSU3717d/cb\nb7wRcHGZv//9734AUFRUlP/NN98ULVy4sLsoiletTxCEqx6/ktZp1xSRkZGdPt/ulVDgJYQQQgi5\nxfr379/StoBDcnKyKykpyQUAFouFN5lMQlVVlUKSJHz33XeGmTNnWgFg1qxZdZ9//rnP1a7b3sMP\nP9zs7e19yUIWJpNJAgBJkuBwOFiGubTTOD8/Xzt06NAmAAgJCRG8vb3FPXv2XDJ3cEhISNK8efNC\n4uPje2ZmZvouWbLELzExsWdsbGz8qFGjIpubm1nA01Pdq1evuJiYmPjf/e533dpfY9u2bYb777+/\nGQDS09NDIiMjE2JiYuLnzJnTvaP3er0o8BJCCCGE3EKCICAnJ8cwceLESxZsyMnJ0fE8z8THx7uq\nq6sVBoNBVCo9v/RbLBZ3dXW1CgBWrFhhutxKa6NHj+7RkTZMmTLF4u/vn3Ly5EnNc889d+7i4ykp\nKfbs7GwfnudRUFCgysvL05WXl6sudy2z2Szk5+cfnzNnjnX69OnWvLy844WFhfmxsbGOZcuW+QFA\nenp62OzZs2uKioryg4ODL+jJ3bZtm3HMmDGNZ8+e5bZt2+Z74sSJY0VFRfl/+ctfqjpyLzfimoGX\nYZhMhmHOMQyT126fiWGYrxiGOdH67nu1axBCCCGE/Ny4XC42Li4u3t/fP6WmpkY5ceLEpvbHy8vL\nlTNnzuyxatWqsmstwztv3rz6y620tmPHjpKOtCUrK6usurr6SHR0tDMzM/OS3LZgwYLabt268UlJ\nSfG/+c1vQnv37m27UptmzJhhbds+dOiQNi0tLTYmJiZ+06ZN5mPHjmkA4PDhw/pf//rX9QAwd+7c\nuvbn//DDD/qRI0fazGazqFarpWnTplk+/PBDH71e36Fllm9ER3p4PwAw+qJ9zwH4WpblaABft34m\nhBBCCCGt2sbwVlRU5MqyjNdff/382Nn6+nr2F7/4RdTLL79cOXz48BYACAwMFJqbmzme93SIlpWV\nqQIDA93AzffwAoBCocD06dPr//Of/1wSeJVKJVavXn2qoKAg/+uvvy5uampSxMfHX3ZFNYPBcD6Y\nzpkzJ+Kf//xnRVFRUf7ChQvPuFyu89mSZdlLVjfLz89XBQcHuzUajaxUKvHTTz8dnzJlijU7O9tn\nyJAh0R29l+v1/9u786CorrQN4M9pFgVp0AYCBIUG2buRCEiESQxRAyqE6BiXGcskaiaMDjN+Wo4x\nMzVJTKZqMkanEk00xhVqNKlR4xIXjKZwqywuk6BoIAqCiojIIosIvZzvD7r9+BBQodk6z6+qi9vn\nnr73dL/ertfT9973gQmvlPIYgIoWzS8ASDctpwOYaOFxEREREVkFpVJpXLly5ZXVq1d76HQ63L17\nVyQlJQVMnz693Hy+LgAoFAqMHDmyZtOmTYMAYOPGja7JyclVQMdneI1GI3JycvqZl3fu3DkwMDDw\nvkS2pqZGUV1drQCAnV7QFWAAABldSURBVDt3OtvY2MioqKh2SwgDwJ07dxQ+Pj66hoYG8fnnn6vM\n7ZGRkbXr1q1TAcC6detcze27d+92SUhIqAaA27dvKyoqKmymTZt2+5NPPrmam5t73znDltLRwhMe\nUkrzeRY3AHi01VEI8RqA1wDAx8eng7sjIiIi6rt+9atf1YeEhNR/+umnKiEETp065VRZWWm7detW\nNwDYuHHj5bi4uPoVK1ZcmzZt2tC///3v3hqN5s78+fMfujxyVFRUcEFBQf/6+nobDw+PYatXry6c\nOHFi9UsvveRXW1urkFKK0NDQO5s3by4CgC1btricOnVqwAcffHD9+vXrtomJiUEKhUJ6enrqtm7d\net/dHlqzZMmS6zExMaEqlUofGRlZW1tbawMAq1evvjJ9+nT/Dz74wHPcuHH3zl0+dOiQy5o1a64A\nQFVVlU1ycnJAQ0ODAIB333336sN/oo9GSHnfbPP9nYRQA9grpdSanldJKQc2W18ppXzgebzR0dHy\n9OnTHR8tERERUQtCiDNSyujmbdnZ2YUREREPnSxS16uvrxcjRowIycnJ+akrtp+dne0WERGhbm1d\nR+/SUCqE8AIA09/7rvYjIiIiIjJzcHCQXZXsPkhHE949AF42Lb8MYLdlhkNEREREZFkPc1uyzwB8\nCyBYCHFNCDEHwHsAnhNCXAQw1vSciIiIiKjXeeBFa1LK37SxaoyFx0JERERklRYuXPi4k5OT4Z13\n3im1xPZWrVrlunz5ci8AWLRoUckf//jH8pZ9kpKS/PPz8/sDQE1NjY1SqTTk5uZesMT++5qO3qWB\niIiIiHpAaWmpzT//+c/Hz5w5c0GhUGD48OFh06dPr3J3dzc077dv3757tyz73e9+N9jFxcVw/9Z+\nGVhamIiIiKgLvP76655qtVobFRUVfPHixX4AUFxcbKvRaEIB4Ntvv3UQQkRdvHjRHgCGDBmiramp\neWButmvXLpdRo0ZVe3h4GNzd3Q2jRo2q/uKLL1za6m80GvHll1+qXn755ZZ1FbB3715ldHR0cHx8\nfIBardb+9re/9TEYmvJiR0fH4XPmzBkSEBCgiY2NDbp+/botAMTExATPmTNniFarDfX399ccPXrU\nMSEhYaivr6/2T3/60+Md+rC6GGd4iYiIyLrt+sMQ3Lxg2aIGj4XdwcSP27xv7PHjxx137typOnfu\n3AWdTocnnngibPjw4Xe8vb31DQ0NioqKCkVWVpaTRqO5c/jwYScpZa2rq6teqVQa16xZo/rwww89\nW25TrVbfzczMLCguLrYbPHhwo7nd29u7sbi42K6tsRw8eNDJzc1NFx4e3tDa+nPnzg344YcfcoKC\nghpHjRoVmJGRMWjWrFmV9fX1iujo6LoNGzZcXbRokdeSJUsez8jIuAIA9vb2xpycnJ/efffdx6ZM\nmRJw6tSpnx577DG9Wq0O/8tf/lLq6enZq2aTmfASERERWVhWVpbThAkTqsxleBMSEu4VX4iOjq49\nfPiw04kTJ5SLFy8uyczMdJFSYuTIkbVAU1W1uXPn3jcb21H//ve/VZMnT25ze+Hh4XVhYWGNADB1\n6tSK48ePO82aNatSoVDg1VdfrQCA2bNnl//6178OML9m0qRJVQAQERFRHxAQUO/r66sDgCFDhjQU\nFBTYe3p61ltq/JbAhJeIiIisWzszsT3h6aefrjl27Jjy2rVr9jNmzKhasWKFJwCZnJx8GwAeNMPr\n7e2tO3r0qNLcXlxcbP/MM8/UtLYvnU6HzMzMQSdPnmzzYjUhRLvPW2vv37+/BJrKIffr1+9eFTOF\nQgG9Xt/6BnoQz+ElIiIisrDRo0fX7t+/f2Btba2orKxUHDp06F6F2rFjx9bu2LFD5efn12BjY4OB\nAwfqs7KyXJ577rl7M7y5ubkXWj4yMzMLAGDixIm3jx496lxWVmZTVlZmc/ToUeeJEyfebm0cu3fv\ndvb39787dOhQXVtjPXfu3IDc3Fx7g8GA7du3q55++ukaoOnc302bNg0CgM2bN7vGxMS0mlT3BUx4\niYiIiCzsqaeeujNp0qQKrVarGTt2bOCwYcPqzOuCg4MbpZTCnFjGxsbWKpVKQ8u7LLTFw8PD8Oc/\n//l6VFRUaFRUVOjixYuve3h4GABg2rRpvseOHbt3vvJnn32mmjJlSrunR2i12rrf//73PkOHDtX6\n+Pg0zJw5swoAHBwcjCdPnhwQGBioOXbsmPIf//hHSUc+i95ASCkf3MtCoqOj5enTp7ttf0RERGT9\nhBBnpJTRzduys7MLIyIibvXUmPqKvXv3KlesWOGRlZV1qeU6R0fH4Xfu3PmhJ8bVEdnZ2W4RERHq\n1tZxhpeIiIiIrBoTXiIiIqJfqOTk5JrWZncBoC/N7j4IE14iIiKiblZSUmJra2sbuWzZMvdHeV19\nfb1ISkry9/Hx0Q4bNiwkLy/PvrV+3t7e4UFBQWEhISFhWq021NxeWlpqExcXF+jr66uNi4sLLCsr\nswGaLlB75ZVXhvj4+GiDgoLCTpw4Ydn7FvcwJrxERERE3SwjI2NQRERE3bZt21SP8roPP/zQzcXF\nRX/lypWctLS00oULFw5uq+/Ro0d/zs3NvZCTk/OTue2tt97yio+PrykqKsqJj4+vefPNNz0BYNu2\nbS4FBQX9CwsLc9asWVM0b948n46/u96HCS8RERGRheXl5dn7+flpUlJS/Pz9/TXjxo3zb142eNu2\nbarly5dfLS0ttcvPz2+zSlpLe/fuHTh79uxyAJg1a1blN998ozQajQ89rszMzIGpqanlAJCamlp+\n4MCBQQCwe/fugTNmzChXKBQYM2ZMXXV1tW1RUdFDj6u3Y8JLRERE1AUKCwv7p6Wl3SwoKDivVCqN\n77//vjsAXLp0ya6srMzu2WefvZOSklKZkZFxb5Y3KSnJPyQkJKzl46OPPnIFgNLSUns/P79GALCz\ns4OTk5OhtLS01UJiY8aMCdRoNKHLly93M7eVl5fbNquKpisvL7cFgJKSEju1Wn2vXLGXl1ejNSW8\nrLRGRERE1AU8PT0bExIS6gBg5syZ5StXrnwMQGlGRoYqJSWl0tReMWfOHPXSpUtLAWDfvn0Fltj3\niRMncv38/HTFxcW2o0ePDtJoNHfHjx9f27yPQqFos6qatWHCS0RERNQF2irZu2PHDlVZWZndF198\noQKAmzdv2p07d65feHh4Q1JSkn9+fn7/lttKS0srTUtLK/fw8Gi8fPmy/dChQ3U6nQ61tbU2Hh4e\n+pb9/fz8dADg7e2tT0pKqvr2228HjB8/vtbV1VVfVFRk5+vrqysqKrJTqVR6APDy8tIVFhbeuwCu\npKTE3jwTbA14SgMRERFRFygpKbE/fPjwAADYsmWLKi4urvbs2bP96urqbG7evHm2uLj4XHFx8bm0\ntLQb6enpKqBphre1ssJpaWnlAJCUlFS1ceNGVwDYtGnToNjY2BqF4v+nc9XV1YrKykqFeTkrK8t5\n2LBh9QCQmJhYtXbtWlcAWLt2reu4ceOqACAlJaVqy5YtrkajEV9//fUApVJpYMJLRERERO1Sq9V3\nV61a9Zi/v7+mqqrKdtGiRWXp6emqCRMmVDbvN3369ErzbO+DzJ8//1ZlZaWtj4+PdtWqVZ7Lly+/\nBgCFhYV2zzzzTAAAXLt2zXbkyJEhwcHBYZGRkaEJCQlVL774YjUALF26tCQrK8vZ19dXe+TIEeel\nS5eWAMDUqVNv+/r6Nvj6+mrnzp3r+/HHHxdZ9tPoWSwtTERERH1abywtnJeXZ5+cnBx48eLF8z01\nhl8alhYmIiIiol8sJrxEREREFhYcHNzI2d3egwkvEREREVk1JrxEREREFpaXl2cfGBio6c59jh49\nOqD5PktLS23i4uICfX19tXFxcYFlZWU25nV79+5VhoSEhAUEBGhGjBgRbG6fMmWKWqVSRbQ3dqPR\niFdeeWWIj4+PNigoKOzEiROOlnoPe/fuVT777LMB5ucNDQ0iLCwstLPbZcJLRERE1Melp6cPHDBg\ngKF521tvveUVHx9fU1RUlBMfH1/z5ptvegLArVu3bObPn+/z5ZdfXrp06dL5Xbt25ZtfM3v27Ft7\n9uy52N6+tm3b5lJQUNC/sLAwZ82aNUXz5s3zaa+/0WiEwWBor0ubvvrqK6cRI0bUPrhn+5jwEhER\nEXWhCxcu2IeGhoYdPXrUUa/XIzU1dbBWqw0NCgoKe//9990AICMjY2BsbGyQ0WhEUVGRnVqt1l65\ncuWhCoTdvn1bsXLlSo+33367pHl7ZmbmwNTU1HIASE1NLT9w4MAgAFi/fr0qKSmpMjAwsBFoKk5h\nfs348eNr3d3d7ytk0dzu3bsHzpgxo1yhUGDMmDF11dXVti3LEOfl5dmr1WrtpEmT1EFBQZr8/Hz7\nGTNm+Gi12tCAgADNggULHjf33b59u7Ofn58mLCwsdPv27QObb2f//v3OEyZMqK6urlbEx8cHBAcH\nhwUGBmrWrVs36GE+GzNWWiMiIiLqItnZ2f2mT58+dOPGjZdjY2Prly9f7ubi4mLIycn5qb6+XowY\nMSLk+eefr37ppZeqduzYMei9995zP3TokMsbb7xx3cfHR5+dnd1v2rRpQ1vb9okTJ/Lc3NwMCxcu\n9J4/f36pk5OTsfn68vJyW3PxiCFDhujKy8ttAeDnn3/ur9PpRExMTHBdXZ1i7ty5N82FLR5GSUmJ\nnVqtbjQ/9/LyajRXb2ve78qVK/02bNhwecyYMYUA8K9//avYw8PDoNfrERcXF/z99987hIeH301L\nS1MfOnQoT6PRNCQnJ/u3eI/Oy5YtK9mxY4ezp6en7siRI5dM780Gj4AJLxEREVEXqKiosJ04cWLA\n9u3b86Oiou4CwOHDh51zc3Md9+zZMwgAampqbC5cuNA/JCSkcf369Vc0Go1m+PDhdampqRUAEBER\n0ZCbm3uhrX188803DpcvX+63YcOGq3l5efZt9VMoFPdKG+v1enH27FnH48eP/1xXV6cYOXJkyKhR\no2qHDRvWYMn37+Xl1ThmzJg68/P09HTV5s2b3fR6vSgrK7PLzs7ubzAYMHjw4Ibw8PAGAJgxY0b5\n+vXr3QHg8uXLdgMHDtQrlUpjZGRk/V//+tchc+fO9X7hhRdujxs37pFOc2DCS0RERNQFlEql4fHH\nH2/MyspyMie8UkqxYsWKK5MnT65u2f/y5cv2CoUCt27dsjUYDLCxscGDZniPHz/ulJOT4+jt7R2u\n1+tFRUWFbUxMTPDJkyfzXF1d9eaZ16KiIjuVSqUHgMGDBze6urrqnZ2djc7OzsYnn3yy5vTp044P\nm/B6eXnpCgsL7yXXJSUl9q2VIXZ0dLw345ybm2v/0UcfeZw5c+Ynd3d3w+TJk9V3795t99TaXbt2\nuYwdO/Y2AAwbNqzhv//974UdO3a4/O1vf/M+fPhw9fLly0vae31zPIeXiIiIqAvY2dnJAwcO5H/2\n2Weun3zyiQoAnnvuudtr1qxxb2hoEABw9uzZftXV1QqdTofZs2er09PTCwIDA+8uXbrUA/i/Gd7W\nHm5ubobXX3+97ObNm2eLi4vPHTt2LFetVjecPHkyDwASExOr1q5d6woAa9eudR03blwVALz44otV\n3333nZNOp0NNTY3ihx9+cAoPD69/2PeVkpJStWXLFlej0Yivv/56gFKpNLSW8DZXWVlp4+DgYFSp\nVIarV6/aHjlyxAUAnnjiibvFxcX258+f7wcAn3/++b0Sy1999ZVzSkpKNdBUOlmpVBrnzZtXsXDh\nwhs//vjjI90ZgjO8RERERF3E2dnZePDgwUvx8fFBSqXSsGDBgluFhYX9wsPDQ6WUQqVS6fbv35//\nzjvveI0cObImMTGxNiYm5k5kZGToxIkTb0dGRt7t6L6XLl1aMmnSpKG+vr5u3t7ejTt37swHgMjI\nyLtjx469HRISolEoFJg5c2bZiBEj7gLA888/7/fdd98pKysrbT08PIYtWbLk+oIFC24tW7bMHQAW\nL15cNnXq1Nv79u1z8fX11To4OBjXr19f+KCxxMbG1mu12jtDhw7Venl5NUZFRdUCgKOjo1y1alVR\ncnJygIODg/HJJ5+sra2ttdHr9SgsLOw/fPjwuwBw5swZhzfeeGOwQqGAra2tXL16ddGjfBZCSvmI\nH1/HRUdHy9OnT3fb/oiIiMj6CSHOSCmjm7dlZ2cXRkRE3OqpMVHnHDx40Ck9PV21devWKw/7muzs\nbLeIiAh1a+s4w0tEREREvUpiYmJtYmJip++/a8ZzeImIiIjIqjHhJSIiImtkNBqNoqcHQd3DFGtj\nW+s7lfAKIQqFEOeEED8KIXhyLhEREfUWOWVlZS5Meq2f0WgUZWVlLgBy2upjiXN4n5VS8qRwIiIi\n6jX0ev2rN27cWH/jxg0t+Iu2tTMCyNHr9a+21YEXrREREZHViYqKugkgpafHQb1DZ//HIwF8JYQ4\nI4R4rbUOQojXhBCnhRCny8rKOrk7IiIiIqJH09mE9ykpZSSA8QD+IIQY1bKDlPJTKWW0lDLa3d29\nk7sjIiIiIno0nUp4pZTFpr83AewEEGOJQRERERERWUqHE14hxAAhhNK8DCAB7VwdR0RERETUEzpz\n0ZoHgJ1CCPN2tkopMy0yKiIiIiIiC+lwwiulLAAQYcGxEBERERFZHO9LR0RERERWjQkvEREREVk1\nJrxEREREZNWY8BIRERGRVWPCS0RERERWjQkvEREREVk1JrxEREREZNWY8BIRERGRVWPCS0RERERW\njQkvEREREVk1JrxEREREZNWY8BIRERGRVWPCS0RERERWjQkvEREREVk1JrxEREREZNWY8BIRERGR\nVWPCS0RERERWjQkvEREREVk1JrxEREREZNWY8BIRERGRVWPCS0RERERWjQkvEREREVk1JrxERERE\nZNWY8BIRERGRVWPCS0RERERWjQkvEREREVk1JrxEREREZNWY8BIRERGRVWPCS0RERERWjQkvERER\nEVk1JrxEREREZNWY8BIRERGRVWPCS0RERERWjQkvEREREVk1JrxEREREZNU6lfAKIcYJIfKEEJeE\nEEssNSgiIiIiIkvpcMIrhLAB8DGA8QDCAPxGCBFmqYEREREREVlCZ2Z4YwBcklIWSCkbAXwO4AXL\nDIuIiIiIyDJsO/FabwBXmz2/BuDJlp2EEK8BeM30tEEIkdOJfVL3cQNwq6cHQQ+Fseo7GKu+g7Hq\nW4J7egDUu3Um4X0oUspPAXwKAEKI01LK6K7eJ3UeY9V3MFZ9B2PVdzBWfYsQ4nRPj4F6t86c0lAM\nYEiz54NNbUREREREvUZnEt5TAAKFEH5CCHsA0wHsscywiIiIiIgso8OnNEgp9UKINAAHAdgA2Cil\nPP+Al33a0f1Rt2Os+g7Gqu9grPoOxqpvYbyoXUJK2dNjICIiIiLqMqy0RkRERERWjQkvEREREVm1\nbkl4WYK49xFCFAohzgkhfjTfzkUIoRJCHBJCXDT9HWRqF0KIlab4nRVCRPbs6K2fEGKjEOJm8/tW\ndyQ+QoiXTf0vCiFe7on3Yu3aiNXbQohi0/H1oxBiQrN1b5hilSeESGzWzu/JLiaEGCKEyBJCXBBC\nnBdCzDe189jqZdqJFY8t6hgpZZc+0HRBWz4AfwD2ALIBhHX1fvl4YFwKAbi1aFsGYIlpeQmAf5qW\nJwA4AEAAGAng+54ev7U/AIwCEAkgp6PxAaACUGD6O8i0PKin35u1PdqI1dsAFrXSN8z0HdgPgJ/p\nu9GG35PdFisvAJGmZSWAn00x4bHVyx7txIrHFh8denTHDC9LEPcdLwBINy2nA5jYrD1DNvkOwEAh\nhFdPDPCXQkp5DEBFi+ZHjU8igENSygopZSWAQwDGdf3of1naiFVbXgDwuZSyQUp5GcAlNH1H8nuy\nG0gpS6SU/zUt1wD4CU1VQ3ls9TLtxKotPLaoXd2R8LZWgri9f7TUPSSAr4QQZ0zlnwHAQ0pZYlq+\nAcDDtMwY9g6PGh/GrWelmX4G32j+iRyMVa8hhFADGA7ge/DY6tVaxArgsUUdwIvWfrmeklJGAhgP\n4A9CiFHNV0opJZqSYuqFGJ9ebw2AoQCeAFACYEXPDoeaE0I4AdgB4H+klNXN1/HY6l1aiRWPLeqQ\n7kh4WYK4F5JSFpv+3gSwE00/+5SaT1Uw/b1p6s4Y9g6PGh/GrYdIKUullAYppRHAOjQdXwBj1eOE\nEHZoSqC2SCm/MDXz2OqFWosVjy3qqO5IeFmCuJcRQgwQQijNywASAOSgKS7mq41fBrDbtLwHwEum\nK5ZHArjd7Oc/6j6PGp+DABKEEINMP/slmNqoi7U4x30Smo4voClW04UQ/YQQfgACAZwEvye7hRBC\nANgA4Ccp5b+areKx1cu0FSseW9RRHS4t/LBkx0oQU9fyALCz6fsEtgC2SikzhRCnAPxHCDEHQBGA\nqab++9F0tfIlAHcAzOr+If+yCCE+AxAPwE0IcQ3AWwDewyPER0pZIYR4F01f+ADwjpTyYS+uoofU\nRqzihRBPoOmn8UIAqQAgpTwvhPgPgAsA9AD+IKU0mLbD78mu9ysAMwGcE0L8aGr7C3hs9UZtxeo3\nPLaoI1hamIiIiIisGi9aIyIiIiKrxoSXiIiIiKwaE14iIiIismpMeImIiIjIqjHhJSIiIiKrxoSX\niIiIiKwaE14iIiIismr/C3firFMcVrT/AAAAAElFTkSuQmCC\n",
          "text/plain": "<matplotlib.figure.Figure at 0x7f6b9b4b9cf8>"
         },
         "metadata": {},
         "output_type": "display_data"
        }
       ]
      }
     },
     "0ce86b242f8b42039d1b8de65eebabcf": {
      "model_module": "@jupyter-widgets/base",
      "model_module_version": "1.0.0",
      "model_name": "LayoutModel",
      "state": {}
     },
     "0da666777cc049c9bcd22d0d27867541": {
      "model_module": "@jupyter-widgets/controls",
      "model_module_version": "1.0.0",
      "model_name": "FloatSliderModel",
      "state": {
       "description": "relax_time",
       "layout": "IPY_MODEL_c5109cce813e494ea1e612432ce00b8d",
       "max": 0.08,
       "min": 0.02,
       "step": 0.01,
       "style": "IPY_MODEL_b4691a681f08464bb6da3a17a4a346da",
       "value": 0.06
      }
     },
     "0e89f2be7554458a979c81eb78f096c0": {
      "model_module": "@jupyter-widgets/base",
      "model_module_version": "1.0.0",
      "model_name": "LayoutModel",
      "state": {}
     },
     "0f67776453c143dca96d6e9d263ce3a4": {
      "model_module": "@jupyter-widgets/controls",
      "model_module_version": "1.0.0",
      "model_name": "FloatSliderModel",
      "state": {
       "description": "w0_1H_s2",
       "layout": "IPY_MODEL_b770acb6b396468c92ef013921ef6bd2",
       "max": 1000,
       "min": 500,
       "step": 50,
       "style": "IPY_MODEL_fe6ebab3ffac4daea239338df226f568",
       "value": 750
      }
     },
     "0fe57888b09a442b80671b72144850bf": {
      "model_module": "@jupyter-widgets/controls",
      "model_module_version": "1.0.0",
      "model_name": "SliderStyleModel",
      "state": {
       "description_width": ""
      }
     },
     "0fe7aa5657db4785a6aabb89e181ff9e": {
      "model_module": "@jupyter-widgets/base",
      "model_module_version": "1.0.0",
      "model_name": "LayoutModel",
      "state": {}
     },
     "1056069c8c18423f96d5569e36ec3934": {
      "model_module": "@jupyter-widgets/controls",
      "model_module_version": "1.0.0",
      "model_name": "FloatSliderModel",
      "state": {
       "description": "R20_s1",
       "layout": "IPY_MODEL_c49b3e8379354cff8970857f40c424db",
       "max": 25,
       "min": 5,
       "style": "IPY_MODEL_27d86bf668104d58b5a87cc26d76a167",
       "value": 13.9
      }
     },
     "1080329cae27431981b40a1201b2480f": {
      "model_module": "@jupyter-widgets/controls",
      "model_module_version": "1.0.0",
      "model_name": "FloatSliderModel",
      "state": {
       "description": "dw_s2",
       "layout": "IPY_MODEL_c62a7173602a428b8dea12ca5bcc5d27",
       "max": 10,
       "min": 0.1,
       "step": 0.1,
       "style": "IPY_MODEL_7bc6dfe702e942eeaf51f6e1737e7733",
       "value": 0.69
      }
     },
     "10876c1e982a42258d631711c3a4fb5f": {
      "model_module": "@jupyter-widgets/base",
      "model_module_version": "1.0.0",
      "model_name": "LayoutModel",
      "state": {}
     },
     "1148fb1234144b5eb8826b722e849a3c": {
      "model_module": "@jupyter-widgets/controls",
      "model_module_version": "1.0.0",
      "model_name": "SliderStyleModel",
      "state": {
       "description_width": ""
      }
     },
     "117e4909636240328f1efd00dd27759c": {
      "model_module": "@jupyter-widgets/controls",
      "model_module_version": "1.0.0",
      "model_name": "FloatSliderModel",
      "state": {
       "description": "R20_s2",
       "layout": "IPY_MODEL_0252bee7c8c34a0cbdb8d37aaeaa707f",
       "max": 25,
       "min": 5,
       "style": "IPY_MODEL_06cf7c1f9afa4d8bb7f027e7e055e638",
       "value": 13.9
      }
     },
     "12e4a6fa1aca4ccb97b219b14135baef": {
      "model_module": "@jupyter-widgets/controls",
      "model_module_version": "1.0.0",
      "model_name": "SliderStyleModel",
      "state": {
       "description_width": ""
      }
     },
     "12f366e3b1414b43996b497151ee54f4": {
      "model_module": "@jupyter-widgets/base",
      "model_module_version": "1.0.0",
      "model_name": "LayoutModel",
      "state": {}
     },
     "134c04c0b859457f8c1cb13aeba3349c": {
      "model_module": "@jupyter-widgets/base",
      "model_module_version": "1.0.0",
      "model_name": "LayoutModel",
      "state": {}
     },
     "144b79d7d4a349c185b192d7892b410a": {
      "model_module": "@jupyter-widgets/controls",
      "model_module_version": "1.0.0",
      "model_name": "SliderStyleModel",
      "state": {
       "description_width": ""
      }
     },
     "145c77a011784fb7a0573e9e95a4a1f5": {
      "model_module": "@jupyter-widgets/controls",
      "model_module_version": "1.0.0",
      "model_name": "FloatSliderModel",
      "state": {
       "description": "R20_s2",
       "layout": "IPY_MODEL_bafc7880a2124a0c929a61a5a389d1bb",
       "max": 25,
       "min": 5,
       "style": "IPY_MODEL_1b23cab119af444f838bc2df955803d8",
       "value": 13.9
      }
     },
     "146f3abf67604ab1aff3131d13cd6a62": {
      "model_module": "@jupyter-widgets/base",
      "model_module_version": "1.0.0",
      "model_name": "LayoutModel",
      "state": {}
     },
     "1486d2fb5e6e40838fd864476e684ebc": {
      "model_module": "@jupyter-widgets/controls",
      "model_module_version": "1.0.0",
      "model_name": "FloatSliderModel",
      "state": {
       "description": "pA_s2",
       "layout": "IPY_MODEL_f61accc1044c4fcb85aea42632a59c02",
       "max": 1,
       "min": 0.5,
       "step": 0.01,
       "style": "IPY_MODEL_7265e1c9c89d41deb8ca8a728334cdd2",
       "value": 0.5
      }
     },
     "14f3b643fc354037b10dc7f1079d2547": {
      "model_module": "@jupyter-widgets/controls",
      "model_module_version": "1.0.0",
      "model_name": "SliderStyleModel",
      "state": {
       "description_width": ""
      }
     },
     "151bdb27053742aabcfca5b1085e74c4": {
      "model_module": "@jupyter-widgets/base",
      "model_module_version": "1.0.0",
      "model_name": "LayoutModel",
      "state": {}
     },
     "15e8ec95bb074aa2a3a22412b668929d": {
      "model_module": "@jupyter-widgets/controls",
      "model_module_version": "1.0.0",
      "model_name": "FloatSliderModel",
      "state": {
       "description": "w0_1H_s1",
       "layout": "IPY_MODEL_1d6b7722d4fb4860aca0f82a385f0faa",
       "max": 1000,
       "min": 500,
       "step": 50,
       "style": "IPY_MODEL_0113330d1eca408c89dde471d2863d2e",
       "value": 750
      }
     },
     "1817c6430aa24edab79e74170890ed3a": {
      "model_module": "@jupyter-widgets/controls",
      "model_module_version": "1.0.0",
      "model_name": "FloatSliderModel",
      "state": {
       "description": "dw_s1",
       "layout": "IPY_MODEL_30598960722c43528c5778c9b9d070e8",
       "max": 10,
       "min": 0.1,
       "step": 0.1,
       "style": "IPY_MODEL_d4630ded70ca456ebe540d5acd378c60",
       "value": 1.02
      }
     },
     "18e8691025944dadb187e469c34b4231": {
      "model_module": "@jupyter-widgets/controls",
      "model_module_version": "1.0.0",
      "model_name": "SliderStyleModel",
      "state": {
       "description_width": ""
      }
     },
     "1a23987749e84e9887913716343b1bc2": {
      "model_module": "@jupyter-widgets/controls",
      "model_module_version": "1.0.0",
      "model_name": "SliderStyleModel",
      "state": {
       "description_width": ""
      }
     },
     "1a6b609627d3481c94d9a361af1ec1f6": {
      "model_module": "@jupyter-widgets/controls",
      "model_module_version": "1.0.0",
      "model_name": "SliderStyleModel",
      "state": {
       "description_width": ""
      }
     },
     "1b23cab119af444f838bc2df955803d8": {
      "model_module": "@jupyter-widgets/controls",
      "model_module_version": "1.0.0",
      "model_name": "SliderStyleModel",
      "state": {
       "description_width": ""
      }
     },
     "1b7417f893354adfa835c8c272071584": {
      "model_module": "@jupyter-widgets/controls",
      "model_module_version": "1.0.0",
      "model_name": "SliderStyleModel",
      "state": {
       "description_width": ""
      }
     },
     "1c273ee2815f4d3883091b210069f698": {
      "model_module": "@jupyter-widgets/controls",
      "model_module_version": "1.0.0",
      "model_name": "SliderStyleModel",
      "state": {
       "description_width": ""
      }
     },
     "1c6e827dc497479e863fce41890dc847": {
      "model_module": "@jupyter-widgets/output",
      "model_module_version": "1.0.0",
      "model_name": "OutputModel",
      "state": {
       "layout": "IPY_MODEL_6066af8652cf441aa89ea45cf23c7ee8",
       "outputs": [
        {
         "data": {
          "image/png": "iVBORw0KGgoAAAANSUhEUgAAArwAAAD8CAYAAACVfXcGAAAABHNCSVQICAgIfAhkiAAAAAlwSFlz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\niIiIiKwaE14iIiIismr/C3firFMcVrT/AAAAAElFTkSuQmCC\n",
          "text/plain": "<matplotlib.figure.Figure at 0x7f6c63c7fe48>"
         },
         "metadata": {},
         "output_type": "display_data"
        }
       ]
      }
     },
     "1c8f649bd82f492dbe00e070b268e030": {
      "model_module": "@jupyter-widgets/controls",
      "model_module_version": "1.0.0",
      "model_name": "FloatSliderModel",
      "state": {
       "description": "pA_s1",
       "layout": "IPY_MODEL_b9adec2a05a44eb4bede650c6edcf0fd",
       "max": 1,
       "min": 0.5,
       "step": 0.01,
       "style": "IPY_MODEL_36be5cf7bdf24de1bd30cea98201aba6",
       "value": 0.87
      }
     },
     "1d1f3d3c2c254b309b48d642f065fb12": {
      "model_module": "@jupyter-widgets/controls",
      "model_module_version": "1.0.0",
      "model_name": "SliderStyleModel",
      "state": {
       "description_width": ""
      }
     },
     "1d6b7722d4fb4860aca0f82a385f0faa": {
      "model_module": "@jupyter-widgets/base",
      "model_module_version": "1.0.0",
      "model_name": "LayoutModel",
      "state": {}
     },
     "1e5c99bc84c74b63b7ba7d3e89684fb8": {
      "model_module": "@jupyter-widgets/base",
      "model_module_version": "1.0.0",
      "model_name": "LayoutModel",
      "state": {}
     },
     "1eca17c0cb9a49fd9b66a2f334410726": {
      "model_module": "@jupyter-widgets/controls",
      "model_module_version": "1.0.0",
      "model_name": "VBoxModel",
      "state": {
       "_dom_classes": [
        "widget-interact"
       ],
       "children": [
        "IPY_MODEL_e2ded39efbed4a019b995259e6589fd4",
        "IPY_MODEL_633043d80eb0483ba13e1769cbc2e59e",
        "IPY_MODEL_06666469b9ac4540a91bd5449c7f3ba3",
        "IPY_MODEL_37566a3c7e564f428b0c719312bc0035",
        "IPY_MODEL_28a1d8c0148c48ea954bd00543ef6996",
        "IPY_MODEL_61d7bef844bf4dff98d9f2bbb2e04196",
        "IPY_MODEL_a13ad31a1b954532b00dbcbe1a048a3f",
        "IPY_MODEL_e77b3cbe4f8c4700b9fcde0a8e20619d",
        "IPY_MODEL_f0c6a457ea1e482b81e82c6df486435a",
        "IPY_MODEL_d9a7179ea26d4c1faf1dabab327b9856",
        "IPY_MODEL_0a83dd146e4944fbabd320c80b0f4030"
       ],
       "layout": "IPY_MODEL_b38cde7899774c6fa2314823440aa858"
      }
     },
     "201b3baa1bca4c36b847ee1241470de7": {
      "model_module": "@jupyter-widgets/controls",
      "model_module_version": "1.0.0",
      "model_name": "SliderStyleModel",
      "state": {
       "description_width": ""
      }
     },
     "206a2a444fb04e1084965b0277726721": {
      "model_module": "@jupyter-widgets/controls",
      "model_module_version": "1.0.0",
      "model_name": "SliderStyleModel",
      "state": {
       "description_width": ""
      }
     },
     "2071a4189a674493a3bd0afa1e89113e": {
      "model_module": "@jupyter-widgets/controls",
      "model_module_version": "1.0.0",
      "model_name": "SliderStyleModel",
      "state": {
       "description_width": ""
      }
     },
     "20e1c3dcf2d046a08906624a911a25cc": {
      "model_module": "@jupyter-widgets/controls",
      "model_module_version": "1.0.0",
      "model_name": "VBoxModel",
      "state": {
       "_dom_classes": [
        "widget-interact"
       ],
       "layout": "IPY_MODEL_fb7af5b5549640cfad0a47a9418af17d"
      }
     },
     "22e040088e344ff7a2c40592504e7701": {
      "model_module": "@jupyter-widgets/controls",
      "model_module_version": "1.0.0",
      "model_name": "SliderStyleModel",
      "state": {
       "description_width": ""
      }
     },
     "23838d32a54d475182ff3677fb924ab1": {
      "model_module": "@jupyter-widgets/controls",
      "model_module_version": "1.0.0",
      "model_name": "FloatSliderModel",
      "state": {
       "description": "dw_s2",
       "layout": "IPY_MODEL_3afc9aa5f8904976ac44c81dff3e4495",
       "max": 10,
       "min": 0.1,
       "step": 0.1,
       "style": "IPY_MODEL_5b7b3927313946ecb2239793bb5f91d7",
       "value": 0.69
      }
     },
     "2468b01daf924901ba6df80b0eddcde4": {
      "model_module": "@jupyter-widgets/base",
      "model_module_version": "1.0.0",
      "model_name": "LayoutModel",
      "state": {}
     },
     "2547d37821b44d2f87ca81f6267d9007": {
      "model_module": "@jupyter-widgets/controls",
      "model_module_version": "1.0.0",
      "model_name": "FloatSliderModel",
      "state": {
       "description": "pA_s2",
       "layout": "IPY_MODEL_92cb7324d825450081b1b75f130433d8",
       "max": 1,
       "min": 0.5,
       "step": 0.01,
       "style": "IPY_MODEL_790a65bda5cb4b068c8d43f0487310c9",
       "value": 0.5
      }
     },
     "2755417990a74aaf93efcab264aeb573": {
      "model_module": "@jupyter-widgets/controls",
      "model_module_version": "1.0.0",
      "model_name": "SliderStyleModel",
      "state": {
       "description_width": ""
      }
     },
     "279300c596964d448cf033cc78fe6419": {
      "model_module": "@jupyter-widgets/base",
      "model_module_version": "1.0.0",
      "model_name": "LayoutModel",
      "state": {}
     },
     "27d86bf668104d58b5a87cc26d76a167": {
      "model_module": "@jupyter-widgets/controls",
      "model_module_version": "1.0.0",
      "model_name": "SliderStyleModel",
      "state": {
       "description_width": ""
      }
     },
     "27e4d59d81f540bc835832e266008164": {
      "model_module": "@jupyter-widgets/base",
      "model_module_version": "1.0.0",
      "model_name": "LayoutModel",
      "state": {}
     },
     "28a1d8c0148c48ea954bd00543ef6996": {
      "model_module": "@jupyter-widgets/controls",
      "model_module_version": "1.0.0",
      "model_name": "FloatSliderModel",
      "state": {
       "description": "dw_s1",
       "layout": "IPY_MODEL_78bac0c414cf4cd895e9ffce96eca575",
       "max": 10,
       "min": 0.1,
       "step": 0.1,
       "style": "IPY_MODEL_baff214d155044ad9985b06c644c9d64",
       "value": 1.02
      }
     },
     "2903ab03c3b346ea94e43ec8e3c7ba03": {
      "model_module": "@jupyter-widgets/controls",
      "model_module_version": "1.0.0",
      "model_name": "SliderStyleModel",
      "state": {
       "description_width": ""
      }
     },
     "296437c52755481c9c3642044142cdbb": {
      "model_module": "@jupyter-widgets/base",
      "model_module_version": "1.0.0",
      "model_name": "LayoutModel",
      "state": {}
     },
     "2a2d07a04c73462bb425e8b848590a8e": {
      "model_module": "@jupyter-widgets/controls",
      "model_module_version": "1.0.0",
      "model_name": "SliderStyleModel",
      "state": {
       "description_width": ""
      }
     },
     "2a889ab386824233bbce3026dec71f60": {
      "model_module": "@jupyter-widgets/base",
      "model_module_version": "1.0.0",
      "model_name": "LayoutModel",
      "state": {}
     },
     "2ba9488056cb4ec6b07acfae45ca34ca": {
      "model_module": "@jupyter-widgets/base",
      "model_module_version": "1.0.0",
      "model_name": "LayoutModel",
      "state": {}
     },
     "2c4a346c8edb4543a61817ca1f1dd9c8": {
      "model_module": "@jupyter-widgets/output",
      "model_module_version": "1.0.0",
      "model_name": "OutputModel",
      "state": {
       "layout": "IPY_MODEL_2a889ab386824233bbce3026dec71f60",
       "outputs": [
        {
         "data": {
          "image/png": "iVBORw0KGgoAAAANSUhEUgAAArwAAAD8CAYAAACVfXcGAAAABHNCSVQICAgIfAhkiAAAAAlwSFlz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\n",
          "text/plain": "<matplotlib.figure.Figure at 0x7f6c63cd7860>"
         },
         "metadata": {},
         "output_type": "display_data"
        }
       ]
      }
     },
     "2ec3fb38170847fa8867f9908161bf52": {
      "model_module": "@jupyter-widgets/controls",
      "model_module_version": "1.0.0",
      "model_name": "FloatSliderModel",
      "state": {
       "description": "dw_s1",
       "layout": "IPY_MODEL_fc4c99dcd8be44f1b69e0b5112ead3b5",
       "max": 10,
       "min": 0.1,
       "step": 0.1,
       "style": "IPY_MODEL_546dc0da09284bbf9d9d6dc888754b7c",
       "value": 1.02
      }
     },
     "2f8d8bde83c24fc2baa02c09dace1a5d": {
      "model_module": "@jupyter-widgets/controls",
      "model_module_version": "1.0.0",
      "model_name": "SliderStyleModel",
      "state": {
       "description_width": ""
      }
     },
     "30598960722c43528c5778c9b9d070e8": {
      "model_module": "@jupyter-widgets/base",
      "model_module_version": "1.0.0",
      "model_name": "LayoutModel",
      "state": {}
     },
     "30b195077c3a4561a2c99568bae92d0f": {
      "model_module": "@jupyter-widgets/controls",
      "model_module_version": "1.0.0",
      "model_name": "SliderStyleModel",
      "state": {
       "description_width": ""
      }
     },
     "30de3178c5524dc2b9d70fca23637212": {
      "model_module": "@jupyter-widgets/controls",
      "model_module_version": "1.0.0",
      "model_name": "SliderStyleModel",
      "state": {
       "description_width": ""
      }
     },
     "30eb50bae0bc4ec090b19ae91c382069": {
      "model_module": "@jupyter-widgets/base",
      "model_module_version": "1.0.0",
      "model_name": "LayoutModel",
      "state": {}
     },
     "31396c5ac065449b94794c912f792eda": {
      "model_module": "@jupyter-widgets/base",
      "model_module_version": "1.0.0",
      "model_name": "LayoutModel",
      "state": {}
     },
     "31733a8e5f754e5488c50326365503cc": {
      "model_module": "@jupyter-widgets/controls",
      "model_module_version": "1.0.0",
      "model_name": "FloatSliderModel",
      "state": {
       "description": "kex_s2",
       "layout": "IPY_MODEL_50ba0cea2e754e1188b2a10133ff4c64",
       "max": 10000,
       "min": 400,
       "step": 200,
       "style": "IPY_MODEL_d9096636f5914c8a941dac235745538b",
       "value": 4061
      }
     },
     "31aff0c0de684b1ca11884720dea5741": {
      "model_module": "@jupyter-widgets/controls",
      "model_module_version": "1.0.0",
      "model_name": "FloatSliderModel",
      "state": {
       "description": "dw_s1",
       "layout": "IPY_MODEL_1e5c99bc84c74b63b7ba7d3e89684fb8",
       "max": 10,
       "min": 0.1,
       "step": 0.1,
       "style": "IPY_MODEL_30b195077c3a4561a2c99568bae92d0f",
       "value": 1.02
      }
     },
     "32b3ef63e0af439bacce2a03905d2976": {
      "model_module": "@jupyter-widgets/base",
      "model_module_version": "1.0.0",
      "model_name": "LayoutModel",
      "state": {}
     },
     "33600578057e48fa80145d6dd764096d": {
      "model_module": "@jupyter-widgets/controls",
      "model_module_version": "1.0.0",
      "model_name": "SliderStyleModel",
      "state": {
       "description_width": ""
      }
     },
     "33ada57fe7cd4c3ea8e81e613529f59d": {
      "model_module": "@jupyter-widgets/controls",
      "model_module_version": "1.0.0",
      "model_name": "FloatSliderModel",
      "state": {
       "description": "R20_s1",
       "layout": "IPY_MODEL_45ff106db4ac4330832b553ce41d4f2b",
       "max": 25,
       "min": 5,
       "style": "IPY_MODEL_144b79d7d4a349c185b192d7892b410a",
       "value": 13.9
      }
     },
     "34586577715049ffa5ebeb411c9f7f1f": {
      "model_module": "@jupyter-widgets/controls",
      "model_module_version": "1.0.0",
      "model_name": "SliderStyleModel",
      "state": {
       "description_width": ""
      }
     },
     "347f935565374a4aa9bc194b0a499f02": {
      "model_module": "@jupyter-widgets/controls",
      "model_module_version": "1.0.0",
      "model_name": "FloatSliderModel",
      "state": {
       "description": "w0_1H_s2",
       "layout": "IPY_MODEL_6a54eacec33d4b1fa7a4bb0a21a5b58a",
       "max": 1000,
       "min": 500,
       "step": 50,
       "style": "IPY_MODEL_881f5a82109442d083f8b7316814ecfe",
       "value": 750
      }
     },
     "348fca70968a4262baeda975e473a62a": {
      "model_module": "@jupyter-widgets/controls",
      "model_module_version": "1.0.0",
      "model_name": "FloatSliderModel",
      "state": {
       "description": "R20_s2",
       "layout": "IPY_MODEL_979c58560ced4f898cf8e8c5e32fa1f8",
       "max": 25,
       "min": 5,
       "style": "IPY_MODEL_4e5f6d2fefdf458f92ba56dd0ef32821",
       "value": 13.9
      }
     },
     "350649f2ef7c4127b6ba3b7a35d04aac": {
      "model_module": "@jupyter-widgets/controls",
      "model_module_version": "1.0.0",
      "model_name": "SliderStyleModel",
      "state": {
       "description_width": ""
      }
     },
     "35462f09c33c41a496641b411027ecc0": {
      "model_module": "@jupyter-widgets/controls",
      "model_module_version": "1.0.0",
      "model_name": "FloatSliderModel",
      "state": {
       "description": "pA_s2",
       "layout": "IPY_MODEL_279300c596964d448cf033cc78fe6419",
       "max": 1,
       "min": 0.5,
       "step": 0.01,
       "style": "IPY_MODEL_c2c9dbcb03604bba907f5c22f82ee1c6",
       "value": 0.5
      }
     },
     "3571bfeba15549a387ecb0a1eceaeb29": {
      "model_module": "@jupyter-widgets/base",
      "model_module_version": "1.0.0",
      "model_name": "LayoutModel",
      "state": {}
     },
     "35e6ce423f0044778fde799f5e753ad9": {
      "model_module": "@jupyter-widgets/controls",
      "model_module_version": "1.0.0",
      "model_name": "SliderStyleModel",
      "state": {
       "description_width": ""
      }
     },
     "36be5cf7bdf24de1bd30cea98201aba6": {
      "model_module": "@jupyter-widgets/controls",
      "model_module_version": "1.0.0",
      "model_name": "SliderStyleModel",
      "state": {
       "description_width": ""
      }
     },
     "37566a3c7e564f428b0c719312bc0035": {
      "model_module": "@jupyter-widgets/controls",
      "model_module_version": "1.0.0",
      "model_name": "FloatSliderModel",
      "state": {
       "description": "R20_s2",
       "layout": "IPY_MODEL_77b746883882473685f6c5e8e02524db",
       "max": 25,
       "min": 5,
       "style": "IPY_MODEL_d4aad0c712924ff29391c7f1670fa6b2",
       "value": 13.9
      }
     },
     "3789436b72344453b3b8c7509b1af5fb": {
      "model_module": "@jupyter-widgets/controls",
      "model_module_version": "1.0.0",
      "model_name": "FloatSliderModel",
      "state": {
       "description": "pA_s2",
       "layout": "IPY_MODEL_ff116692db82431387db0d7d778be0df",
       "max": 1,
       "min": 0.5,
       "step": 0.01,
       "style": "IPY_MODEL_18e8691025944dadb187e469c34b4231",
       "value": 0.5
      }
     },
     "37c83046e235484d88cd21db4321ca45": {
      "model_module": "@jupyter-widgets/controls",
      "model_module_version": "1.0.0",
      "model_name": "FloatSliderModel",
      "state": {
       "description": "dw_s1",
       "layout": "IPY_MODEL_d61d4660c282409e9b55640d1dbd4aa6",
       "max": 10,
       "min": 0.1,
       "step": 0.1,
       "style": "IPY_MODEL_df434677574248d5b2abe0c5059fe855",
       "value": 1.02
      }
     },
     "38432ca77f544a318c06846ee5dd5150": {
      "model_module": "@jupyter-widgets/output",
      "model_module_version": "1.0.0",
      "model_name": "OutputModel",
      "state": {
       "layout": "IPY_MODEL_95fe279fd5f24372b3654d9946cdf8f9",
       "outputs": [
        {
         "data": {
          "image/png": "iVBORw0KGgoAAAANSUhEUgAAArwAAAD8CAYAAACVfXcGAAAABHNCSVQICAgIfAhkiAAAAAlwSFlz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\niIiIiKwaE14iIiIismr/C3firFMcVrT/AAAAAElFTkSuQmCC\n",
          "text/plain": "<matplotlib.figure.Figure at 0x7f6c61b58390>"
         },
         "metadata": {},
         "output_type": "display_data"
        }
       ]
      }
     },
     "384ce975751c45c5b870347fc1abdf5e": {
      "model_module": "@jupyter-widgets/base",
      "model_module_version": "1.0.0",
      "model_name": "LayoutModel",
      "state": {}
     },
     "39af1d1a8fab4e1eb750a009552af3b3": {
      "model_module": "@jupyter-widgets/controls",
      "model_module_version": "1.0.0",
      "model_name": "SliderStyleModel",
      "state": {
       "description_width": ""
      }
     },
     "39c054935ddb4095925850b64e82cb9a": {
      "model_module": "@jupyter-widgets/controls",
      "model_module_version": "1.0.0",
      "model_name": "SliderStyleModel",
      "state": {
       "description_width": ""
      }
     },
     "3a354b0f96d14b36a1488a242acf1acc": {
      "model_module": "@jupyter-widgets/controls",
      "model_module_version": "1.0.0",
      "model_name": "SliderStyleModel",
      "state": {
       "description_width": ""
      }
     },
     "3a9f31d7bdd0488f9eac48a264801c89": {
      "model_module": "@jupyter-widgets/output",
      "model_module_version": "1.0.0",
      "model_name": "OutputModel",
      "state": {
       "layout": "IPY_MODEL_60932dd102a1442eac3b7ea26f867be1",
       "outputs": [
        {
         "data": {
          "image/png": "iVBORw0KGgoAAAANSUhEUgAAArwAAAD8CAYAAACVfXcGAAAABHNCSVQICAgIfAhkiAAAAAlwSFlz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\nTkSuQmCC\n",
          "text/plain": "<matplotlib.figure.Figure at 0x7f6c63e178d0>"
         },
         "metadata": {},
         "output_type": "display_data"
        }
       ]
      }
     },
     "3afc9aa5f8904976ac44c81dff3e4495": {
      "model_module": "@jupyter-widgets/base",
      "model_module_version": "1.0.0",
      "model_name": "LayoutModel",
      "state": {}
     },
     "3b4283f1d151420daae2b08bfa078630": {
      "model_module": "@jupyter-widgets/base",
      "model_module_version": "1.0.0",
      "model_name": "LayoutModel",
      "state": {}
     },
     "3b687f0de22b4619b12579dfcd9c3bbe": {
      "model_module": "@jupyter-widgets/output",
      "model_module_version": "1.0.0",
      "model_name": "OutputModel",
      "state": {
       "layout": "IPY_MODEL_dc8a7d20ee5545fc979435f986db1b51",
       "outputs": [
        {
         "data": {
          "image/png": "iVBORw0KGgoAAAANSUhEUgAAArwAAAD8CAYAAACVfXcGAAAABHNCSVQICAgIfAhkiAAAAAlwSFlz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\nNgAAAABJRU5ErkJggg==\n",
          "text/plain": "<matplotlib.figure.Figure at 0x7f6c61bd7630>"
         },
         "metadata": {},
         "output_type": "display_data"
        }
       ]
      }
     },
     "3be1f2c1bbc0425e979a0c8f23fa5d17": {
      "model_module": "@jupyter-widgets/controls",
      "model_module_version": "1.0.0",
      "model_name": "FloatSliderModel",
      "state": {
       "description": "w0_1H_s2",
       "layout": "IPY_MODEL_48a190fbbcdc467abbcd0ee272fec1f1",
       "max": 1000,
       "min": 500,
       "step": 50,
       "style": "IPY_MODEL_01a1eef70cd3461c8e62097b1a07e59f",
       "value": 750
      }
     },
     "3c2ae5f369b8401fa6a20e51530fe94f": {
      "model_module": "@jupyter-widgets/base",
      "model_module_version": "1.0.0",
      "model_name": "LayoutModel",
      "state": {}
     },
     "3c61b1a89bb946bfb8ad2e23a18d9afa": {
      "model_module": "@jupyter-widgets/base",
      "model_module_version": "1.0.0",
      "model_name": "LayoutModel",
      "state": {}
     },
     "3d1606b9472749c3870c400ba0d8210c": {
      "model_module": "@jupyter-widgets/controls",
      "model_module_version": "1.0.0",
      "model_name": "SliderStyleModel",
      "state": {
       "description_width": ""
      }
     },
     "3e0c51318c664e79b0a012f612a20492": {
      "model_module": "@jupyter-widgets/controls",
      "model_module_version": "1.0.0",
      "model_name": "SliderStyleModel",
      "state": {
       "description_width": ""
      }
     },
     "3e691d61724e4eed9c9d709e3c19b4c5": {
      "model_module": "@jupyter-widgets/base",
      "model_module_version": "1.0.0",
      "model_name": "LayoutModel",
      "state": {}
     },
     "3f352cb1d9564ee4a2b72879ec7a697c": {
      "model_module": "@jupyter-widgets/controls",
      "model_module_version": "1.0.0",
      "model_name": "FloatSliderModel",
      "state": {
       "description": "w0_1H_s2",
       "layout": "IPY_MODEL_4619b818d19140cfa1d83f0f1f039355",
       "max": 1000,
       "min": 500,
       "step": 50,
       "style": "IPY_MODEL_f3a26aad28174cf28a089c78d22f71c2",
       "value": 750
      }
     },
     "41e8a3b2beb94ac2958d5dc2181e9344": {
      "model_module": "@jupyter-widgets/controls",
      "model_module_version": "1.0.0",
      "model_name": "FloatSliderModel",
      "state": {
       "description": "dw_s1",
       "layout": "IPY_MODEL_accad7f0aa5f48a883a80de67bd56d44",
       "max": 10,
       "min": 0.1,
       "step": 0.1,
       "style": "IPY_MODEL_fdaf9623480b4b86831e05f44e583376",
       "value": 1.02
      }
     },
     "42983bd6774041e98c15ffc653c02d1d": {
      "model_module": "@jupyter-widgets/controls",
      "model_module_version": "1.0.0",
      "model_name": "VBoxModel",
      "state": {
       "_dom_classes": [
        "widget-interact"
       ],
       "children": [
        "IPY_MODEL_5c27c64b678b4a3e97b31ad91f797c70",
        "IPY_MODEL_7add3a744a82495a8a523509dd78d42b",
        "IPY_MODEL_d660078a47ac4f5d8d598fb5a1aba6ea",
        "IPY_MODEL_818ecf535f634e6f8a46640ef0018efb",
        "IPY_MODEL_2ec3fb38170847fa8867f9908161bf52",
        "IPY_MODEL_55bb72ba04b4499187f5a0a1170cbc35",
        "IPY_MODEL_eedd9821dce247cba478c2d7d987db0c",
        "IPY_MODEL_f30f2fff7103497ca6ef723ac69fdc8f",
        "IPY_MODEL_8a87fb13a4da46c5a6cdac09fa933f83",
        "IPY_MODEL_5dca52cccf6e4fbe8728b19e8cbc62f5",
        "IPY_MODEL_1c6e827dc497479e863fce41890dc847"
       ],
       "layout": "IPY_MODEL_b82680aa68524d198b8ebcbf411e3566"
      }
     },
     "42f59ae336cc4d4cb47eef552187464c": {
      "model_module": "@jupyter-widgets/controls",
      "model_module_version": "1.0.0",
      "model_name": "FloatSliderModel",
      "state": {
       "description": "w0_1H_s1",
       "layout": "IPY_MODEL_71fcfe4494794ca78aa4463527c06656",
       "max": 1000,
       "min": 500,
       "step": 50,
       "style": "IPY_MODEL_7ab527f82141437ebc18b1095b482f63",
       "value": 750
      }
     },
     "433c4c27b3104c93be4d3846c6ffdf15": {
      "model_module": "@jupyter-widgets/base",
      "model_module_version": "1.0.0",
      "model_name": "LayoutModel",
      "state": {}
     },
     "44a094486aa34e5e8dd6f2cbfc3eaed7": {
      "model_module": "@jupyter-widgets/base",
      "model_module_version": "1.0.0",
      "model_name": "LayoutModel",
      "state": {}
     },
     "45ff106db4ac4330832b553ce41d4f2b": {
      "model_module": "@jupyter-widgets/base",
      "model_module_version": "1.0.0",
      "model_name": "LayoutModel",
      "state": {}
     },
     "460b45c7b93b41c590b4413417ca8edd": {
      "model_module": "@jupyter-widgets/base",
      "model_module_version": "1.0.0",
      "model_name": "LayoutModel",
      "state": {}
     },
     "4619b818d19140cfa1d83f0f1f039355": {
      "model_module": "@jupyter-widgets/base",
      "model_module_version": "1.0.0",
      "model_name": "LayoutModel",
      "state": {}
     },
     "4633178ca0584dcc987fa4bf426b2937": {
      "model_module": "@jupyter-widgets/controls",
      "model_module_version": "1.0.0",
      "model_name": "SliderStyleModel",
      "state": {
       "description_width": ""
      }
     },
     "4654da948db64b968e03823593e638ad": {
      "model_module": "@jupyter-widgets/controls",
      "model_module_version": "1.0.0",
      "model_name": "FloatSliderModel",
      "state": {
       "description": "w0_1H_s1",
       "layout": "IPY_MODEL_07e8995bd0664e9a88f33a09c875bfe9",
       "max": 1000,
       "min": 500,
       "step": 50,
       "style": "IPY_MODEL_1148fb1234144b5eb8826b722e849a3c",
       "value": 750
      }
     },
     "46c5a32ab6c64072b40d38fa9822404b": {
      "model_module": "@jupyter-widgets/controls",
      "model_module_version": "1.0.0",
      "model_name": "SliderStyleModel",
      "state": {
       "description_width": ""
      }
     },
     "47cd5ebc89ee47d79ec4d2a27b4b261e": {
      "model_module": "@jupyter-widgets/controls",
      "model_module_version": "1.0.0",
      "model_name": "FloatSliderModel",
      "state": {
       "description": "pA_s2",
       "layout": "IPY_MODEL_62320fa5d70f4ee9be09d251c93d024d",
       "max": 1,
       "min": 0.5,
       "step": 0.01,
       "style": "IPY_MODEL_dcb3d2e3cef4497bb86f42bf17233a76",
       "value": 0.5
      }
     },
     "48a190fbbcdc467abbcd0ee272fec1f1": {
      "model_module": "@jupyter-widgets/base",
      "model_module_version": "1.0.0",
      "model_name": "LayoutModel",
      "state": {}
     },
     "49821421b68a4b889d16054be16d3b76": {
      "model_module": "@jupyter-widgets/controls",
      "model_module_version": "1.0.0",
      "model_name": "SliderStyleModel",
      "state": {
       "description_width": ""
      }
     },
     "49fa9d3100e641e397f49025ee19c335": {
      "model_module": "@jupyter-widgets/controls",
      "model_module_version": "1.0.0",
      "model_name": "FloatSliderModel",
      "state": {
       "description": "R20_s1",
       "layout": "IPY_MODEL_a0c5132da0b14a4595e56fa6aac6c498",
       "max": 25,
       "min": 5,
       "style": "IPY_MODEL_ecb80165548a492f953f81793d60efc6",
       "value": 13.9
      }
     },
     "4d8288ac6c434de0b0996f72b2cd2bbe": {
      "model_module": "@jupyter-widgets/base",
      "model_module_version": "1.0.0",
      "model_name": "LayoutModel",
      "state": {}
     },
     "4e5f6d2fefdf458f92ba56dd0ef32821": {
      "model_module": "@jupyter-widgets/controls",
      "model_module_version": "1.0.0",
      "model_name": "SliderStyleModel",
      "state": {
       "description_width": ""
      }
     },
     "4eaf2f099b99490f9deedde6229cb265": {
      "model_module": "@jupyter-widgets/controls",
      "model_module_version": "1.0.0",
      "model_name": "FloatSliderModel",
      "state": {
       "description": "dw_s1",
       "layout": "IPY_MODEL_b1f26e11ebb440deaa03e6cf9173da37",
       "max": 10,
       "min": 0.1,
       "step": 0.1,
       "style": "IPY_MODEL_d0244fc5563c4ec492116cd2e2dcb34b",
       "value": 1.02
      }
     },
     "4ef2a841393048568717af826fa47b9c": {
      "model_module": "@jupyter-widgets/base",
      "model_module_version": "1.0.0",
      "model_name": "LayoutModel",
      "state": {}
     },
     "50ba0cea2e754e1188b2a10133ff4c64": {
      "model_module": "@jupyter-widgets/base",
      "model_module_version": "1.0.0",
      "model_name": "LayoutModel",
      "state": {}
     },
     "51cc4f26d536487597dc97d8c5a6760a": {
      "model_module": "@jupyter-widgets/base",
      "model_module_version": "1.0.0",
      "model_name": "LayoutModel",
      "state": {}
     },
     "5205dd7c17424aa7ae7c9c4652add586": {
      "model_module": "@jupyter-widgets/controls",
      "model_module_version": "1.0.0",
      "model_name": "FloatSliderModel",
      "state": {
       "description": "w0_1H_s2",
       "layout": "IPY_MODEL_80fafd189a7b42a3af07300d5bdaba20",
       "max": 1000,
       "min": 500,
       "step": 50,
       "style": "IPY_MODEL_88e7ade685b64186af4594d56440f8ce",
       "value": 750
      }
     },
     "5262a52ad6dd4a7fac207e481337288d": {
      "model_module": "@jupyter-widgets/controls",
      "model_module_version": "1.0.0",
      "model_name": "SliderStyleModel",
      "state": {
       "description_width": ""
      }
     },
     "52845ed8d55f43b2805ca933c9428a57": {
      "model_module": "@jupyter-widgets/base",
      "model_module_version": "1.0.0",
      "model_name": "LayoutModel",
      "state": {}
     },
     "5401f9df58fe4ecbba2712cee5628b09": {
      "model_module": "@jupyter-widgets/controls",
      "model_module_version": "1.0.0",
      "model_name": "FloatSliderModel",
      "state": {
       "description": "kex_s2",
       "layout": "IPY_MODEL_b9f19e60d6a643ad81ff809098c4677a",
       "max": 10000,
       "min": 400,
       "step": 200,
       "style": "IPY_MODEL_82dd623a11fb459f8df094e2965bc3d6",
       "value": 4061
      }
     },
     "54391b857b204946bb6d138392f131c6": {
      "model_module": "@jupyter-widgets/base",
      "model_module_version": "1.0.0",
      "model_name": "LayoutModel",
      "state": {}
     },
     "546dc0da09284bbf9d9d6dc888754b7c": {
      "model_module": "@jupyter-widgets/controls",
      "model_module_version": "1.0.0",
      "model_name": "SliderStyleModel",
      "state": {
       "description_width": ""
      }
     },
     "54cb35981dc245ae93f32481b6675612": {
      "model_module": "@jupyter-widgets/controls",
      "model_module_version": "1.0.0",
      "model_name": "SliderStyleModel",
      "state": {
       "description_width": ""
      }
     },
     "54fc53f6a4d748c182b5836605a9826f": {
      "model_module": "@jupyter-widgets/controls",
      "model_module_version": "1.0.0",
      "model_name": "FloatSliderModel",
      "state": {
       "description": "R20_s2",
       "layout": "IPY_MODEL_cb26e2dd060140f6814dde317bc7d979",
       "max": 25,
       "min": 5,
       "style": "IPY_MODEL_9cd5ce65707143c0b8bf36306e1ebf73",
       "value": 13.9
      }
     },
     "55b8ebe910fa4d8699624858a560a270": {
      "model_module": "@jupyter-widgets/controls",
      "model_module_version": "1.0.0",
      "model_name": "FloatSliderModel",
      "state": {
       "description": "dw_s2",
       "layout": "IPY_MODEL_b236c7cd8edc4f5d8b4638700e361172",
       "max": 10,
       "min": 0.1,
       "step": 0.1,
       "style": "IPY_MODEL_a23eafeb36d84fba94a3af354f1f7c7e",
       "value": 0.69
      }
     },
     "55bb72ba04b4499187f5a0a1170cbc35": {
      "model_module": "@jupyter-widgets/controls",
      "model_module_version": "1.0.0",
      "model_name": "FloatSliderModel",
      "state": {
       "description": "dw_s2",
       "layout": "IPY_MODEL_f866dc4e9b34430ab791b09390e7296c",
       "max": 10,
       "min": 0.1,
       "step": 0.1,
       "style": "IPY_MODEL_fb08a25d5523472ea97e03abe9d72fcb",
       "value": 0.69
      }
     },
     "55d8a24929ac4a40bed94f7b0b857782": {
      "model_module": "@jupyter-widgets/controls",
      "model_module_version": "1.0.0",
      "model_name": "FloatSliderModel",
      "state": {
       "description": "w0_1H_s2",
       "layout": "IPY_MODEL_bc0567c8c4414b90a23ee7c17fda64c4",
       "max": 1000,
       "min": 500,
       "step": 50,
       "style": "IPY_MODEL_f79763f953884f0281a3e02e26035360",
       "value": 750
      }
     },
     "570c79cb4bb743eb8b7ca3934f58b816": {
      "model_module": "@jupyter-widgets/controls",
      "model_module_version": "1.0.0",
      "model_name": "FloatSliderModel",
      "state": {
       "description": "w0_1H_s1",
       "layout": "IPY_MODEL_68ed920f704146a2b63731e3832ba566",
       "max": 1000,
       "min": 500,
       "step": 50,
       "style": "IPY_MODEL_d066cc999cd445a0ba3a9436abbd41c7",
       "value": 750
      }
     },
     "57a49c7dc8f448d3af8771f60eafec61": {
      "model_module": "@jupyter-widgets/base",
      "model_module_version": "1.0.0",
      "model_name": "LayoutModel",
      "state": {}
     },
     "57d6f08add394a6b99971197aca2bc51": {
      "model_module": "@jupyter-widgets/controls",
      "model_module_version": "1.0.0",
      "model_name": "SliderStyleModel",
      "state": {
       "description_width": ""
      }
     },
     "57ee1be2ce7b42ffb78ea1c63c46dbe1": {
      "model_module": "@jupyter-widgets/base",
      "model_module_version": "1.0.0",
      "model_name": "LayoutModel",
      "state": {}
     },
     "5851c6b6011a4ce0b570be2e42534686": {
      "model_module": "@jupyter-widgets/controls",
      "model_module_version": "1.0.0",
      "model_name": "SliderStyleModel",
      "state": {
       "description_width": ""
      }
     },
     "5907c351a5e24a4dbd19c194d30f16c5": {
      "model_module": "@jupyter-widgets/controls",
      "model_module_version": "1.0.0",
      "model_name": "SliderStyleModel",
      "state": {
       "description_width": ""
      }
     },
     "5a63255dd05f4e95afc30d2f745ee553": {
      "model_module": "@jupyter-widgets/base",
      "model_module_version": "1.0.0",
      "model_name": "LayoutModel",
      "state": {}
     },
     "5b60cf79be904c379b31cdc95fc26c33": {
      "model_module": "@jupyter-widgets/controls",
      "model_module_version": "1.0.0",
      "model_name": "SliderStyleModel",
      "state": {
       "description_width": ""
      }
     },
     "5b7b3927313946ecb2239793bb5f91d7": {
      "model_module": "@jupyter-widgets/controls",
      "model_module_version": "1.0.0",
      "model_name": "SliderStyleModel",
      "state": {
       "description_width": ""
      }
     },
     "5ba5b8fc54f4448aa2b5c3c71f3f1823": {
      "model_module": "@jupyter-widgets/controls",
      "model_module_version": "1.0.0",
      "model_name": "FloatSliderModel",
      "state": {
       "description": "pA_s1",
       "layout": "IPY_MODEL_d781aaeed9d3466c957cc7ef3f871151",
       "max": 1,
       "min": 0.5,
       "step": 0.01,
       "style": "IPY_MODEL_34586577715049ffa5ebeb411c9f7f1f",
       "value": 0.87
      }
     },
     "5c27c64b678b4a3e97b31ad91f797c70": {
      "model_module": "@jupyter-widgets/controls",
      "model_module_version": "1.0.0",
      "model_name": "FloatSliderModel",
      "state": {
       "description": "w0_1H_s1",
       "layout": "IPY_MODEL_d94d6b72cea24e7d8650f97f6f8f9a36",
       "max": 1000,
       "min": 500,
       "step": 50,
       "style": "IPY_MODEL_30de3178c5524dc2b9d70fca23637212",
       "value": 750
      }
     },
     "5c77b1a2a7d24ff5acb2ff94b8bbb0e5": {
      "model_module": "@jupyter-widgets/base",
      "model_module_version": "1.0.0",
      "model_name": "LayoutModel",
      "state": {}
     },
     "5cd672c5040f4f8582c9f2e1f61b15ee": {
      "model_module": "@jupyter-widgets/controls",
      "model_module_version": "1.0.0",
      "model_name": "SliderStyleModel",
      "state": {
       "description_width": ""
      }
     },
     "5cf8e99f9f5c43f089d2968307e833c6": {
      "model_module": "@jupyter-widgets/controls",
      "model_module_version": "1.0.0",
      "model_name": "VBoxModel",
      "state": {
       "_dom_classes": [
        "widget-interact"
       ],
       "children": [
        "IPY_MODEL_025f0bec7fac452fabe6d55fce9d4d89",
        "IPY_MODEL_823f600f6a0b4f2896834add1701aaa2",
        "IPY_MODEL_97c105bd4398474bac3be8fa9a07e1c0",
        "IPY_MODEL_5da0f6bab8834da8a2b34c1d8037d78a",
        "IPY_MODEL_31aff0c0de684b1ca11884720dea5741",
        "IPY_MODEL_cf820ec213e3429cad091c423fb4ff9b",
        "IPY_MODEL_06a54807fc474593ac0db5caf22fcb85",
        "IPY_MODEL_47cd5ebc89ee47d79ec4d2a27b4b261e",
        "IPY_MODEL_d4fee93067164452aefec90d165a3464",
        "IPY_MODEL_31733a8e5f754e5488c50326365503cc",
        "IPY_MODEL_f2f357dc9a1049fe9eb89f5f4bf420fe"
       ],
       "layout": "IPY_MODEL_296437c52755481c9c3642044142cdbb"
      }
     },
     "5d2b7cec9aee4c3591f366211462eb73": {
      "model_module": "@jupyter-widgets/controls",
      "model_module_version": "1.0.0",
      "model_name": "SliderStyleModel",
      "state": {
       "description_width": ""
      }
     },
     "5d93fc9274634e1286c43559f9d636e6": {
      "model_module": "@jupyter-widgets/base",
      "model_module_version": "1.0.0",
      "model_name": "LayoutModel",
      "state": {}
     },
     "5da0f6bab8834da8a2b34c1d8037d78a": {
      "model_module": "@jupyter-widgets/controls",
      "model_module_version": "1.0.0",
      "model_name": "FloatSliderModel",
      "state": {
       "description": "R20_s2",
       "layout": "IPY_MODEL_30eb50bae0bc4ec090b19ae91c382069",
       "max": 25,
       "min": 5,
       "style": "IPY_MODEL_35e6ce423f0044778fde799f5e753ad9",
       "value": 13.9
      }
     },
     "5dca52cccf6e4fbe8728b19e8cbc62f5": {
      "model_module": "@jupyter-widgets/controls",
      "model_module_version": "1.0.0",
      "model_name": "FloatSliderModel",
      "state": {
       "description": "kex_s2",
       "layout": "IPY_MODEL_d0b877e1e22e4c8cab0932aa9317bf12",
       "max": 10000,
       "min": 400,
       "step": 200,
       "style": "IPY_MODEL_734ca16260ee4081839959089ed3b793",
       "value": 4061
      }
     },
     "5e92e94059274e49827d9dd737e97284": {
      "model_module": "@jupyter-widgets/controls",
      "model_module_version": "1.0.0",
      "model_name": "FloatSliderModel",
      "state": {
       "description": "kex_s1",
       "layout": "IPY_MODEL_670582227b8e4601ae03c86caf4d6109",
       "max": 10000,
       "min": 400,
       "step": 200,
       "style": "IPY_MODEL_3a354b0f96d14b36a1488a242acf1acc",
       "value": 4027
      }
     },
     "5f1a7a08b7c04505817aefc6d08ac6f5": {
      "model_module": "@jupyter-widgets/controls",
      "model_module_version": "1.0.0",
      "model_name": "FloatSliderModel",
      "state": {
       "description": "kex_s1",
       "layout": "IPY_MODEL_2ba9488056cb4ec6b07acfae45ca34ca",
       "max": 10000,
       "min": 400,
       "step": 200,
       "style": "IPY_MODEL_8b02215b7e0f46c391ea3e6ab63c6460",
       "value": 4027
      }
     },
     "6066af8652cf441aa89ea45cf23c7ee8": {
      "model_module": "@jupyter-widgets/base",
      "model_module_version": "1.0.0",
      "model_name": "LayoutModel",
      "state": {}
     },
     "608411c89ec645c98f9e66bece586594": {
      "model_module": "@jupyter-widgets/output",
      "model_module_version": "1.0.0",
      "model_name": "OutputModel",
      "state": {
       "layout": "IPY_MODEL_0ce86b242f8b42039d1b8de65eebabcf",
       "outputs": [
        {
         "data": {
          "image/png": "iVBORw0KGgoAAAANSUhEUgAAArwAAAD8CAYAAACVfXcGAAAABHNCSVQICAgIfAhkiAAAAAlwSFlz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\niIiIiKwaE14iIiIismr/C3firFMcVrT/AAAAAElFTkSuQmCC\n",
          "text/plain": "<matplotlib.figure.Figure at 0x7f6c63d20b38>"
         },
         "metadata": {},
         "output_type": "display_data"
        }
       ]
      }
     },
     "60932dd102a1442eac3b7ea26f867be1": {
      "model_module": "@jupyter-widgets/base",
      "model_module_version": "1.0.0",
      "model_name": "LayoutModel",
      "state": {}
     },
     "61d7bef844bf4dff98d9f2bbb2e04196": {
      "model_module": "@jupyter-widgets/controls",
      "model_module_version": "1.0.0",
      "model_name": "FloatSliderModel",
      "state": {
       "description": "dw_s2",
       "layout": "IPY_MODEL_bd2cf36d0e074de38902471194f52745",
       "max": 10,
       "min": 0.1,
       "step": 0.1,
       "style": "IPY_MODEL_14f3b643fc354037b10dc7f1079d2547",
       "value": 0.69
      }
     },
     "62320fa5d70f4ee9be09d251c93d024d": {
      "model_module": "@jupyter-widgets/base",
      "model_module_version": "1.0.0",
      "model_name": "LayoutModel",
      "state": {}
     },
     "633043d80eb0483ba13e1769cbc2e59e": {
      "model_module": "@jupyter-widgets/controls",
      "model_module_version": "1.0.0",
      "model_name": "FloatSliderModel",
      "state": {
       "description": "w0_1H_s2",
       "layout": "IPY_MODEL_3e691d61724e4eed9c9d709e3c19b4c5",
       "max": 1000,
       "min": 500,
       "step": 50,
       "style": "IPY_MODEL_f485e7d6422a4b4e9c3f2434bd7641a8",
       "value": 750
      }
     },
     "63e6ff7b163c488aab0ffce7a9c1bb3c": {
      "model_module": "@jupyter-widgets/controls",
      "model_module_version": "1.0.0",
      "model_name": "FloatSliderModel",
      "state": {
       "description": "dw_s2",
       "layout": "IPY_MODEL_ec4de18d5b6841c98016b9735c999815",
       "max": 10,
       "min": 0.1,
       "step": 0.1,
       "style": "IPY_MODEL_350649f2ef7c4127b6ba3b7a35d04aac",
       "value": 0.69
      }
     },
     "63e73edfd10941439629d75da459d7e8": {
      "model_module": "@jupyter-widgets/controls",
      "model_module_version": "1.0.0",
      "model_name": "FloatSliderModel",
      "state": {
       "description": "dw_s1",
       "layout": "IPY_MODEL_151bdb27053742aabcfca5b1085e74c4",
       "max": 10,
       "min": 0.1,
       "step": 0.1,
       "style": "IPY_MODEL_1a23987749e84e9887913716343b1bc2",
       "value": 1.02
      }
     },
     "6560d5bc384045b1a4ed6542ec590cc3": {
      "model_module": "@jupyter-widgets/base",
      "model_module_version": "1.0.0",
      "model_name": "LayoutModel",
      "state": {}
     },
     "65d005750e564be89787584d78b42226": {
      "model_module": "@jupyter-widgets/controls",
      "model_module_version": "1.0.0",
      "model_name": "SliderStyleModel",
      "state": {
       "description_width": ""
      }
     },
     "65f77f6b1c3144a8a4f3c51064dd8f7c": {
      "model_module": "@jupyter-widgets/controls",
      "model_module_version": "1.0.0",
      "model_name": "SliderStyleModel",
      "state": {
       "description_width": ""
      }
     },
     "66805bacd01041158fb86d5a861df235": {
      "model_module": "@jupyter-widgets/base",
      "model_module_version": "1.0.0",
      "model_name": "LayoutModel",
      "state": {}
     },
     "670582227b8e4601ae03c86caf4d6109": {
      "model_module": "@jupyter-widgets/base",
      "model_module_version": "1.0.0",
      "model_name": "LayoutModel",
      "state": {}
     },
     "67784236ec29435080d33f0a8235f5ee": {
      "model_module": "@jupyter-widgets/base",
      "model_module_version": "1.0.0",
      "model_name": "LayoutModel",
      "state": {}
     },
     "67a75666bcfc423d9471010d9607611c": {
      "model_module": "@jupyter-widgets/controls",
      "model_module_version": "1.0.0",
      "model_name": "SliderStyleModel",
      "state": {
       "description_width": ""
      }
     },
     "6806c1efb9074778a1d5250c6cb17001": {
      "model_module": "@jupyter-widgets/controls",
      "model_module_version": "1.0.0",
      "model_name": "SliderStyleModel",
      "state": {
       "description_width": ""
      }
     },
     "68645341a0e643f0b9409238b0e8dd8b": {
      "model_module": "@jupyter-widgets/controls",
      "model_module_version": "1.0.0",
      "model_name": "FloatSliderModel",
      "state": {
       "description": "kex_s2",
       "layout": "IPY_MODEL_0391752e904240279f7a2ae18feb9db1",
       "max": 10000,
       "min": 400,
       "step": 200,
       "style": "IPY_MODEL_2071a4189a674493a3bd0afa1e89113e",
       "value": 4061
      }
     },
     "68ed920f704146a2b63731e3832ba566": {
      "model_module": "@jupyter-widgets/base",
      "model_module_version": "1.0.0",
      "model_name": "LayoutModel",
      "state": {}
     },
     "69dd7890dab84656a89fca31b6de1d69": {
      "model_module": "@jupyter-widgets/controls",
      "model_module_version": "1.0.0",
      "model_name": "FloatSliderModel",
      "state": {
       "description": "w0_1H_s2",
       "layout": "IPY_MODEL_3c2ae5f369b8401fa6a20e51530fe94f",
       "max": 1000,
       "min": 500,
       "step": 50,
       "style": "IPY_MODEL_e5aba22424cf43b5803f67cc0c59499d",
       "value": 750
      }
     },
     "6a54eacec33d4b1fa7a4bb0a21a5b58a": {
      "model_module": "@jupyter-widgets/base",
      "model_module_version": "1.0.0",
      "model_name": "LayoutModel",
      "state": {}
     },
     "6a862ed974b74ada88a4756e333394cf": {
      "model_module": "@jupyter-widgets/controls",
      "model_module_version": "1.0.0",
      "model_name": "SliderStyleModel",
      "state": {
       "description_width": ""
      }
     },
     "6c14bef00ac843468eff22db8fd37cc4": {
      "model_module": "@jupyter-widgets/controls",
      "model_module_version": "1.0.0",
      "model_name": "SliderStyleModel",
      "state": {
       "description_width": ""
      }
     },
     "6c54d636c91e4d49968749d96d524ee2": {
      "model_module": "@jupyter-widgets/controls",
      "model_module_version": "1.0.0",
      "model_name": "FloatSliderModel",
      "state": {
       "description": "dw_s2",
       "layout": "IPY_MODEL_80fc938f5a494818a00fcb4207396cc6",
       "max": 10,
       "min": 0.1,
       "step": 0.1,
       "style": "IPY_MODEL_0368190a78774414bd65ea7980d6b405",
       "value": 0.69
      }
     },
     "6cd5ea3b739a47d4b8b0e315f9826410": {
      "model_module": "@jupyter-widgets/controls",
      "model_module_version": "1.0.0",
      "model_name": "FloatSliderModel",
      "state": {
       "description": "kex_s2",
       "layout": "IPY_MODEL_e539e175fa7e45089dd56a2431aa37e0",
       "max": 10000,
       "min": 400,
       "step": 200,
       "style": "IPY_MODEL_c0aa7deda5e24fc689f3431f63ffbe3a",
       "value": 4061
      }
     },
     "6f75548e2f334c93a12ac3dd432dd3a0": {
      "model_module": "@jupyter-widgets/base",
      "model_module_version": "1.0.0",
      "model_name": "LayoutModel",
      "state": {}
     },
     "6f90c9d537074e92958e798a9d42e3d6": {
      "model_module": "@jupyter-widgets/controls",
      "model_module_version": "1.0.0",
      "model_name": "SliderStyleModel",
      "state": {
       "description_width": ""
      }
     },
     "719b6234419149fb9382c9785cb44325": {
      "model_module": "@jupyter-widgets/controls",
      "model_module_version": "1.0.0",
      "model_name": "FloatSliderModel",
      "state": {
       "description": "dw_s2",
       "layout": "IPY_MODEL_3c61b1a89bb946bfb8ad2e23a18d9afa",
       "max": 10,
       "min": 0.1,
       "step": 0.1,
       "style": "IPY_MODEL_b1cab373f2ee4c049f8ab7c4aa469876",
       "value": 0.69
      }
     },
     "71fcfe4494794ca78aa4463527c06656": {
      "model_module": "@jupyter-widgets/base",
      "model_module_version": "1.0.0",
      "model_name": "LayoutModel",
      "state": {}
     },
     "7265e1c9c89d41deb8ca8a728334cdd2": {
      "model_module": "@jupyter-widgets/controls",
      "model_module_version": "1.0.0",
      "model_name": "SliderStyleModel",
      "state": {
       "description_width": ""
      }
     },
     "734ca16260ee4081839959089ed3b793": {
      "model_module": "@jupyter-widgets/controls",
      "model_module_version": "1.0.0",
      "model_name": "SliderStyleModel",
      "state": {
       "description_width": ""
      }
     },
     "757d989df6764dc48b00b10dae96aa8e": {
      "model_module": "@jupyter-widgets/controls",
      "model_module_version": "1.0.0",
      "model_name": "SliderStyleModel",
      "state": {
       "description_width": ""
      }
     },
     "77b746883882473685f6c5e8e02524db": {
      "model_module": "@jupyter-widgets/base",
      "model_module_version": "1.0.0",
      "model_name": "LayoutModel",
      "state": {}
     },
     "7855244c1ff648cc884935c6c2c82763": {
      "model_module": "@jupyter-widgets/base",
      "model_module_version": "1.0.0",
      "model_name": "LayoutModel",
      "state": {}
     },
     "7856c0ae2c7f459c916983c772c68095": {
      "model_module": "@jupyter-widgets/controls",
      "model_module_version": "1.0.0",
      "model_name": "FloatSliderModel",
      "state": {
       "description": "kex_s1",
       "layout": "IPY_MODEL_ff6f9ae8a0e54641b22d7b234c6ce422",
       "max": 10000,
       "min": 400,
       "step": 200,
       "style": "IPY_MODEL_5b60cf79be904c379b31cdc95fc26c33",
       "value": 4027
      }
     },
     "78bac0c414cf4cd895e9ffce96eca575": {
      "model_module": "@jupyter-widgets/base",
      "model_module_version": "1.0.0",
      "model_name": "LayoutModel",
      "state": {}
     },
     "78bce39ba89e4cecb1a5f2dcf3252319": {
      "model_module": "@jupyter-widgets/controls",
      "model_module_version": "1.0.0",
      "model_name": "SliderStyleModel",
      "state": {
       "description_width": ""
      }
     },
     "790a65bda5cb4b068c8d43f0487310c9": {
      "model_module": "@jupyter-widgets/controls",
      "model_module_version": "1.0.0",
      "model_name": "SliderStyleModel",
      "state": {
       "description_width": ""
      }
     },
     "79b31ba5ad1c4b0d8e8b28e2cb66bb8e": {
      "model_module": "@jupyter-widgets/base",
      "model_module_version": "1.0.0",
      "model_name": "LayoutModel",
      "state": {}
     },
     "7ab527f82141437ebc18b1095b482f63": {
      "model_module": "@jupyter-widgets/controls",
      "model_module_version": "1.0.0",
      "model_name": "SliderStyleModel",
      "state": {
       "description_width": ""
      }
     },
     "7add3a744a82495a8a523509dd78d42b": {
      "model_module": "@jupyter-widgets/controls",
      "model_module_version": "1.0.0",
      "model_name": "FloatSliderModel",
      "state": {
       "description": "w0_1H_s2",
       "layout": "IPY_MODEL_eb3ccd6997f34ca6aaa5337db2926a44",
       "max": 1000,
       "min": 500,
       "step": 50,
       "style": "IPY_MODEL_5851c6b6011a4ce0b570be2e42534686",
       "value": 750
      }
     },
     "7bc6dfe702e942eeaf51f6e1737e7733": {
      "model_module": "@jupyter-widgets/controls",
      "model_module_version": "1.0.0",
      "model_name": "SliderStyleModel",
      "state": {
       "description_width": ""
      }
     },
     "7d5172843c90495aaab5b63b44723ec0": {
      "model_module": "@jupyter-widgets/controls",
      "model_module_version": "1.0.0",
      "model_name": "VBoxModel",
      "state": {
       "_dom_classes": [
        "widget-interact"
       ],
       "children": [
        "IPY_MODEL_84b7cd35e9e44fa994138584ba0859c8",
        "IPY_MODEL_4654da948db64b968e03823593e638ad",
        "IPY_MODEL_3f352cb1d9564ee4a2b72879ec7a697c",
        "IPY_MODEL_49fa9d3100e641e397f49025ee19c335",
        "IPY_MODEL_e10f554c16ee4199b0cb50ad360f2c76",
        "IPY_MODEL_63e73edfd10941439629d75da459d7e8",
        "IPY_MODEL_dae8b488a2074eca95b7ac85de4e8a6d",
        "IPY_MODEL_8f39461d1d7349578477f938f0ec5f81",
        "IPY_MODEL_a35161dfa67348c3ab0e6ee3c4170191",
        "IPY_MODEL_d741f4396b7b4c268691bb169536aabd",
        "IPY_MODEL_fc331ac5409b450491c23fbe4489e528",
        "IPY_MODEL_2c4a346c8edb4543a61817ca1f1dd9c8"
       ],
       "layout": "IPY_MODEL_0e89f2be7554458a979c81eb78f096c0"
      }
     },
     "80fafd189a7b42a3af07300d5bdaba20": {
      "model_module": "@jupyter-widgets/base",
      "model_module_version": "1.0.0",
      "model_name": "LayoutModel",
      "state": {}
     },
     "80fc938f5a494818a00fcb4207396cc6": {
      "model_module": "@jupyter-widgets/base",
      "model_module_version": "1.0.0",
      "model_name": "LayoutModel",
      "state": {}
     },
     "812c8aba77bd42ffbbbbf8a179a8f046": {
      "model_module": "@jupyter-widgets/base",
      "model_module_version": "1.0.0",
      "model_name": "LayoutModel",
      "state": {}
     },
     "818ecf535f634e6f8a46640ef0018efb": {
      "model_module": "@jupyter-widgets/controls",
      "model_module_version": "1.0.0",
      "model_name": "FloatSliderModel",
      "state": {
       "description": "R20_s2",
       "layout": "IPY_MODEL_54391b857b204946bb6d138392f131c6",
       "max": 25,
       "min": 5,
       "style": "IPY_MODEL_875fcbcba1c845f299d1facb2d55bda0",
       "value": 13.9
      }
     },
     "822485324d734e7f947026b271f51a6f": {
      "model_module": "@jupyter-widgets/controls",
      "model_module_version": "1.0.0",
      "model_name": "FloatSliderModel",
      "state": {
       "description": "dw_s2",
       "layout": "IPY_MODEL_52845ed8d55f43b2805ca933c9428a57",
       "max": 10,
       "min": 0.1,
       "step": 0.1,
       "style": "IPY_MODEL_09631bca483544c38cde166767213913",
       "value": 0.69
      }
     },
     "823f600f6a0b4f2896834add1701aaa2": {
      "model_module": "@jupyter-widgets/controls",
      "model_module_version": "1.0.0",
      "model_name": "FloatSliderModel",
      "state": {
       "description": "w0_1H_s2",
       "layout": "IPY_MODEL_32b3ef63e0af439bacce2a03905d2976",
       "max": 1000,
       "min": 500,
       "step": 50,
       "style": "IPY_MODEL_ba7eea86ffc444918a77e08384153ab5",
       "value": 750
      }
     },
     "82dd623a11fb459f8df094e2965bc3d6": {
      "model_module": "@jupyter-widgets/controls",
      "model_module_version": "1.0.0",
      "model_name": "SliderStyleModel",
      "state": {
       "description_width": ""
      }
     },
     "8356e9d0648f400294432fee0928afef": {
      "model_module": "@jupyter-widgets/controls",
      "model_module_version": "1.0.0",
      "model_name": "VBoxModel",
      "state": {
       "_dom_classes": [
        "widget-interact"
       ],
       "children": [
        "IPY_MODEL_ee205644ca8843739c6170c810207eaf",
        "IPY_MODEL_86b655bf0abe4d018b1c7db6ec609759",
        "IPY_MODEL_b050c7a5b2c64706a6b76580945baec0",
        "IPY_MODEL_54fc53f6a4d748c182b5836605a9826f",
        "IPY_MODEL_37c83046e235484d88cd21db4321ca45",
        "IPY_MODEL_719b6234419149fb9382c9785cb44325",
        "IPY_MODEL_1c8f649bd82f492dbe00e070b268e030",
        "IPY_MODEL_1486d2fb5e6e40838fd864476e684ebc",
        "IPY_MODEL_7856c0ae2c7f459c916983c772c68095",
        "IPY_MODEL_d94d4bc8c1ee47aa99110d1e0b1aa361",
        "IPY_MODEL_dfa243fb70bd4cb1a343ddffa3e342cd"
       ],
       "layout": "IPY_MODEL_dc1619644a594cff91e63372dd843f0a"
      }
     },
     "83747bf0533d4f6987cb46b3edebe382": {
      "model_module": "@jupyter-widgets/controls",
      "model_module_version": "1.0.0",
      "model_name": "FloatSliderModel",
      "state": {
       "description": "pA_s1",
       "layout": "IPY_MODEL_57a49c7dc8f448d3af8771f60eafec61",
       "max": 1,
       "min": 0.5,
       "step": 0.01,
       "style": "IPY_MODEL_5262a52ad6dd4a7fac207e481337288d",
       "value": 0.87
      }
     },
     "84b7cd35e9e44fa994138584ba0859c8": {
      "model_module": "@jupyter-widgets/controls",
      "model_module_version": "1.0.0",
      "model_name": "FloatSliderModel",
      "state": {
       "description": "relax_time",
       "layout": "IPY_MODEL_bc50abcfac6a492a996e48380fbd7d69",
       "max": 0.08,
       "min": 0.02,
       "step": 0.01,
       "style": "IPY_MODEL_757d989df6764dc48b00b10dae96aa8e",
       "value": 0.06
      }
     },
     "84cf4353456341c4b227facd46484eee": {
      "model_module": "@jupyter-widgets/base",
      "model_module_version": "1.0.0",
      "model_name": "LayoutModel",
      "state": {}
     },
     "84e4105bbd5c401da5b19955327ce13b": {
      "model_module": "@jupyter-widgets/controls",
      "model_module_version": "1.0.0",
      "model_name": "FloatSliderModel",
      "state": {
       "description": "kex_s2",
       "layout": "IPY_MODEL_d213a187c5f24ea2869224410ca4caaf",
       "max": 10000,
       "min": 400,
       "step": 200,
       "style": "IPY_MODEL_5cd672c5040f4f8582c9f2e1f61b15ee",
       "value": 4061
      }
     },
     "86b655bf0abe4d018b1c7db6ec609759": {
      "model_module": "@jupyter-widgets/controls",
      "model_module_version": "1.0.0",
      "model_name": "FloatSliderModel",
      "state": {
       "description": "w0_1H_s2",
       "layout": "IPY_MODEL_bd9ebe293cef4a96b8b7aae11d4772c9",
       "max": 1000,
       "min": 500,
       "step": 50,
       "style": "IPY_MODEL_22e040088e344ff7a2c40592504e7701",
       "value": 750
      }
     },
     "86fa47d05dab444ba9e928891dfbe869": {
      "model_module": "@jupyter-widgets/base",
      "model_module_version": "1.0.0",
      "model_name": "LayoutModel",
      "state": {}
     },
     "870ccc8f41b943f581c8b7ee4a93c33f": {
      "model_module": "@jupyter-widgets/controls",
      "model_module_version": "1.0.0",
      "model_name": "SliderStyleModel",
      "state": {
       "description_width": ""
      }
     },
     "875fcbcba1c845f299d1facb2d55bda0": {
      "model_module": "@jupyter-widgets/controls",
      "model_module_version": "1.0.0",
      "model_name": "SliderStyleModel",
      "state": {
       "description_width": ""
      }
     },
     "87938f1dbb2b47e3bdf21ff455a66ac9": {
      "model_module": "@jupyter-widgets/base",
      "model_module_version": "1.0.0",
      "model_name": "LayoutModel",
      "state": {}
     },
     "880ebc6d3a144e6dbe0d5eb44dc6da35": {
      "model_module": "@jupyter-widgets/controls",
      "model_module_version": "1.0.0",
      "model_name": "FloatSliderModel",
      "state": {
       "description": "R20_s2",
       "layout": "IPY_MODEL_d821649c3a4940eaa8691381f89f64cf",
       "max": 25,
       "min": 5,
       "style": "IPY_MODEL_39af1d1a8fab4e1eb750a009552af3b3",
       "value": 13.9
      }
     },
     "881f5a82109442d083f8b7316814ecfe": {
      "model_module": "@jupyter-widgets/controls",
      "model_module_version": "1.0.0",
      "model_name": "SliderStyleModel",
      "state": {
       "description_width": ""
      }
     },
     "887d49bee91a433491d2e43d85d24ff3": {
      "model_module": "@jupyter-widgets/controls",
      "model_module_version": "1.0.0",
      "model_name": "FloatSliderModel",
      "state": {
       "description": "kex_s1",
       "layout": "IPY_MODEL_ab672dc15bd94a35ac6943510ee1474d",
       "max": 10000,
       "min": 400,
       "step": 200,
       "style": "IPY_MODEL_96dd7886903745b7b8227257abdcf099",
       "value": 4027
      }
     },
     "88e7ade685b64186af4594d56440f8ce": {
      "model_module": "@jupyter-widgets/controls",
      "model_module_version": "1.0.0",
      "model_name": "SliderStyleModel",
      "state": {
       "description_width": ""
      }
     },
     "8a87fb13a4da46c5a6cdac09fa933f83": {
      "model_module": "@jupyter-widgets/controls",
      "model_module_version": "1.0.0",
      "model_name": "FloatSliderModel",
      "state": {
       "description": "kex_s1",
       "layout": "IPY_MODEL_57ee1be2ce7b42ffb78ea1c63c46dbe1",
       "max": 10000,
       "min": 400,
       "step": 200,
       "style": "IPY_MODEL_1b7417f893354adfa835c8c272071584",
       "value": 4027
      }
     },
     "8b02215b7e0f46c391ea3e6ab63c6460": {
      "model_module": "@jupyter-widgets/controls",
      "model_module_version": "1.0.0",
      "model_name": "SliderStyleModel",
      "state": {
       "description_width": ""
      }
     },
     "8bd19335ffba493ea20bcbe838b41482": {
      "model_module": "@jupyter-widgets/controls",
      "model_module_version": "1.0.0",
      "model_name": "FloatSliderModel",
      "state": {
       "description": "dw_s1",
       "layout": "IPY_MODEL_460b45c7b93b41c590b4413417ca8edd",
       "max": 10,
       "min": 0.1,
       "step": 0.1,
       "style": "IPY_MODEL_54cb35981dc245ae93f32481b6675612",
       "value": 1.02
      }
     },
     "8dbfeaa297d0482ba4908dc10122426d": {
      "model_module": "@jupyter-widgets/controls",
      "model_module_version": "1.0.0",
      "model_name": "FloatSliderModel",
      "state": {
       "description": "kex_s1",
       "layout": "IPY_MODEL_08aca44444d84bdf9b0480e0b5e6bc42",
       "max": 10000,
       "min": 400,
       "step": 200,
       "style": "IPY_MODEL_9e69b4d6f4b341e1a6a3c5d075b4de98",
       "value": 4027
      }
     },
     "8dd4fd558bfb402a99c3e025b8e18d03": {
      "model_module": "@jupyter-widgets/controls",
      "model_module_version": "1.0.0",
      "model_name": "FloatSliderModel",
      "state": {
       "description": "pA_s1",
       "layout": "IPY_MODEL_07248a88423f4028aa2496b95499da79",
       "max": 1,
       "min": 0.5,
       "step": 0.01,
       "style": "IPY_MODEL_cdd61018fa3c4aab84f4547271c36861",
       "value": 0.87
      }
     },
     "8e21af2fd0864fa685dc437086e6430a": {
      "model_module": "@jupyter-widgets/controls",
      "model_module_version": "1.0.0",
      "model_name": "VBoxModel",
      "state": {
       "_dom_classes": [
        "widget-interact"
       ],
       "children": [
        "IPY_MODEL_15e8ec95bb074aa2a3a22412b668929d",
        "IPY_MODEL_5205dd7c17424aa7ae7c9c4652add586",
        "IPY_MODEL_33ada57fe7cd4c3ea8e81e613529f59d",
        "IPY_MODEL_117e4909636240328f1efd00dd27759c",
        "IPY_MODEL_c52347f074684761b947945af89fce5b",
        "IPY_MODEL_822485324d734e7f947026b271f51a6f",
        "IPY_MODEL_cd62fabe784a41a882036dca2a2e2d24",
        "IPY_MODEL_b8148c3a5ccd4026babf4a1bf21b3b46",
        "IPY_MODEL_5f1a7a08b7c04505817aefc6d08ac6f5",
        "IPY_MODEL_c7ac3be802874d5c9daf0af55e4c5fa0",
        "IPY_MODEL_38432ca77f544a318c06846ee5dd5150"
       ],
       "layout": "IPY_MODEL_84cf4353456341c4b227facd46484eee"
      }
     },
     "8e8542c50fd4490c9e493575f5b466e1": {
      "model_module": "@jupyter-widgets/controls",
      "model_module_version": "1.0.0",
      "model_name": "SliderStyleModel",
      "state": {
       "description_width": ""
      }
     },
     "8f2d63bf46624de8b9d0478d8ae0cfa2": {
      "model_module": "@jupyter-widgets/base",
      "model_module_version": "1.0.0",
      "model_name": "LayoutModel",
      "state": {}
     },
     "8f39461d1d7349578477f938f0ec5f81": {
      "model_module": "@jupyter-widgets/controls",
      "model_module_version": "1.0.0",
      "model_name": "FloatSliderModel",
      "state": {
       "description": "pA_s1",
       "layout": "IPY_MODEL_5a63255dd05f4e95afc30d2f745ee553",
       "max": 1,
       "min": 0.5,
       "step": 0.01,
       "style": "IPY_MODEL_e999bca53b8c4abc929cf84940d16ba6",
       "value": 0.87
      }
     },
     "91a81be8a9934a8283cb31c5c6aca4f8": {
      "model_module": "@jupyter-widgets/controls",
      "model_module_version": "1.0.0",
      "model_name": "FloatSliderModel",
      "state": {
       "description": "kex_s1",
       "layout": "IPY_MODEL_134c04c0b859457f8c1cb13aeba3349c",
       "max": 10000,
       "min": 400,
       "step": 200,
       "style": "IPY_MODEL_6a862ed974b74ada88a4756e333394cf",
       "value": 4027
      }
     },
     "92cb7324d825450081b1b75f130433d8": {
      "model_module": "@jupyter-widgets/base",
      "model_module_version": "1.0.0",
      "model_name": "LayoutModel",
      "state": {}
     },
     "959d052e7e6943ecb4eb023973653ef4": {
      "model_module": "@jupyter-widgets/controls",
      "model_module_version": "1.0.0",
      "model_name": "FloatSliderModel",
      "state": {
       "description": "R20_s2",
       "layout": "IPY_MODEL_03e732f8be5244d3972d07196b7fc342",
       "max": 25,
       "min": 5,
       "style": "IPY_MODEL_57d6f08add394a6b99971197aca2bc51",
       "value": 13.9
      }
     },
     "959d965682d34f0bb3c0dcc0f734ea4e": {
      "model_module": "@jupyter-widgets/base",
      "model_module_version": "1.0.0",
      "model_name": "LayoutModel",
      "state": {}
     },
     "95fe279fd5f24372b3654d9946cdf8f9": {
      "model_module": "@jupyter-widgets/base",
      "model_module_version": "1.0.0",
      "model_name": "LayoutModel",
      "state": {}
     },
     "96dd7886903745b7b8227257abdcf099": {
      "model_module": "@jupyter-widgets/controls",
      "model_module_version": "1.0.0",
      "model_name": "SliderStyleModel",
      "state": {
       "description_width": ""
      }
     },
     "979c58560ced4f898cf8e8c5e32fa1f8": {
      "model_module": "@jupyter-widgets/base",
      "model_module_version": "1.0.0",
      "model_name": "LayoutModel",
      "state": {}
     },
     "97c105bd4398474bac3be8fa9a07e1c0": {
      "model_module": "@jupyter-widgets/controls",
      "model_module_version": "1.0.0",
      "model_name": "FloatSliderModel",
      "state": {
       "description": "R20_s1",
       "layout": "IPY_MODEL_d17b0b50a0804c54ada269a62f3c62c0",
       "max": 25,
       "min": 5,
       "style": "IPY_MODEL_eafdc5072f7745c6bc45f5f642ed52fb",
       "value": 13.9
      }
     },
     "98f63ab5358f40cfa77fc1c417e7e17a": {
      "model_module": "@jupyter-widgets/controls",
      "model_module_version": "1.0.0",
      "model_name": "FloatSliderModel",
      "state": {
       "description": "R20_s1",
       "layout": "IPY_MODEL_a967f946b0e244b68acde71ead470ae6",
       "max": 25,
       "min": 5,
       "style": "IPY_MODEL_3e0c51318c664e79b0a012f612a20492",
       "value": 13.9
      }
     },
     "9a1955d26ebc46219f3f805176f0b0a9": {
      "model_module": "@jupyter-widgets/controls",
      "model_module_version": "1.0.0",
      "model_name": "SliderStyleModel",
      "state": {
       "description_width": ""
      }
     },
     "9ad0f5fbb3ab4c5885e702701dc16004": {
      "model_module": "@jupyter-widgets/controls",
      "model_module_version": "1.0.0",
      "model_name": "FloatSliderModel",
      "state": {
       "description": "kex_s2",
       "layout": "IPY_MODEL_51cc4f26d536487597dc97d8c5a6760a",
       "max": 10000,
       "min": 400,
       "step": 200,
       "style": "IPY_MODEL_1d1f3d3c2c254b309b48d642f065fb12",
       "value": 4061
      }
     },
     "9ae0552d345a4a0e8bb0884c972626d4": {
      "model_module": "@jupyter-widgets/base",
      "model_module_version": "1.0.0",
      "model_name": "LayoutModel",
      "state": {}
     },
     "9c7376848fdd4d57806bfd76add2e0da": {
      "model_module": "@jupyter-widgets/controls",
      "model_module_version": "1.0.0",
      "model_name": "FloatSliderModel",
      "state": {
       "description": "R20_s2",
       "layout": "IPY_MODEL_6560d5bc384045b1a4ed6542ec590cc3",
       "max": 25,
       "min": 5,
       "style": "IPY_MODEL_33600578057e48fa80145d6dd764096d",
       "value": 13.9
      }
     },
     "9cd5ce65707143c0b8bf36306e1ebf73": {
      "model_module": "@jupyter-widgets/controls",
      "model_module_version": "1.0.0",
      "model_name": "SliderStyleModel",
      "state": {
       "description_width": ""
      }
     },
     "9cfb0199d7ee4315974059bff02f327c": {
      "model_module": "@jupyter-widgets/base",
      "model_module_version": "1.0.0",
      "model_name": "LayoutModel",
      "state": {}
     },
     "9e45d8cc17b84a7a819ac0f93139fd23": {
      "model_module": "@jupyter-widgets/base",
      "model_module_version": "1.0.0",
      "model_name": "LayoutModel",
      "state": {}
     },
     "9e61393977bc4e33b3e486026e9069be": {
      "model_module": "@jupyter-widgets/controls",
      "model_module_version": "1.0.0",
      "model_name": "SliderStyleModel",
      "state": {
       "description_width": ""
      }
     },
     "9e69b4d6f4b341e1a6a3c5d075b4de98": {
      "model_module": "@jupyter-widgets/controls",
      "model_module_version": "1.0.0",
      "model_name": "SliderStyleModel",
      "state": {
       "description_width": ""
      }
     },
     "9fbe607e3a274b599050ac783566780b": {
      "model_module": "@jupyter-widgets/controls",
      "model_module_version": "1.0.0",
      "model_name": "VBoxModel",
      "state": {
       "_dom_classes": [
        "widget-interact"
       ],
       "layout": "IPY_MODEL_9cfb0199d7ee4315974059bff02f327c"
      }
     },
     "a02daeee424645fea730c7139d38b78e": {
      "model_module": "@jupyter-widgets/controls",
      "model_module_version": "1.0.0",
      "model_name": "FloatSliderModel",
      "state": {
       "description": "dw_s1",
       "layout": "IPY_MODEL_dc22ba5262294915b81672cd66749a72",
       "max": 10,
       "min": 0.1,
       "step": 0.1,
       "style": "IPY_MODEL_d4c0912596c542aaaacb84842b6299d4",
       "value": 1.02
      }
     },
     "a0c5132da0b14a4595e56fa6aac6c498": {
      "model_module": "@jupyter-widgets/base",
      "model_module_version": "1.0.0",
      "model_name": "LayoutModel",
      "state": {}
     },
     "a13ad31a1b954532b00dbcbe1a048a3f": {
      "model_module": "@jupyter-widgets/controls",
      "model_module_version": "1.0.0",
      "model_name": "FloatSliderModel",
      "state": {
       "description": "pA_s1",
       "layout": "IPY_MODEL_146f3abf67604ab1aff3131d13cd6a62",
       "max": 1,
       "min": 0.5,
       "step": 0.01,
       "style": "IPY_MODEL_65d005750e564be89787584d78b42226",
       "value": 0.87
      }
     },
     "a23eafeb36d84fba94a3af354f1f7c7e": {
      "model_module": "@jupyter-widgets/controls",
      "model_module_version": "1.0.0",
      "model_name": "SliderStyleModel",
      "state": {
       "description_width": ""
      }
     },
     "a2bfeec669184663992af6023fff4375": {
      "model_module": "@jupyter-widgets/base",
      "model_module_version": "1.0.0",
      "model_name": "LayoutModel",
      "state": {}
     },
     "a31507bd5d194336a45509197870e90b": {
      "model_module": "@jupyter-widgets/controls",
      "model_module_version": "1.0.0",
      "model_name": "FloatSliderModel",
      "state": {
       "description": "pA_s2",
       "layout": "IPY_MODEL_5c77b1a2a7d24ff5acb2ff94b8bbb0e5",
       "max": 1,
       "min": 0.5,
       "step": 0.01,
       "style": "IPY_MODEL_0fe57888b09a442b80671b72144850bf",
       "value": 0.5
      }
     },
     "a337e5dba57b449f845f14382a5bc4ff": {
      "model_module": "@jupyter-widgets/base",
      "model_module_version": "1.0.0",
      "model_name": "LayoutModel",
      "state": {}
     },
     "a35161dfa67348c3ab0e6ee3c4170191": {
      "model_module": "@jupyter-widgets/controls",
      "model_module_version": "1.0.0",
      "model_name": "FloatSliderModel",
      "state": {
       "description": "pA_s2",
       "layout": "IPY_MODEL_10876c1e982a42258d631711c3a4fb5f",
       "max": 1,
       "min": 0.5,
       "step": 0.01,
       "style": "IPY_MODEL_2f8d8bde83c24fc2baa02c09dace1a5d",
       "value": 0.5
      }
     },
     "a49e8ddf0ffa48359d58119fb67abcc2": {
      "model_module": "@jupyter-widgets/controls",
      "model_module_version": "1.0.0",
      "model_name": "SliderStyleModel",
      "state": {
       "description_width": ""
      }
     },
     "a58649d5e3624f759dc9996bc1e1c714": {
      "model_module": "@jupyter-widgets/base",
      "model_module_version": "1.0.0",
      "model_name": "LayoutModel",
      "state": {}
     },
     "a591b44b14e746dc8d5aa35d5cc78ee4": {
      "model_module": "@jupyter-widgets/controls",
      "model_module_version": "1.0.0",
      "model_name": "SliderStyleModel",
      "state": {
       "description_width": ""
      }
     },
     "a7462088e3f846dfa30b0753648cae76": {
      "model_module": "@jupyter-widgets/base",
      "model_module_version": "1.0.0",
      "model_name": "LayoutModel",
      "state": {}
     },
     "a7f9892e6cea4a84816f949b05f26685": {
      "model_module": "@jupyter-widgets/base",
      "model_module_version": "1.0.0",
      "model_name": "LayoutModel",
      "state": {}
     },
     "a85680e5c92246a5942aad72b99af82d": {
      "model_module": "@jupyter-widgets/base",
      "model_module_version": "1.0.0",
      "model_name": "LayoutModel",
      "state": {}
     },
     "a87783e54cb94600b27de29da12a0be2": {
      "model_module": "@jupyter-widgets/controls",
      "model_module_version": "1.0.0",
      "model_name": "VBoxModel",
      "state": {
       "_dom_classes": [
        "widget-interact"
       ],
       "children": [
        "IPY_MODEL_0da666777cc049c9bcd22d0d27867541",
        "IPY_MODEL_570c79cb4bb743eb8b7ca3934f58b816",
        "IPY_MODEL_b32d6ad4bde744a189d53c18510c7f0c",
        "IPY_MODEL_d7f233b3aa6e47a383cad120403333aa",
        "IPY_MODEL_959d052e7e6943ecb4eb023973653ef4",
        "IPY_MODEL_41e8a3b2beb94ac2958d5dc2181e9344",
        "IPY_MODEL_1080329cae27431981b40a1201b2480f",
        "IPY_MODEL_f7c7fdb3e1e442e194ed819f1db9ccb3",
        "IPY_MODEL_a31507bd5d194336a45509197870e90b",
        "IPY_MODEL_8dbfeaa297d0482ba4908dc10122426d",
        "IPY_MODEL_6cd5ea3b739a47d4b8b0e315f9826410",
        "IPY_MODEL_e1dd26e4442b4751a94404d8ef3f5cf5"
       ],
       "layout": "IPY_MODEL_8f2d63bf46624de8b9d0478d8ae0cfa2"
      }
     },
     "a8a89786f6ff47c59c7b0425e29c7c9a": {
      "model_module": "@jupyter-widgets/base",
      "model_module_version": "1.0.0",
      "model_name": "LayoutModel",
      "state": {}
     },
     "a967f946b0e244b68acde71ead470ae6": {
      "model_module": "@jupyter-widgets/base",
      "model_module_version": "1.0.0",
      "model_name": "LayoutModel",
      "state": {}
     },
     "a9f362d0cc92466ab8e18224157697e1": {
      "model_module": "@jupyter-widgets/controls",
      "model_module_version": "1.0.0",
      "model_name": "FloatSliderModel",
      "state": {
       "description": "R20_s1",
       "layout": "IPY_MODEL_a85680e5c92246a5942aad72b99af82d",
       "max": 25,
       "min": 5,
       "style": "IPY_MODEL_67a75666bcfc423d9471010d9607611c",
       "value": 13.9
      }
     },
     "aa4a8e56b5d24cb3b2db824d46b33394": {
      "model_module": "@jupyter-widgets/controls",
      "model_module_version": "1.0.0",
      "model_name": "SliderStyleModel",
      "state": {
       "description_width": ""
      }
     },
     "aa9ea8798d324f23b0e5277a6ae8c561": {
      "model_module": "@jupyter-widgets/controls",
      "model_module_version": "1.0.0",
      "model_name": "SliderStyleModel",
      "state": {
       "description_width": ""
      }
     },
     "ab5da6962b48479094c94079ba770b5e": {
      "model_module": "@jupyter-widgets/controls",
      "model_module_version": "1.0.0",
      "model_name": "FloatSliderModel",
      "state": {
       "description": "pA_s1",
       "layout": "IPY_MODEL_0fe7aa5657db4785a6aabb89e181ff9e",
       "max": 1,
       "min": 0.5,
       "step": 0.01,
       "style": "IPY_MODEL_cb7ddf0b344146a49f63c27d1d22bcdd",
       "value": 0.87
      }
     },
     "ab672dc15bd94a35ac6943510ee1474d": {
      "model_module": "@jupyter-widgets/base",
      "model_module_version": "1.0.0",
      "model_name": "LayoutModel",
      "state": {}
     },
     "ab7a3d4bc9c8411fa2837f89ec0eded2": {
      "model_module": "@jupyter-widgets/controls",
      "model_module_version": "1.0.0",
      "model_name": "FloatSliderModel",
      "state": {
       "description": "R20_s1",
       "layout": "IPY_MODEL_a2bfeec669184663992af6023fff4375",
       "max": 25,
       "min": 5,
       "style": "IPY_MODEL_d5807ad2cc42423c8b619154dfe1ea07",
       "value": 13.9
      }
     },
     "ac145d28302d4019bd7c76c39b31e36a": {
      "model_module": "@jupyter-widgets/output",
      "model_module_version": "1.0.0",
      "model_name": "OutputModel",
      "state": {
       "layout": "IPY_MODEL_2468b01daf924901ba6df80b0eddcde4",
       "outputs": [
        {
         "data": {
          "image/png": "iVBORw0KGgoAAAANSUhEUgAAArwAAAD8CAYAAACVfXcGAAAABHNCSVQICAgIfAhkiAAAAAlwSFlz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\ns6DmWSigAAAAAElFTkSuQmCC\n",
          "text/plain": "<matplotlib.figure.Figure at 0x7f6c61b77f60>"
         },
         "metadata": {},
         "output_type": "display_data"
        }
       ]
      }
     },
     "accad7f0aa5f48a883a80de67bd56d44": {
      "model_module": "@jupyter-widgets/base",
      "model_module_version": "1.0.0",
      "model_name": "LayoutModel",
      "state": {}
     },
     "accd4541f1ba441380754e9a4287aba7": {
      "model_module": "@jupyter-widgets/controls",
      "model_module_version": "1.0.0",
      "model_name": "VBoxModel",
      "state": {
       "_dom_classes": [
        "widget-interact"
       ],
       "children": [
        "IPY_MODEL_42f59ae336cc4d4cb47eef552187464c",
        "IPY_MODEL_347f935565374a4aa9bc194b0a499f02",
        "IPY_MODEL_a9f362d0cc92466ab8e18224157697e1",
        "IPY_MODEL_880ebc6d3a144e6dbe0d5eb44dc6da35",
        "IPY_MODEL_1817c6430aa24edab79e74170890ed3a",
        "IPY_MODEL_63e6ff7b163c488aab0ffce7a9c1bb3c",
        "IPY_MODEL_ab5da6962b48479094c94079ba770b5e",
        "IPY_MODEL_3789436b72344453b3b8c7509b1af5fb",
        "IPY_MODEL_e170e5228c44469bb4811e481979d5ed",
        "IPY_MODEL_9ad0f5fbb3ab4c5885e702701dc16004",
        "IPY_MODEL_3a9f31d7bdd0488f9eac48a264801c89"
       ],
       "layout": "IPY_MODEL_b4e10ae2f3d64342bc6d9e7bcf33d4cb"
      }
     },
     "b050c7a5b2c64706a6b76580945baec0": {
      "model_module": "@jupyter-widgets/controls",
      "model_module_version": "1.0.0",
      "model_name": "FloatSliderModel",
      "state": {
       "description": "R20_s1",
       "layout": "IPY_MODEL_f7a20d0a3476420487a410bda83fef70",
       "max": 25,
       "min": 5,
       "style": "IPY_MODEL_1a6b609627d3481c94d9a361af1ec1f6",
       "value": 13.9
      }
     },
     "b13b6643178e490298584a6464132a0e": {
      "model_module": "@jupyter-widgets/controls",
      "model_module_version": "1.0.0",
      "model_name": "SliderStyleModel",
      "state": {
       "description_width": ""
      }
     },
     "b1cab373f2ee4c049f8ab7c4aa469876": {
      "model_module": "@jupyter-widgets/controls",
      "model_module_version": "1.0.0",
      "model_name": "SliderStyleModel",
      "state": {
       "description_width": ""
      }
     },
     "b1f26e11ebb440deaa03e6cf9173da37": {
      "model_module": "@jupyter-widgets/base",
      "model_module_version": "1.0.0",
      "model_name": "LayoutModel",
      "state": {}
     },
     "b236c7cd8edc4f5d8b4638700e361172": {
      "model_module": "@jupyter-widgets/base",
      "model_module_version": "1.0.0",
      "model_name": "LayoutModel",
      "state": {}
     },
     "b32d6ad4bde744a189d53c18510c7f0c": {
      "model_module": "@jupyter-widgets/controls",
      "model_module_version": "1.0.0",
      "model_name": "FloatSliderModel",
      "state": {
       "description": "w0_1H_s2",
       "layout": "IPY_MODEL_096a3bf74948440fbf0b64210f0662d8",
       "max": 1000,
       "min": 500,
       "step": 50,
       "style": "IPY_MODEL_39c054935ddb4095925850b64e82cb9a",
       "value": 750
      }
     },
     "b38cde7899774c6fa2314823440aa858": {
      "model_module": "@jupyter-widgets/base",
      "model_module_version": "1.0.0",
      "model_name": "LayoutModel",
      "state": {}
     },
     "b4691a681f08464bb6da3a17a4a346da": {
      "model_module": "@jupyter-widgets/controls",
      "model_module_version": "1.0.0",
      "model_name": "SliderStyleModel",
      "state": {
       "description_width": ""
      }
     },
     "b4e10ae2f3d64342bc6d9e7bcf33d4cb": {
      "model_module": "@jupyter-widgets/base",
      "model_module_version": "1.0.0",
      "model_name": "LayoutModel",
      "state": {}
     },
     "b5e1d68bd90a427386e2685c6c3d578c": {
      "model_module": "@jupyter-widgets/base",
      "model_module_version": "1.0.0",
      "model_name": "LayoutModel",
      "state": {}
     },
     "b74e74f9516a4ccd9be0e2b17ed8663b": {
      "model_module": "@jupyter-widgets/controls",
      "model_module_version": "1.0.0",
      "model_name": "FloatSliderModel",
      "state": {
       "description": "R20_s2",
       "layout": "IPY_MODEL_a337e5dba57b449f845f14382a5bc4ff",
       "max": 25,
       "min": 5,
       "style": "IPY_MODEL_4633178ca0584dcc987fa4bf426b2937",
       "value": 13.9
      }
     },
     "b770acb6b396468c92ef013921ef6bd2": {
      "model_module": "@jupyter-widgets/base",
      "model_module_version": "1.0.0",
      "model_name": "LayoutModel",
      "state": {}
     },
     "b7f925dc2e004301ab2738aa7a33a396": {
      "model_module": "@jupyter-widgets/base",
      "model_module_version": "1.0.0",
      "model_name": "LayoutModel",
      "state": {}
     },
     "b8148c3a5ccd4026babf4a1bf21b3b46": {
      "model_module": "@jupyter-widgets/controls",
      "model_module_version": "1.0.0",
      "model_name": "FloatSliderModel",
      "state": {
       "description": "pA_s2",
       "layout": "IPY_MODEL_12f366e3b1414b43996b497151ee54f4",
       "max": 1,
       "min": 0.5,
       "step": 0.01,
       "style": "IPY_MODEL_46c5a32ab6c64072b40d38fa9822404b",
       "value": 0.5
      }
     },
     "b82680aa68524d198b8ebcbf411e3566": {
      "model_module": "@jupyter-widgets/base",
      "model_module_version": "1.0.0",
      "model_name": "LayoutModel",
      "state": {}
     },
     "b8f7d251453c446eaa2655b59c924f1d": {
      "model_module": "@jupyter-widgets/controls",
      "model_module_version": "1.0.0",
      "model_name": "FloatSliderModel",
      "state": {
       "description": "w0_1H_s1",
       "layout": "IPY_MODEL_3571bfeba15549a387ecb0a1eceaeb29",
       "max": 1000,
       "min": 500,
       "step": 50,
       "style": "IPY_MODEL_2a2d07a04c73462bb425e8b848590a8e",
       "value": 750
      }
     },
     "b9adec2a05a44eb4bede650c6edcf0fd": {
      "model_module": "@jupyter-widgets/base",
      "model_module_version": "1.0.0",
      "model_name": "LayoutModel",
      "state": {}
     },
     "b9f19e60d6a643ad81ff809098c4677a": {
      "model_module": "@jupyter-widgets/base",
      "model_module_version": "1.0.0",
      "model_name": "LayoutModel",
      "state": {}
     },
     "ba7eea86ffc444918a77e08384153ab5": {
      "model_module": "@jupyter-widgets/controls",
      "model_module_version": "1.0.0",
      "model_name": "SliderStyleModel",
      "state": {
       "description_width": ""
      }
     },
     "baf409f3e0f34094a5511df62cfe880c": {
      "model_module": "@jupyter-widgets/controls",
      "model_module_version": "1.0.0",
      "model_name": "FloatSliderModel",
      "state": {
       "description": "dw_s2",
       "layout": "IPY_MODEL_87938f1dbb2b47e3bdf21ff455a66ac9",
       "max": 10,
       "min": 0.1,
       "step": 0.1,
       "style": "IPY_MODEL_01ad2b8d19314ef0bac0243e8150715e",
       "value": 0.69
      }
     },
     "bafc7880a2124a0c929a61a5a389d1bb": {
      "model_module": "@jupyter-widgets/base",
      "model_module_version": "1.0.0",
      "model_name": "LayoutModel",
      "state": {}
     },
     "baff214d155044ad9985b06c644c9d64": {
      "model_module": "@jupyter-widgets/controls",
      "model_module_version": "1.0.0",
      "model_name": "SliderStyleModel",
      "state": {
       "description_width": ""
      }
     },
     "bbeaefe73bad47f4b4840d13befb1cbd": {
      "model_module": "@jupyter-widgets/controls",
      "model_module_version": "1.0.0",
      "model_name": "VBoxModel",
      "state": {
       "_dom_classes": [
        "widget-interact"
       ],
       "children": [
        "IPY_MODEL_b8f7d251453c446eaa2655b59c924f1d",
        "IPY_MODEL_69dd7890dab84656a89fca31b6de1d69",
        "IPY_MODEL_ab7a3d4bc9c8411fa2837f89ec0eded2",
        "IPY_MODEL_348fca70968a4262baeda975e473a62a",
        "IPY_MODEL_4eaf2f099b99490f9deedde6229cb265",
        "IPY_MODEL_23838d32a54d475182ff3677fb924ab1",
        "IPY_MODEL_8dd4fd558bfb402a99c3e025b8e18d03",
        "IPY_MODEL_2547d37821b44d2f87ca81f6267d9007",
        "IPY_MODEL_c3f9ef9c7581488590b9680803c665de",
        "IPY_MODEL_edf73762e90e4d2ab3300a62de893c0b",
        "IPY_MODEL_608411c89ec645c98f9e66bece586594"
       ],
       "layout": "IPY_MODEL_79b31ba5ad1c4b0d8e8b28e2cb66bb8e"
      }
     },
     "bc0567c8c4414b90a23ee7c17fda64c4": {
      "model_module": "@jupyter-widgets/base",
      "model_module_version": "1.0.0",
      "model_name": "LayoutModel",
      "state": {}
     },
     "bc1541ee1b704be19a6f17f2c51e141a": {
      "model_module": "@jupyter-widgets/controls",
      "model_module_version": "1.0.0",
      "model_name": "SliderStyleModel",
      "state": {
       "description_width": ""
      }
     },
     "bc50abcfac6a492a996e48380fbd7d69": {
      "model_module": "@jupyter-widgets/base",
      "model_module_version": "1.0.0",
      "model_name": "LayoutModel",
      "state": {}
     },
     "bd2cf36d0e074de38902471194f52745": {
      "model_module": "@jupyter-widgets/base",
      "model_module_version": "1.0.0",
      "model_name": "LayoutModel",
      "state": {}
     },
     "bd9ebe293cef4a96b8b7aae11d4772c9": {
      "model_module": "@jupyter-widgets/base",
      "model_module_version": "1.0.0",
      "model_name": "LayoutModel",
      "state": {}
     },
     "c0aa7deda5e24fc689f3431f63ffbe3a": {
      "model_module": "@jupyter-widgets/controls",
      "model_module_version": "1.0.0",
      "model_name": "SliderStyleModel",
      "state": {
       "description_width": ""
      }
     },
     "c252603267f04fc4b1449a5edc84f505": {
      "model_module": "@jupyter-widgets/base",
      "model_module_version": "1.0.0",
      "model_name": "LayoutModel",
      "state": {}
     },
     "c2c9dbcb03604bba907f5c22f82ee1c6": {
      "model_module": "@jupyter-widgets/controls",
      "model_module_version": "1.0.0",
      "model_name": "SliderStyleModel",
      "state": {
       "description_width": ""
      }
     },
     "c3c09150431d4a0999e89044037b9f17": {
      "model_module": "@jupyter-widgets/base",
      "model_module_version": "1.0.0",
      "model_name": "LayoutModel",
      "state": {}
     },
     "c3f9ef9c7581488590b9680803c665de": {
      "model_module": "@jupyter-widgets/controls",
      "model_module_version": "1.0.0",
      "model_name": "FloatSliderModel",
      "state": {
       "description": "kex_s1",
       "layout": "IPY_MODEL_27e4d59d81f540bc835832e266008164",
       "max": 10000,
       "min": 400,
       "step": 200,
       "style": "IPY_MODEL_01a1d3f08a634fac8f2855581e82e10b",
       "value": 4027
      }
     },
     "c49b3e8379354cff8970857f40c424db": {
      "model_module": "@jupyter-widgets/base",
      "model_module_version": "1.0.0",
      "model_name": "LayoutModel",
      "state": {}
     },
     "c5109cce813e494ea1e612432ce00b8d": {
      "model_module": "@jupyter-widgets/base",
      "model_module_version": "1.0.0",
      "model_name": "LayoutModel",
      "state": {}
     },
     "c52347f074684761b947945af89fce5b": {
      "model_module": "@jupyter-widgets/controls",
      "model_module_version": "1.0.0",
      "model_name": "FloatSliderModel",
      "state": {
       "description": "dw_s1",
       "layout": "IPY_MODEL_6f75548e2f334c93a12ac3dd432dd3a0",
       "max": 10,
       "min": 0.1,
       "step": 0.1,
       "style": "IPY_MODEL_bc1541ee1b704be19a6f17f2c51e141a",
       "value": 1.02
      }
     },
     "c603d3e518f4494f864e1efe2e6b123e": {
      "model_module": "@jupyter-widgets/controls",
      "model_module_version": "1.0.0",
      "model_name": "FloatSliderModel",
      "state": {
       "description": "pA_s2",
       "layout": "IPY_MODEL_00b55108f22c4ac7b86828a052c957fb",
       "max": 1,
       "min": 0.5,
       "step": 0.01,
       "style": "IPY_MODEL_49821421b68a4b889d16054be16d3b76",
       "value": 0.5
      }
     },
     "c62a7173602a428b8dea12ca5bcc5d27": {
      "model_module": "@jupyter-widgets/base",
      "model_module_version": "1.0.0",
      "model_name": "LayoutModel",
      "state": {}
     },
     "c70fec90877a47b9a6d12beb0fc9dd22": {
      "model_module": "@jupyter-widgets/controls",
      "model_module_version": "1.0.0",
      "model_name": "VBoxModel",
      "state": {
       "_dom_classes": [
        "widget-interact"
       ],
       "children": [
        "IPY_MODEL_ea17d3feb79445ccba4419d14e788779",
        "IPY_MODEL_55d8a24929ac4a40bed94f7b0b857782",
        "IPY_MODEL_98f63ab5358f40cfa77fc1c417e7e17a",
        "IPY_MODEL_9c7376848fdd4d57806bfd76add2e0da",
        "IPY_MODEL_0035f47dd6b74468951ac33970d1a7a7",
        "IPY_MODEL_55b8ebe910fa4d8699624858a560a270",
        "IPY_MODEL_83747bf0533d4f6987cb46b3edebe382",
        "IPY_MODEL_c603d3e518f4494f864e1efe2e6b123e",
        "IPY_MODEL_5e92e94059274e49827d9dd737e97284",
        "IPY_MODEL_68645341a0e643f0b9409238b0e8dd8b",
        "IPY_MODEL_ac145d28302d4019bd7c76c39b31e36a"
       ],
       "layout": "IPY_MODEL_d424e4274f9c49e681cbd147811d9937"
      }
     },
     "c7ac3be802874d5c9daf0af55e4c5fa0": {
      "model_module": "@jupyter-widgets/controls",
      "model_module_version": "1.0.0",
      "model_name": "FloatSliderModel",
      "state": {
       "description": "kex_s2",
       "layout": "IPY_MODEL_67784236ec29435080d33f0a8235f5ee",
       "max": 10000,
       "min": 400,
       "step": 200,
       "style": "IPY_MODEL_d489ef3927594fc6801adeba0058cfbf",
       "value": 4061
      }
     },
     "c80368b2d2434d709d71be09c1845822": {
      "model_module": "@jupyter-widgets/base",
      "model_module_version": "1.0.0",
      "model_name": "LayoutModel",
      "state": {}
     },
     "cb26e2dd060140f6814dde317bc7d979": {
      "model_module": "@jupyter-widgets/base",
      "model_module_version": "1.0.0",
      "model_name": "LayoutModel",
      "state": {}
     },
     "cb7ddf0b344146a49f63c27d1d22bcdd": {
      "model_module": "@jupyter-widgets/controls",
      "model_module_version": "1.0.0",
      "model_name": "SliderStyleModel",
      "state": {
       "description_width": ""
      }
     },
     "cd62fabe784a41a882036dca2a2e2d24": {
      "model_module": "@jupyter-widgets/controls",
      "model_module_version": "1.0.0",
      "model_name": "FloatSliderModel",
      "state": {
       "description": "pA_s1",
       "layout": "IPY_MODEL_7855244c1ff648cc884935c6c2c82763",
       "max": 1,
       "min": 0.5,
       "step": 0.01,
       "style": "IPY_MODEL_fed8e43b5ce746bea3c6339bd5a2091e",
       "value": 0.87
      }
     },
     "cdd61018fa3c4aab84f4547271c36861": {
      "model_module": "@jupyter-widgets/controls",
      "model_module_version": "1.0.0",
      "model_name": "SliderStyleModel",
      "state": {
       "description_width": ""
      }
     },
     "cf820ec213e3429cad091c423fb4ff9b": {
      "model_module": "@jupyter-widgets/controls",
      "model_module_version": "1.0.0",
      "model_name": "FloatSliderModel",
      "state": {
       "description": "dw_s2",
       "layout": "IPY_MODEL_f1059bbf7466459b8ebf3d94dcb5f49d",
       "max": 10,
       "min": 0.1,
       "step": 0.1,
       "style": "IPY_MODEL_fe8d9a28af2a4529b8856974f81ed189",
       "value": 0.69
      }
     },
     "d0244fc5563c4ec492116cd2e2dcb34b": {
      "model_module": "@jupyter-widgets/controls",
      "model_module_version": "1.0.0",
      "model_name": "SliderStyleModel",
      "state": {
       "description_width": ""
      }
     },
     "d066cc999cd445a0ba3a9436abbd41c7": {
      "model_module": "@jupyter-widgets/controls",
      "model_module_version": "1.0.0",
      "model_name": "SliderStyleModel",
      "state": {
       "description_width": ""
      }
     },
     "d0b877e1e22e4c8cab0932aa9317bf12": {
      "model_module": "@jupyter-widgets/base",
      "model_module_version": "1.0.0",
      "model_name": "LayoutModel",
      "state": {}
     },
     "d14a2afe6d0a4c3791853ab1eab04378": {
      "model_module": "@jupyter-widgets/base",
      "model_module_version": "1.0.0",
      "model_name": "LayoutModel",
      "state": {}
     },
     "d17b0b50a0804c54ada269a62f3c62c0": {
      "model_module": "@jupyter-widgets/base",
      "model_module_version": "1.0.0",
      "model_name": "LayoutModel",
      "state": {}
     },
     "d1981311ea1d4e18902deba29cca7fda": {
      "model_module": "@jupyter-widgets/controls",
      "model_module_version": "1.0.0",
      "model_name": "FloatSliderModel",
      "state": {
       "description": "R20_s1",
       "layout": "IPY_MODEL_f5f15d88c6fe4782b6389a3cbf06be30",
       "max": 25,
       "min": 5,
       "style": "IPY_MODEL_aa9ea8798d324f23b0e5277a6ae8c561",
       "value": 13.9
      }
     },
     "d213a187c5f24ea2869224410ca4caaf": {
      "model_module": "@jupyter-widgets/base",
      "model_module_version": "1.0.0",
      "model_name": "LayoutModel",
      "state": {}
     },
     "d424e4274f9c49e681cbd147811d9937": {
      "model_module": "@jupyter-widgets/base",
      "model_module_version": "1.0.0",
      "model_name": "LayoutModel",
      "state": {}
     },
     "d4630ded70ca456ebe540d5acd378c60": {
      "model_module": "@jupyter-widgets/controls",
      "model_module_version": "1.0.0",
      "model_name": "SliderStyleModel",
      "state": {
       "description_width": ""
      }
     },
     "d489ef3927594fc6801adeba0058cfbf": {
      "model_module": "@jupyter-widgets/controls",
      "model_module_version": "1.0.0",
      "model_name": "SliderStyleModel",
      "state": {
       "description_width": ""
      }
     },
     "d4aad0c712924ff29391c7f1670fa6b2": {
      "model_module": "@jupyter-widgets/controls",
      "model_module_version": "1.0.0",
      "model_name": "SliderStyleModel",
      "state": {
       "description_width": ""
      }
     },
     "d4c0912596c542aaaacb84842b6299d4": {
      "model_module": "@jupyter-widgets/controls",
      "model_module_version": "1.0.0",
      "model_name": "SliderStyleModel",
      "state": {
       "description_width": ""
      }
     },
     "d4fee93067164452aefec90d165a3464": {
      "model_module": "@jupyter-widgets/controls",
      "model_module_version": "1.0.0",
      "model_name": "FloatSliderModel",
      "state": {
       "description": "kex_s1",
       "layout": "IPY_MODEL_a8a89786f6ff47c59c7b0425e29c7c9a",
       "max": 10000,
       "min": 400,
       "step": 200,
       "style": "IPY_MODEL_6f90c9d537074e92958e798a9d42e3d6",
       "value": 4027
      }
     },
     "d5807ad2cc42423c8b619154dfe1ea07": {
      "model_module": "@jupyter-widgets/controls",
      "model_module_version": "1.0.0",
      "model_name": "SliderStyleModel",
      "state": {
       "description_width": ""
      }
     },
     "d60de28a9b02440d8b713f332511c66d": {
      "model_module": "@jupyter-widgets/controls",
      "model_module_version": "1.0.0",
      "model_name": "FloatSliderModel",
      "state": {
       "description": "pA_s1",
       "layout": "IPY_MODEL_433c4c27b3104c93be4d3846c6ffdf15",
       "max": 1,
       "min": 0.5,
       "step": 0.01,
       "style": "IPY_MODEL_201b3baa1bca4c36b847ee1241470de7",
       "value": 0.87
      }
     },
     "d61d4660c282409e9b55640d1dbd4aa6": {
      "model_module": "@jupyter-widgets/base",
      "model_module_version": "1.0.0",
      "model_name": "LayoutModel",
      "state": {}
     },
     "d660078a47ac4f5d8d598fb5a1aba6ea": {
      "model_module": "@jupyter-widgets/controls",
      "model_module_version": "1.0.0",
      "model_name": "FloatSliderModel",
      "state": {
       "description": "R20_s1",
       "layout": "IPY_MODEL_c252603267f04fc4b1449a5edc84f505",
       "max": 25,
       "min": 5,
       "style": "IPY_MODEL_65f77f6b1c3144a8a4f3c51064dd8f7c",
       "value": 13.9
      }
     },
     "d679760ae26544629e47358a53e7e29f": {
      "model_module": "@jupyter-widgets/base",
      "model_module_version": "1.0.0",
      "model_name": "LayoutModel",
      "state": {}
     },
     "d741f4396b7b4c268691bb169536aabd": {
      "model_module": "@jupyter-widgets/controls",
      "model_module_version": "1.0.0",
      "model_name": "FloatSliderModel",
      "state": {
       "description": "kex_s1",
       "layout": "IPY_MODEL_31396c5ac065449b94794c912f792eda",
       "max": 10000,
       "min": 400,
       "step": 200,
       "style": "IPY_MODEL_9a1955d26ebc46219f3f805176f0b0a9",
       "value": 4027
      }
     },
     "d781aaeed9d3466c957cc7ef3f871151": {
      "model_module": "@jupyter-widgets/base",
      "model_module_version": "1.0.0",
      "model_name": "LayoutModel",
      "state": {}
     },
     "d78be41a215b4945a2cc2b47e5aae9ef": {
      "model_module": "@jupyter-widgets/controls",
      "model_module_version": "1.0.0",
      "model_name": "VBoxModel",
      "state": {
       "_dom_classes": [
        "widget-interact"
       ],
       "children": [
        "IPY_MODEL_ff33a0ed5f214c32a4a7559390ba57be",
        "IPY_MODEL_3be1f2c1bbc0425e979a0c8f23fa5d17",
        "IPY_MODEL_d1981311ea1d4e18902deba29cca7fda",
        "IPY_MODEL_b74e74f9516a4ccd9be0e2b17ed8663b",
        "IPY_MODEL_8bd19335ffba493ea20bcbe838b41482",
        "IPY_MODEL_6c54d636c91e4d49968749d96d524ee2",
        "IPY_MODEL_5ba5b8fc54f4448aa2b5c3c71f3f1823",
        "IPY_MODEL_fbe385ef29c746e99b71c025371aac8e",
        "IPY_MODEL_91a81be8a9934a8283cb31c5c6aca4f8",
        "IPY_MODEL_5401f9df58fe4ecbba2712cee5628b09",
        "IPY_MODEL_f146a28e61d249f7be8ed103f66a87d2"
       ],
       "layout": "IPY_MODEL_959d965682d34f0bb3c0dcc0f734ea4e"
      }
     },
     "d7ee9478d57a438cbff12447fbc6bcbf": {
      "model_module": "@jupyter-widgets/base",
      "model_module_version": "1.0.0",
      "model_name": "LayoutModel",
      "state": {}
     },
     "d7f233b3aa6e47a383cad120403333aa": {
      "model_module": "@jupyter-widgets/controls",
      "model_module_version": "1.0.0",
      "model_name": "FloatSliderModel",
      "state": {
       "description": "R20_s1",
       "layout": "IPY_MODEL_d14a2afe6d0a4c3791853ab1eab04378",
       "max": 25,
       "min": 5,
       "style": "IPY_MODEL_ddb203f7b1db449a90005aa786b2a59f",
       "value": 13.9
      }
     },
     "d821649c3a4940eaa8691381f89f64cf": {
      "model_module": "@jupyter-widgets/base",
      "model_module_version": "1.0.0",
      "model_name": "LayoutModel",
      "state": {}
     },
     "d9096636f5914c8a941dac235745538b": {
      "model_module": "@jupyter-widgets/controls",
      "model_module_version": "1.0.0",
      "model_name": "SliderStyleModel",
      "state": {
       "description_width": ""
      }
     },
     "d94d4bc8c1ee47aa99110d1e0b1aa361": {
      "model_module": "@jupyter-widgets/controls",
      "model_module_version": "1.0.0",
      "model_name": "FloatSliderModel",
      "state": {
       "description": "kex_s2",
       "layout": "IPY_MODEL_86fa47d05dab444ba9e928891dfbe869",
       "max": 10000,
       "min": 400,
       "step": 200,
       "style": "IPY_MODEL_78bce39ba89e4cecb1a5f2dcf3252319",
       "value": 4061
      }
     },
     "d94d6b72cea24e7d8650f97f6f8f9a36": {
      "model_module": "@jupyter-widgets/base",
      "model_module_version": "1.0.0",
      "model_name": "LayoutModel",
      "state": {}
     },
     "d9a7179ea26d4c1faf1dabab327b9856": {
      "model_module": "@jupyter-widgets/controls",
      "model_module_version": "1.0.0",
      "model_name": "FloatSliderModel",
      "state": {
       "description": "kex_s2",
       "layout": "IPY_MODEL_df32d9a573d34b90b1f21fcd34bd2b24",
       "max": 10000,
       "min": 400,
       "step": 200,
       "style": "IPY_MODEL_a49e8ddf0ffa48359d58119fb67abcc2",
       "value": 4061
      }
     },
     "dae8b488a2074eca95b7ac85de4e8a6d": {
      "model_module": "@jupyter-widgets/controls",
      "model_module_version": "1.0.0",
      "model_name": "FloatSliderModel",
      "state": {
       "description": "dw_s2",
       "layout": "IPY_MODEL_4ef2a841393048568717af826fa47b9c",
       "max": 10,
       "min": 0.1,
       "step": 0.1,
       "style": "IPY_MODEL_6c14bef00ac843468eff22db8fd37cc4",
       "value": 0.69
      }
     },
     "dc1619644a594cff91e63372dd843f0a": {
      "model_module": "@jupyter-widgets/base",
      "model_module_version": "1.0.0",
      "model_name": "LayoutModel",
      "state": {}
     },
     "dc22ba5262294915b81672cd66749a72": {
      "model_module": "@jupyter-widgets/base",
      "model_module_version": "1.0.0",
      "model_name": "LayoutModel",
      "state": {}
     },
     "dc8a7d20ee5545fc979435f986db1b51": {
      "model_module": "@jupyter-widgets/base",
      "model_module_version": "1.0.0",
      "model_name": "LayoutModel",
      "state": {}
     },
     "dcb3d2e3cef4497bb86f42bf17233a76": {
      "model_module": "@jupyter-widgets/controls",
      "model_module_version": "1.0.0",
      "model_name": "SliderStyleModel",
      "state": {
       "description_width": ""
      }
     },
     "ddb203f7b1db449a90005aa786b2a59f": {
      "model_module": "@jupyter-widgets/controls",
      "model_module_version": "1.0.0",
      "model_name": "SliderStyleModel",
      "state": {
       "description_width": ""
      }
     },
     "df32d9a573d34b90b1f21fcd34bd2b24": {
      "model_module": "@jupyter-widgets/base",
      "model_module_version": "1.0.0",
      "model_name": "LayoutModel",
      "state": {}
     },
     "df434677574248d5b2abe0c5059fe855": {
      "model_module": "@jupyter-widgets/controls",
      "model_module_version": "1.0.0",
      "model_name": "SliderStyleModel",
      "state": {
       "description_width": ""
      }
     },
     "dfa243fb70bd4cb1a343ddffa3e342cd": {
      "model_module": "@jupyter-widgets/output",
      "model_module_version": "1.0.0",
      "model_name": "OutputModel",
      "state": {
       "layout": "IPY_MODEL_c80368b2d2434d709d71be09c1845822",
       "outputs": [
        {
         "ename": "NameError",
         "evalue": "name 'x_cpmg_frqs' is not defined",
         "output_type": "error",
         "traceback": [
          "\u001b[0;31m---------------------------------------------------------------------------\u001b[0m",
          "\u001b[0;31mNameError\u001b[0m                                 Traceback (most recent call last)",
          "\u001b[0;32m/usr/local/lib/python3.5/dist-packages/ipywidgets/widgets/interaction.py\u001b[0m in \u001b[0;36mupdate\u001b[0;34m(self, *args)\u001b[0m\n\u001b[1;32m    248\u001b[0m                     \u001b[0mvalue\u001b[0m \u001b[0;34m=\u001b[0m \u001b[0mwidget\u001b[0m\u001b[0;34m.\u001b[0m\u001b[0mget_interact_value\u001b[0m\u001b[0;34m(\u001b[0m\u001b[0;34m)\u001b[0m\u001b[0;34m\u001b[0m\u001b[0m\n\u001b[1;32m    249\u001b[0m                     \u001b[0mself\u001b[0m\u001b[0;34m.\u001b[0m\u001b[0mkwargs\u001b[0m\u001b[0;34m[\u001b[0m\u001b[0mwidget\u001b[0m\u001b[0;34m.\u001b[0m\u001b[0m_kwarg\u001b[0m\u001b[0;34m]\u001b[0m \u001b[0;34m=\u001b[0m \u001b[0mvalue\u001b[0m\u001b[0;34m\u001b[0m\u001b[0m\n\u001b[0;32m--> 250\u001b[0;31m                 \u001b[0mself\u001b[0m\u001b[0;34m.\u001b[0m\u001b[0mresult\u001b[0m \u001b[0;34m=\u001b[0m \u001b[0mself\u001b[0m\u001b[0;34m.\u001b[0m\u001b[0mf\u001b[0m\u001b[0;34m(\u001b[0m\u001b[0;34m**\u001b[0m\u001b[0mself\u001b[0m\u001b[0;34m.\u001b[0m\u001b[0mkwargs\u001b[0m\u001b[0;34m)\u001b[0m\u001b[0;34m\u001b[0m\u001b[0m\n\u001b[0m\u001b[1;32m    251\u001b[0m                 \u001b[0mshow_inline_matplotlib_plots\u001b[0m\u001b[0;34m(\u001b[0m\u001b[0;34m)\u001b[0m\u001b[0;34m\u001b[0m\u001b[0m\n\u001b[1;32m    252\u001b[0m                 \u001b[0;32mif\u001b[0m \u001b[0mself\u001b[0m\u001b[0;34m.\u001b[0m\u001b[0mauto_display\u001b[0m \u001b[0;32mand\u001b[0m \u001b[0mself\u001b[0m\u001b[0;34m.\u001b[0m\u001b[0mresult\u001b[0m \u001b[0;32mis\u001b[0m \u001b[0;32mnot\u001b[0m \u001b[0;32mNone\u001b[0m\u001b[0;34m:\u001b[0m\u001b[0;34m\u001b[0m\u001b[0m\n",
          "\u001b[0;32m<ipython-input-14-0a16718b89c8>\u001b[0m in \u001b[0;36mmodel_calc\u001b[0;34m(model, cpmg_e, isotope, relax_time, w0_1H_s1, w0_1H_s2, R20_s1, R20_s2, dw_s1, dw_s2, pA_s1, pA_s2, kex_s1, kex_s2)\u001b[0m\n\u001b[1;32m     37\u001b[0m         \u001b[0my_R2_s2\u001b[0m \u001b[0;34m=\u001b[0m \u001b[0mcr72_calc\u001b[0m\u001b[0;34m(\u001b[0m\u001b[0mR20\u001b[0m\u001b[0;34m=\u001b[0m\u001b[0mR20_s2\u001b[0m\u001b[0;34m,\u001b[0m \u001b[0mdw_rad\u001b[0m\u001b[0;34m=\u001b[0m\u001b[0mdw_rad_s2\u001b[0m\u001b[0;34m,\u001b[0m \u001b[0mpA\u001b[0m\u001b[0;34m=\u001b[0m\u001b[0mpA_s2\u001b[0m\u001b[0;34m,\u001b[0m \u001b[0mkex\u001b[0m\u001b[0;34m=\u001b[0m\u001b[0mkex_s2\u001b[0m\u001b[0;34m,\u001b[0m \u001b[0mcpmg_frqs\u001b[0m\u001b[0;34m=\u001b[0m\u001b[0mx_cpmg_frqs\u001b[0m\u001b[0;34m)\u001b[0m\u001b[0;34m\u001b[0m\u001b[0m\n\u001b[1;32m     38\u001b[0m     \u001b[0;32melif\u001b[0m \u001b[0mmodel\u001b[0m\u001b[0;34m==\u001b[0m\u001b[0;34m'NS'\u001b[0m\u001b[0;34m:\u001b[0m\u001b[0;34m\u001b[0m\u001b[0m\n\u001b[0;32m---> 39\u001b[0;31m         \u001b[0my_R2_s1\u001b[0m \u001b[0;34m=\u001b[0m \u001b[0mns_calc\u001b[0m\u001b[0;34m(\u001b[0m\u001b[0mR20\u001b[0m\u001b[0;34m=\u001b[0m\u001b[0mR20_s1\u001b[0m\u001b[0;34m,\u001b[0m \u001b[0mdw_rad\u001b[0m\u001b[0;34m=\u001b[0m\u001b[0mdw_rad_s1\u001b[0m\u001b[0;34m,\u001b[0m \u001b[0mpA\u001b[0m\u001b[0;34m=\u001b[0m\u001b[0mpA_s1\u001b[0m\u001b[0;34m,\u001b[0m \u001b[0mkex\u001b[0m\u001b[0;34m=\u001b[0m\u001b[0mkex_s1\u001b[0m\u001b[0;34m,\u001b[0m \u001b[0mcpmg_frqs\u001b[0m\u001b[0;34m=\u001b[0m\u001b[0mx_cpmg_frqs\u001b[0m\u001b[0;34m,\u001b[0m \u001b[0mrelax_time\u001b[0m\u001b[0;34m=\u001b[0m\u001b[0mrelax_time\u001b[0m\u001b[0;34m)\u001b[0m\u001b[0;34m\u001b[0m\u001b[0m\n\u001b[0m\u001b[1;32m     40\u001b[0m         \u001b[0my_R2_s2\u001b[0m \u001b[0;34m=\u001b[0m \u001b[0mns_calc\u001b[0m\u001b[0;34m(\u001b[0m\u001b[0mR20\u001b[0m\u001b[0;34m=\u001b[0m\u001b[0mR20_s2\u001b[0m\u001b[0;34m,\u001b[0m \u001b[0mdw_rad\u001b[0m\u001b[0;34m=\u001b[0m\u001b[0mdw_rad_s2\u001b[0m\u001b[0;34m,\u001b[0m \u001b[0mpA\u001b[0m\u001b[0;34m=\u001b[0m\u001b[0mpA_s2\u001b[0m\u001b[0;34m,\u001b[0m \u001b[0mkex\u001b[0m\u001b[0;34m=\u001b[0m\u001b[0mkex_s2\u001b[0m\u001b[0;34m,\u001b[0m \u001b[0mcpmg_frqs\u001b[0m\u001b[0;34m=\u001b[0m\u001b[0mx_cpmg_frqs\u001b[0m\u001b[0;34m,\u001b[0m \u001b[0mrelax_time\u001b[0m\u001b[0;34m=\u001b[0m\u001b[0mrelax_time\u001b[0m\u001b[0;34m)\u001b[0m\u001b[0;34m\u001b[0m\u001b[0m\n\u001b[1;32m     41\u001b[0m \u001b[0;34m\u001b[0m\u001b[0m\n",
          "\u001b[0;32m<ipython-input-14-0a16718b89c8>\u001b[0m in \u001b[0;36mns_calc\u001b[0;34m(R20, dw_rad, pA, kex, cpmg_frqs, relax_time)\u001b[0m\n\u001b[1;32m     83\u001b[0m     \u001b[0mpower_arr\u001b[0m \u001b[0;34m=\u001b[0m \u001b[0;34m[\u001b[0m\u001b[0;34m]\u001b[0m\u001b[0;34m\u001b[0m\u001b[0m\n\u001b[1;32m     84\u001b[0m     \u001b[0mtau_cpmg_arr\u001b[0m \u001b[0;34m=\u001b[0m \u001b[0;34m[\u001b[0m\u001b[0;34m]\u001b[0m\u001b[0;34m\u001b[0m\u001b[0m\n\u001b[0;32m---> 85\u001b[0;31m     \u001b[0;32mfor\u001b[0m \u001b[0mcpmg_frq\u001b[0m \u001b[0;32min\u001b[0m \u001b[0mx_cpmg_frqs\u001b[0m\u001b[0;34m:\u001b[0m\u001b[0;34m\u001b[0m\u001b[0m\n\u001b[0m\u001b[1;32m     86\u001b[0m         \u001b[0;31m# num_cpmg\u001b[0m\u001b[0;34m\u001b[0m\u001b[0;34m\u001b[0m\u001b[0m\n\u001b[1;32m     87\u001b[0m         \u001b[0mpower\u001b[0m \u001b[0;34m=\u001b[0m \u001b[0mint\u001b[0m\u001b[0;34m(\u001b[0m\u001b[0mround\u001b[0m\u001b[0;34m(\u001b[0m\u001b[0mcpmg_frq\u001b[0m \u001b[0;34m*\u001b[0m \u001b[0mrelax_time\u001b[0m\u001b[0;34m)\u001b[0m\u001b[0;34m)\u001b[0m\u001b[0;34m\u001b[0m\u001b[0m\n",
          "\u001b[0;31mNameError\u001b[0m: name 'x_cpmg_frqs' is not defined"
         ]
        }
       ]
      }
     },
     "e0fa1a57e8db48c59bf4eb2e59c018b8": {
      "model_module": "@jupyter-widgets/base",
      "model_module_version": "1.0.0",
      "model_name": "LayoutModel",
      "state": {}
     },
     "e10f554c16ee4199b0cb50ad360f2c76": {
      "model_module": "@jupyter-widgets/controls",
      "model_module_version": "1.0.0",
      "model_name": "FloatSliderModel",
      "state": {
       "description": "R20_s2",
       "layout": "IPY_MODEL_66805bacd01041158fb86d5a861df235",
       "max": 25,
       "min": 5,
       "style": "IPY_MODEL_12e4a6fa1aca4ccb97b219b14135baef",
       "value": 13.9
      }
     },
     "e170e5228c44469bb4811e481979d5ed": {
      "model_module": "@jupyter-widgets/controls",
      "model_module_version": "1.0.0",
      "model_name": "FloatSliderModel",
      "state": {
       "description": "kex_s1",
       "layout": "IPY_MODEL_b5e1d68bd90a427386e2685c6c3d578c",
       "max": 10000,
       "min": 400,
       "step": 200,
       "style": "IPY_MODEL_870ccc8f41b943f581c8b7ee4a93c33f",
       "value": 4027
      }
     },
     "e1dd26e4442b4751a94404d8ef3f5cf5": {
      "model_module": "@jupyter-widgets/output",
      "model_module_version": "1.0.0",
      "model_name": "OutputModel",
      "state": {
       "layout": "IPY_MODEL_812c8aba77bd42ffbbbbf8a179a8f046",
       "outputs": [
        {
         "data": {
          "image/png": "iVBORw0KGgoAAAANSUhEUgAAArwAAAD8CAYAAACVfXcGAAAABHNCSVQICAgIfAhkiAAAAAlwSFlz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\n",
          "text/plain": "<matplotlib.figure.Figure at 0x7f6b992fdc18>"
         },
         "metadata": {},
         "output_type": "display_data"
        }
       ]
      }
     },
     "e2ded39efbed4a019b995259e6589fd4": {
      "model_module": "@jupyter-widgets/controls",
      "model_module_version": "1.0.0",
      "model_name": "FloatSliderModel",
      "state": {
       "description": "w0_1H_s1",
       "layout": "IPY_MODEL_d7ee9478d57a438cbff12447fbc6bcbf",
       "max": 1000,
       "min": 500,
       "step": 50,
       "style": "IPY_MODEL_2755417990a74aaf93efcab264aeb573",
       "value": 750
      }
     },
     "e539e175fa7e45089dd56a2431aa37e0": {
      "model_module": "@jupyter-widgets/base",
      "model_module_version": "1.0.0",
      "model_name": "LayoutModel",
      "state": {}
     },
     "e5aba22424cf43b5803f67cc0c59499d": {
      "model_module": "@jupyter-widgets/controls",
      "model_module_version": "1.0.0",
      "model_name": "SliderStyleModel",
      "state": {
       "description_width": ""
      }
     },
     "e630c0840554408b9dcc89c629e7bb1e": {
      "model_module": "@jupyter-widgets/controls",
      "model_module_version": "1.0.0",
      "model_name": "SliderStyleModel",
      "state": {
       "description_width": ""
      }
     },
     "e77b3cbe4f8c4700b9fcde0a8e20619d": {
      "model_module": "@jupyter-widgets/controls",
      "model_module_version": "1.0.0",
      "model_name": "FloatSliderModel",
      "state": {
       "description": "pA_s2",
       "layout": "IPY_MODEL_d679760ae26544629e47358a53e7e29f",
       "max": 1,
       "min": 0.5,
       "step": 0.01,
       "style": "IPY_MODEL_9e61393977bc4e33b3e486026e9069be",
       "value": 0.5
      }
     },
     "e9573117f8214dd0b5c2d5d1bd5887e6": {
      "model_module": "@jupyter-widgets/base",
      "model_module_version": "1.0.0",
      "model_name": "LayoutModel",
      "state": {}
     },
     "e999bca53b8c4abc929cf84940d16ba6": {
      "model_module": "@jupyter-widgets/controls",
      "model_module_version": "1.0.0",
      "model_name": "SliderStyleModel",
      "state": {
       "description_width": ""
      }
     },
     "ea17d3feb79445ccba4419d14e788779": {
      "model_module": "@jupyter-widgets/controls",
      "model_module_version": "1.0.0",
      "model_name": "FloatSliderModel",
      "state": {
       "description": "w0_1H_s1",
       "layout": "IPY_MODEL_e0fa1a57e8db48c59bf4eb2e59c018b8",
       "max": 1000,
       "min": 500,
       "step": 50,
       "style": "IPY_MODEL_b13b6643178e490298584a6464132a0e",
       "value": 750
      }
     },
     "eafdc5072f7745c6bc45f5f642ed52fb": {
      "model_module": "@jupyter-widgets/controls",
      "model_module_version": "1.0.0",
      "model_name": "SliderStyleModel",
      "state": {
       "description_width": ""
      }
     },
     "eb3ccd6997f34ca6aaa5337db2926a44": {
      "model_module": "@jupyter-widgets/base",
      "model_module_version": "1.0.0",
      "model_name": "LayoutModel",
      "state": {}
     },
     "eb5b7601c98a458fba0b807325bedf89": {
      "model_module": "@jupyter-widgets/base",
      "model_module_version": "1.0.0",
      "model_name": "LayoutModel",
      "state": {}
     },
     "eb66a3426a814b50ac8892c55fdffab3": {
      "model_module": "@jupyter-widgets/base",
      "model_module_version": "1.0.0",
      "model_name": "LayoutModel",
      "state": {}
     },
     "ec4de18d5b6841c98016b9735c999815": {
      "model_module": "@jupyter-widgets/base",
      "model_module_version": "1.0.0",
      "model_name": "LayoutModel",
      "state": {}
     },
     "ec7f386dab9b429999793d5a1c5bf27c": {
      "model_module": "@jupyter-widgets/base",
      "model_module_version": "1.0.0",
      "model_name": "LayoutModel",
      "state": {}
     },
     "ecb80165548a492f953f81793d60efc6": {
      "model_module": "@jupyter-widgets/controls",
      "model_module_version": "1.0.0",
      "model_name": "SliderStyleModel",
      "state": {
       "description_width": ""
      }
     },
     "edf73762e90e4d2ab3300a62de893c0b": {
      "model_module": "@jupyter-widgets/controls",
      "model_module_version": "1.0.0",
      "model_name": "FloatSliderModel",
      "state": {
       "description": "kex_s2",
       "layout": "IPY_MODEL_4d8288ac6c434de0b0996f72b2cd2bbe",
       "max": 10000,
       "min": 400,
       "step": 200,
       "style": "IPY_MODEL_a591b44b14e746dc8d5aa35d5cc78ee4",
       "value": 4061
      }
     },
     "ee205644ca8843739c6170c810207eaf": {
      "model_module": "@jupyter-widgets/controls",
      "model_module_version": "1.0.0",
      "model_name": "FloatSliderModel",
      "state": {
       "description": "w0_1H_s1",
       "layout": "IPY_MODEL_9ae0552d345a4a0e8bb0884c972626d4",
       "max": 1000,
       "min": 500,
       "step": 50,
       "style": "IPY_MODEL_e630c0840554408b9dcc89c629e7bb1e",
       "value": 750
      }
     },
     "eedd9821dce247cba478c2d7d987db0c": {
      "model_module": "@jupyter-widgets/controls",
      "model_module_version": "1.0.0",
      "model_name": "FloatSliderModel",
      "state": {
       "description": "pA_s1",
       "layout": "IPY_MODEL_384ce975751c45c5b870347fc1abdf5e",
       "max": 1,
       "min": 0.5,
       "step": 0.01,
       "style": "IPY_MODEL_f0d37528f40643e3a852cedb6db12edc",
       "value": 0.87
      }
     },
     "f0c6a457ea1e482b81e82c6df486435a": {
      "model_module": "@jupyter-widgets/controls",
      "model_module_version": "1.0.0",
      "model_name": "FloatSliderModel",
      "state": {
       "description": "kex_s1",
       "layout": "IPY_MODEL_069f8d581da7492eb9863aeabd1f2f4b",
       "max": 10000,
       "min": 400,
       "step": 200,
       "style": "IPY_MODEL_3d1606b9472749c3870c400ba0d8210c",
       "value": 4027
      }
     },
     "f0d37528f40643e3a852cedb6db12edc": {
      "model_module": "@jupyter-widgets/controls",
      "model_module_version": "1.0.0",
      "model_name": "SliderStyleModel",
      "state": {
       "description_width": ""
      }
     },
     "f1059bbf7466459b8ebf3d94dcb5f49d": {
      "model_module": "@jupyter-widgets/base",
      "model_module_version": "1.0.0",
      "model_name": "LayoutModel",
      "state": {}
     },
     "f146a28e61d249f7be8ed103f66a87d2": {
      "model_module": "@jupyter-widgets/output",
      "model_module_version": "1.0.0",
      "model_name": "OutputModel",
      "state": {
       "layout": "IPY_MODEL_a7f9892e6cea4a84816f949b05f26685",
       "outputs": [
        {
         "data": {
          "image/png": "iVBORw0KGgoAAAANSUhEUgAAArwAAAD8CAYAAACVfXcGAAAABHNCSVQICAgIfAhkiAAAAAlwSFlz\nAAALEgAACxIB0t1+/AAAADl0RVh0U29mdHdhcmUAbWF0cGxvdGxpYiB2ZXJzaW9uIDIuMS4wLCBo\ndHRwOi8vbWF0cGxvdGxpYi5vcmcvpW3flQAAIABJREFUeJzs3Xl8VNXdP/DPuXf2zGSZJGQPE7Iy\nZCEEKKAom0DZZBNUfqJQCg8pT9E8VhRrRbGtVvEptA8oCAgWLCVg1bAo1IAiFjRsCSEJEJJASELI\nOpPMdpffH5OkAQIJEATi9/16zWsy955777mDr/aTk+89h8myDEIIIYQQQroq7m53gBBCCCGEkDuJ\nAi8hhBBCCOnSKPASQgghhJAujQIvIYQQQgjp0ijwEkIIIYSQLo0CLyGEEEII6dLaDbyMsTDGWCZj\nLJcxdpIxtrBp+xLGWClj7FjTa8yd7y4hhBBCCCE3h7U3Dy9jLAhAkCzLRxhjBgBZACYCmAbAKsvy\nO3e+m4QQQgghhNwaRXsNZFkuA1DW9LOFMXYKQMid7hghhBBCCCGdod0R3isaM2YC8DWAeABpAJ4B\nUA/gBwD/I8tyTRvHzAUwFwA8PDxS4uLibrfPhBBCCCEtsrKyLsuy7H+3+0HuXR0OvIwxPYD9AH4v\ny/J2xlgAgMsAZABL4S57mH2jc/Tt21f+4YcfbrPLhBBCCCH/wRjLkmW5793uB7l3dWiWBsaYEsA2\nAJtkWd4OALIsV8iyLMqyLAFYA6D/nesmIYQQQgght6YjszQwAGsBnJJl+d1W24NaNZsEIKfzu0cI\nIYQQQsjtafehNQAPAHgKQDZj7FjTtsUAnmCM9Ya7pKEIwLw70kNCCCGEEEJuQ0dmaTgAgLWxa2fn\nd4cQQgghhJDORSutEUIIIYSQLo0CLyGEEEII6dIo8BJCCCGEkC6NAi8hhBBCCOnSKPASQgghhJAu\njQIvIYQQQgjp0ijwEkIIIYSQLo0CLyGEEEII6dIo8BJCCCGEkC6NAi8hhBBCCOnSKPASQgghhJAu\njQIvIYQQQgjp0ijwEkIIIYSQLo0CLyGEEEII6dIo8BJCCCGEkC6NAi8hhBBCCOnSKPASQgghhJAu\njQIvIYQQQgjp0ijwEkIIIYSQLo0CLyGEEEII6dIo8BJCCCGEkC6NAi8hhBBCCOnSKPASQgghhJAu\njQIvIYQQQgjp0ijwEkIIIYSQLo0CLyGEEEII6dIo8BJCCCGEkC6NAi8hhBBCCOnSKPASQgghhJAu\njQIvIYQQQgjp0ijwEkIIIYSQLo0CLyGEEEII6dIo8BJCCCGEkC7t3gq8zoa73QNCCCGEENLF3DOB\nVyo/CelPPSCn/wIo+BIQhbvdJUIIIYQQ0gW0G3gZY2GMsUzGWC5j7CRjbGHTdiNjbA9j7HTTu8/t\ndCTnkhOb7Q/AcnI3sPkxiO/EALsWAaVZgCzfzqkJIYQQQshPGJPbCZOMsSAAQbIsH2GMGQBkAZgI\n4BkA1bIsv8kYexGAjyzLi250rr59+8o//PBDm/tqG534/EQZdhwpguHCPkzkD+AR/ihUcEFUe4ML\n7AUWEA8E9AIC4oEAM6DU3sItE0IIIaQrYYxlybLc9273g9y72g281xzA2KcA/tr0GiLLcllTKN4n\ny3LsjY69UeBt7Xx1Iz49Voo9RwsQU70PvdlZmPnziONKoJXtAABJoQXrOQ4scTrQYyjAK27qPggh\nhBDSNVDgJe25qcDLGDMB+BpAPIASWZa9m7YzADXNn686Zi6AuQAQHh6eUlxc3OHrybKMvHILjp2v\nRV5ZPfLL6lBfXogw51kM5k5gguIQPGGFoPWDInEqkPAYEJQE8MoOX4MQQggh9zcKvKQ9HQ68jDE9\ngP0Afi/L8nbGWG3rgMsYq5Fl+YZ1vB0d4b0RWZZRXm/HN6cvY8fRc1AXfYWJ3Ld4hD8CJQRInBKy\nXyz4wObyh15A2M8Atf62rksIIYSQexMFXtKeDgVexpgSQAaAL2RZfrdpWz7uUEnDzaiot+Pz4xex\n50g+AioOoCdXjDhWgl6KC+gmVwEARF4Lruc4sCQqfyCEEEK6mrYCb1ZWVjeFQvEB3H+VvmdmpSJ3\nhAQgRxCEOSkpKZfaatCRh9YYgA1wP6D2bKvtbwOoavXQmlGW5RdudK47EXhbK6214dTFeuRXWHCq\nrB4XL5bCoyYXI9lhTFD8G15N5Q98whSwnuOBwARAe00VBiGEEELuI20F3uPHj38WGBjY09/fv57j\nOJruqQuTJIlVVlZ6lZeX5yYlJU1oq01HAu+DAL4BkA13ggaAxQAOAfgHgHAAxQCmybJcfaNz3enA\n25ZGp4C9py4h40gRuDN7MZ77pmX2BwBw6UOgCIoHC4x3B+CoEYDa8KP2kRBCCCG37jqBtzAhIaGG\nwu5PgyRJLDs72ycpKalHW/vb/du+LMsHALDr7B5+O537MehUCkxICsaEpGBUN/TFjuynMScrH4qL\nhxGD84irK4HZkosep/dCAREirwGLGwMu6XEgchg9AEcIIYTcnzgKuz8dTf/W1y1d+UkVsxo9VHhq\nQHc8NaA77K7hOF1hRV55Pf5RbsGZsirIpUcw3PENJpz8Et4nt8OlNkKROAUscqj74TevcICjMiBC\nCCGEkPvJTza9aZQ8EkK98FjfMPx2nBkf/nIw1vz2vxH85P9hScwnmC/+Bl80xsD5/YfA358ElidB\n+EMoXO8PBz5/Fji2GbDX3e3bIIQQQsh9ZPfu3fqoqKhecXFxZqvVer2/oN+0VatWGePi4szNL47j\nUg4ePKgFgP79+8eaTKb45n2lpaUKALDZbGzs2LE9wsPD4xMTE+Py8/NVbZ07PT3d02QyxYeHh8cv\nXrw4sK02U6ZMMWm12uSampqWbDl79uwwxlhKWVmZAgB0Ol1y62NWrFjhO3PmzPDO+g5u5Cc1wtse\nlYLDCHMARpgD0ODogy9zn8GzRwvRWJqDIPtZxAkl6Flagp5l/4Bn1nqInApyzGgokqYD0Y8ACvXd\nvgVCCCGE3MM2btxoTEtLK0tNTb3iuSeXywWl8tbLKOfPn189f/78agA4fPiwdsqUKZGDBg2ytbpu\n4UMPPdTY+pjly5f7eXl5CSUlJTmrV6/2SUtLC92xY0dh6zaCIOC5554L/+KLLwp69OjhSkpK6jll\nypTalJQU+9V9CAsLc3z88cfeqamp1aIo4sCBA4Zu3bq5bvmmOhEF3uvwUCswKTkUk5JDATyEKqsD\n+eUWnCy3YHtZPaoKDuIBWyYmnNoH37zP4FJ6gjNPAB+W4l76uFtPeviNEEII+Ymqr6/nJkyY0KOs\nrEwlSRJ74YUXLlosFn7Hjh3G/fv3e+3evdtr7ty5l1999dVgLy8vsbCwUFNUVJSzaNGiwC1btvj5\n+vq6goODncnJyY2vv/56xc1ce+PGjcaJEyfWtNcuIyPDe8mSJRcBYNasWTWLFi0KlyQJXKvyzX37\n9nl0797dYTabnQAwefLk6vT0dO+UlJTyq8/XtM+YmppavWPHDkO/fv2s+/bt8+pIn+Pi4szNPxcV\nFWm2bdtWMHbsWGtHju0ICrwd5KtXY1CUGoOi/AAAkpSIrJLpWH60GFUnvsRw+9d45Ng2GI7/reUY\nhz4UXGA8lNHDgV6TAL3/3eo+IYQQQn5E27dv9wwMDHTt27fvDABUVVXxvr6+4rfffqsfN25c3axZ\ns2oyMjIMubm5uqNHj56Mi4tzfvPNN7pPPvnEmJ2dnetyudC7d29zcnJyIwC88sorAVu3bvW9+joD\nBgywfPjhh+dbb/v00099tm/ffqb1tjlz5pg4jsP48eNr3nrrrTKO41BRUaGKiIhwAoBSqYRerxcr\nKioUQUFBQvNx58+fV4WEhDibP4eGhjoPHTrU5mpesbGxjl27dnlXVlbymzdvNj711FNVrQOvw+Hg\nWgfburo6/pFHHqkDgLy8vFwA2Lx5s9eyZcsCR4wY0XAz33d7KPDeIo5j6Gcyop/JCNeEJBw4PQtv\n5paj6uJZKCpz0V0oQlxdCXrVH0OPM7sh7X4RrvCHoE6eDsSNBTSed/sWCCGEEHKH9OnTx/byyy+H\nzZ8/P+TRRx+tGz16dJujlYmJiQ1xcXFOAMjMzNSPGTOm1mAwSAAwcuTI2uZ2S5curVi6dGm7I71f\nffWVh1arlfr169dScrBly5bCiIgIV01NDTdu3LjIlStX+i5YsKDq9u/yWuPHj69Zt26d8ciRIx6b\nNm0qbr1PrVZLzcEWcNfw/vDDDx7Nn7Ozs9Uvv/xy6L59+wrUanWnzrBBgbcTKHkOQ+O6YWhcNwCJ\nkOWJuFhnR355PXaU1iPvxL9hrvoSjxYdRGhxJgRODSH8AahDEsG6mYEAM+AXQzXAhBBCSBeRmJjo\nOHLkSO62bdu8XnnllZC9e/fWv/POO2VXt9PpdFJbx1+toyO8mzZtMk6ePPmK+uCIiAgXAPj4+EjT\np0+vPnz4sAeAqoCAAOe5c+dUkZGRLpfLBavVygcEBAitjw0LC3OWlpa2PMx24cKFK0Z8rzZz5sya\nn/3sZz2nTp1axfN8R24NAFBXV8dNmzYtctWqVcXdu3fv9LpfCrx3AGMMId5ahHhrMSwuABgejcLK\nSdh+/CJOH8lESv1e/KzwFKKK9kMJEQAgMR52ryho4seDS5zqrgEmhBBCyH2pqKhI2a1bNyE1NbXa\nx8dHXLt2rV97xwwbNsw6e/Zs0xtvvFHmcrnYnj17vJ9++ulKoGMjvKIo4vPPP/fZt29fXvM2l8uF\ny5cvK4KCggSHw8F27tzpNWzYMAsAjB07tnbdunW+I0aMaFi/fr3PwIEDLdxV068+/PDDDUVFRZq8\nvDyVyWRybd++3bhp06ZCXEdMTIxz8eLFpWPGjLG0d7+tPfHEE6YZM2Zcvt5I+O2iwPsj6eGvx69H\nxEAeHo1TZU/gcFE1NpXXwFqaB2VVHsJcRUipOo0BB94FDryDRu8YaJKngYufDPhG3u3uE0IIIeQm\nZGVlaV966aVQjuOgUCjklStXFrd3zIMPPtg4adKk6vj4+F6+vr6uxMTEm6pj3bVrlyEoKMjZ/IAZ\nANhsNm7EiBHRLpeLSZLEBg8eXJ+WllYJAAsXLrw8ZcqUiPDw8HgvLy9xy5YtZwF3WH/66ae779+/\n/4xSqcSyZctKRo8eHSOKIp588snLffv2vWaGhtZ+85vfXL6ZfhcUFKh2797tU1hYqPnb3/7mBwCr\nV68uunpWidvR7tLCneluLC18P5BlGRX1DhwpqcHXR0/C48wOjMK36M/lAwDsGn+IvnFQh5ihCDAD\n/j2BwHhA5dHOmQkhhJCu7zpLCxclJSXdVPC616SlpQXr9XrxZmdp+Kk6fvy4X1JSkqmtfTTCew9g\njCHQS4MxCUEYkxCERucQZOZVYnHWMegKdyGu4RyiGy8g+sJhKJgDACBwajhMQ+HReyoQM4oegiOE\nEEIIuQ4KvPcgnUqBsYlBGJsYBLtrJAorG3D6kgV7yutRc/E0cCkPUdYf8POzh+BRuBsiU8IWPgT6\n3hOBwATANxpQ6e72bRBCCCHkNrz77rsX73YfugoKvPc4jZKHOdgT5mBPACEAegKYgNJaG3ZkX0Th\n0UxEXNqLnxcdhr54DwBABkOjLhiSbww0wWYoIx8GIh4GlJq7eSuEEEIIIXcF134Tci8K8dbiF4Mj\n8ftfz8GEFz7EV6P24neha/Gq5gX8rzAF/7KE43xxIcR/rwY2T4PzzQhYPpoB+cQ/AHvd3e4+IYQQ\n0uXxPJ8SFxdnjo6O7jVs2LCoy5cv8wBw8OBBbe/eveOioqJ6xcTEmNesWePTfExeXp4qMTExLjw8\nPH7s2LE97HY76+j1Bg8eHG0wGHoPHTo0qvX2adOmdY+NjTXHxMSYR48e3aOuru6a/Ge329nUqVNN\nMTEx5tjYWHNGRkanLher0+mSW39+6KGHos+ePXvraynfJHporQtyCCKKqxpx5pIVpy9WoebkXsRU\n78cjfBb8WR1EpoDVNwF8t1joguLA+UUDftGATwSgULV/AUIIIeQecq8+tKbT6ZIbGxuPAsDkyZNN\n0dHR9rfeeqv8xIkTasYYEhISHEVFRcp+/fr1PHXq1Ek/Pz9xzJgxPSZOnFgzd+7cmieffDI8KSnJ\ntmjRosqOXO/TTz81NDQ0cGvWrPHPzMxsWWmturqaMxqNEgDMmTMntFu3bsIf/vCHK5YG/uMf/+if\nlZXlkZ6eXlRaWqoYOXJk9IkTJ07daC5dQRCgUHSsWKD1d2G1WtnAgQPjsrOzT3Xo4A6ih9Z+YtQK\nHjEBBsQEGICEIGBUPMrr/gu7c8tQeHQfgsv2IvHSGfSo3AV97t9bjhOYCtbgQTAkjgUfOxrwDr+L\nd0EIIYR0HQMGDGg4ceKEFnAvStG83WQyuYxGo1BWVqYwGo3id999Z/j0008LAWD27NlVS5YsCe5o\n4H300UctbY3MNoddSZJgs9k4xq4dNM7NzdUOHTq0HgBCQkIET09P8euvv9YNHTr0iqnBQkJCEiZM\nmFC9f/9+z2effbbcYrHw69ev93e5XMxkMjnS09PPGQwGKS8vT/X444/3aGxs5EaPHl3b+hw7d+40\nPPDAAxYASE1NDfniiy+8eZ6XhwwZUr969eoLHbnXm0WB9yci0EuDpwZGAAMjYLH/P5wqs+BflVaU\nllfAXp4Prvo0AhvyMOT8UXiX7gN2/QZ1njFQ9RwNbXgfwBgJGHsA6jaXzyaEEELIdQiCgMzMTMMv\nfvGLa0acMzMzdS6Xi5nNZkdFRYXCYDCISqX7L/0mk8lZUVGhAoBVq1YZly9fHnj18SaTyb579+7r\nLgTRbOrUqabMzEyvqKgo23vvvXdNqExKSmrMyMjwnjt3bvXZs2dVOTk5uuLiYhWAa+bC9fX1FXJz\nc08BQHl5Of8///M/lwHg17/+dfCKFSv8Xn755Uupqanhc+bMqVywYEHVH//4R//Wx+/cudNr8uTJ\nteXl5fzOnTt9CgsLcziOQ3PJx51AgfcnyKBRon+EEf0jjADCAfQDANTbXfim4DK2nMiCuvBL/Kzm\ne/T79/8Bh8SWYxtVfnB4mqAITYLBPAowPUjzARNCCCFtcDgcXFxcnLmiokIZGRlpnzhxYn3r/cXF\nxcpZs2b1WLt27bn2luGdP39+9fz586tv2OgG0tPTiwRBwDPPPBO+bt06n4ULF1a13r9w4cLLp06d\n0iYkJJhDQkIcffr0sV6vTzNnzqxp/jkrK0v7u9/9LsRisfANDQ38ww8/XAcAR44c0e/atessAMyb\nN69q6dKloc3HfP/99/r33nvvAs/zslqtlqZPn24aN25c7fTp0+/YQ0YUeEkLT42yaTq0cZCkscgu\nrcMHp0pguZgHuboQWksxAhtLEWEvQ3zlR8CxtRCYEvX+KfDoNQrqqCGAbxTNCUwIIYQAUKvVUl5e\nXq7FYuGGDBkS/eabb3b77W9/ewlw19X+/Oc/j3r11VdLhw8f3gAAAQEBgsVi4V0uF5RKJYqKilQB\nAQFO4PZHeAFAoVBgxowZ1X/6058Crw68SqUSa9euPd/8OTk5Oc5sNre5oprBYJCaf547d25Eenr6\nmYEDB9pWrFjhu3///paSCo7jrnlQLDc3VxUUFOTUaDQyABw7duzUZ5995pmenu6zatWqbv/+978L\nOnIvN4sCL2kTxzEkhXkjKcwbQGLL9tpGJ85dbsCWcxWoPJkJY/kBDCo/jp6XXgMyXwMA2BResOnD\nIfuYoPHvAV2PAWCmBwCN1925GUIIIeQuMhgM0ooVK0oee+yxqEWLFl0SRZGNHTs26vHHH6+aNWtW\ny2gpx3EYMGCAZf369T5z586tWbdune+4ceNqgVsf4ZUkCbm5uer4+HiHJEn45JNPvKOjo68JshaL\nhZNlGZ6entInn3ziyfO8nJKScsMlhAGgsbGRCw8PdzkcDvb3v//dGBQU5AKAPn36WNesWWNMTU2t\nXrNmjW9z+08//dRr5MiR9QBQV1fHWa1Wbvr06XUjRoywRkZGJtzs/XUUBV5yU7x1KiSHq5Ac7gM8\nHAeHMBdZRTX4v9xTsBd+B7WlBD6OiwhzXEJ49WF4Fu4EO7wcEjjUepmhiBoCz57DgOBkQOsDtFE4\nTwghhHQ1DzzwgC0uLs62evVqI2MM33//vb6mpkaxefNmPwBYt27duUGDBtmWLVt2Yfr06ZFvvPFG\nSK9evRoXLlzY4ZkmUlJSYgsLCzU2m40PCAhIXLlyZdHEiRPrZ86cGWG1WjlZllnPnj0bP/zww2IA\n2LRpk9f333/v8ec///nixYsXFaNGjYrhOE4ODAx0bd68+VxHrvniiy9e7N+/f0+j0Sj06dPHarVa\neQBYuXJlyeOPP97jz3/+c2Drh9b27NnjtWrVqhIAqK2t5ceNGxflcDgYACxduvR821e5fTQtGel0\ndpeI0lobzlc3oqSiGlX538Lj4nfoLZ5AMjsDJXPXBDs4HRp0IRANoeCN3eERFAO1aQAQlAjwP9rU\nfIQQQu5z9+q0ZORKNpuN9evXLy4nJ6dTpyNrRtOSkR+VRskj0l+PSH89ENsNeCgOkjQbBZcs+HvB\nBVTlfg1VdT487BcRXFeJkPpChF48BPVJ94OgTk6DOt/e0PR4AIaYwe66YEMQwNN/roQQQsj9SqvV\nyncq7LaHEgT5UXAcQ1ygJ+ICzcBDZgCAJMm43OBAaY0NX9faUHb+HOyF38LnchaSK06h56V3gUPL\n3G3BoUHlB7suELIhBOrAnvCMHggW2hfQGe/mrRFCCCHkHkeBl9w1HMfQzaBBN4PGXROcGAzgAQii\nhLxyCz4+XYzaM4fA1RVD01gGg+0SAm1VCK4+Ct+S3WDfvwsAqNGGwxmQDH1EX+j8wsE8g90jwvoA\nWjmOEELIPSEtLS1Yr9eLr7/+ekVnnG/w4MHRx44d8+jbt6+19apqrdlsNjZ16tSI7Oxsnbe3t7B1\n69bC2NhYZ2dc/35DgZfccxQ8h/gQL8SHJAJD/jNDhCBKuGRxoKzOhsPnK1Bz5hCUZUcQZj2J5Mb9\n8Cj69JpzWRVGNHjFgA9NhndkPyhCk91LKNPDcoQQQu5jzz//fHnzMsLXa7N8+XI/Ly8voaSkJGf1\n6tU+aWlpoTt27OjQFGZdDQVect9Q8ByCvbUI9tYipbsReLAngGdQb3ch+3wt9pwvgb26FEJtKZil\nHCpbBQz2csRUnkPs5dVQHF8FALDxelg8TBB1/mCGQCi9AqHxCXaPDgf0ArxCKRATQgi5bYsWLQrc\nsmWLn6+vrys4ONiZnJzcWFpaqhg5cmT0yZMnT3333XfaQYMGmQsKCrKjo6OdYWFh8bm5ubmt57m9\nnustI9xaRkaG95IlSy4CwKxZs2oWLVoULkkSOI5r3cawZMmSYL1eLxYVFWkGDRpU/9FHH5XwPA+d\nTpf8xBNPXN6/f7+nv7+/a9u2bYXBwcFC//79YxMSEhoPHTqkb2xs5NavX3/u97//fVB+fr720Ucf\nrV6xYsXF2/7yOhkFXnLf89Qo8UC0Px6I9geQcsU+SZJRXN2IL0sqUXn2KMTSo/CuPYluNRXwrz0L\nf5YFH1jAsf/MVtLI6VHvGQs5IB6e3ZOg8wsD0/sDHk0vhfpHvkNCCCH3m2+++Ub3ySefGLOzs3Nd\nLhd69+5tTk5ObgwJCREcDgdXXV3NZWZm6nv16tW4d+9evSzLVl9fX8FgMEidscgEAFRUVKgiIiKc\ngHthCb1eL1ZUVCiCgoKE1u2ys7M9jh49mhMTE+N86KGHojdu3Ogza9asGpvNxvXt27dh7dq1559/\n/vmgF198MXjjxo0lAKBSqaScnJxTS5cu7fbYY49Fff/996e6desmmEymhMWLF1cEBgaKbfXpbqHA\nS7o0jmOI8PNAhJ8H0McEYBJkWYbFIaDS4sAZiwOX66ywVJfDdqkQKM+BZ30+IqqLEFfzd3jkb7jm\nnDZOD4s2CC6fGKiCesG7ezyUgb0AHxPNJEEIIfeg36QfDysot+g685wxgYbGt6cmXXfe2MzMTP2Y\nMWNqm0drR44c2TIXbd++fa179+7VHzhwwPDCCy+U7d6920uWZQwYMMAK3P4ywjcrISGhwWw2OwFg\n2rRp1d98841+1qxZNRzHYc6cOdUAMHv27KrJkydHNR8zadKkWgBISkqyRUVF2bp37+4CgLCwMEdh\nYaEqMDDQ9mP1vyPo/53JTw5jDJ4aJTw1SvfUafAF0B3AzwAAsiyj0upA1sU6XCw+DWftRYiWS0DD\nZSjtl6G2X4Z//UVEWQ/B/8IO4Hv3eSUw2HhP2JTecKl9IGqMgIc/1N0i4RXaE6qAWHf9MD1IRwgh\nP2mDBw+2fP3114YLFy6oZsyYUbts2bJAAPK4cePqgM5ZRhgAAgICnOfOnVNFRka6XC4XrFYrHxAQ\nIFzdjl1Vxnf157a2Ny8NzHEc1Gp1y59JOY6DIAj3XF0gBV5CrsJY0+wRsRogNqDNNnaXiHOXG7Cj\ntAK1xTkQKnKhqi+B2lkDXWMtvBos8GGn4c++h2+hpeU4CRxqVEGwawMhanwArQ84DyOUHr7Q+gTC\nEBQFZuwBGAKpjpgQQjrJjUZi75Rhw4ZZZ8+ebXrjjTfKXC4X27Nnj/fTTz9dCQAjRoywvvHGGyH9\n+/e38jwPb29vITMz02v58uWlQOeN8I4dO7Z23bp1viNGjGhYv369z8CBAy2t63ebZWdne+Tl5ami\no6Od6enpxjlz5lQC7mWJm5c5/vDDD3379+9vuebg+wQFXkJugUbJo2eQJ3oGeQJ9owFMumK/zSmi\nutGJ8xYH/l1WhvrSPAiXCqCqLYRXYxF87LXwRgV8mBXesEDFrix1cjA1atUhcOjDIOuMYFof8Dof\nqPRGqAw+0PuFgffpDniGUBkFIYTcgx588MHGSZMmVcfHx/fy9fV1JSYmNjTvi42NdcqyzAYPHmwB\ngIEDB1rLyspU/v7+Ha57bWsZ4SlTptQ/++yzwf369WuYMWNG3cKFCy9PmTIlIjw8PN7Ly0vcsmXL\n2bbOFR8f3/Bf//Vf4c0PrT311FO1AKDVaqXDhw97vP3228G+vr6u7du337czPNDSwoTcBTaniFqb\nE7WNLtQ2OGG11sFSeQH2S2ccYMSFAAAgAElEQVQgV5+DxlICH8cFBMmX4M0a4IUG6JjjmvOI4FCn\n7OZeotkjENB4gdN6gdd6QenhA7XBFwb/MHDeoYA+kMIxIaRLoqWFb11GRoZh2bJlAW3N5avT6ZIb\nGxuP3o1+3QpaWpiQe4xWxUOr0iLIS9u0xQ9AJICHW9rIsoyqBncovmhzwdJghb2+GnZLNezVFyDX\nFENpOQ8P20X41ZQjoKYEBmaDAY1QsGtntBHBoU7hh0ZNAASNEbLKAKgNYBoDeI0nlAY/6P1C4eEX\nCuYZAuj8gDb+9EUIIYTcb9oNvIyxdQDGAbgky3J807YlAH4JoLKp2WJZlnfeqU4S8lPEGIOfXg0/\nffM0aD4Awtps6xBEXLY6UWF34YzNhUZrHezWWtjrq+CouQC59jwU1ovQ2crhVX8JXvVF0MMGfVNA\nvrqkAgAE8LAojHDweggKHUSFB0SlB2SVB6DSg6n04DQG8Bo9FFpPqPU+MPiFQOkVCHh0A9T6O/fl\nEEII6RTjxo2zjBs3rs3a3PtpdLc9HRnh/RDAXwFsvGr7/8qy/E6n94gQctPUCh4h3loAzSPGvtdt\nK8syGp0irA4BtQ4BF+wCGhob0Fh7CQ2Xz8NVUwpYLoK3VkDrqITa2QCV3Q6NXAMPlEHPbNDBDg84\noGau617HzjSwKnzg5HUQeS0EhQ6SQgdZ6eF+WM/gD5VnN2i9A6H3DYRa7wsode6XSgcoNPTgHiGE\nkE7RbuCVZflrxpjpzneFEPJjYIzBQ62Ah1qB/8xB4Q0gBEDydY+TJBl2wR2U6x0iypwCbDYb7I0W\nOBrq4bBUwVlXDrG+AqzhElS2SqidNVA6GqGWbVBLNdCiDB6ww5tZ4cluPEWjBAYH06CB94Rd4Q2n\n2geixgey1gimNoCptOBVOnAqHRRqD6h0ntB6+0Hn6QdOZwR0RlokhBByzyorK1OEhYUl/uEPfzj/\nwgsvVLZ/hJvNZmNTp06NyM7O1nl7ewtbt24tjI2NdV7d7rXXXuv20Ucf+TPGEBcX17hly5YinU4n\np6SkxDY0NPAAUF1drUhMTGzYu3fvWUmSMHv27LCvvvrKS6PRSOvWrSt68MEHGzvznu+m26nhXcAY\nmwngBwD/I8tyTVuNGGNzAcwFgPDw8Nu4HCHkbuI4Bp1KAZ1KAbQsZukF4JqpIq/LKUhodAqobnTh\nTH09LFUVsNeWw1l/CVJjDWRXI+C0AYINnKsRvNAAlbMOOkct9I2V8EYhfJgFHrCDZ+0/cOuACk6m\nhotTQWBqCJwaAq+GS2GAqPKErPECNN7gdD7gtQZwSi14lQYKlQYKlQ4KjRY6gy9UHt5gWm9A7UkP\n/hFCOsXGjRt9kpKSGrZu3Wq8mcC7fPlyPy8vL6GkpCRn9erVPmlpaaE7duy4YvaEc+fOKVevXh2Q\nn5+fo9fr5TFjxvT44IMPjL/+9a+rsrKy8pvbjRo1KnL8+PG1ALB161avwsJCTVFRUU5mZqZHampq\n+IkTJ/I6747vrlv9X+5VAJYCkJvelwGY3VZDWZZXA1gNuGdpuMXrEUK6AJWCg0qhgrdOBZOfB9Aj\nqMPHNpdiVDc4Ue4UYLfb4bQ3wGlvgMveCFdjHZzWKojWKsi2GjBbLThHHXjRDl6ygxcdUIgOKF0O\naKU66OVSeLEGeKIBanbNPOzXZYcaTqaGwKngYiqITAmRU0HgtRCUekhKPSS1AVB7gqn1YAo1OKUa\nnELjfleqodQaoPbwhNrDC1oPb/AaA6DUukekeRXA8bfy9RJC7iH5+fmq0aNHRyckJDTm5OToYmJi\nbFu3bi1qXnlt69atxnfeeef8008/3ePs2bPKyMjI69eItZKRkeG9ZMmSiwAwa9asmkWLFoVLkoSr\n59cVRZE1NDRwarVatNlsXGho6BXnr66u5r777jvDxx9/fA4APv30U+8ZM2ZUcRyH4cOHN9TX1yuK\ni4uVzSuo3e9uKfDKslzR/DNjbA2AjE7rESGEtKF1KYab522dTxAlWB0CyhudqLdaYLfWQ3TZITga\nITjtEJ02iI5GCLZaSLZ6wF4L5rCAd9SBk5zgRQc4yQmF5IRCcELptEPTUA4PuaHpYUAbNDeocb4R\nERxcUMDFVHBwWjg5LVy8DgKvg6DQQuLVAKeEzKsgc0qAVwIKDZjKA5za/eI1eijUHuAUKvAKFXil\nyv2zUgWVxgManQEKtYe7XlrpQSPXhNwBRUVFmvfff79o5MiRDY899pjp7bff9n/99dcrzpw5o6ys\nrFQOHTq0ccKECTUbN240vvbaaxUAMHbs2B5nz57VXH2uBQsWVCxYsKCqoqJCFRER4QQApVIJvV4v\nVlRUKIKCglp+c4+IiHD96le/Ko+IiEhUq9XS4MGD6ydPnlzf+nybN2/2GTRoUL3RaJQAoKysTGky\nmVpKI4KCgpw/+cDLGAuSZbms6eMkADmd1yVCCLnzFDwHb517tBl+egAdH22+EVGS0eAUUG0X0GCz\nw+mwQ3DZITodEJx2CA4bXA4rhMZ6iLZ6iHYL4KiH7LKDSS5AdIKJTjDJCU50QiE0QiE2QuWyQeVo\nhFqqgRIuKGQXlEyECgJUcEENF7TsmjK+jvcbHETwEKCAyDiIUEBgSrg4NVycBgKngci7XzKnaHop\nAcZD5pXukWmFBlBqwZRacCotmFIDjleCcQowXglOoQTjlVCotVCodFBqtFCqdVCqtVAoNVAoFOAU\nSoBTuEe5OXeQpzBO7leBgYHOkSNHNgDAU089VbVixYpuACo2btxonDBhQk3T9upf/OIXpubAe3V5\nwq2orKzkd+zY4X3mzJlsX19fcezYsT1WrlxpTE1NbVm97R//+Idx9uzZHS6luN91ZFqyjwEMAeDH\nGLsA4FUAQxhjveEuaSgCMO8O9pEQQu4bPMfgqVHCU6MEvLXtH3AbREmGS5TgFCVYXRIq7U7YbRbY\nGixw2axw2a2QBCck0QVJcEESHJAEJ2SnDZKjAVJTzTRzNYKJTkBygUkCOFkAk1wtI9kKyQ6lyw6l\nowEquRoKWQDvjsTgIEEJAWq4oIHzlke1b3if4OCEEi6mggtKiIyHxHhI4CEzvumzEiLnLi+ROBUk\n3v0OxkPmFADj3O+coilIN5WPKNRgSjVY0z7G8U0BnW8K6WrwShV4pQacUgVeqQbH8eCa2nCcAhzP\ng1eqoVCpoVCqoFS6y1dagjvjm945mnnkJ4Zd9e/d/Hnbtm3GyspK5fbt240AcOnSJWV2drY6ISHB\n0d4Ib0BAgPPcuXOqyMhIl8vlgtVq5QMCAq6oy/r88889w8PDHcHBwQIATJw4sfbgwYP65sBbVlam\nOHHihMe0adNaFpsICgpyFRUVqZo/l5WVqbrK6C7QsVkanmhj89o70BdCCCE3gecYeI6HRskDGgAG\nNVo9UfijkGUZoiTDKUpodEmodgpw2BvgsDVCcNkhCU6IggBZcEEUXe7PTjtElw2i0w7JZYfktAGi\nC7IoAJIASC5AEgHRCYgOMMEBJjrAiQ5wkgNMksBk0R3MZRGcLIKTXFCILvCyHUq5HkrZPQrOQQIH\nCQqILe/ugC7ccFq9O0UEB6F5JB0KCMz9ksBDYhxkcK3eeUhMAZEpIXMKSEwBiVNAZpw7yIODzHEA\n+JZRd3C8e+SdUzaNkruDtszc76xpG+PdbRivAONVYBzn3s74pp85MKYAUyjB8e4Rel6hBON492fG\ngXHu8zHGgVO4R/B5XgG+6Z3xCvc7x7nbcDw4jnOfh2/+5aPp1UV/ESgrK1Pt3bvXY8SIEQ2bNm0y\nDho0yHrixAl1Q0MDf+nSpRPN7Z577rngDRs2GN95552y9kZ4x44dW7tu3TrfESNGNKxfv95n4MCB\nlqvrd00mk/PIkSN6i8XCeXh4SF999ZUhJSWlZcaFjz76yGfYsGG1Op2u5dmqCRMm1K5cubLbL3/5\ny+rMzEwPg8Eg/qQCLyGEEHI9jDEoeAYFz0GnAuChAqC7291qU3M4d4ky7IKEekGE0+WAy2FvGgkX\n3aFclJpGxZ0QBZc7uDsdEAUHJMEBWRQhS1e+ILogCw7IorssRRadgCi4g7ssgsnif34W3SPpTHK1\njKQzWQKDO8gzWQKTJXeQlwVwkgu84AQv28DL7lF1BgmcLLUEek52j7jzkKBoidOt9kNucwXGe4kI\n5g767ruDDAYRvPvFOPcvBU3bZdb0Dg7yPRyWTSaT/S9/+Uu3uXPn6qKjo+3PP/985ZIlSwLGjBlz\nxcxWjz/+eM0TTzzR45133im73rmaLVy48PKUKVMiwsPD4728vMQtW7acBYCioiLl008/3X3//v1n\nhg0b1jB+/PiaxMTEngqFAr169WpMS0trKV9IT083vvDCC1dca9q0aXU7duzw6t69e7xWq5U++OCD\nok76Gu4JTJZ/vIkT+vbtK//www8/2vUIIYSQnxpZliFI7nAvyTIkGe53SYYoiu4QLzghuNyj76LL\nCVkSIbUEeMn9WRQgNo28i4ITsihAagrxsixDlgTIsgxIQtMvAc373SP6siwCsgTIEuSmd0hiy0uW\nBDBJAMSmQURZBCABsgwm/edYJglNvwgIYJI7FgMymCy790PCwEWfZcmy3Lf193D8+PGipKSkyz/+\nv4Bbfn6+aty4cdGnT58+ebf68FNz/Phxv6SkJFNb+2iElxBCCOlCGGNQ8gzK685ud2dry++KRffu\nKC+5N3DtNyGEEEIIITcjNjbWSaO79w4KvIQQQgghnSw/P18VHR3d68e85rBhw6JaX7OiooIfNGhQ\ndPfu3eMHDRoUXVlZyQPAqlWrjDExMeaYmBhzcnJy3HfffacFgOPHj6vj4uLMzS+9Xp/8+uuvd7v6\nOpIk4ZlnngkLDw+Pj4mJMR84cKDTCvczMjIMQ4cOjWr+7HA4mNls7nm756XASwghhBByn9uwYYO3\nh4eH2Hrbq6++GjRkyBBLcXFxzpAhQyy/+93vAgEgKirK8e233+YXFBTkvvTSSxfnzZvXHQCSkpIc\neXl5uXl5ebk5OTm5Go1Gevzxx2uvvlbrZYhXrVpVnJqaGn6jvkmSBFEUb9Tkur788kt9v379rLd0\ncCsUeAkhhBBC7qDc3FxVz549zfv379cJgoB58+aFxsfH94yJiTG//fbbfgCwceNG74EDB8ZIkoTi\n4mKlyWSKLykp6dCzVnV1ddyKFSsClixZcsXMC7t37/aeN29eFQDMmzevateuXT4A8MgjjzT4+/uL\nADB06NCG8vJy1dXn/OyzzzzDw8MdMTEx16xoc71liFu3yc/PV5lMpvhJkyaZYmJiep09e1Y1Y8aM\n8Pj4+J5RUVG9nnvuueDmtunp6Z4RERG9zGZzz/T0dO/W59m5c6fnmDFj6uvr67khQ4ZExcbGmqOj\no3utWbPGpyPfTTN6aI0QQggh5A45fvy4+vHHH49ct27duYEDB9reeecdPy8vLzEnJ+eUzWZj/fr1\nixs/fnz9zJkza7dt2+bz5ptv+u/Zs8frpZdeuhgeHi4cP35cPX369Mi2zn3gwIF8Pz8/MS0tLWTh\nwoUVer3+irnnqqqqFM1z6YaFhbmqqqquyX1/+ctf/IYOHVp39faPP/7YOHXq1Kq2rtvRZYhLSkrU\na9euPTd8+PAiAHj33XdLAwICREEQMGjQoNhDhw5pExIS7AsWLDDt2bMnv1evXo5x48b1uOoePf/0\npz+Vbdu2zTMwMNC1b9++M033dt3HMttCgZcQQggh5A6orq5WTJw4MSo9Pf1sSkqKHQD27t3rmZeX\np/vss898AMBisfC5ubmauLg45wcffFDSq1evXsnJyQ3z5s2rBv5TZnC9axw8eFB77tw59dq1a8/n\n5+dfM1LbjOO4a1Z++/zzzw1/+9vf/A4ePJjXervdbmd79+71evfddy/cxu0jKCjIOXz48Ibmzxs2\nbDB++OGHfoIgsMrKSuXx48c1oigiNDTUkZCQ4ACAGTNmVH3wwQf+AHDu3Dmlt7e3YDAYpD59+the\nfvnlsPnz54c8+uijdaNHj76pMgcKvIQQQgghd4DBYBCDg4OdmZmZ+ubAK8syW7ZsWcmUKVPqr25/\n7tw5FcdxuHz5skIURfA8j/ZGeL/55ht9Tk6OLiQkJEEQBFZdXa3o379/7OHDh/N9fX2F5pHX4uJi\npdFobFmC+NChQ9rU1NTuO3bsOB0YGHhFgW16erqX2WxuDAsLE669aseXIdbpdC0jznl5eaq//vWv\nAVlZWaf8/f3FKVOmmOx2+w1La//5z396jRgxog4AEhMTHUeOHMndtm2b1yuvvBKyd+/e+o4s1NGM\nangJIYQQQu4ApVIp79q16+zHH3/s+9577xkB4JFHHqlbtWqVv8PhYABw4sQJdX19PedyuTB79mzT\nhg0bCqOjo+2vvfZaAHDlg2RXv/z8/MRFixZVXrp06URpaWn2119/nWcymRyHDx/OB4BRo0bVvv/+\n+74A8P777/uOHj26FgBOnz6teuyxxyLXrVt3LjEx0XF1v//+978bp02bVn29+5owYULtpk2bfCVJ\nwr/+9a8OLUNcU1PDa7VayWg0iufPn1fs27fPCwB69+5tLy0tVZ08eVLdfO3mY7788kvPCRMm1APu\nleQMBoOUmppanZaWVn7s2LGbmhmCRngJIYQQQu4QT09P6YsvvjgzZMiQGIPBID733HOXi4qK1AkJ\nCT1lWWZGo9G1c+fOs6+//nrQgAEDLKNGjbL279+/sU+fPj0nTpxY16dPH/utXvu1114rmzRpUmT3\n7t39QkJCnJ988slZAPjtb38bVFtbq/jv//7v7gCgUCjknJycUwBQX1/PHThwwHPDhg3Frc/1pz/9\nyR8AXnjhhcpbWYZ44MCBtvj4+MbIyMj4oKAgZ0pKihUAdDqd/Je//KV43LhxUVqtVvrZz35mtVqt\nvCAIKCoq0iQnJ9sBICsrS/vSSy+FchwHhUIhr1y5svjGV7wSLS1MCCGEkPsaY+yeW1qY3J4vvvhC\nv2HDBuPmzZtLOnoMLS1MCCGEEELuG6NGjbKOGjXqtuffbUY1vIQQQgghpEujwEsIIYQQQro0CryE\nEEIIIaRLo8BLCCGEEEK6NAq8hBBCCCGkS6PASwghhBDyI9m9e7c+KiqqV1xcnNlqtbL2j+iYVatW\nGePi4szNL47jUg4ePKgFgP79+8eaTKb45n2lpaUKALDZbGzs2LE9wsPD4xMTE+OutzRxenq6p8lk\nig8PD49fvHhxYFttpkyZYtJqtck1NTUt2XL27NlhjLGUsrIyBQDodLrk1sesWLHCd+bMmeGd9R3c\nCAVeQgghhJAfycaNG41paWlleXl5uXq9vmUxBJfrhguVtWv+/PnVzSuwbdy48VxISIhj0KBBtlbX\nLWzeHxISIgDA8uXL/by8vISSkpKcBQsWVKSlpYVefV5BEPDcc8+F79y5s6CgoODktm3bjFlZWZq2\n+hAWFub4+OOPvQFAFEUcOHDA0K1bt9u7sU5CgZcQQgghpJPV19dzQ4YMiYqNjTVHR0f3WrNmjc+7\n777rt2PHDuPvf//7kAkTJkRkZGQYUlJSYocNGxYVHR0dDwCLFi0KNJlM8SkpKbHjx4+P+N3vfhdw\ns9feuHGjceLEiTXttcvIyPCePXt2FQDMmjWr5uDBgwZJkq5os2/fPo/u3bs7zGazU6PRyJMnT65O\nT0/3but8TfuMALBjxw5Dv379rAqFokMrnLUendZoNH127Nih78hxHUULTxBCCCGEdLLt27d7BgYG\nuvbt23cGAKqqqnhfX1/x22+/1Y8bN65u1qxZNRkZGYbc3Fzd0aNHT8bFxTm/+eYb3SeffGLMzs7O\ndblc6N27tzk5ObkRAF555ZWArVu3+l59nQEDBlg+/PDD8623ffrppz7bt28/03rbnDlzTBzHYfz4\n8TVvvfVWGcdxqKioUEVERDgBQKlUQq/XixUVFYqgoCCh+bjz58+rQkJCnM2fQ0NDnYcOHWozjMbG\nxjp27drlXVlZyW/evNn41FNPVe3bt8+reb/D4eDi4uLMzZ/r6ur4Rx55pA4A8vLycgFg8+bNXsuW\nLQscMWJEw8183+2hwEsIIYQQ0sn69Olje/nll8Pmz58f8uijj9aNHj26zVXDEhMTG+Li4pwAkJmZ\nqR8zZkytwWCQAGDkyJG1ze2WLl1asXTp0or2rvvVV195aLVaqV+/fvbmbVu2bCmMiIhw1dTUcOPG\njYtcuXKl74IFC6pu/y6vNX78+Jp169YZjxw54rFp06bi1vvUarXUHGwBdw3vDz/84NH8OTs7W/3y\nyy+H7tu3r0CtVndoZLijqKSBEEIIIaSTJSYmOo4cOZKbkJBge+WVV0Kef/75oLba6XQ6qa3tV3vl\nlVcCWv/Zv/n1zDPPhLVut2nTJuPkyZOrW2+LiIhwAYCPj480ffr06sOHD3sAQEBAgPPcuXMqwF1D\nbLVa+YCAAKH1sWFhYc7S0tKWh9kuXLhwxYjv1WbOnFnz5ptvBj/88MP1PM935NYAAHV1ddy0adMi\nV61aVdy9e/dOr/ulwEsIIYQQ0smKioqUBoNBSk1NrU5LSys/duyYrr1jhg0bZt25c6e31WplNTU1\n3J49e1pqZZcuXVrR/NBZ61frcgZRFPH555/7zJw5syXwulwuNM+S4HA42M6dO73i4+NtADB27Nja\ndevW+QLA+vXrfQYOHGjhuCuj4cMPP9xQVFSkycvLU9ntdrZ9+3bjlClTanEdMTExzsWLF5c+++yz\nlTfxdeGJJ54wzZgx4/L1RsJvF5U0EEIIIYR0sqysLO1LL70UynEcFAqFvHLlyuL2jnnwwQcbJ02a\nVB0fH9/L19fXlZiYeFN1rLt27TIEBQU5zWZzywiszWbjRowYEe1yuZgkSWzw4MH1aWlplQCwcOHC\ny1OmTIkIDw+P9/LyErds2XIWcIf1p59+uvv+/fvPKJVKLFu2rGT06NExoijiySefvNy3b1/79foA\nAL/5zW8u30y/CwoKVLt37/YpLCzU/O1vf/MDgNWrVxc99NBDjTdznhthstypJRI31LdvX/mHH374\n0a5HCCGEkK6PMZYly3Lf1tuOHz9elJSUdFPB616TlpYWrNfrxddff73d2l0CHD9+3C8pKcnU1j4q\naSCEEEIIIV0alTQQQgghhNyD3n333Yt3uw9dBY3wEkIIIYSQLo0CLyGEEELIHcDzfEpcXJw5Ojq6\n17Bhw6IuX77MA8DBgwe1vXv3jouKiuoVExNjXrNmjU/zMXl5earExMS48PDw+LFjx/aw2+2so9cb\nPHhwtMFg6D106NCo1tunTZvWPTY21hwTE2MePXp0j7q6umvyn91uZ1OnTjXFxMSYY2NjzRkZGYbb\nufer6XS65NafH3rooeizZ88qO/MaN0KBlxBCCCHkDmheaOH06dMnvb29hbffftsfAPR6vfTRRx+d\nO3PmzMkvv/zy9OLFi8Oaw3BaWlroggULKkpKSnK8vLyE5cuX+3X0es8//3z5+++/f+7q7e+99975\n/Pz83IKCgtzQ0FDnW2+91e3qNv/7v//rBwAFBQW5X331VcGiRYtCRVG84fUEQbjh/utpmnZNERkZ\n2enz7V4PBV5CCCGEkDtswIABDc0LOCQmJjoSEhIcAGAymVxGo1EoKytTSJKE7777zjBr1qwaAJg9\ne3bV559/7n2j87b26KOPWjw9Pa9ZyMJoNEoAIEkSbDYbx9i1g8a5ubnaoUOH1gNASEiI4OnpKX79\n9dfXzB0cEhKSMH/+/BCz2dxz3bp1PsuWLfOLj4/vGRsbax41alSkxWLhAPdIde/eveNiYmLMv/71\nr4Nbn2Pnzp2GBx54wAIAqampIZGRkb1iYmLMc+fODe3ovd4sCryEEEIIIXeQIAjIzMw0TJw48ZoF\nGzIzM3Uul4uZzWZHRUWFwmAwiEql+y/9JpPJWVFRoQKAVatWGdtaaW306NE9OtKHqVOnmvz9/ZPO\nnDmjefHFFy9dvT8pKakxIyPD2+VyIS8vT5WTk6MrLi5WtXUuX19fITc399TcuXNrZsyYUZOTk3Mq\nPz8/NzY21rZixQo/AEhNTQ2fM2dOZUFBQW5QUNAVI7k7d+70GjNmTF15eTm/c+dOn9OnT58sKCjI\n/cMf/lDWkXu5Fe0GXsbYOsbYJcZYTqttRsbYHsbY6aZ3nxudgxBCCCHkp8bhcHBxcXFmf3//pMrK\nSuXEiRPrW+8vLi5Wzpo1q8eaNWuK2luGd/78+dVtrbS2e/fuwo70JT09vaiiouJ4dHS0fd26ddfk\ntoULF14ODg52JSQkmH/1q1+F9enTx3q9Ps2cObOm+eesrCxtSkpKbExMjHnbtm2+J0+e1ADAkSNH\n9L/85S+rAWDevHlVrY///vvv9SNHjrT6+vqKarVamj59umnDhg3eer2+Q8ss34qOjPB+CGD0Vdte\nBPAvWZajAfyr6TMhhBBCCGnSXMNbUlKSLcsy3nzzzZba2erqau7nP/951Kuvvlo6fPjwBgAICAgQ\nLBYL73K5B0SLiopUAQEBTuD2R3gBQKFQYMaMGdX//Oc/rwm8SqUSa9euPZ+Xl5f7r3/962x9fb3C\nbDa3uaKawWBoCaZz586N+Otf/1pSUFCQu2jRoosOh6MlW3Icd83qZrm5uaqgoCCnRqORlUoljh07\ndmrq1Kk1GRkZ3kOGDInu6L3crHYDryzLXwOovmrzowA2NP28AcDETu4XIYQQQkiXYDD8//buPCiq\nK20D+HOaRUEasIEAQaHZt0YiIBEmMUQNqBCiY1xmLJOomTA6zPhpOcbM1CQxmarJGJ1KNNEYV6jR\npEaNS1wwmsKtsrhMgqCBKAgqIiKLLLL0cr4/6PbjQ0Blp/P8qrq4fe7pe0/36+16PX3vfZWG1atX\nX127dq2rVqtFQ0ODSExM9Js5c2a56XxdAFAoFBg9enTNli1bhgLA5s2bnZKSkqqAzs/wGgwG5OTk\nDDIt796929Hf3/++RDQ5TvIAABloSURBVLampkZRXV2tAIDdu3fbW1hYyMjIyA5LCAPA3bt3FZ6e\nntrGxkbx+eefq0ztERERtRs2bFABwIYNG5xM7Xv37nWIj4+vBoA7d+4oKioqLGbMmHHnk08+uZab\nm3vfOcPdpbOFJ1yllKbzLG4CcG2voxDiNQCvAYCnp2cnd0dEREQ0cP3qV7+qDwoKqv/0009VQgic\nOXPGrrKy0nL79u3OALB58+YrsbGx9atWrbo+Y8YM37///e8eoaGhdxcuXPjQ5ZEjIyMDCwoKBtfX\n11u4urqOWLt2beHkyZOrX3rpJe/a2lqFlFIEBwff3bp1axEAbNu2zeHMmTNDPvjggxs3btywTEhI\nCFAoFNLNzU27ffv2++720JZly5bdiI6ODlapVLqIiIja2tpaCwBYu3bt1ZkzZ/p88MEHbhMmTLh3\n7vKRI0cc1q1bdxUAqqqqLJKSkvwaGxsFALz77rvXHv4TfTRCyvtmm+/vJIQawH4ppcb4vEpK6dhi\nfaWU8oHn8UZFRcmzZ892frRERERErQghzkkpo1q2ZWVlFYaHhz90skg9r76+XowaNSooJyfnp57Y\nflZWlnN4eLi6rXWdvUtDqRDCHQCMf++72o+IiIiIyMTGxkb2VLL7IJ1NePcBeNm4/DKAvd0zHCIi\nIiKi7vUwtyX7DMC3AAKFENeFEPMAvAfgOSHEJQDjjc+JiIiIiPqdB160JqX8TTurxnXzWIiIiIjM\n0uLFix+3s7PTv/POO6Xdsb01a9Y4rVy50h0AlixZUvLHP/6xvHWfxMREn/z8/MEAUFNTY6FUKvW5\nubkXu2P/A01n79JARERERH2gtLTU4p///Ofj586du6hQKDBy5MiQmTNnVrm4uOhb9jtw4MC9W5b9\n7ne/G+bg4KC/f2u/DCwtTERERNQDXn/9dTe1Wq2JjIwMvHTp0iAAKC4utgwNDQ0GgG+//dZGCBF5\n6dIlawAYPny4pqam5oG52Z49exzGjBlT7erqqndxcdGPGTOm+osvvnBor7/BYMCXX36pevnll1vX\nVcD+/fuVUVFRgXFxcX5qtVrz29/+1lOvb86LbW1tR86bN2+4n59faExMTMCNGzcsASA6Ojpw3rx5\nwzUaTbCPj0/o8ePHbePj4329vLw0f/rTnx7v1IfVwzjDS0REROZtzx+G49bF7i1q8FjIXUz+uN37\nxp48edJ29+7dquzs7ItarRZPPPFEyMiRI+96eHjoGhsbFRUVFYrMzEy70NDQu0ePHrWTUtY6OTnp\nlEqlYd26daoPP/zQrfU21Wp1Q0ZGRkFxcbHVsGHDmkztHh4eTcXFxVbtjeXw4cN2zs7O2rCwsMa2\n1mdnZw/54YcfcgICAprGjBnjn56ePnTOnDmV9fX1iqioqLpNmzZdW7JkifuyZcseT09PvwoA1tbW\nhpycnJ/efffdx6ZNm+Z35syZnx577DGdWq0O+8tf/lLq5ubWr2aTmfASERERdbPMzEy7SZMmVZnK\n8MbHx98rvhAVFVV79OhRu1OnTimXLl1akpGR4SClxOjRo2uB5qpq8+fPv282trP+/e9/q6ZOndru\n9sLCwupCQkKaAGD69OkVJ0+etJszZ06lQqHAq6++WgEAc+fOLf/1r3/tZ3rNlClTqgAgPDy83s/P\nr97Ly0sLAMOHD28sKCiwdnNzq++u8XcHJrxERERk3jqYie0LTz/9dM2JEyeU169ft541a1bVqlWr\n3ADIpKSkOwDwoBleDw8P7fHjx5Wm9uLiYutnnnmmpq19abVaZGRkDD19+nS7F6sJITp83lb74MGD\nJdBcDnnQoEH3qpgpFArodLq2N9CHeA4vERERUTcbO3Zs7cGDBx1ra2tFZWWl4siRI/cq1I4fP752\n165dKm9v70YLCws4OjrqMjMzHZ577rl7M7y5ubkXWz8yMjIKAGDy5Ml3jh8/bl9WVmZRVlZmcfz4\ncfvJkyffaWsce/futffx8Wnw9fXVtjfW7OzsIbm5udZ6vR47d+5UPf300zVA87m/W7ZsGQoAW7du\ndYqOjm4zqR4ImPASERERdbOnnnrq7pQpUyo0Gk3o+PHj/UeMGFFnWhcYGNgkpRSmxDImJqZWqVTq\nW99loT2urq76P//5zzciIyODIyMjg5cuXXrD1dVVDwAzZszwOnHixL3zlT/77DPVtGnTOjw9QqPR\n1P3+97/39PX11Xh6ejbOnj27CgBsbGwMp0+fHuLv7x964sQJ5T/+8Y+SznwW/YGQUj64VzeJioqS\nZ8+e7bX9ERERkfkTQpyTUka1bMvKyioMDw+/3VdjGij279+vXLVqlWtmZubl1utsbW1H3r1794e+\nGFdnZGVlOYeHh6vbWscZXiIiIiIya0x4iYiIiH6hkpKSatqa3QWAgTS7+yBMeImIiIh6WUlJiaWl\npWXEihUrXB7ldfX19SIxMdHH09NTM2LEiKC8vDzrtvp5eHiEBQQEhAQFBYVoNJpgU3tpaalFbGys\nv5eXlyY2Nta/rKzMAmi+QO2VV14Z7unpqQkICAg5depU9963uI8x4SUiIiLqZenp6UPDw8PrduzY\noXqU13344YfODg4OuqtXr+akpqaWLl68eFh7fY8fP/5zbm7uxZycnJ9MbW+99ZZ7XFxcTVFRUU5c\nXFzNm2++6QYAO3bscCgoKBhcWFiYs27duqIFCxZ4dv7d9T9MeImIiIi6WV5enrW3t3docnKyt4+P\nT+iECRN8WpYN3rFjh2rlypXXSktLrfLz89utktba/v37HefOnVsOAHPmzKn85ptvlAaD4aHHlZGR\n4ZiSklIOACkpKeWHDh0aCgB79+51nDVrVrlCocC4cePqqqurLYuKih56XP0dE14iIiKiHlBYWDg4\nNTX1VkFBwQWlUml4//33XQDg8uXLVmVlZVbPPvvs3eTk5Mr09PR7s7yJiYk+QUFBIa0fH330kRMA\nlJaWWnt7ezcBgJWVFezs7PSlpaVtFhIbN26cf2hoaPDKlSudTW3l5eWWLaqiacvLyy0BoKSkxEqt\nVt8rV+zu7t5kTgkvK60RERER9QA3N7em+Pj4OgCYPXt2+erVqx8DUJqenq5KTk6uNLZXzJs3T718\n+fJSADhw4EBBd+z71KlTud7e3tri4mLLsWPHBoSGhjZMnDixtmUfhULRblU1c8OEl4iIiKgHtFey\nd9euXaqysjKrL774QgUAt27dssrOzh4UFhbWmJiY6JOfnz+49bZSU1NLU1NTy11dXZuuXLli7evr\nq9VqtaitrbVwdXXVte7v7e2tBQAPDw9dYmJi1bfffjtk4sSJtU5OTrqioiIrLy8vbVFRkZVKpdIB\ngLu7u7awsPDeBXAlJSXWpplgc8BTGoiIiIh6QElJifXRo0eHAMC2bdtUsbGxtefPnx9UV1dncevW\nrfPFxcXZxcXF2ampqTfT0tJUQPMMb1tlhVNTU8sBIDExsWrz5s1OALBly5ahMTExNQrF/0/nqqur\nFZWVlQrTcmZmpv2IESPqASAhIaFq/fr1TgCwfv16pwkTJlQBQHJyctW2bducDAYDvv766yFKpVLP\nhJeIiIiIOqRWqxvWrFnzmI+PT2hVVZXlkiVLytLS0lSTJk2qbNlv5syZlabZ3gdZuHDh7crKSktP\nT0/NmjVr3FauXHkdAAoLC62eeeYZPwC4fv265ejRo4MCAwNDIiIiguPj46tefPHFagBYvnx5SWZm\npr2Xl5fm2LFj9suXLy8BgOnTp9/x8vJq9PLy0syfP9/r448/LureT6NvsbQwERERDWj9sbRwXl6e\ndVJSkv+lS5cu9NUYfmlYWpiIiIiIfrGY8BIRERF1s8DAwCbO7vYfTHiJiIiIyKwx4SUiIiLqZnl5\nedb+/v6hvbnPsWPH+rXcZ2lpqUVsbKy/l5eXJjY21r+srMzCtG7//v3KoKCgED8/v9BRo0YFmtqn\nTZumVqlU4R2N3WAw4JVXXhnu6empCQgICDl16pRtd72H/fv3K5999lk/0/PGxkYREhIS3NXtMuEl\nIiIiGuDS0tIchwwZom/Z9tZbb7nHxcXVFBUV5cTFxdW8+eabbgBw+/Zti4ULF3p++eWXly9fvnxh\nz549+abXzJ079/a+ffsudbSvHTt2OBQUFAwuLCzMWbduXdGCBQs8O+pvMBig1+s76tKur776ym7U\nqFG1D+7ZMSa8RERERD3o4sWL1sHBwSHHjx+31el0SElJGabRaIIDAgJC3n//fWcASE9Pd4yJiQkw\nGAwoKiqyUqvVmqtXrz5UgbA7d+4oVq9e7fr222+XtGzPyMhwTElJKQeAlJSU8kOHDg0FgI0bN6oS\nExMr/f39m4Dm4hSm10ycOLHWxcXlvkIWLe3du9dx1qxZ5QqFAuPGjaurrq62bF2GOC8vz1qtVmum\nTJmiDggICM3Pz7eeNWuWp0ajCfbz8wtdtGjR46a+O3futPf29g4NCQkJ3rlzp2PL7Rw8eNB+0qRJ\n1dXV1Yq4uDi/wMDAEH9//9ANGzYMfZjPxoSV1oiIiIh6SFZW1qCZM2f6bt68+UpMTEz9ypUrnR0c\nHPQ5OTk/1dfXi1GjRgU9//zz1S+99FLVrl27hr733nsuR44ccXjjjTdueHp66rKysgbNmDHDt61t\nnzp1Ks/Z2Vm/ePFij4ULF5ba2dkZWq4vLy+3NBWPGD58uLa8vNwSAH7++efBWq1WREdHB9bV1Snm\nz59/y1TY4mGUlJRYqdXqJtNzd3f3JlP1tpb9rl69OmjTpk1Xxo0bVwgA//rXv4pdXV31Op0OsbGx\ngd9//71NWFhYQ2pqqvrIkSN5oaGhjUlJST6t3qP9ihUrSnbt2mXv5uamPXbs2GXje7PAI2DCS0RE\nRNQDKioqLCdPnuy3c+fO/MjIyAYAOHr0qH1ubq7tvn37hgJATU2NxcWLFwcHBQU1bdy48WpoaGjo\nyJEj61JSUioAIDw8vDE3N/die/v45ptvbK5cuTJo06ZN1/Ly8qzb66dQKO6VNtbpdOL8+fO2J0+e\n/Lmurk4xevTooDFjxtSOGDGisTvfv7u7e9O4cePqTM/T0tJUW7duddbpdKKsrMwqKytrsF6vx7Bh\nwxrDwsIaAWDWrFnlGzdudAGAK1euWDk6OuqUSqUhIiKi/q9//evw+fPne7zwwgt3JkyY8EinOTDh\nJSIiIuoBSqVS//jjjzdlZmbamRJeKaVYtWrV1alTp1a37n/lyhVrhUKB27dvW+r1elhYWOBBM7wn\nT560y8nJsfXw8AjT6XSioqLCMjo6OvD06dN5Tk5OOtPMa1FRkZVKpdIBwLBhw5qcnJx09vb2Bnt7\ne8OTTz5Zc/bsWduHTXjd3d21hYWF95LrkpIS67bKENva2t6bcc7NzbX+6KOPXM+dO/eTi4uLfurU\nqeqGhoYOT63ds2ePw/jx4+8AwIgRIxr/+9//Xty1a5fD3/72N4+jR49Wr1y5sqSj17fEc3iJiIiI\neoCVlZU8dOhQ/meffeb0ySefqADgueeeu7Nu3TqXxsZGAQDnz58fVF1drdBqtZg7d646LS2twN/f\nv2H58uWuwP/N8Lb1cHZ21r/++utlt27dOl9cXJx94sSJXLVa3Xj69Ok8AEhISKhav369EwCsX7/e\nacKECVUA8OKLL1Z99913dlqtFjU1NYoffvjBLiwsrP5h31dycnLVtm3bnAwGA77++ushSqVS31bC\n21JlZaWFjY2NQaVS6a9du2Z57NgxBwB44oknGoqLi60vXLgwCAA+//zzeyWWv/rqK/vk5ORqoLl0\nslKpNCxYsKBi8eLFN3/88cdHujMEZ3iJiIiIeoi9vb3h8OHDl+Pi4gKUSqV+0aJFtwsLCweFhYUF\nSymFSqXSHjx4MP+dd95xHz16dE1CQkJtdHT03YiIiODJkyffiYiIaOjsvpcvX14yZcoUXy8vL2cP\nD4+m3bt35wNAREREw/jx4+8EBQWFKhQKzJ49u2zUqFENAPD88897f/fdd8rKykpLV1fXEcuWLbux\naNGi2ytWrHABgKVLl5ZNnz79zoEDBxy8vLw0NjY2ho0bNxY+aCwxMTH1Go3mrq+vr8bd3b0pMjKy\nFgBsbW3lmjVripKSkvxsbGwMTz75ZG1tba2FTqdDYWHh4JEjRzYAwLlz52zeeOONYQqFApaWlnLt\n2rVFj/JZCCnlI358nRcVFSXPnj3ba/sjIiIi8yeEOCeljGrZlpWVVRgeHn67r8ZEXXP48GG7tLQ0\n1fbt268+7GuysrKcw8PD1W2t4wwvEREREfUrCQkJtQkJCV2+/64Jz+ElIiIiIrPGhJeIiIjMkcFg\nMIi+HgT1DmOsDe2t71LCK4QoFEJkCyF+FELw5FwiIiLqL3LKysocmPSaP4PBIMrKyhwA5LTXpzvO\n4X1WSsmTwomIiKjf0Ol0r968eXPjzZs3NeAv2ubOACBHp9O92l4HXrRGREREZicyMvIWgOS+Hgf1\nD139H48E8JUQ4pwQ4rW2OgghXhNCnBVCnC0rK+vi7oiIiIiIHk1XE96npJQRACYC+IMQYkzrDlLK\nT6WUUVLKKBcXly7ujoiIiIjo0XQp4ZVSFhv/3gKwG0B0dwyKiIiIiKi7dDrhFUIMEUIoTcsA4tHB\n1XFERERERH2hKxetuQLYLYQwbWe7lDKjW0ZFRERERNRNOp3wSikLAIR341iIiIiIiLod70tHRERE\nRGaNCS8RERERmTUmvERERERk1pjwEhEREZFZY8JLRERERGaNCS8RERERmTUmvERERERk1pjwEhER\nEZFZY8JLRERERGaNCS8RERERmTUmvERERERk1pjwEhEREZFZY8JLRERERGaNCS8RERERmTUmvERE\nRERk1pjwEhEREZFZY8JLRERERGaNCS8RERERmTUmvERERERk1pjwEhEREZFZY8JLRERERGaNCS8R\nERERmTUmvERERERk1pjwEhEREZFZY8JLRERERGaNCS8RERERmTUmvERERERk1pjwEhEREZFZY8JL\nRERERGaNCS8RERERmTUmvERERERk1pjwEhEREZFZY8JLRERERGaNCS8RERERmTUmvERERERk1rqU\n8AohJggh8oQQl4UQy7prUERERERE3aXTCa8QwgLAxwAmAggB8BshREh3DYyIiIiIqDt0ZYY3GsBl\nKWWBlLIJwOcAXuieYRERERERdQ/LLrzWA8C1Fs+vA3iydSchxGsAXjM+bRRC5HRhn9R7nAHc7utB\n0ENhrAYOxmrgYKwGlsC+HgD1b11JeB+KlPJTAJ8CgBDirJQyqqf3SV3HWA0cjNXAwVgNHIzVwCKE\nONvXY6D+rSunNBQDGN7i+TBjGxERERFRv9GVhPcMAH8hhLcQwhrATAD7umdYRERERETdo9OnNEgp\ndUKIVACHAVgA2CylvPCAl33a2f1Rr2OsBg7GauBgrAYOxmpgYbyoQ0JK2ddjICIiIiLqMay0RkRE\nRERmjQkvEREREZm1Xkl4WYK4/xFCFAohsoUQP5pu5yKEUAkhjgghLhn/DjW2CyHEamP8zgshIvp2\n9OZPCLFZCHGr5X2rOxMfIcTLxv6XhBAv98V7MXftxOptIUSx8fj6UQgxqcW6N4yxyhNCJLRo5/dk\nDxNCDBdCZAohLgohLgghFhrbeWz1Mx3EiscWdY6UskcfaL6gLR+ADwBrAFkAQnp6v3w8MC6FAJxb\nta0AsMy4vAzAP43LkwAcAiAAjAbwfV+P39wfAMYAiACQ09n4AFABKDD+HWpcHtrX783cHu3E6m0A\nS9roG2L8DhwEwNv43WjB78lei5U7gAjjshLAz8aY8NjqZ48OYsVji49OPXpjhpcliAeOFwCkGZfT\nAExu0Z4um30HwFEI4d4XA/ylkFKeAFDRqvlR45MA4IiUskJKWQngCIAJPT/6X5Z2YtWeFwB8LqVs\nlFJeAXAZzd+R/J7sBVLKEinlf43LNQB+QnPVUB5b/UwHsWoPjy3qUG8kvG2VIO7oHy31DgngKyHE\nOWP5ZwBwlVKWGJdvAnA1LjOG/cOjxodx61upxp/BN5t+Igdj1W8IIdQARgL4Hjy2+rVWsQJ4bFEn\n8KK1X66npJQRACYC+IMQYkzLlVJKieakmPohxqffWwfAF8ATAEoArOrb4VBLQgg7ALsA/I+Usrrl\nOh5b/UsbseKxRZ3SGwkvSxD3Q1LKYuPfWwB2o/lnn1LTqQrGv7eM3RnD/uFR48O49REpZamUUi+l\nNADYgObjC2Cs+pwQwgrNCdQ2KeUXxmYeW/1QW7HisUWd1RsJL0sQ9zNCiCFCCKVpGUA8gBw0x8V0\ntfHLAPYal/cBeMl4xfJoAHda/PxHvedR43MYQLwQYqjxZ794Yxv1sFbnuE9B8/EFNMdqphBikBDC\nG4A/gNPg92SvEEIIAJsA/CSl/FeLVTy2+pn2YsVjizqr06WFH5bsXAli6lmuAHY3f5/AEsB2KWWG\nEOIMgP8IIeYBKAIw3dj/IJqvVr4M4C6AOb0/5F8WIcRnAOIAOAshrgN4C8B7eIT4SCkrhBDvovkL\nHwDekVI+7MVV9JDaiVWcEOIJNP80XgggBQCklBeEEP8BcBGADsAfpJR643b4PdnzfgVgNoBsIcSP\nxra/gMdWf9RerH7DY4s6g6WFiYiIiMis8aI1IiIiIjJrTHiJiIiIyKwx4SUiIiIis8aEl4iIiIjM\nGhNeIiIiIjJrTHiJiIiIyKwx4SUiIiIis/a/4lumrcpidu8AAAAASUVORK5CYII=\n",
          "text/plain": "<matplotlib.figure.Figure at 0x7f6c63df17b8>"
         },
         "metadata": {},
         "output_type": "display_data"
        }
       ]
      }
     },
     "f2f357dc9a1049fe9eb89f5f4bf420fe": {
      "model_module": "@jupyter-widgets/output",
      "model_module_version": "1.0.0",
      "model_name": "OutputModel",
      "state": {
       "layout": "IPY_MODEL_eb5b7601c98a458fba0b807325bedf89",
       "outputs": [
        {
         "ename": "NameError",
         "evalue": "name 'x_cpmg_frqs' is not defined",
         "output_type": "error",
         "traceback": [
          "\u001b[0;31m---------------------------------------------------------------------------\u001b[0m",
          "\u001b[0;31mNameError\u001b[0m                                 Traceback (most recent call last)",
          "\u001b[0;32m/usr/local/lib/python3.5/dist-packages/ipywidgets/widgets/interaction.py\u001b[0m in \u001b[0;36mupdate\u001b[0;34m(self, *args)\u001b[0m\n\u001b[1;32m    248\u001b[0m                     \u001b[0mvalue\u001b[0m \u001b[0;34m=\u001b[0m \u001b[0mwidget\u001b[0m\u001b[0;34m.\u001b[0m\u001b[0mget_interact_value\u001b[0m\u001b[0;34m(\u001b[0m\u001b[0;34m)\u001b[0m\u001b[0;34m\u001b[0m\u001b[0m\n\u001b[1;32m    249\u001b[0m                     \u001b[0mself\u001b[0m\u001b[0;34m.\u001b[0m\u001b[0mkwargs\u001b[0m\u001b[0;34m[\u001b[0m\u001b[0mwidget\u001b[0m\u001b[0;34m.\u001b[0m\u001b[0m_kwarg\u001b[0m\u001b[0;34m]\u001b[0m \u001b[0;34m=\u001b[0m \u001b[0mvalue\u001b[0m\u001b[0;34m\u001b[0m\u001b[0m\n\u001b[0;32m--> 250\u001b[0;31m                 \u001b[0mself\u001b[0m\u001b[0;34m.\u001b[0m\u001b[0mresult\u001b[0m \u001b[0;34m=\u001b[0m \u001b[0mself\u001b[0m\u001b[0;34m.\u001b[0m\u001b[0mf\u001b[0m\u001b[0;34m(\u001b[0m\u001b[0;34m**\u001b[0m\u001b[0mself\u001b[0m\u001b[0;34m.\u001b[0m\u001b[0mkwargs\u001b[0m\u001b[0;34m)\u001b[0m\u001b[0;34m\u001b[0m\u001b[0m\n\u001b[0m\u001b[1;32m    251\u001b[0m                 \u001b[0mshow_inline_matplotlib_plots\u001b[0m\u001b[0;34m(\u001b[0m\u001b[0;34m)\u001b[0m\u001b[0;34m\u001b[0m\u001b[0m\n\u001b[1;32m    252\u001b[0m                 \u001b[0;32mif\u001b[0m \u001b[0mself\u001b[0m\u001b[0;34m.\u001b[0m\u001b[0mauto_display\u001b[0m \u001b[0;32mand\u001b[0m \u001b[0mself\u001b[0m\u001b[0;34m.\u001b[0m\u001b[0mresult\u001b[0m \u001b[0;32mis\u001b[0m \u001b[0;32mnot\u001b[0m \u001b[0;32mNone\u001b[0m\u001b[0;34m:\u001b[0m\u001b[0;34m\u001b[0m\u001b[0m\n",
          "\u001b[0;32m<ipython-input-16-0959b697d7dd>\u001b[0m in \u001b[0;36mmodel_calc\u001b[0;34m(model, cpmg_e, isotope, relax_time, w0_1H_s1, w0_1H_s2, R20_s1, R20_s2, dw_s1, dw_s2, pA_s1, pA_s2, kex_s1, kex_s2)\u001b[0m\n\u001b[1;32m     37\u001b[0m         \u001b[0my_R2_s2\u001b[0m \u001b[0;34m=\u001b[0m \u001b[0mcr72_calc\u001b[0m\u001b[0;34m(\u001b[0m\u001b[0mR20\u001b[0m\u001b[0;34m=\u001b[0m\u001b[0mR20_s2\u001b[0m\u001b[0;34m,\u001b[0m \u001b[0mdw_rad\u001b[0m\u001b[0;34m=\u001b[0m\u001b[0mdw_rad_s2\u001b[0m\u001b[0;34m,\u001b[0m \u001b[0mpA\u001b[0m\u001b[0;34m=\u001b[0m\u001b[0mpA_s2\u001b[0m\u001b[0;34m,\u001b[0m \u001b[0mkex\u001b[0m\u001b[0;34m=\u001b[0m\u001b[0mkex_s2\u001b[0m\u001b[0;34m,\u001b[0m \u001b[0mcpmg_frqs\u001b[0m\u001b[0;34m=\u001b[0m\u001b[0mx_cpmg_frqs\u001b[0m\u001b[0;34m)\u001b[0m\u001b[0;34m\u001b[0m\u001b[0m\n\u001b[1;32m     38\u001b[0m     \u001b[0;32melif\u001b[0m \u001b[0mmodel\u001b[0m\u001b[0;34m==\u001b[0m\u001b[0;34m'NS'\u001b[0m\u001b[0;34m:\u001b[0m\u001b[0;34m\u001b[0m\u001b[0m\n\u001b[0;32m---> 39\u001b[0;31m         \u001b[0my_R2_s1\u001b[0m \u001b[0;34m=\u001b[0m \u001b[0mns_calc\u001b[0m\u001b[0;34m(\u001b[0m\u001b[0mR20\u001b[0m\u001b[0;34m=\u001b[0m\u001b[0mR20_s1\u001b[0m\u001b[0;34m,\u001b[0m \u001b[0mdw_rad\u001b[0m\u001b[0;34m=\u001b[0m\u001b[0mdw_rad_s1\u001b[0m\u001b[0;34m,\u001b[0m \u001b[0mpA\u001b[0m\u001b[0;34m=\u001b[0m\u001b[0mpA_s1\u001b[0m\u001b[0;34m,\u001b[0m \u001b[0mkex\u001b[0m\u001b[0;34m=\u001b[0m\u001b[0mkex_s1\u001b[0m\u001b[0;34m,\u001b[0m \u001b[0mcpmg_frqs\u001b[0m\u001b[0;34m=\u001b[0m\u001b[0mx_cpmg_frqs\u001b[0m\u001b[0;34m,\u001b[0m \u001b[0mrelax_time\u001b[0m\u001b[0;34m=\u001b[0m\u001b[0mrelax_time\u001b[0m\u001b[0;34m)\u001b[0m\u001b[0;34m\u001b[0m\u001b[0m\n\u001b[0m\u001b[1;32m     40\u001b[0m         \u001b[0my_R2_s2\u001b[0m \u001b[0;34m=\u001b[0m \u001b[0mns_calc\u001b[0m\u001b[0;34m(\u001b[0m\u001b[0mR20\u001b[0m\u001b[0;34m=\u001b[0m\u001b[0mR20_s2\u001b[0m\u001b[0;34m,\u001b[0m \u001b[0mdw_rad\u001b[0m\u001b[0;34m=\u001b[0m\u001b[0mdw_rad_s2\u001b[0m\u001b[0;34m,\u001b[0m \u001b[0mpA\u001b[0m\u001b[0;34m=\u001b[0m\u001b[0mpA_s2\u001b[0m\u001b[0;34m,\u001b[0m \u001b[0mkex\u001b[0m\u001b[0;34m=\u001b[0m\u001b[0mkex_s2\u001b[0m\u001b[0;34m,\u001b[0m \u001b[0mcpmg_frqs\u001b[0m\u001b[0;34m=\u001b[0m\u001b[0mx_cpmg_frqs\u001b[0m\u001b[0;34m,\u001b[0m \u001b[0mrelax_time\u001b[0m\u001b[0;34m=\u001b[0m\u001b[0mrelax_time\u001b[0m\u001b[0;34m)\u001b[0m\u001b[0;34m\u001b[0m\u001b[0m\n\u001b[1;32m     41\u001b[0m \u001b[0;34m\u001b[0m\u001b[0m\n",
          "\u001b[0;32m<ipython-input-16-0959b697d7dd>\u001b[0m in \u001b[0;36mns_calc\u001b[0;34m(R20, dw_rad, pA, kex, cpmg_frqs, relax_time)\u001b[0m\n\u001b[1;32m     95\u001b[0m \u001b[0;34m\u001b[0m\u001b[0m\n\u001b[1;32m     96\u001b[0m     \u001b[0;31m# Make empty y_val\u001b[0m\u001b[0;34m\u001b[0m\u001b[0;34m\u001b[0m\u001b[0m\n\u001b[0;32m---> 97\u001b[0;31m     \u001b[0my_R2\u001b[0m \u001b[0;34m=\u001b[0m \u001b[0mnp\u001b[0m\u001b[0;34m.\u001b[0m\u001b[0mzeros\u001b[0m\u001b[0;34m(\u001b[0m\u001b[0mx_cpmg_frqs\u001b[0m\u001b[0;34m.\u001b[0m\u001b[0msize\u001b[0m\u001b[0;34m)\u001b[0m\u001b[0;34m\u001b[0m\u001b[0m\n\u001b[0m\u001b[1;32m     98\u001b[0m \u001b[0;34m\u001b[0m\u001b[0m\n\u001b[1;32m     99\u001b[0m     \u001b[0;31m# Calculate y, and make in-memore replacement in y\u001b[0m\u001b[0;34m\u001b[0m\u001b[0;34m\u001b[0m\u001b[0m\n",
          "\u001b[0;31mNameError\u001b[0m: name 'x_cpmg_frqs' is not defined"
         ]
        }
       ]
      }
     },
     "f30f2fff7103497ca6ef723ac69fdc8f": {
      "model_module": "@jupyter-widgets/controls",
      "model_module_version": "1.0.0",
      "model_name": "FloatSliderModel",
      "state": {
       "description": "pA_s2",
       "layout": "IPY_MODEL_b7f925dc2e004301ab2738aa7a33a396",
       "max": 1,
       "min": 0.5,
       "step": 0.01,
       "style": "IPY_MODEL_6806c1efb9074778a1d5250c6cb17001",
       "value": 0.5
      }
     },
     "f31c5cb4031744f2bffda522e87f9c1e": {
      "model_module": "@jupyter-widgets/controls",
      "model_module_version": "1.0.0",
      "model_name": "VBoxModel",
      "state": {
       "_dom_classes": [
        "widget-interact"
       ],
       "children": [
        "IPY_MODEL_ff7386d42a79459c9be9da123cf24669",
        "IPY_MODEL_0f67776453c143dca96d6e9d263ce3a4",
        "IPY_MODEL_1056069c8c18423f96d5569e36ec3934",
        "IPY_MODEL_145c77a011784fb7a0573e9e95a4a1f5",
        "IPY_MODEL_a02daeee424645fea730c7139d38b78e",
        "IPY_MODEL_baf409f3e0f34094a5511df62cfe880c",
        "IPY_MODEL_d60de28a9b02440d8b713f332511c66d",
        "IPY_MODEL_35462f09c33c41a496641b411027ecc0",
        "IPY_MODEL_887d49bee91a433491d2e43d85d24ff3",
        "IPY_MODEL_84e4105bbd5c401da5b19955327ce13b",
        "IPY_MODEL_3b687f0de22b4619b12579dfcd9c3bbe"
       ],
       "layout": "IPY_MODEL_3b4283f1d151420daae2b08bfa078630"
      }
     },
     "f3a26aad28174cf28a089c78d22f71c2": {
      "model_module": "@jupyter-widgets/controls",
      "model_module_version": "1.0.0",
      "model_name": "SliderStyleModel",
      "state": {
       "description_width": ""
      }
     },
     "f485e7d6422a4b4e9c3f2434bd7641a8": {
      "model_module": "@jupyter-widgets/controls",
      "model_module_version": "1.0.0",
      "model_name": "SliderStyleModel",
      "state": {
       "description_width": ""
      }
     },
     "f55f9d2b681a4545906ea723b3b2b437": {
      "model_module": "@jupyter-widgets/controls",
      "model_module_version": "1.0.0",
      "model_name": "SliderStyleModel",
      "state": {
       "description_width": ""
      }
     },
     "f5f15d88c6fe4782b6389a3cbf06be30": {
      "model_module": "@jupyter-widgets/base",
      "model_module_version": "1.0.0",
      "model_name": "LayoutModel",
      "state": {}
     },
     "f61accc1044c4fcb85aea42632a59c02": {
      "model_module": "@jupyter-widgets/base",
      "model_module_version": "1.0.0",
      "model_name": "LayoutModel",
      "state": {}
     },
     "f79763f953884f0281a3e02e26035360": {
      "model_module": "@jupyter-widgets/controls",
      "model_module_version": "1.0.0",
      "model_name": "SliderStyleModel",
      "state": {
       "description_width": ""
      }
     },
     "f7a20d0a3476420487a410bda83fef70": {
      "model_module": "@jupyter-widgets/base",
      "model_module_version": "1.0.0",
      "model_name": "LayoutModel",
      "state": {}
     },
     "f7c7fdb3e1e442e194ed819f1db9ccb3": {
      "model_module": "@jupyter-widgets/controls",
      "model_module_version": "1.0.0",
      "model_name": "FloatSliderModel",
      "state": {
       "description": "pA_s1",
       "layout": "IPY_MODEL_c3c09150431d4a0999e89044037b9f17",
       "max": 1,
       "min": 0.5,
       "step": 0.01,
       "style": "IPY_MODEL_2903ab03c3b346ea94e43ec8e3c7ba03",
       "value": 0.87
      }
     },
     "f866dc4e9b34430ab791b09390e7296c": {
      "model_module": "@jupyter-widgets/base",
      "model_module_version": "1.0.0",
      "model_name": "LayoutModel",
      "state": {}
     },
     "f98c5efb029e4ece9bfde03b4590d259": {
      "model_module": "@jupyter-widgets/base",
      "model_module_version": "1.0.0",
      "model_name": "LayoutModel",
      "state": {}
     },
     "f9e7d98544bd42c99be0a272793d0212": {
      "model_module": "@jupyter-widgets/controls",
      "model_module_version": "1.0.0",
      "model_name": "SliderStyleModel",
      "state": {
       "description_width": ""
      }
     },
     "fb08a25d5523472ea97e03abe9d72fcb": {
      "model_module": "@jupyter-widgets/controls",
      "model_module_version": "1.0.0",
      "model_name": "SliderStyleModel",
      "state": {
       "description_width": ""
      }
     },
     "fb7af5b5549640cfad0a47a9418af17d": {
      "model_module": "@jupyter-widgets/base",
      "model_module_version": "1.0.0",
      "model_name": "LayoutModel",
      "state": {}
     },
     "fbe385ef29c746e99b71c025371aac8e": {
      "model_module": "@jupyter-widgets/controls",
      "model_module_version": "1.0.0",
      "model_name": "FloatSliderModel",
      "state": {
       "description": "pA_s2",
       "layout": "IPY_MODEL_5d93fc9274634e1286c43559f9d636e6",
       "max": 1,
       "min": 0.5,
       "step": 0.01,
       "style": "IPY_MODEL_5907c351a5e24a4dbd19c194d30f16c5",
       "value": 0.5
      }
     },
     "fc331ac5409b450491c23fbe4489e528": {
      "model_module": "@jupyter-widgets/controls",
      "model_module_version": "1.0.0",
      "model_name": "FloatSliderModel",
      "state": {
       "description": "kex_s2",
       "layout": "IPY_MODEL_eb66a3426a814b50ac8892c55fdffab3",
       "max": 10000,
       "min": 400,
       "step": 200,
       "style": "IPY_MODEL_f9e7d98544bd42c99be0a272793d0212",
       "value": 4061
      }
     },
     "fc4c99dcd8be44f1b69e0b5112ead3b5": {
      "model_module": "@jupyter-widgets/base",
      "model_module_version": "1.0.0",
      "model_name": "LayoutModel",
      "state": {}
     },
     "fdaf9623480b4b86831e05f44e583376": {
      "model_module": "@jupyter-widgets/controls",
      "model_module_version": "1.0.0",
      "model_name": "SliderStyleModel",
      "state": {
       "description_width": ""
      }
     },
     "fe6ebab3ffac4daea239338df226f568": {
      "model_module": "@jupyter-widgets/controls",
      "model_module_version": "1.0.0",
      "model_name": "SliderStyleModel",
      "state": {
       "description_width": ""
      }
     },
     "fe8d9a28af2a4529b8856974f81ed189": {
      "model_module": "@jupyter-widgets/controls",
      "model_module_version": "1.0.0",
      "model_name": "SliderStyleModel",
      "state": {
       "description_width": ""
      }
     },
     "fed8e43b5ce746bea3c6339bd5a2091e": {
      "model_module": "@jupyter-widgets/controls",
      "model_module_version": "1.0.0",
      "model_name": "SliderStyleModel",
      "state": {
       "description_width": ""
      }
     },
     "ff116692db82431387db0d7d778be0df": {
      "model_module": "@jupyter-widgets/base",
      "model_module_version": "1.0.0",
      "model_name": "LayoutModel",
      "state": {}
     },
     "ff33a0ed5f214c32a4a7559390ba57be": {
      "model_module": "@jupyter-widgets/controls",
      "model_module_version": "1.0.0",
      "model_name": "FloatSliderModel",
      "state": {
       "description": "w0_1H_s1",
       "layout": "IPY_MODEL_a58649d5e3624f759dc9996bc1e1c714",
       "max": 1000,
       "min": 500,
       "step": 50,
       "style": "IPY_MODEL_8e8542c50fd4490c9e493575f5b466e1",
       "value": 750
      }
     },
     "ff6f9ae8a0e54641b22d7b234c6ce422": {
      "model_module": "@jupyter-widgets/base",
      "model_module_version": "1.0.0",
      "model_name": "LayoutModel",
      "state": {}
     },
     "ff7386d42a79459c9be9da123cf24669": {
      "model_module": "@jupyter-widgets/controls",
      "model_module_version": "1.0.0",
      "model_name": "FloatSliderModel",
      "state": {
       "description": "w0_1H_s1",
       "layout": "IPY_MODEL_9e45d8cc17b84a7a819ac0f93139fd23",
       "max": 1000,
       "min": 500,
       "step": 50,
       "style": "IPY_MODEL_1c273ee2815f4d3883091b210069f698",
       "value": 500
      }
     }
    },
    "version_major": 2,
    "version_minor": 0
   }
  }
 },
 "nbformat": 4,
 "nbformat_minor": 2
}
