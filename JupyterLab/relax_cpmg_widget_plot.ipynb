{
 "cells": [
  {
   "cell_type": "markdown",
   "metadata": {},
   "source": [
    "# Test how to plot CPMG with widgets\n",
    "Let us try from this\n",
    "\n",
    "* [Using Interact](http://ipywidgets.readthedocs.io/en/stable/examples/Using%20Interact.html)\n",
    "* [Widget List](http://ipywidgets.readthedocs.io/en/stable/examples/Widget%20List.html)\n"
   ]
  },
  {
   "cell_type": "code",
   "execution_count": 13,
   "metadata": {},
   "outputs": [
    {
     "data": {
      "text/html": [
       "<iframe width=\"213\" height=\"120\" src=\"https://www.youtube.com/embed/p7Hr54VhOp0\" allowfullscreen></iframe>"
      ],
      "text/plain": [
       "<IPython.core.display.HTML object>"
      ]
     },
     "execution_count": 13,
     "metadata": {},
     "output_type": "execute_result"
    }
   ],
   "source": [
    "from IPython.display import HTML\n",
    "HTML('<iframe width=\"213\" height=\"120\" src=\"https://www.youtube.com/embed/p7Hr54VhOp0\" allowfullscreen></iframe>')"
   ]
  },
  {
   "cell_type": "code",
   "execution_count": 14,
   "metadata": {},
   "outputs": [],
   "source": [
    "# Import python packages\n",
    "import numpy as np\n",
    "# Import relax modules\n",
    "import os, sys, pathlib\n",
    "sys.path.append( os.path.join(str(pathlib.Path.home()), \"software\", \"relax\" ))\n",
    "# Import relax target function that prepare data\n",
    "from target_functions import relax_disp\n",
    "# Import library functions for each model\n",
    "from lib.dispersion import cr72\n",
    "\n",
    "# Plotting\n",
    "import matplotlib.pylab as plt\n",
    "%matplotlib inline\n",
    "\n",
    "# Setup parameters\n",
    "def cr72_calc(\n",
    "            w0_1H_s1=600., w0_1H_s2=800., \n",
    "            R20_s1=5.0, R20_s2=10.0, \n",
    "            dw_s1=1.6, dw_s2=1.6,\n",
    "            pA_s1=0.99, pA_s2=0.99, \n",
    "            kex_s1=2500., kex_s2=2500.):\n",
    "    \"\"\"\n",
    "    @keyword cpmg_e:  The end value of the CPMG pulse train. In Hz.\n",
    "    @keyword isotope: The isotope of nuclei. Either 1H, 15N or 13C.\n",
    "    @keyword w0_1H:   The spin Larmor frequencies for proton. In MHz.\n",
    "    @keyword R20:     The transversal relaxation rate. In rad/s.\n",
    "    @keyword dw:      The chemical shift difference between states A and B (in ppm).\n",
    "    @keyword pA:      The population of state A.\n",
    "    @keyword kex:     # The exchange rate. In rad/s\n",
    "    \"\"\"\n",
    "    cpmg_e=2500\n",
    "    isotope='15N'\n",
    "    # Gyromagnetic Ratio in [MHz/T]\n",
    "    # http://bio.groups.et.byu.net/LarmourFreqCal.phtml\n",
    "    g = {'1H':42.576, '15N':4.3156, '13C':10.705}\n",
    "    # Magnet Field Strength [T]\n",
    "    B0_s1 = w0_1H_s1 / g['1H']\n",
    "    B0_s2 = w0_1H_s2 / g['1H']\n",
    "    # Larmor frequency for isotope [MHz]\n",
    "    w0_isotope_s1 = g[isotope]*B0_s1\n",
    "    w0_isotope_s2 = g[isotope]*B0_s2\n",
    "\n",
    "    # For simpel model, R20A and R20B is the same\n",
    "    R20A_s1 = R20B_s1 = R20_s1\n",
    "    R20A_s2 = R20B_s2 = R20_s2\n",
    "    # Convert dw in ppm to rad/s\n",
    "    dw_rad_s1 = dw_s1 * w0_isotope_s1*2*np.pi\n",
    "    dw_rad_s2 = dw_s2 * w0_isotope_s2*2*np.pi\n",
    "    \n",
    "    # Make x values. In Hz.\n",
    "    x_cpmg_frqs = np.linspace(10, cpmg_e, num=100)\n",
    "    \n",
    "    # Make empty y_val\n",
    "    y_R2_s1 = np.zeros(x_cpmg_frqs.size)\n",
    "    y_R2_s2 = np.zeros(x_cpmg_frqs.size)\n",
    "    # Calculate y, and make in-memore replacement in y\n",
    "    cr72.r2eff_CR72(r20a=R20A_s1, r20a_orig=R20A_s1, r20b=R20B_s1, r20b_orig=R20B_s1, \n",
    "           pA=pA_s1, dw=dw_rad_s1, dw_orig=dw_s1, kex=kex_s1, \n",
    "           cpmg_frqs=x_cpmg_frqs, back_calc=y_R2_s1)\n",
    "    # For spin 2\n",
    "    cr72.r2eff_CR72(r20a=R20A_s2, r20a_orig=R20A_s2, r20b=R20B_s2, r20b_orig=R20B_s2, \n",
    "           pA=pA_s2, dw=dw_rad_s2, dw_orig=dw_s2, kex=kex_s2, \n",
    "           cpmg_frqs=x_cpmg_frqs, back_calc=y_R2_s2)\n",
    "    \n",
    "    # Make figure\n",
    "    #f, ax = plt.subplots(1, figsize=(16, 4))\n",
    "    # Plot\n",
    "    label_s1 = \"sfrq=%.1f MHz\\nR20=%.1f rad/s\\ndw=%.1f ppm\\nkex=%.1f rad/s\"%(w0_1H_s1, R20_s1, dw_s1, kex_s1)\n",
    "    plt.plot(x_cpmg_frqs, y_R2_s1, label=label_s1)\n",
    "    label_s2 = \"sfrq=%.1f MHz\\nR20=%.1f rad/s\\ndw=%.1f ppm\\nkex=%.1f rad/s\"%(w0_1H_s2, R20_s2, dw_s2, kex_s2)\n",
    "    plt.plot(x_cpmg_frqs, y_R2_s2, label=label_s2)\n",
    "    # Set labels\n",
    "    plt.xlabel = \"CPMG pulse train frequency v [Hz]\"\n",
    "    plt.ylabel = \"R2,eff rad/s\"\n",
    "    ax = plt.gca()\n",
    "    p_ylim_up = ax.get_ylim()[-1]\n",
    "    # Round up to nearest 5\n",
    "    p_ylim_up = p_ylim_up + (- p_ylim_up % 5 )\n",
    "    ax.set_ylim(0, p_ylim_up)\n",
    "    ax.set_xlim(0, cpmg_e)\n",
    "    # Put legend outside\n",
    "    box = ax.get_position()\n",
    "    ax.set_position([box.x0, box.y0, box.width * 0.8, box.height])\n",
    "    ax.legend(loc='center left', bbox_to_anchor=(1, 0.5))\n",
    "    # Final call to show.\n",
    "    plt.show()"
   ]
  },
  {
   "cell_type": "markdown",
   "metadata": {},
   "source": [
    "# Make interactive plot"
   ]
  },
  {
   "cell_type": "code",
   "execution_count": 15,
   "metadata": {},
   "outputs": [
    {
     "data": {
      "application/vnd.jupyter.widget-view+json": {
       "model_id": "8e8e49ed115d46f1a42d312d1b566462",
       "version_major": 2,
       "version_minor": 0
      },
      "text/html": [
       "<p>Failed to display Jupyter Widget of type <code>interactive</code>.</p>\n",
       "<p>\n",
       "  If you're reading this message in Jupyter Notebook or JupyterLab, it may mean\n",
       "  that the widgets JavaScript is still loading. If this message persists, it\n",
       "  likely means that the widgets JavaScript library is either not installed or\n",
       "  not enabled. See the <a href=\"https://ipywidgets.readthedocs.io/en/stable/user_install.html\">Jupyter\n",
       "  Widgets Documentation</a> for setup instructions.\n",
       "</p>\n",
       "<p>\n",
       "  If you're reading this message in another notebook frontend (for example, a static\n",
       "  rendering on GitHub or <a href=\"https://nbviewer.jupyter.org/\">NBViewer</a>),\n",
       "  it may mean that your frontend doesn't currently support widgets.\n",
       "</p>\n"
      ],
      "text/plain": [
       "interactive(children=(FloatSlider(value=600.0, description='w0_1H_s1', max=1000.0, min=500.0, step=50.0), FloatSlider(value=800.0, description='w0_1H_s2', max=1000.0, min=500.0, step=50.0), FloatSlider(value=5.0, description='R20_s1', max=25.0, min=5.0, step=1.0), FloatSlider(value=10.0, description='R20_s2', max=25.0, min=5.0, step=1.0), FloatSlider(value=1.6, description='dw_s1', max=10.0, min=0.1), FloatSlider(value=1.6, description='dw_s2', max=10.0, min=0.1), FloatSlider(value=0.99, description='pA_s1', max=1.0, min=0.8, step=0.01), FloatSlider(value=0.99, description='pA_s2', max=1.0, min=0.8, step=0.01), FloatSlider(value=2500.0, description='kex_s1', max=10000.0, min=400.0, step=200.0), FloatSlider(value=2500.0, description='kex_s2', max=10000.0, min=400.0, step=200.0), Output()), _dom_classes=('widget-interact',))"
      ]
     },
     "metadata": {},
     "output_type": "display_data"
    }
   ],
   "source": [
    "# Widgets\n",
    "from ipywidgets import interact, interactive\n",
    "import ipywidgets as widgets\n",
    "\n",
    "widget = interactive(cr72_calc, \n",
    "                       w0_1H_s1=(500., 1000., 50), w0_1H_s2=(500., 1000., 50),\n",
    "                       R20_s1=(5.0, 25.0, 1.), R20_s2=(5.0, 25.0, 1.),\n",
    "                       dw_s1=(0.1, 10., 0.1), dw_s2=(0.1, 10., 0.1),\n",
    "                       pA_s1=(0.800, 1.000, 0.01), pA_s2=(0.800, 1.000, 0.01),\n",
    "                       kex_s1=(400., 10000, 200.), kex_s2=(400., 10000, 200.))\n",
    "\n",
    "#output = widget.children[-1]\n",
    "#output.layout.height = '500px'\n",
    "widget"
   ]
  },
  {
   "cell_type": "markdown",
   "metadata": {},
   "source": [
    "# Code reference in relax"
   ]
  },
  {
   "cell_type": "markdown",
   "metadata": {},
   "source": [
    "## Target function"
   ]
  },
  {
   "cell_type": "code",
   "execution_count": 16,
   "metadata": {},
   "outputs": [],
   "source": [
    "#help(relax_disp)\n",
    "#relax_disp??"
   ]
  },
  {
   "cell_type": "code",
   "execution_count": 17,
   "metadata": {},
   "outputs": [],
   "source": [
    "#help(relax_disp.Dispersion)"
   ]
  },
  {
   "cell_type": "markdown",
   "metadata": {},
   "source": [
    "## CR72 model\n",
    "See how the functions are defined"
   ]
  },
  {
   "cell_type": "code",
   "execution_count": 18,
   "metadata": {},
   "outputs": [],
   "source": [
    "#relax_disp.Dispersion??"
   ]
  },
  {
   "cell_type": "code",
   "execution_count": 19,
   "metadata": {},
   "outputs": [],
   "source": [
    "relax_disp.Dispersion.func_CR72??"
   ]
  },
  {
   "cell_type": "code",
   "execution_count": 20,
   "metadata": {},
   "outputs": [],
   "source": [
    "relax_disp.Dispersion.calc_CR72_chi2??"
   ]
  },
  {
   "cell_type": "code",
   "execution_count": 21,
   "metadata": {},
   "outputs": [],
   "source": [
    "cr72.r2eff_CR72??"
   ]
  }
 ],
 "metadata": {
  "kernelspec": {
   "display_name": "Python 3",
   "language": "python",
   "name": "python3"
  },
  "language_info": {
   "codemirror_mode": {
    "name": "ipython",
    "version": 3
   },
   "file_extension": ".py",
   "mimetype": "text/x-python",
   "name": "python",
   "nbconvert_exporter": "python",
   "pygments_lexer": "ipython3",
   "version": "3.5.2"
  }
 },
 "nbformat": 4,
 "nbformat_minor": 2
}
